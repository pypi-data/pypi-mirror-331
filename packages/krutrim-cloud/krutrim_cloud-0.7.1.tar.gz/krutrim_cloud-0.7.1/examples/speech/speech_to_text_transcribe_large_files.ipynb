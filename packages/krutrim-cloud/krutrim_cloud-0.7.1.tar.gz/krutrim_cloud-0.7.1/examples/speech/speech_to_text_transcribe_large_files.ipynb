{
 "cells": [
  {
   "cell_type": "markdown",
   "id": "b6803148-00c4-43a9-a28f-d384e74f314e",
   "metadata": {},
   "source": [
    "## Demonstrating Speech-to-Text Transcription for Large Files using Krutrim Cloud SDK\n",
    "\n",
    "In this notebook, we will walk through the process of transcribing an audio file using Krutrim Cloud's Speech-to-Text API.\n",
    "\n",
    "### Steps involved:\n",
    "1. Uploading the audio file and obtaining a `request_id` for transcription.\n",
    "2. Polling for the status of the transcription and getting an S3 URL where the final text is stored.\n",
    "3. Fetching the transcribed text from the S3 URL.\n",
    "4. Saving the transcribed text into a file for later use.\n",
    "\n",
    "Let's begin!"
   ]
  },
  {
   "cell_type": "code",
   "execution_count": 1,
   "id": "a07edee3-d5a5-4a68-999d-3c8031598680",
   "metadata": {},
   "outputs": [
    {
     "name": "stdout",
     "output_type": "stream",
     "text": [
      "Extracted request_id: c6d0702d-c5ce-42b3-95d4-5ecdea447b8d\n"
     ]
    }
   ],
   "source": [
    "from krutrim_cloud import KrutrimCloud\n",
    "from dotenv import load_dotenv\n",
    "from pathlib import Path\n",
    "from krutrim_cloud.lib.utils import poll_request_status, save_text_content,get_transcribed_text_from_s3\n",
    "import traceback  # For better exception handling\n",
    "\n",
    "# Load environment variables\n",
    "load_dotenv()\n",
    "\n",
    "client = KrutrimCloud()\n",
    "\n",
    "# Define request params for the speech_to_text API\n",
    "audio_file_path = Path(\"../resources/speech_1.mp3\")  # Adjust this path to the actual audio file\n",
    "input_language = \"eng\"\n",
    "\n",
    "#  Path to save the transcription output\n",
    "transcription_output_path = \"./output\"\n",
    "file_name = \"transcription.txt\"\n",
    "\n",
    "try:\n",
    "\n",
    "    with open(audio_file_path, 'rb') as audio_file:\n",
    "        # Send the request to the API for speech-to-text translation\n",
    "        response = client.languagelabs.transcribe_lf.upload(\n",
    "            file=audio_file,\n",
    "            lang_code=input_language,\n",
    "        )\n",
    "\n",
    "\n",
    "    request_id = response.data.request_id\n",
    "    print(f\"Extracted request_id: {request_id}\")\n",
    "\n",
    "except Exception as e:\n",
    "    # Catch any exceptions and print detailed error\n",
    "    print(\"An error occurred while processing the request:\",e)\n",
    "\n"
   ]
  },
  {
   "cell_type": "code",
   "execution_count": 2,
   "id": "cfbc35db-15fd-40b0-9fbf-8562ac6394a4",
   "metadata": {},
   "outputs": [
    {
     "name": "stdout",
     "output_type": "stream",
     "text": [
      "Request is still being processed. Retrying... (Attempt 1/10)\n",
      "Request is still being processed. Retrying... (Attempt 2/10)\n",
      "Request is still being processed. Retrying... (Attempt 3/10)\n",
      "Request is still being processed. Retrying... (Attempt 4/10)\n",
      "Request is still being processed. Retrying... (Attempt 5/10)\n",
      "Request is still being processed. Retrying... (Attempt 6/10)\n",
      "Request is complete.Output url available.\n"
     ]
    }
   ],
   "source": [
    "# Step 2: Fetch the output URL from the job status response using poll_request_status function\n",
    "if request_id:\n",
    "    output_url = poll_request_status(client, request_id)"
   ]
  },
  {
   "cell_type": "code",
   "execution_count": 3,
   "id": "d9108b3e-e71e-4912-aec3-04bbcfb0d01c",
   "metadata": {},
   "outputs": [
    {
     "name": "stdout",
     "output_type": "stream",
     "text": [
      "Transcription Result: SPEAKER_00: Hey there, how are you? Is everything fine?\n"
     ]
    }
   ],
   "source": [
    "# Step 3: Fetch the extracted text from the S3 URL(output_url)\n",
    "if output_url:\n",
    "    transcription_text = get_transcribed_text_from_s3(output_url)\n",
    "    # Print the transcription result\n",
    "    print(f\"Transcription Result: {transcription_text}\")"
   ]
  },
  {
   "cell_type": "code",
   "execution_count": 4,
   "id": "101adecf-ca4b-40a3-8fd1-a9b3b6398f3a",
   "metadata": {},
   "outputs": [],
   "source": [
    "# Step 4: Save the extracted text to a file\n",
    "if transcription_text:\n",
    "    save_text_content(transcription_text, transcription_output_path, file_name)"
   ]
  },
  {
   "cell_type": "markdown",
   "id": "7f811502-3ce5-414e-9032-1ace935095c3",
   "metadata": {},
   "source": [
    "## Conclusion\n",
    "\n",
    "Congratulations! You have successfully transcribed an audio file using the Krutrim Cloud Speech-to-Text API. The transcribed text has been saved to a file.\n",
    "\n",
    "You can now use the transcribed text for further processing or analysis.\n",
    "\n",
    "If you encounter any issues, feel free to check the error messages, and make sure your environment variables are correctly set.\n"
   ]
  },
  {
   "cell_type": "code",
   "execution_count": null,
   "id": "95e5fe9a-2a84-4bdc-b8f3-814cfcc0612d",
   "metadata": {},
   "outputs": [],
   "source": []
  }
 ],
 "metadata": {
  "kernelspec": {
   "display_name": "Python 3 (ipykernel)",
   "language": "python",
   "name": "python3"
  },
  "language_info": {
   "codemirror_mode": {
    "name": "ipython",
    "version": 3
   },
   "file_extension": ".py",
   "mimetype": "text/x-python",
   "name": "python",
   "nbconvert_exporter": "python",
   "pygments_lexer": "ipython3",
   "version": "3.13.0"
  }
 },
 "nbformat": 4,
 "nbformat_minor": 5
}
