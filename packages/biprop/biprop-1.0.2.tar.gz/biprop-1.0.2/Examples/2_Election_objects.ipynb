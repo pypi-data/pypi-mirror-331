{
 "cells": [
  {
   "cell_type": "markdown",
   "metadata": {},
   "source": [
    "# Biprop Tutorial\n",
    "\n",
    "## 2 - Election Objects\n",
    "\n",
    "In this module we will take a closer look at the `Election` objects."
   ]
  },
  {
   "cell_type": "markdown",
   "metadata": {},
   "source": [
    "### Part 1 - Election Creation and Attributes"
   ]
  },
  {
   "cell_type": "markdown",
   "metadata": {},
   "source": [
    "To demonstrate all functionallity, we need a larger example with more parties and regions. We therefore look at the most recent election of the _Interplanetary Space Dinosaur Federation_ (ISDF). The running parties, regions/voting districts and the votes are listed below. The ISDF's parliament has 100 seats. We use this to create the `Election` object."
   ]
  },
  {
   "cell_type": "code",
   "execution_count": 1,
   "metadata": {},
   "outputs": [
    {
     "name": "stdout",
     "output_type": "stream",
     "text": [
      "e.party_names = None\n",
      "e.region_names = None\n"
     ]
    }
   ],
   "source": [
    "import biprop as bp\n",
    "import numpy as np\n",
    "\n",
    "parties = ['Thrushes',\n",
    "           'Blackbirds',\n",
    "           'Sparrowhawks',\n",
    "           'Starlings',\n",
    "           'Geese',\n",
    "           'Ducks',\n",
    "           'Sparrows',\n",
    "           'Owls',\n",
    "           'Cuckoos',\n",
    "           'Waxwings',\n",
    "           'Sperrlinge']\n",
    "regions = ['Mercury', 'Venus', 'Earth', 'Mars', 'Jupyter',\n",
    "           'Saturn', 'Uranus', 'Neptune', 'Pluto']\n",
    "votes = [[    8,     0,   162,   150,   300,     7,   113,   173],\n",
    "         [  751,  3525,  3373,  1407,  3328,  1704,  7256,  4163],\n",
    "         [  439,  2467,  1620,  5454,  6596,    42,  8359,  3257],\n",
    "         [    0,    40,   135,  1500,  1026,   458,  3536,  2321],\n",
    "         [ 1977,  3834,  2392,  5379,   675,  3305,  2626,  4700],\n",
    "         [    1,     4,     0,     8,    10,     4,    13,     0],\n",
    "         [ 1153,  1886,  3988,    13,   134,  1171,  7834,  6980],\n",
    "         [  461,  6836,  1664,  6686,  5911,   401,  7010,  7036],\n",
    "         [  106,   330,   420,   213,  1165,   284,   405,  1029],\n",
    "         [  425,  8269,   265,  3813,  7055,  2857,  9659,  6160],\n",
    "         [   50,  8250,   517,  7910,  7583,  2601,  5305, 114040000]]\n",
    "\n",
    "e = bp.Election(votes)\n",
    "print('e.party_names =', e.party_names)\n",
    "print('e.region_names =', e.region_names)"
   ]
  },
  {
   "cell_type": "markdown",
   "metadata": {},
   "source": [
    "To create an `Election` object, we always need at least a `votes` array. But we do not need to pass the party or region names. If we do not specify the names, the corresponding attributes are set to `None`. However, it is strongly recommended to always set party and region names. So let us do that now."
   ]
  },
  {
   "cell_type": "code",
   "execution_count": 2,
   "metadata": {},
   "outputs": [
    {
     "ename": "ValueError",
     "evalue": "Cannot assign name list with 9regions to election with 8 regions.",
     "output_type": "error",
     "traceback": [
      "\u001b[1;31m---------------------------------------------------------------------------\u001b[0m",
      "\u001b[1;31mValueError\u001b[0m                                Traceback (most recent call last)",
      "Cell \u001b[1;32mIn[2], line 2\u001b[0m\n\u001b[0;32m      1\u001b[0m e\u001b[38;5;241m.\u001b[39mparty_names \u001b[38;5;241m=\u001b[39m parties\n\u001b[1;32m----> 2\u001b[0m e\u001b[38;5;241m.\u001b[39mregion_names \u001b[38;5;241m=\u001b[39m regions\n",
      "File \u001b[1;32mc:\\Users\\talin\\Programming\\Anaconda\\Lib\\site-packages\\biprop\\biprop.py:201\u001b[0m, in \u001b[0;36mElection.region_names\u001b[1;34m(self, new_region_names)\u001b[0m\n\u001b[0;32m    199\u001b[0m new_region_names \u001b[38;5;241m=\u001b[39m \u001b[38;5;28mlist\u001b[39m(new_region_names)\n\u001b[0;32m    200\u001b[0m \u001b[38;5;28;01mif\u001b[39;00m \u001b[38;5;28mlen\u001b[39m(new_region_names) \u001b[38;5;241m!=\u001b[39m \u001b[38;5;28mself\u001b[39m\u001b[38;5;241m.\u001b[39mvotes\u001b[38;5;241m.\u001b[39mshape[\u001b[38;5;241m1\u001b[39m]:\n\u001b[1;32m--> 201\u001b[0m     \u001b[38;5;28;01mraise\u001b[39;00m \u001b[38;5;167;01mValueError\u001b[39;00m(\u001b[38;5;124mf\u001b[39m\u001b[38;5;124m'\u001b[39m\u001b[38;5;124mCannot assign name list with \u001b[39m\u001b[38;5;132;01m{\u001b[39;00m\u001b[38;5;28mlen\u001b[39m(new_region_names)\u001b[38;5;132;01m}\u001b[39;00m\u001b[38;5;124mregions to election with \u001b[39m\u001b[38;5;132;01m{\u001b[39;00m\u001b[38;5;28mself\u001b[39m\u001b[38;5;241m.\u001b[39mvotes\u001b[38;5;241m.\u001b[39mshape[\u001b[38;5;241m1\u001b[39m]\u001b[38;5;132;01m}\u001b[39;00m\u001b[38;5;124m regions.\u001b[39m\u001b[38;5;124m'\u001b[39m)\n\u001b[0;32m    202\u001b[0m \u001b[38;5;28mself\u001b[39m\u001b[38;5;241m.\u001b[39m_region_names \u001b[38;5;241m=\u001b[39m new_region_names\n",
      "\u001b[1;31mValueError\u001b[0m: Cannot assign name list with 9regions to election with 8 regions."
     ]
    }
   ],
   "source": [
    "e.party_names = parties\n",
    "e.region_names = regions"
   ]
  },
  {
   "cell_type": "markdown",
   "metadata": {},
   "source": [
    "It looks like something went wrong. We were able to assign the party name list, but not the region name list. The reason seems to be that the number of regions in the `votes` array does not match the number of names in `regions`. Upon closer inspection, this should not surprise us. Someone gave us an old region list that contains the region \"Pluto\", even though \"Pluto\" has not been a voting district since 2006! So let us sort that out and try again:"
   ]
  },
  {
   "cell_type": "code",
   "execution_count": 3,
   "metadata": {},
   "outputs": [],
   "source": [
    "regions.remove('Pluto')\n",
    "e.region_names = regions"
   ]
  },
  {
   "cell_type": "markdown",
   "metadata": {},
   "source": [
    "Now it worked. When you try to set the `party_names` and `region_names` attributes, it is important that they have the correct length. The number of parties and regions of your election is defined by the shape of the `votes` array. You can access these numbers with the `shape`, `NoP`, and `NoR` attributes."
   ]
  },
  {
   "cell_type": "code",
   "execution_count": 4,
   "metadata": {},
   "outputs": [
    {
     "name": "stdout",
     "output_type": "stream",
     "text": [
      "Shape of votes:    e.shape = (11, 8)\n",
      "Number of parties: e.NoP = 11\n",
      "Number of regions: e.NoR = 8\n"
     ]
    }
   ],
   "source": [
    "print('Shape of votes:    e.shape =', e.shape)\n",
    "print('Number of parties: e.NoP =', e.NoP)\n",
    "print('Number of regions: e.NoR =', e.NoR)"
   ]
  },
  {
   "cell_type": "markdown",
   "metadata": {},
   "source": [
    "Other `Election` attributes include `parties` and `regions` (which are just aliases for `party_names` and `region_names`), `total_votes` (the total number of votes in the `votes` array) and `total_seats`, which we will set to 100 now."
   ]
  },
  {
   "cell_type": "code",
   "execution_count": 5,
   "metadata": {},
   "outputs": [
    {
     "name": "stdout",
     "output_type": "stream",
     "text": [
      "e.parties = ['Thrushes', 'Blackbirds', 'Sparrowhawks', 'Starlings', 'Geese', 'Ducks', 'Sparrows', 'Owls', 'Cuckoos', 'Waxwings', 'Sperrlinge']\n",
      "e.regions == e.region_names : True\n",
      "e.total_votes = 114262433.0\n",
      "e.total_seats = 100\n"
     ]
    }
   ],
   "source": [
    "print('e.parties =', e.parties)\n",
    "print('e.regions == e.region_names :', e.regions==e.region_names)\n",
    "print('e.total_votes =', e.total_votes)\n",
    "e.total_seats = 100\n",
    "print('e.total_seats =', e.total_seats)\n"
   ]
  },
  {
   "cell_type": "markdown",
   "metadata": {},
   "source": [
    "Something does not seem right though. There are only around 300'000 registered voters in the ISDF. However, we have over 114 million votes!. Let us inspect the `votes` array:"
   ]
  },
  {
   "cell_type": "code",
   "execution_count": 6,
   "metadata": {},
   "outputs": [
    {
     "name": "stdout",
     "output_type": "stream",
     "text": [
      "e.votes =\n",
      "[[8.0000e+00 0.0000e+00 1.6200e+02 1.5000e+02 3.0000e+02 7.0000e+00\n",
      "  1.1300e+02 1.7300e+02]\n",
      " [7.5100e+02 3.5250e+03 3.3730e+03 1.4070e+03 3.3280e+03 1.7040e+03\n",
      "  7.2560e+03 4.1630e+03]\n",
      " [4.3900e+02 2.4670e+03 1.6200e+03 5.4540e+03 6.5960e+03 4.2000e+01\n",
      "  8.3590e+03 3.2570e+03]\n",
      " [0.0000e+00 4.0000e+01 1.3500e+02 1.5000e+03 1.0260e+03 4.5800e+02\n",
      "  3.5360e+03 2.3210e+03]\n",
      " [1.9770e+03 3.8340e+03 2.3920e+03 5.3790e+03 6.7500e+02 3.3050e+03\n",
      "  2.6260e+03 4.7000e+03]\n",
      " [1.0000e+00 4.0000e+00 0.0000e+00 8.0000e+00 1.0000e+01 4.0000e+00\n",
      "  1.3000e+01 0.0000e+00]\n",
      " [1.1530e+03 1.8860e+03 3.9880e+03 1.3000e+01 1.3400e+02 1.1710e+03\n",
      "  7.8340e+03 6.9800e+03]\n",
      " [4.6100e+02 6.8360e+03 1.6640e+03 6.6860e+03 5.9110e+03 4.0100e+02\n",
      "  7.0100e+03 7.0360e+03]\n",
      " [1.0600e+02 3.3000e+02 4.2000e+02 2.1300e+02 1.1650e+03 2.8400e+02\n",
      "  4.0500e+02 1.0290e+03]\n",
      " [4.2500e+02 8.2690e+03 2.6500e+02 3.8130e+03 7.0550e+03 2.8570e+03\n",
      "  9.6590e+03 6.1600e+03]\n",
      " [5.0000e+01 8.2500e+03 5.1700e+02 7.9100e+03 7.5830e+03 2.6010e+03\n",
      "  5.3050e+03 1.1404e+08]]\n"
     ]
    }
   ],
   "source": [
    "print('e.votes =')\n",
    "print(e.votes)"
   ]
  },
  {
   "cell_type": "markdown",
   "metadata": {},
   "source": [
    "AHA! Now I see it. Someone tried to cheat and added four additional zeros to the last entry in the array. Let us quickly revert that. Luckily, the `votes` array can still be modified."
   ]
  },
  {
   "cell_type": "code",
   "execution_count": 7,
   "metadata": {},
   "outputs": [
    {
     "name": "stdout",
     "output_type": "stream",
     "text": [
      "e.total_votes = 233837.0\n"
     ]
    }
   ],
   "source": [
    "e.votes[-1,-1] = 11404\n",
    "print('e.total_votes =', e.total_votes)"
   ]
  },
  {
   "cell_type": "markdown",
   "metadata": {},
   "source": [
    "Now the total votes seem more reasonable. Quick sidenote: You may have noticed that the elements of the `votes` array are floats, not integers. This might sound weird at first, but there are some voting schemes in which the votes are weighted with different factors which can result in non-integer votes."
   ]
  },
  {
   "cell_type": "markdown",
   "metadata": {},
   "source": [
    "### Part 2 - Pre-Apportionment Modification\n",
    "\n",
    "Now that we have defined our `Election` object, let me show you what we can do with it. Some methods modify the object data in an irreversible manner. Some methods only work before such an irreversible change was made, which is why we cannot call arbitrary methods in an arbitrary order. We can generally divide the `Election` object's life cycle into three distinct phases with different callable methods. We have a _pre-apportionment phase_, an _apportionment phase_ and a _post-apportionment phase_. In this section, we will look at the pre-apportionment phase and the methods that we can use in this phase."
   ]
  },
  {
   "cell_type": "markdown",
   "metadata": {},
   "source": [
    "The pre-apportionment phase is the time after we created the `Election` object and before we started the first apportionment calculation. In this phase, the number of parties and regions is not yet final and can still change (more specifically, they can decrease, but not increase). In all later phases, this is not the case anymore.\n",
    "\n",
    "But why would you want the number of parties to decrease? Well, there are several good reasons. For example, you might have a dataset from a recent election with several parties, including party _A_ and party _B_. You have observed that both parties have a very similar program and ideology. So you start wondering: What if these two parties ran together as one? Would this improve their result? Would they get more or less seats if they ran together? To answer these questions, we need to merge two parties in the `Election` object and add together their votes. This could also be done with the raw data before the object creation, but the `Election` object has a method specificall for this task that is often easier to use. We will demonstrate this method here on our ISDF example.\n",
    "\n",
    "First, let us take another look at the different parties in the ISDF election:"
   ]
  },
  {
   "cell_type": "code",
   "execution_count": 8,
   "metadata": {},
   "outputs": [
    {
     "data": {
      "text/plain": [
       "['Thrushes',\n",
       " 'Blackbirds',\n",
       " 'Sparrowhawks',\n",
       " 'Starlings',\n",
       " 'Geese',\n",
       " 'Ducks',\n",
       " 'Sparrows',\n",
       " 'Owls',\n",
       " 'Cuckoos',\n",
       " 'Waxwings',\n",
       " 'Sperrlinge']"
      ]
     },
     "execution_count": 8,
     "metadata": {},
     "output_type": "execute_result"
    }
   ],
   "source": [
    "e.parties"
   ]
  },
  {
   "cell_type": "markdown",
   "metadata": {},
   "source": [
    "Did you notice something odd? One of these bird names is not an English name. \"Sperrlinge\" is just the German word for \"sparrows\". And indeed, only one sparrow party ran in the elections. However, the sparrow party primarily targets voters from the German speaking minority in the ISDF and often markets itself as Sperrlinge towards this group. During the counting, there must have been a mixup and some of the sparrows votes were counted towards the \"Sparrows\" party and some towards the \"Sperrlinge\" party. To undo this, we must merge these parties together and their votes up. The `Election` object has a method specifically for that called `merge`."
   ]
  },
  {
   "cell_type": "code",
   "execution_count": 9,
   "metadata": {},
   "outputs": [
    {
     "name": "stdout",
     "output_type": "stream",
     "text": [
      "Total number of \"Sparrow\" votes before merger:   23159.0\n",
      "Total number of \"Sperrling\" votes before merger: 43620.0\n",
      "\n",
      "Parties after merger:\n",
      "    ['Thrushes', 'Blackbirds', 'Sparrowhawks', 'Starlings', 'Geese', 'Ducks', 'Sparrows', 'Owls', 'Cuckoos', 'Waxwings']\n",
      "Total number of \"Sparrow\" votes after merger:    66779.0\n"
     ]
    }
   ],
   "source": [
    "print('Total number of \"Sparrow\" votes before merger:  ', e.votes[6].sum())\n",
    "print('Total number of \"Sperrling\" votes before merger:', e.votes[-1].sum())\n",
    "print()\n",
    "\n",
    "e.merge(party_mergers=[['Sparrows', 'Sperrlinge']])\n",
    "print('Parties after merger:')\n",
    "print('   ', e.parties)\n",
    "print('Total number of \"Sparrow\" votes after merger:   ', e.votes[6].sum())"
   ]
  },
  {
   "cell_type": "markdown",
   "metadata": {},
   "source": [
    "This worked! The \"Sperrlinge\" are not listed as party anymore and if we look at the number of votes we see that no vote got lost. Let me explain the `merge` method in a bit more detail. It has two keyword arguments, `party_mergers` and `region_mergers` which are used to specify which parties and regions should be merged. We have not used the `region_mergers` in our example above, but it works the same way as the `party_mergers`. Values passed to `merge` have to be lists containing lists. Every list in the list is merger that we want to complete and should contain the name of every party that will be merged. We can perform multiple mergers at once, for example through using\n",
    "\n",
    "    party_mergers = [['Sparrows', 'Sperrlinge'], ['Ducks', 'Geese', 'Owls']]\n",
    "\n",
    "The merged parties take on the name of the first party listed in the respective merger list. So if we wanted the merged party to have its German name, we could have used"
   ]
  },
  {
   "cell_type": "code",
   "execution_count": 10,
   "metadata": {},
   "outputs": [
    {
     "name": "stdout",
     "output_type": "stream",
     "text": [
      "['Thrushes', 'Blackbirds', 'Sparrowhawks', 'Starlings', 'Geese', 'Ducks', 'Sperrlinge', 'Owls', 'Cuckoos', 'Waxwings']\n"
     ]
    }
   ],
   "source": [
    "e.merge(party_mergers=[['Sperrlinge', 'Sparrows']])\n",
    "print(e.parties)"
   ]
  },
  {
   "cell_type": "markdown",
   "metadata": {},
   "source": [
    "Make sure that no party name shows up in more than once, as this will raise a `ValueError`. Note that your merger arrays can contain names that do not exist. This can be used to change the name of the newly merged party into an arbitrary new name:"
   ]
  },
  {
   "cell_type": "code",
   "execution_count": 11,
   "metadata": {},
   "outputs": [
    {
     "name": "stdout",
     "output_type": "stream",
     "text": [
      "['Thrushes', 'Blackbirds', 'Sparrowhawks', 'Starlings', 'Geese', 'Ducks', 'CAPTAIN Jack Sparrow', 'Owls', 'Cuckoos', 'Waxwings']\n"
     ]
    }
   ],
   "source": [
    "e.merge(party_mergers=[['CAPTAIN Jack Sparrow', 'Sparrows', 'Sperrlinge']])\n",
    "print(e.parties)"
   ]
  },
  {
   "cell_type": "markdown",
   "metadata": {},
   "source": [
    "The `Election` object also contains the `merge_parties` and `merge_regions` methods, which internally just call the `merge` method and can be used if you only need to merge one of the two. In our example, we could have used"
   ]
  },
  {
   "cell_type": "code",
   "execution_count": 12,
   "metadata": {},
   "outputs": [
    {
     "name": "stdout",
     "output_type": "stream",
     "text": [
      "['Thrushes', 'Blackbirds', 'Sparrowhawks', 'Starlings', 'Geese', 'Ducks', 'Sparrows', 'Owls', 'Cuckoos', 'Waxwings']\n"
     ]
    }
   ],
   "source": [
    "e.merge_parties([['Sparrows', 'Sperrlinge', 'CAPTAIN Jack Sparrow']]) # We have to include\n",
    "                        # 'CAPTAIN Jack Sparrow' as this is the current name of the party\n",
    "print(e.parties)"
   ]
  },
  {
   "cell_type": "markdown",
   "metadata": {},
   "source": [
    "### Part 3 - Apportionment Methods"
   ]
  },
  {
   "cell_type": "markdown",
   "metadata": {},
   "source": [
    "In this part we will look at the second phase, the so-called apportionment phase. In this phase, we can use apportionment methods to calculate different seat distributions. This phase automatically begins once you call the first method that performs an apportionment. Let us start this phase now by calculating the ISDF election's seat distribution according to biproportional apportionment:"
   ]
  },
  {
   "cell_type": "code",
   "execution_count": 13,
   "metadata": {},
   "outputs": [
    {
     "name": "stdout",
     "output_type": "stream",
     "text": [
      "Lower apportionment converged after 3 iterations.\n"
     ]
    },
    {
     "data": {
      "text/plain": [
       "array([[0, 0, 0, 0, 0, 0, 0, 0],\n",
       "       [0, 1, 1, 1, 2, 1, 3, 2],\n",
       "       [0, 1, 1, 2, 3, 0, 4, 1],\n",
       "       [0, 0, 0, 1, 0, 0, 2, 1],\n",
       "       [1, 2, 1, 2, 0, 2, 1, 2],\n",
       "       [0, 0, 0, 0, 0, 0, 0, 0],\n",
       "       [1, 4, 2, 3, 4, 2, 5, 8],\n",
       "       [0, 3, 1, 3, 2, 0, 3, 3],\n",
       "       [0, 0, 0, 0, 1, 0, 0, 1],\n",
       "       [0, 4, 0, 2, 3, 1, 4, 2]])"
      ]
     },
     "execution_count": 13,
     "metadata": {},
     "output_type": "execute_result"
    }
   ],
   "source": [
    "e.biproportional_apportionment(party_seats=np.round, region_seats=np.round)"
   ]
  },
  {
   "cell_type": "markdown",
   "metadata": {},
   "source": [
    "Now that we have started this phase, we cannot change the number of parties anymore through calling the `merge` method. Trying to do so will result in an `InvalidOrderError`."
   ]
  },
  {
   "cell_type": "code",
   "execution_count": 14,
   "metadata": {},
   "outputs": [
    {
     "ename": "InvalidOrderError",
     "evalue": "Cannot merge parties or regions after the first distribution has been calculated or assigned.",
     "output_type": "error",
     "traceback": [
      "\u001b[1;31m---------------------------------------------------------------------------\u001b[0m",
      "\u001b[1;31mInvalidOrderError\u001b[0m                         Traceback (most recent call last)",
      "Cell \u001b[1;32mIn[14], line 1\u001b[0m\n\u001b[1;32m----> 1\u001b[0m e\u001b[38;5;241m.\u001b[39mmerge(party_mergers\u001b[38;5;241m=\u001b[39m[[\u001b[38;5;124m'\u001b[39m\u001b[38;5;124mSparrows\u001b[39m\u001b[38;5;124m'\u001b[39m, \u001b[38;5;124m'\u001b[39m\u001b[38;5;124mSperrlinge\u001b[39m\u001b[38;5;124m'\u001b[39m]])\n",
      "File \u001b[1;32mc:\\Users\\talin\\Programming\\Anaconda\\Lib\\site-packages\\biprop\\biprop.py:588\u001b[0m, in \u001b[0;36mElection.merge\u001b[1;34m(self, party_mergers, region_mergers)\u001b[0m\n\u001b[0;32m    586\u001b[0m \u001b[38;5;66;03m# check mode\u001b[39;00m\n\u001b[0;32m    587\u001b[0m \u001b[38;5;28;01mif\u001b[39;00m \u001b[38;5;28mself\u001b[39m\u001b[38;5;241m.\u001b[39mmode \u001b[38;5;241m>\u001b[39m \u001b[38;5;241m0\u001b[39m:\n\u001b[1;32m--> 588\u001b[0m     \u001b[38;5;28;01mraise\u001b[39;00m InvalidOrderError(\u001b[38;5;124m'\u001b[39m\u001b[38;5;124mCannot merge parties or regions after the first distribution has been calculated or assigned.\u001b[39m\u001b[38;5;124m'\u001b[39m)\n\u001b[0;32m    589\u001b[0m \u001b[38;5;66;03m# check whether self.party_names and self.region_names are properly set\u001b[39;00m\n\u001b[0;32m    590\u001b[0m \u001b[38;5;28;01mif\u001b[39;00m \u001b[38;5;28mtype\u001b[39m(party_mergers)\u001b[38;5;241m!=\u001b[39m\u001b[38;5;28mtype\u001b[39m(\u001b[38;5;28;01mNone\u001b[39;00m) \u001b[38;5;129;01mand\u001b[39;00m \u001b[38;5;28mself\u001b[39m\u001b[38;5;241m.\u001b[39mparty_names\u001b[38;5;241m==\u001b[39m\u001b[38;5;28;01mNone\u001b[39;00m:\n",
      "\u001b[1;31mInvalidOrderError\u001b[0m: Cannot merge parties or regions after the first distribution has been calculated or assigned."
     ]
    }
   ],
   "source": [
    "e.merge(party_mergers=[['Sparrows', 'Sperrlinge']])"
   ]
  },
  {
   "cell_type": "markdown",
   "metadata": {},
   "source": [
    "I just noticed that we forgot to store the seat distribution in a local variable. We could recalculate it, but there is a faster way. The `Election` object has a `seats` attribute that stores the last calculated distribution."
   ]
  },
  {
   "cell_type": "code",
   "execution_count": 15,
   "metadata": {},
   "outputs": [
    {
     "name": "stdout",
     "output_type": "stream",
     "text": [
      "[[0 0 0 0 0 0 0 0]\n",
      " [0 1 1 1 2 1 3 2]\n",
      " [0 1 1 2 3 0 4 1]\n",
      " [0 0 0 1 0 0 2 1]\n",
      " [1 2 1 2 0 2 1 2]\n",
      " [0 0 0 0 0 0 0 0]\n",
      " [1 4 2 3 4 2 5 8]\n",
      " [0 3 1 3 2 0 3 3]\n",
      " [0 0 0 0 1 0 0 1]\n",
      " [0 4 0 2 3 1 4 2]]\n"
     ]
    }
   ],
   "source": [
    "seats = e.seats\n",
    "print(seats)"
   ]
  },
  {
   "cell_type": "code",
   "execution_count": null,
   "metadata": {},
   "outputs": [],
   "source": [
    "Since we used the"
   ]
  },
  {
   "cell_type": "code",
   "execution_count": null,
   "metadata": {},
   "outputs": [],
   "source": []
  },
  {
   "cell_type": "code",
   "execution_count": null,
   "metadata": {},
   "outputs": [],
   "source": []
  },
  {
   "cell_type": "code",
   "execution_count": null,
   "metadata": {},
   "outputs": [],
   "source": []
  },
  {
   "cell_type": "code",
   "execution_count": null,
   "metadata": {},
   "outputs": [],
   "source": []
  },
  {
   "cell_type": "code",
   "execution_count": null,
   "metadata": {},
   "outputs": [],
   "source": []
  }
 ],
 "metadata": {
  "kernelspec": {
   "display_name": "Python 3",
   "language": "python",
   "name": "python3"
  },
  "language_info": {
   "codemirror_mode": {
    "name": "ipython",
    "version": 3
   },
   "file_extension": ".py",
   "mimetype": "text/x-python",
   "name": "python",
   "nbconvert_exporter": "python",
   "pygments_lexer": "ipython3",
   "version": "3.7.9"
  }
 },
 "nbformat": 4,
 "nbformat_minor": 2
}
