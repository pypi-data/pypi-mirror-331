{
 "cells": [
  {
   "cell_type": "code",
   "execution_count": 1,
   "metadata": {},
   "outputs": [],
   "source": [
    "from ucsf_api import IndustryDocsSearch"
   ]
  },
  {
   "cell_type": "code",
   "execution_count": null,
   "metadata": {},
   "outputs": [],
   "source": [
    "# n = 500\n",
    "wrapper = IndustryDocsSearch()\n",
    "wrapper.query(q='industry:tobacco AND case:\"State of North Carolina\" AND collection:\"JUUL labs Collection\" AND type:email', n=500)"
   ]
  },
  {
   "cell_type": "code",
   "execution_count": null,
   "metadata": {},
   "outputs": [],
   "source": [
    "len(wrapper.results)"
   ]
  },
  {
   "cell_type": "code",
   "execution_count": null,
   "metadata": {},
   "outputs": [],
   "source": [
    "# n = 5000\n",
    "wrapper2 = IndustryDocsSearch()\n",
    "wrapper2.query(q='industry:tobacco AND case:\"State of North Carolina\" AND collection:\"JUUL labs Collection\" AND type:email', n=5000)"
   ]
  },
  {
   "cell_type": "code",
   "execution_count": null,
   "metadata": {},
   "outputs": [],
   "source": [
    "len(wrapper2.results)"
   ]
  },
  {
   "cell_type": "code",
   "execution_count": null,
   "metadata": {},
   "outputs": [],
   "source": [
    "# n = 50000\n",
    "wrapper2 = IndustryDocsSearch()\n",
    "wrapper2.query(q='industry:tobacco AND case:\"State of North Carolina\" AND collection:\"JUUL labs Collection\" AND type:email', n=100)"
   ]
  },
  {
   "cell_type": "code",
   "execution_count": 3,
   "metadata": {},
   "outputs": [
    {
     "name": "stdout",
     "output_type": "stream",
     "text": [
      "https://metadata.idl.ucsf.edu/solr/ltdl3/query?q=(industry:tobacco AND case:\"State of North Carolina\" AND collection:\"JUUL labs Collection\" AND type:email)&wt=json&cursorMark=*&sort=id%20asc\n"
     ]
    },
    {
     "data": {
      "text/plain": [
       "'https://metadata.idl.ucsf.edu/solr/ltdl3/query?q=(industry:tobacco AND case:\"State of North Carolina\" AND collection:\"JUUL labs Collection\" AND type:email)&wt=json&cursorMark=*&sort=id%20asc'"
      ]
     },
     "execution_count": 3,
     "metadata": {},
     "output_type": "execute_result"
    }
   ],
   "source": [
    "wrapper2 = IndustryDocsSearch()\n",
    "wrapper2._create_query(\n",
    "    q='industry:tobacco AND case:\"State of North Carolina\" AND collection:\"JUUL labs Collection\" AND type:email',\n",
    "    wt='json',\n",
    "    cursorMark='*',\n",
    "    sort='id%20asc'\n",
    ")"
   ]
  },
  {
   "cell_type": "code",
   "execution_count": 4,
   "metadata": {},
   "outputs": [
    {
     "name": "stdout",
     "output_type": "stream",
     "text": [
      "https://metadata.idl.ucsf.edu/solr/ltdl3/query?q=(industry:\"tobacco\" AND collection:\"JUUL labs Collection\" AND case:\"State of North Carolina\" AND type:\"email\")&wt=json&cursorMark=*&sort=id%20asc\n"
     ]
    },
    {
     "data": {
      "text/plain": [
       "'https://metadata.idl.ucsf.edu/solr/ltdl3/query?q=(industry:\"tobacco\" AND collection:\"JUUL labs Collection\" AND case:\"State of North Carolina\" AND type:\"email\")&wt=json&cursorMark=*&sort=id%20asc'"
      ]
     },
     "execution_count": 4,
     "metadata": {},
     "output_type": "execute_result"
    }
   ],
   "source": [
    "wrapper2._create_query(\n",
    "    q=False,\n",
    "    industry='tobacco', \n",
    "    collection='JUUL labs Collection', \n",
    "    case='State of North Carolina', \n",
    "    type='email',    \n",
    "    wt='json',\n",
    "    cursorMark='*',\n",
    "    sort='id%20asc'\n",
    ")"
   ]
  }
 ],
 "metadata": {
  "kernelspec": {
   "display_name": "base",
   "language": "python",
   "name": "python3"
  },
  "language_info": {
   "codemirror_mode": {
    "name": "ipython",
    "version": 3
   },
   "file_extension": ".py",
   "mimetype": "text/x-python",
   "name": "python",
   "nbconvert_exporter": "python",
   "pygments_lexer": "ipython3",
   "version": "3.12.7"
  }
 },
 "nbformat": 4,
 "nbformat_minor": 2
}
