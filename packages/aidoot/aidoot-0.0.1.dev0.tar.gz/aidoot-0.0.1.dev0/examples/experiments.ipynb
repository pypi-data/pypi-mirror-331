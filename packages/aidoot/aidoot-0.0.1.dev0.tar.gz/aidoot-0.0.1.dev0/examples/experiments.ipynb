{
 "cells": [
  {
   "cell_type": "code",
   "execution_count": 1,
   "id": "ef955ea5dc647547",
   "metadata": {
    "ExecuteTime": {
     "end_time": "2024-05-09T23:09:26.427242Z",
     "start_time": "2024-05-09T23:09:25.887255Z"
    }
   },
   "outputs": [],
   "source": [
    "from agents.llms import LlamaCppChatCompletion\n",
    "from agents.tool_executor import need_tool_use\n",
    "from agents.tools import get_current_weather, wikipedia_search, google_search, image_inspector\n",
    "from rich import print"
   ]
  },
  {
   "cell_type": "code",
   "execution_count": 2,
   "id": "c40012e1a4c26846",
   "metadata": {
    "ExecuteTime": {
     "end_time": "2024-05-09T23:09:28.215407Z",
     "start_time": "2024-05-09T23:09:26.429211Z"
    }
   },
   "outputs": [
    {
     "name": "stderr",
     "output_type": "stream",
     "text": [
      "Special tokens have been added in the vocabulary, make sure the associated word embeddings are fine-tuned or trained.\n"
     ]
    }
   ],
   "source": [
    "llm = LlamaCppChatCompletion.from_default_llm(n_ctx=0)"
   ]
  },
  {
   "cell_type": "code",
   "execution_count": 3,
   "id": "b7e7adad64e71e48",
   "metadata": {
    "ExecuteTime": {
     "end_time": "2024-05-09T23:09:28.218736Z",
     "start_time": "2024-05-09T23:09:28.216104Z"
    }
   },
   "outputs": [],
   "source": [
    "llm.bind_tools([get_current_weather, google_search, wikipedia_search, image_inspector])"
   ]
  },
  {
   "cell_type": "code",
   "execution_count": 4,
   "id": "4b2af0fde4e405f9",
   "metadata": {
    "ExecuteTime": {
     "end_time": "2024-05-09T23:09:32.337182Z",
     "start_time": "2024-05-09T23:09:28.219448Z"
    }
   },
   "outputs": [
    {
     "data": {
      "text/html": [
       "<pre style=\"white-space:pre;overflow-x:auto;line-height:normal;font-family:Menlo,'DejaVu Sans Mono',consolas,'Courier New',monospace\">Using weather tool\n",
       "</pre>\n"
      ],
      "text/plain": [
       "Using weather tool\n"
      ]
     },
     "metadata": {},
     "output_type": "display_data"
    },
    {
     "data": {
      "text/html": [
       "<pre style=\"white-space:pre;overflow-x:auto;line-height:normal;font-family:Menlo,'DejaVu Sans Mono',consolas,'Courier New',monospace\">Certainly, let's break down the information provided:\n",
       "\n",
       "- The current temperature in London is <span style=\"color: #008080; text-decoration-color: #008080; font-weight: bold\">57</span>°F <span style=\"font-weight: bold\">(</span><span style=\"color: #008080; text-decoration-color: #008080; font-weight: bold\">14</span>°C<span style=\"font-weight: bold\">)</span>.\n",
       "- It feels like <span style=\"color: #008080; text-decoration-color: #008080; font-weight: bold\">58</span>°F outside.\n",
       "- There is no cloud cover at the moment.\n",
       "- The humidity level is <span style=\"color: #008080; text-decoration-color: #008080; font-weight: bold\">77</span>%.\n",
       "- The observation time was recorded on May <span style=\"color: #008080; text-decoration-color: #008080; font-weight: bold\">9</span>, <span style=\"color: #008080; text-decoration-color: #008080; font-weight: bold\">2024</span>, at <span style=\"color: #00ff00; text-decoration-color: #00ff00; font-weight: bold\">10:59</span> PM local time.\n",
       "- No precipitation has been reported in the last hour <span style=\"font-weight: bold\">(</span><span style=\"color: #008080; text-decoration-color: #008080; font-weight: bold\">0</span> inches<span style=\"font-weight: bold\">)</span>.\n",
       "- The atmospheric pressure is <span style=\"color: #008080; text-decoration-color: #008080; font-weight: bold\">30</span> inches or <span style=\"color: #008080; text-decoration-color: #008080; font-weight: bold\">1025</span> hPa.\n",
       "- The UV index is currently <span style=\"color: #008080; text-decoration-color: #008080; font-weight: bold\">1</span>, which indicates a low risk of sunburn.\n",
       "- Visibility is good at <span style=\"color: #008080; text-decoration-color: #008080; font-weight: bold\">6</span> miles.\n",
       "- The weather condition is described as <span style=\"color: #008000; text-decoration-color: #008000\">\"Clear.\"</span>\n",
       "- The wind is blowing from the SSW direction at a speed of <span style=\"color: #008080; text-decoration-color: #008080; font-weight: bold\">17</span> km/h <span style=\"font-weight: bold\">(</span><span style=\"color: #008080; text-decoration-color: #008080; font-weight: bold\">11</span> mph<span style=\"font-weight: bold\">)</span>.\n",
       "\n",
       "Based on this information, the current weather in London today is clear with no precipitation and a comfortable \n",
       "temperature for outdoor activities. The wind is blowing steadily, but not strongly enough to be a concern. It's a \n",
       "good day to enjoy the outdoors!\n",
       "</pre>\n"
      ],
      "text/plain": [
       "Certainly, let's break down the information provided:\n",
       "\n",
       "- The current temperature in London is \u001B[1;36m57\u001B[0m°F \u001B[1m(\u001B[0m\u001B[1;36m14\u001B[0m°C\u001B[1m)\u001B[0m.\n",
       "- It feels like \u001B[1;36m58\u001B[0m°F outside.\n",
       "- There is no cloud cover at the moment.\n",
       "- The humidity level is \u001B[1;36m77\u001B[0m%.\n",
       "- The observation time was recorded on May \u001B[1;36m9\u001B[0m, \u001B[1;36m2024\u001B[0m, at \u001B[1;92m10:59\u001B[0m PM local time.\n",
       "- No precipitation has been reported in the last hour \u001B[1m(\u001B[0m\u001B[1;36m0\u001B[0m inches\u001B[1m)\u001B[0m.\n",
       "- The atmospheric pressure is \u001B[1;36m30\u001B[0m inches or \u001B[1;36m1025\u001B[0m hPa.\n",
       "- The UV index is currently \u001B[1;36m1\u001B[0m, which indicates a low risk of sunburn.\n",
       "- Visibility is good at \u001B[1;36m6\u001B[0m miles.\n",
       "- The weather condition is described as \u001B[32m\"Clear.\"\u001B[0m\n",
       "- The wind is blowing from the SSW direction at a speed of \u001B[1;36m17\u001B[0m km/h \u001B[1m(\u001B[0m\u001B[1;36m11\u001B[0m mph\u001B[1m)\u001B[0m.\n",
       "\n",
       "Based on this information, the current weather in London today is clear with no precipitation and a comfortable \n",
       "temperature for outdoor activities. The wind is blowing steadily, but not strongly enough to be a concern. It's a \n",
       "good day to enjoy the outdoors!\n"
      ]
     },
     "metadata": {},
     "output_type": "display_data"
    }
   ],
   "source": [
    "messages = [\n",
    "    {\"role\": \"user\", \"content\": \"how is the weather in London today?\"}\n",
    "]\n",
    "\n",
    "output = llm.chat_completion(messages)\n",
    "\n",
    "if need_tool_use(output):\n",
    "    print(\"Using weather tool\")\n",
    "    tool_results = llm.run_tools(output)\n",
    "    tool_results[0][\"role\"] = \"assistant\"\n",
    "\n",
    "    updated_messages = messages + tool_results\n",
    "    updated_messages = updated_messages + [\n",
    "        {\"role\": \"user\", \"content\": \"Think step by step and answer my question based on the above context.\"}\n",
    "        ]\n",
    "    output = llm.chat_completion(updated_messages)\n",
    "\n",
    "print(output.choices[0].message.content)"
   ]
  },
  {
   "cell_type": "code",
   "execution_count": 5,
   "id": "1fc480c925e1c88e",
   "metadata": {},
   "outputs": [
    {
     "name": "stderr",
     "output_type": "stream",
     "text": [
      "\u001B[32m2024-05-10 00:10:51.238\u001B[0m | \u001B[1mINFO    \u001B[0m | \u001B[36magents.tools\u001B[0m:\u001B[36mimage_inspector\u001B[0m:\u001B[36m85\u001B[0m - \u001B[1mLoading image inspector for first time. This might take a while...\u001B[0m\n",
      "objc[95909]: Class GGMLMetalClass is implemented in both /Users/aniket/miniconda3/envs/am/lib/python3.10/site-packages/llama_cpp/libllama.dylib (0x10bf74260) and /Users/aniket/miniconda3/envs/am/lib/python3.10/site-packages/llama_cpp/libllava.dylib (0x1474e8260). One of the two will be used. Which one is undefined.\n"
     ]
    },
    {
     "data": {
      "text/html": [
       "<pre style=\"white-space:pre;overflow-x:auto;line-height:normal;font-family:Menlo,'DejaVu Sans Mono',consolas,'Courier New',monospace\">Based on the image description provided by the tool, it seems to depict a tranquil wooden boardwalk cutting through\n",
       "a lush, grassy field dotted with trees and bushes. The sky above is a clear blue canvas with fluffy white clouds \n",
       "scattered across it. The perspective of the photo is from ground level, looking down the length of the boardwalk \n",
       "towards the horizon line where the sky meets the earth.\n",
       "\n",
       "If you're looking for a location in London that resembles this image, you might consider visiting the <span style=\"color: #008000; text-decoration-color: #008000\">\"Hampstead </span>\n",
       "<span style=\"color: #008000; text-decoration-color: #008000\">Heath\"</span> or <span style=\"color: #008000; text-decoration-color: #008000\">\"Richmond Park.\"</span> Both are large green spaces with wooded areas and paths that offer similar views of \n",
       "nature and tranquility. Hampstead Heath is particularly known for its ponds, while Richmond Park has a variety of \n",
       "wildlife and open spaces.\n",
       "</pre>\n"
      ],
      "text/plain": [
       "Based on the image description provided by the tool, it seems to depict a tranquil wooden boardwalk cutting through\n",
       "a lush, grassy field dotted with trees and bushes. The sky above is a clear blue canvas with fluffy white clouds \n",
       "scattered across it. The perspective of the photo is from ground level, looking down the length of the boardwalk \n",
       "towards the horizon line where the sky meets the earth.\n",
       "\n",
       "If you're looking for a location in London that resembles this image, you might consider visiting the \u001B[32m\"Hampstead \u001B[0m\n",
       "\u001B[32mHeath\"\u001B[0m or \u001B[32m\"Richmond Park.\"\u001B[0m Both are large green spaces with wooded areas and paths that offer similar views of \n",
       "nature and tranquility. Hampstead Heath is particularly known for its ponds, while Richmond Park has a variety of \n",
       "wildlife and open spaces.\n"
      ]
     },
     "metadata": {},
     "output_type": "display_data"
    }
   ],
   "source": [
    "image_url = \"https://upload.wikimedia.org/wikipedia/commons/thumb/d/dd/Gfp-wisconsin-madison-the-nature-boardwalk.jpg/2560px-Gfp-wisconsin-madison-the-nature-boardwalk.jpg\"\n",
    "\n",
    "messages = [\n",
    "    {\"role\": \"system\", \"content\": \"You are a helpful assistant that has access to tools and use that to help humans.\"},\n",
    "    {\"role\": \"user\",\n",
    "     \"content\": f\"Check this image {image_url} and suggest me a location where I can go in London which looks similar\"}\n",
    "]\n",
    "output = llm.chat_completion(messages)\n",
    "tool_results = llm.run_tools(output)\n",
    "\n",
    "updated_messages = messages + tool_results\n",
    "messages = updated_messages + [{\"role\": \"user\", \"content\": \"please answer me, based on the tool results.\"}]\n",
    "output = llm.chat_completion(messages)\n",
    "print(output.choices[0].message.content)"
   ]
  },
  {
   "cell_type": "code",
   "execution_count": 6,
   "id": "244d243e36445bd6",
   "metadata": {},
   "outputs": [
    {
     "data": {
      "text/html": [
       "<pre style=\"white-space:pre;overflow-x:auto;line-height:normal;font-family:Menlo,'DejaVu Sans Mono',consolas,'Courier New',monospace\">The <span style=\"color: #008080; text-decoration-color: #008080; font-weight: bold\">2024</span> London mayoral election was held on May <span style=\"color: #008080; text-decoration-color: #008080; font-weight: bold\">2</span>, <span style=\"color: #008080; text-decoration-color: #008080; font-weight: bold\">2024</span>. Sadiq Khan of the Labour Party was re-elected as mayor of\n",
       "London for a third term. He defeated candidates from other political parties such as the Conservative Party, Green \n",
       "Party, Liberal Democrats, and Reform UK.\n",
       "</pre>\n"
      ],
      "text/plain": [
       "The \u001B[1;36m2024\u001B[0m London mayoral election was held on May \u001B[1;36m2\u001B[0m, \u001B[1;36m2024\u001B[0m. Sadiq Khan of the Labour Party was re-elected as mayor of\n",
       "London for a third term. He defeated candidates from other political parties such as the Conservative Party, Green \n",
       "Party, Liberal Democrats, and Reform UK.\n"
      ]
     },
     "metadata": {},
     "output_type": "display_data"
    }
   ],
   "source": [
    "messages = [\n",
    "    {\"role\": \"system\", \"content\": \"You are a helpful assistant that has access to tools and use that to help humans.\"},\n",
    "    {\"role\": \"user\", \"content\": \"Who won the 2024 mayor election in London?\"}\n",
    "]\n",
    "output = llm.chat_completion(messages)\n",
    "tool_results = llm.run_tools(output)\n",
    "\n",
    "updated_messages = messages + tool_results\n",
    "messages = updated_messages + [{\"role\": \"user\", \"content\": \"please answer me, based on the tool results.\"}]\n",
    "output = llm.chat_completion(messages)\n",
    "print(output.choices[0].message.content)"
   ]
  }
 ],
 "metadata": {
  "kernelspec": {
   "display_name": "Python 3 (ipykernel)",
   "language": "python",
   "name": "python3"
  },
  "language_info": {
   "codemirror_mode": {
    "name": "ipython",
    "version": 3
   },
   "file_extension": ".py",
   "mimetype": "text/x-python",
   "name": "python",
   "nbconvert_exporter": "python",
   "pygments_lexer": "ipython3",
   "version": "3.10.13"
  }
 },
 "nbformat": 4,
 "nbformat_minor": 5
}
