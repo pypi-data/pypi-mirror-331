{
 "cells": [
  {
   "cell_type": "code",
   "execution_count": null,
   "metadata": {},
   "outputs": [],
   "source": [
    "import os\n",
    "from pyairtable import Api\n",
    "from pyairtable import api\n",
    "from dotenv import load_dotenv\n",
    "from fibsem_tools import read\n",
    "from pyairtable.formulas import match\n",
    "from cellmap_utils import upsert_image\n",
    "\n",
    "load_dotenv()\n",
    "\n",
    "at_api = Api(os.environ['AIRTABLE_API_KEY'])\n",
    "# image table (switch between prod and test bases in .env)\n",
    "image_table = at_api.table(os.environ['AIRTABLE_BASE_ID'], os.environ['IMAGE_TABLE_ID'])\n",
    "collection_table = at_api.table(os.environ['AIRTABLE_BASE_ID'], os.environ['COLLECTION_TABLE_ID'])\n",
    "fibsem_table = at_api.table(os.environ['AIRTABLE_BASE_ID'], os.environ['FIBSEM_TABLE_ID'])\n",
    "annotation_table = at_api.table(os.environ['AIRTABLE_BASE_ID'], os.environ['ANNOTATION_TABLE_ID'])\n",
    "institution_table = at_api.table(os.environ['AIRTABLE_BASE_ID'], os.environ['INSTITUTION_TABLE_ID'])"
   ]
  },
  {
   "cell_type": "code",
   "execution_count": null,
   "metadata": {},
   "outputs": [],
   "source": [
    "ds_name = ''\n",
    "image_name = ''\n",
    "image_path = ''\n",
    "image_title = ''\n",
    "\n",
    "upsert_image(image_table,\n",
    "                ds_name,\n",
    "                image_name,\n",
    "                image_path,\n",
    "                'em',\n",
    "                collection_table, \n",
    "                fibsem_table,\n",
    "                annotation_table)"
   ]
  },
  {
   "cell_type": "code",
   "execution_count": 2,
   "metadata": {},
   "outputs": [],
   "source": [
    "zarr_paths = ['aic_desmosome-3.zarr/recon-1/labels/inference/segmentations/nuc',\n",
    " 'jrc_ccl81-covid-1.zarr/recon-1/labels/inference/segmentations/nuc',\n",
    " 'jrc_hela-bfa.zarr/recon-1/labels/inference/segmentations/nuc',\n",
    " 'jrc_hela-22.zarr/recon-1/labels/inference/segmentations/nuc',\n",
    " 'jrc_hela-21.zarr/recon-1/labels/inference/segmentations/nuc',\n",
    " 'jrc_cos7-11.zarr/recon-1/labels/inference/segmentations/nuc',\n",
    " 'jrc_sum159-1.zarr/recon-1/labels/inference/segmentations/nuc',\n",
    " 'jrc_mus-nacc-4.zarr/recon-2/labels/inference/segmentations/nuc',\n",
    " 'jrc_mus-nacc-3.zarr/recon-2/labels/inference/segmentations/nuc',\n",
    " 'jrc_mus-nacc-2.zarr/recon-2/labels/inference/segmentations/nuc',\n",
    " 'jrc_ctl-id8-5.zarr/recon-1/labels/inference/segmentations/nuc',\n",
    " 'jrc_ctl-id8-4.zarr/recon-1/labels/inference/segmentations/nuc',\n",
    " 'jrc_ctl-id8-3.zarr/recon-1/labels/inference/segmentations/nuc',\n",
    " 'jrc_hela-nz-1.zarr/recon-2/labels/inference/segmentations/nuc',\n",
    " 'jrc_mus-granule-neurons-1.zarr/recon-2/labels/inference/segmentations/nuc',\n",
    " 'jrc_mus-pancreas-3.zarr/recon-1/labels/inference/segmentations/nuc',\n",
    " 'jrc_mus-pancreas-2.zarr/recon-1/labels/inference/segmentations/nuc',\n",
    " 'jrc_mus-sc-zp105a.zarr/recon-1/labels/inference/segmentations/nuc',\n",
    " 'jrc_mus-granule-neurons-2.zarr/recon-2/labels/inference/segmentations/nuc',\n",
    " 'jrc_mus-granule-neurons-3.zarr/recon-2/labels/inference/segmentations/nuc',\n",
    " 'jrc_mus-sc-zp104a.zarr/recon-1/labels/inference/segmentations/nuc',\n",
    " 'jrc_cos7-1a.zarr/recon-2/labels/inference/segmentations/nuc',\n",
    "'jrc_cos7-1b.zarr/recon-2/labels/inference/segmentations/nuc',\n",
    "'jrc_mus-kidney-2.zarr/recon-1/labels/inference/segmentations/nuc',\n",
    "'jrc_mus-guard-hair-follicle.zarr/recon-1/labels/inference/segmentations/nuc',\n",
    " 'jrc_mus-meissner-corpuscle-1.zarr/recon-1/labels/inference/segmentations/nuc',\n",
    " 'jrc_mus-kidney.zarr/recon-1/labels/inference/segmentations/nuc',\n",
    " 'jrc_fly-acc-calyx-1.zarr/recon-1/labels/inference/segmentations/nuc',\n",
    " 'jrc_mus-meissner-corpuscle-2.zarr/recon-1/labels/inference/segmentations/nuc',\n",
    " 'jrc_fly-mb-z0419-20.zarr/recon-1/labels/inference/segmentations/nuc',\n",
    " 'jrc_ctl-id8-1.zarr/recon-1/labels/inference/segmentations/nuc',\n",
    " 'jrc_hela-h89-2.zarr/recon-1/labels/inference/segmentations/nuc',\n",
    " 'jrc_hela-h89-1.zarr/recon-1/labels/inference/segmentations/nuc',\n",
    " 'jrc_mus-pancreas-1.zarr/recon-1/labels/inference/segmentations/nuc',\n",
    " 'jrc_fly-fsb-1.zarr/recon-1/labels/inference/segmentations/nuc',\n",
    " 'jrc_mus-liver-2.zarr/recon-1/labels/inference/segmentations/nuc']\n",
    "\n",
    "\n"
   ]
  },
  {
   "cell_type": "code",
   "execution_count": 3,
   "metadata": {},
   "outputs": [
    {
     "ename": "HTTPError",
     "evalue": "('422 Client Error: Unprocessable Entity for url: https://api.airtable.com/v0/app2YWVUeryA0OoI2/tblR65Z21TGGT4sDw/recUkwglxdWeqBUj4', \"{'type': 'INVALID_VALUE_FOR_COLUMN', 'message': 'Value is not an array of record IDs.'}\")",
     "output_type": "error",
     "traceback": [
      "\u001b[0;31m---------------------------------------------------------------------------\u001b[0m",
      "\u001b[0;31mHTTPError\u001b[0m                                 Traceback (most recent call last)",
      "Cell \u001b[0;32mIn[3], line 7\u001b[0m\n\u001b[1;32m      4\u001b[0m image_path \u001b[38;5;241m=\u001b[39m os\u001b[38;5;241m.\u001b[39mpath\u001b[38;5;241m.\u001b[39mjoin(\u001b[38;5;124m'\u001b[39m\u001b[38;5;124m/nrs/cellmap/data/\u001b[39m\u001b[38;5;124m'\u001b[39m,ds_name, p)\n\u001b[1;32m      5\u001b[0m image_title \u001b[38;5;241m=\u001b[39m \u001b[38;5;124m'\u001b[39m\u001b[38;5;124mNucleus\u001b[39m\u001b[38;5;124m'\u001b[39m\n\u001b[0;32m----> 7\u001b[0m \u001b[43mupsert_image\u001b[49m\u001b[43m(\u001b[49m\u001b[43mimage_table\u001b[49m\u001b[43m,\u001b[49m\n\u001b[1;32m      8\u001b[0m \u001b[43m                \u001b[49m\u001b[43mds_name\u001b[49m\u001b[43m,\u001b[49m\n\u001b[1;32m      9\u001b[0m \u001b[43m                \u001b[49m\u001b[43mimage_name\u001b[49m\u001b[43m,\u001b[49m\n\u001b[1;32m     10\u001b[0m \u001b[43m                \u001b[49m\u001b[43mimage_path\u001b[49m\u001b[43m,\u001b[49m\n\u001b[1;32m     11\u001b[0m \u001b[43m                \u001b[49m\u001b[43mimage_title\u001b[49m\u001b[43m,\u001b[49m\n\u001b[1;32m     12\u001b[0m \u001b[43m                \u001b[49m\u001b[38;5;124;43m\"\u001b[39;49m\u001b[38;5;124;43mml_segmentation\u001b[39;49m\u001b[38;5;124;43m\"\u001b[39;49m\u001b[43m,\u001b[49m\n\u001b[1;32m     13\u001b[0m \u001b[43m                \u001b[49m\u001b[43mcollection_table\u001b[49m\u001b[43m,\u001b[49m\u001b[43m \u001b[49m\n\u001b[1;32m     14\u001b[0m \u001b[43m                \u001b[49m\u001b[43mfibsem_table\u001b[49m\u001b[43m,\u001b[49m\n\u001b[1;32m     15\u001b[0m \u001b[43m                \u001b[49m\u001b[43mannotation_table\u001b[49m\u001b[43m)\u001b[49m\n",
      "File \u001b[0;32m~/mambaforge/envs/env1/lib/python3.11/site-packages/cellmap_utils/airtable/upsert/image.py:106\u001b[0m, in \u001b[0;36mupsert_image\u001b[0;34m(image_table, ds_name, image_name, image_path, image_title, image_type, collection_table, fibsem_table, annotation_table, institution)\u001b[0m\n\u001b[1;32m    104\u001b[0m     image_table\u001b[38;5;241m.\u001b[39mcreate(record_to_upsert)\n\u001b[1;32m    105\u001b[0m \u001b[38;5;28;01melif\u001b[39;00m \u001b[38;5;28mlen\u001b[39m(existing_records) \u001b[38;5;241m==\u001b[39m \u001b[38;5;241m1\u001b[39m:\n\u001b[0;32m--> 106\u001b[0m     \u001b[43mimage_table\u001b[49m\u001b[38;5;241;43m.\u001b[39;49m\u001b[43mupdate\u001b[49m\u001b[43m(\u001b[49m\u001b[43mexisting_records\u001b[49m\u001b[43m[\u001b[49m\u001b[38;5;241;43m0\u001b[39;49m\u001b[43m]\u001b[49m\u001b[43m[\u001b[49m\u001b[38;5;124;43m\"\u001b[39;49m\u001b[38;5;124;43mid\u001b[39;49m\u001b[38;5;124;43m\"\u001b[39;49m\u001b[43m]\u001b[49m\u001b[43m,\u001b[49m\u001b[43m \u001b[49m\u001b[43mrecord_to_upsert\u001b[49m\u001b[43m)\u001b[49m\n",
      "File \u001b[0;32m~/mambaforge/envs/env1/lib/python3.11/site-packages/pyairtable/api/table.py:447\u001b[0m, in \u001b[0;36mTable.update\u001b[0;34m(self, record_id, fields, replace, typecast, use_field_ids)\u001b[0m\n\u001b[1;32m    445\u001b[0m     use_field_ids \u001b[38;5;241m=\u001b[39m \u001b[38;5;28mself\u001b[39m\u001b[38;5;241m.\u001b[39mapi\u001b[38;5;241m.\u001b[39muse_field_ids\n\u001b[1;32m    446\u001b[0m method \u001b[38;5;241m=\u001b[39m \u001b[38;5;124m\"\u001b[39m\u001b[38;5;124mput\u001b[39m\u001b[38;5;124m\"\u001b[39m \u001b[38;5;28;01mif\u001b[39;00m replace \u001b[38;5;28;01melse\u001b[39;00m \u001b[38;5;124m\"\u001b[39m\u001b[38;5;124mpatch\u001b[39m\u001b[38;5;124m\"\u001b[39m\n\u001b[0;32m--> 447\u001b[0m updated \u001b[38;5;241m=\u001b[39m \u001b[38;5;28;43mself\u001b[39;49m\u001b[38;5;241;43m.\u001b[39;49m\u001b[43mapi\u001b[49m\u001b[38;5;241;43m.\u001b[39;49m\u001b[43mrequest\u001b[49m\u001b[43m(\u001b[49m\n\u001b[1;32m    448\u001b[0m \u001b[43m    \u001b[49m\u001b[43mmethod\u001b[49m\u001b[38;5;241;43m=\u001b[39;49m\u001b[43mmethod\u001b[49m\u001b[43m,\u001b[49m\n\u001b[1;32m    449\u001b[0m \u001b[43m    \u001b[49m\u001b[43murl\u001b[49m\u001b[38;5;241;43m=\u001b[39;49m\u001b[38;5;28;43mself\u001b[39;49m\u001b[38;5;241;43m.\u001b[39;49m\u001b[43murls\u001b[49m\u001b[38;5;241;43m.\u001b[39;49m\u001b[43mrecord\u001b[49m\u001b[43m(\u001b[49m\u001b[43mrecord_id\u001b[49m\u001b[43m)\u001b[49m\u001b[43m,\u001b[49m\n\u001b[1;32m    450\u001b[0m \u001b[43m    \u001b[49m\u001b[43mjson\u001b[49m\u001b[38;5;241;43m=\u001b[39;49m\u001b[43m{\u001b[49m\n\u001b[1;32m    451\u001b[0m \u001b[43m        \u001b[49m\u001b[38;5;124;43m\"\u001b[39;49m\u001b[38;5;124;43mfields\u001b[39;49m\u001b[38;5;124;43m\"\u001b[39;49m\u001b[43m:\u001b[49m\u001b[43m \u001b[49m\u001b[43mfields\u001b[49m\u001b[43m,\u001b[49m\n\u001b[1;32m    452\u001b[0m \u001b[43m        \u001b[49m\u001b[38;5;124;43m\"\u001b[39;49m\u001b[38;5;124;43mtypecast\u001b[39;49m\u001b[38;5;124;43m\"\u001b[39;49m\u001b[43m:\u001b[49m\u001b[43m \u001b[49m\u001b[43mtypecast\u001b[49m\u001b[43m,\u001b[49m\n\u001b[1;32m    453\u001b[0m \u001b[43m        \u001b[49m\u001b[38;5;124;43m\"\u001b[39;49m\u001b[38;5;124;43mreturnFieldsByFieldId\u001b[39;49m\u001b[38;5;124;43m\"\u001b[39;49m\u001b[43m:\u001b[49m\u001b[43m \u001b[49m\u001b[43muse_field_ids\u001b[49m\u001b[43m,\u001b[49m\n\u001b[1;32m    454\u001b[0m \u001b[43m    \u001b[49m\u001b[43m}\u001b[49m\u001b[43m,\u001b[49m\n\u001b[1;32m    455\u001b[0m \u001b[43m\u001b[49m\u001b[43m)\u001b[49m\n\u001b[1;32m    456\u001b[0m \u001b[38;5;28;01mreturn\u001b[39;00m assert_typed_dict(RecordDict, updated)\n",
      "File \u001b[0;32m~/mambaforge/envs/env1/lib/python3.11/site-packages/pyairtable/api/api.py:295\u001b[0m, in \u001b[0;36mApi.request\u001b[0;34m(self, method, url, fallback, options, params, json)\u001b[0m\n\u001b[1;32m    282\u001b[0m     \u001b[38;5;28;01mreturn\u001b[39;00m \u001b[38;5;28mself\u001b[39m\u001b[38;5;241m.\u001b[39mrequest(\n\u001b[1;32m    283\u001b[0m         method\u001b[38;5;241m=\u001b[39mfallback[\u001b[38;5;241m0\u001b[39m],\n\u001b[1;32m    284\u001b[0m         url\u001b[38;5;241m=\u001b[39mfallback[\u001b[38;5;241m1\u001b[39m],\n\u001b[1;32m    285\u001b[0m         params\u001b[38;5;241m=\u001b[39m{\u001b[38;5;241m*\u001b[39m\u001b[38;5;241m*\u001b[39mspare_params, \u001b[38;5;241m*\u001b[39m\u001b[38;5;241m*\u001b[39m(params \u001b[38;5;129;01mor\u001b[39;00m {})},\n\u001b[1;32m    286\u001b[0m         json\u001b[38;5;241m=\u001b[39mjson,\n\u001b[1;32m    287\u001b[0m     )\n\u001b[1;32m    289\u001b[0m response \u001b[38;5;241m=\u001b[39m \u001b[38;5;28mself\u001b[39m\u001b[38;5;241m.\u001b[39msession\u001b[38;5;241m.\u001b[39mrequest(\n\u001b[1;32m    290\u001b[0m     method\u001b[38;5;241m=\u001b[39mmethod,\n\u001b[1;32m    291\u001b[0m     url\u001b[38;5;241m=\u001b[39murl,\n\u001b[1;32m    292\u001b[0m     params\u001b[38;5;241m=\u001b[39mrequest_params,\n\u001b[1;32m    293\u001b[0m     json\u001b[38;5;241m=\u001b[39mjson,\n\u001b[1;32m    294\u001b[0m )\n\u001b[0;32m--> 295\u001b[0m \u001b[38;5;28;01mreturn\u001b[39;00m \u001b[38;5;28;43mself\u001b[39;49m\u001b[38;5;241;43m.\u001b[39;49m\u001b[43m_process_response\u001b[49m\u001b[43m(\u001b[49m\u001b[43mresponse\u001b[49m\u001b[43m)\u001b[49m\n",
      "File \u001b[0;32m~/mambaforge/envs/env1/lib/python3.11/site-packages/pyairtable/api/api.py:337\u001b[0m, in \u001b[0;36mApi._process_response\u001b[0;34m(self, response)\u001b[0m\n\u001b[1;32m    335\u001b[0m         \u001b[38;5;28;01mif\u001b[39;00m \u001b[38;5;124m\"\u001b[39m\u001b[38;5;124merror\u001b[39m\u001b[38;5;124m\"\u001b[39m \u001b[38;5;129;01min\u001b[39;00m error_dict:\n\u001b[1;32m    336\u001b[0m             exc\u001b[38;5;241m.\u001b[39margs \u001b[38;5;241m=\u001b[39m (\u001b[38;5;241m*\u001b[39mexc\u001b[38;5;241m.\u001b[39margs, \u001b[38;5;28mrepr\u001b[39m(error_dict[\u001b[38;5;124m\"\u001b[39m\u001b[38;5;124merror\u001b[39m\u001b[38;5;124m\"\u001b[39m]))\n\u001b[0;32m--> 337\u001b[0m     \u001b[38;5;28;01mraise\u001b[39;00m exc\n\u001b[1;32m    339\u001b[0m \u001b[38;5;66;03m# Some Airtable endpoints will respond with an empty body and a 200.\u001b[39;00m\n\u001b[1;32m    340\u001b[0m \u001b[38;5;28;01mif\u001b[39;00m \u001b[38;5;129;01mnot\u001b[39;00m response\u001b[38;5;241m.\u001b[39mtext:\n",
      "File \u001b[0;32m~/mambaforge/envs/env1/lib/python3.11/site-packages/pyairtable/api/api.py:327\u001b[0m, in \u001b[0;36mApi._process_response\u001b[0;34m(self, response)\u001b[0m\n\u001b[1;32m    325\u001b[0m \u001b[38;5;28;01mdef\u001b[39;00m\u001b[38;5;250m \u001b[39m\u001b[38;5;21m_process_response\u001b[39m(\u001b[38;5;28mself\u001b[39m, response: requests\u001b[38;5;241m.\u001b[39mResponse) \u001b[38;5;241m-\u001b[39m\u001b[38;5;241m>\u001b[39m Any:\n\u001b[1;32m    326\u001b[0m     \u001b[38;5;28;01mtry\u001b[39;00m:\n\u001b[0;32m--> 327\u001b[0m         \u001b[43mresponse\u001b[49m\u001b[38;5;241;43m.\u001b[39;49m\u001b[43mraise_for_status\u001b[49m\u001b[43m(\u001b[49m\u001b[43m)\u001b[49m\n\u001b[1;32m    328\u001b[0m     \u001b[38;5;28;01mexcept\u001b[39;00m requests\u001b[38;5;241m.\u001b[39mexceptions\u001b[38;5;241m.\u001b[39mHTTPError \u001b[38;5;28;01mas\u001b[39;00m exc:\n\u001b[1;32m    329\u001b[0m         \u001b[38;5;66;03m# Attempt to get Error message from response, Issue #16\u001b[39;00m\n\u001b[1;32m    330\u001b[0m         \u001b[38;5;28;01mtry\u001b[39;00m:\n",
      "File \u001b[0;32m~/mambaforge/envs/env1/lib/python3.11/site-packages/requests/models.py:1024\u001b[0m, in \u001b[0;36mResponse.raise_for_status\u001b[0;34m(self)\u001b[0m\n\u001b[1;32m   1019\u001b[0m     http_error_msg \u001b[38;5;241m=\u001b[39m (\n\u001b[1;32m   1020\u001b[0m         \u001b[38;5;124mf\u001b[39m\u001b[38;5;124m\"\u001b[39m\u001b[38;5;132;01m{\u001b[39;00m\u001b[38;5;28mself\u001b[39m\u001b[38;5;241m.\u001b[39mstatus_code\u001b[38;5;132;01m}\u001b[39;00m\u001b[38;5;124m Server Error: \u001b[39m\u001b[38;5;132;01m{\u001b[39;00mreason\u001b[38;5;132;01m}\u001b[39;00m\u001b[38;5;124m for url: \u001b[39m\u001b[38;5;132;01m{\u001b[39;00m\u001b[38;5;28mself\u001b[39m\u001b[38;5;241m.\u001b[39murl\u001b[38;5;132;01m}\u001b[39;00m\u001b[38;5;124m\"\u001b[39m\n\u001b[1;32m   1021\u001b[0m     )\n\u001b[1;32m   1023\u001b[0m \u001b[38;5;28;01mif\u001b[39;00m http_error_msg:\n\u001b[0;32m-> 1024\u001b[0m     \u001b[38;5;28;01mraise\u001b[39;00m HTTPError(http_error_msg, response\u001b[38;5;241m=\u001b[39m\u001b[38;5;28mself\u001b[39m)\n",
      "\u001b[0;31mHTTPError\u001b[0m: ('422 Client Error: Unprocessable Entity for url: https://api.airtable.com/v0/app2YWVUeryA0OoI2/tblR65Z21TGGT4sDw/recUkwglxdWeqBUj4', \"{'type': 'INVALID_VALUE_FOR_COLUMN', 'message': 'Value is not an array of record IDs.'}\")"
     ]
    }
   ],
   "source": [
    "for p in zarr_paths:\n",
    "    ds_name = p.split('/')[0].split('.')[0]\n",
    "    image_name = 'nuc'\n",
    "    image_path = os.path.join('/nrs/cellmap/data/',ds_name, p)\n",
    "    image_title = 'Nucleus'\n",
    "\n",
    "    upsert_image(image_table,\n",
    "                    ds_name,\n",
    "                    image_name,\n",
    "                    image_path,\n",
    "                    image_title,\n",
    "                    \"ml_segmentation\",\n",
    "                    collection_table, \n",
    "                    fibsem_table,\n",
    "                    annotation_table)"
   ]
  },
  {
   "cell_type": "code",
   "execution_count": 4,
   "metadata": {},
   "outputs": [
    {
     "name": "stdout",
     "output_type": "stream",
     "text": [
      "Collecting cellmap_utils==0.0.19\n",
      "  Downloading cellmap_utils-0.0.19-py3-none-any.whl.metadata (1.3 kB)\n",
      "Downloading cellmap_utils-0.0.19-py3-none-any.whl (10 kB)\n",
      "Installing collected packages: cellmap_utils\n",
      "  Attempting uninstall: cellmap_utils\n",
      "    Found existing installation: cellmap-utils 0.0.18\n",
      "    Uninstalling cellmap-utils-0.0.18:\n",
      "      Successfully uninstalled cellmap-utils-0.0.18\n",
      "Successfully installed cellmap_utils-0.0.19\n"
     ]
    }
   ],
   "source": [
    "!python3 -m pip install cellmap_utils==0.0.19"
   ]
  },
  {
   "cell_type": "code",
   "execution_count": null,
   "metadata": {},
   "outputs": [],
   "source": []
  }
 ],
 "metadata": {
  "kernelspec": {
   "display_name": "env1",
   "language": "python",
   "name": "python3"
  },
  "language_info": {
   "codemirror_mode": {
    "name": "ipython",
    "version": 3
   },
   "file_extension": ".py",
   "mimetype": "text/x-python",
   "name": "python",
   "nbconvert_exporter": "python",
   "pygments_lexer": "ipython3",
   "version": "3.11.11"
  }
 },
 "nbformat": 4,
 "nbformat_minor": 2
}
