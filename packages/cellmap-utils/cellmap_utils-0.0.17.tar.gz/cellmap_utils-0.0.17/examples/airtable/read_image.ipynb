{
 "cells": [
  {
   "cell_type": "code",
   "execution_count": 1,
   "metadata": {},
   "outputs": [],
   "source": [
    "import os\n",
    "from pyairtable import Api\n",
    "from pyairtable import api\n",
    "from dotenv import load_dotenv\n",
    "from fibsem_tools import read\n",
    "from pyairtable.formulas import match"
   ]
  },
  {
   "cell_type": "code",
   "execution_count": null,
   "metadata": {},
   "outputs": [],
   "source": [
    "def read_image(\n",
    "    image_table: api.table.Table,\n",
    "    image_path: str,\n",
    "    doi_table: str\n",
    "):\n",
    "    \"\"\"Upsert a record to airtable image table.\n",
    "\n",
    "    Args:\n",
    "        image_table (api.table.Table): image airtable object to create references.\n",
    "        ds_name (str): name of the dataset.\n",
    "        image_name (str): name of the image to upsert.\n",
    "        image_path (str): image location.\n",
    "        image_type (Literal[&#39;human_segmentation&#39;, &#39;em&#39;]): image type\n",
    "        collection_table (api.table.Table): collation airtable object to create references.\n",
    "        fibsem_table (api.table.Table): fibsem_imaging airtable object to create references.\n",
    "        annotation_table (api.table.Table): annotation airtable object to create references.\n",
    "\n",
    "    Raises:\n",
    "        ValueError: raise value error if multiple records with the same location and name are found in the image table.\n",
    "    \"\"\"\n",
    "\n",
    "    existing_records = image_table.all(\n",
    "        formula=match({\"location\": image_path.rstrip(\"/\")})\n",
    "    )"
   ]
  }
 ],
 "metadata": {
  "kernelspec": {
   "display_name": "env1",
   "language": "python",
   "name": "python3"
  },
  "language_info": {
   "codemirror_mode": {
    "name": "ipython",
    "version": 3
   },
   "file_extension": ".py",
   "mimetype": "text/x-python",
   "name": "python",
   "nbconvert_exporter": "python",
   "pygments_lexer": "ipython3",
   "version": "3.11.11"
  }
 },
 "nbformat": 4,
 "nbformat_minor": 2
}
