{
 "cells": [
  {
   "cell_type": "code",
   "execution_count": 11,
   "metadata": {},
   "outputs": [],
   "source": [
    "import os\n",
    "from pyairtable import Api\n",
    "from pyairtable import api\n",
    "from dotenv import load_dotenv\n",
    "from fibsem_tools import read\n",
    "from pyairtable.formulas import match\n",
    "from cellmap_utils import upsert_image\n",
    "\n",
    "load_dotenv()\n",
    "\n",
    "at_api = Api(os.environ['AIRTABLE_API_KEY'])\n",
    "# image table (switch between prod and test bases in .env)\n",
    "image_table = at_api.table(os.environ['AIRTABLE_BASE_ID'], os.environ['IMAGE_TABLE_ID'])\n",
    "collection_table = at_api.table(os.environ['AIRTABLE_BASE_ID'], os.environ['COLLECTION_TABLE_ID'])\n",
    "fibsem_table = at_api.table(os.environ['AIRTABLE_BASE_ID'], os.environ['FIBSEM_TABLE_ID'])\n",
    "annotation_table = at_api.table(os.environ['AIRTABLE_BASE_ID'], os.environ['ANNOTATION_TABLE_ID'])"
   ]
  },
  {
   "cell_type": "code",
   "execution_count": null,
   "metadata": {},
   "outputs": [],
   "source": [
    "ds_name = ''\n",
    "image_name = ''\n",
    "image_path = ''\n",
    "image_title = ''\n",
    "\n",
    "upsert_image(image_table,\n",
    "                ds_name,\n",
    "                image_name,\n",
    "                image_path,\n",
    "                'em',\n",
    "                collection_table, \n",
    "                fibsem_table,\n",
    "                annotation_table)"
   ]
  },
  {
   "cell_type": "code",
   "execution_count": 1,
   "metadata": {},
   "outputs": [],
   "source": [
    "zarr_paths = ['aic_desmosome-3.zarr/recon-1/labels/inference/segmentations/nuc',\n",
    " 'jrc_ccl81-covid-1.zarr/recon-1/labels/inference/segmentations/nuc',\n",
    " 'jrc_hela-bfa.zarr/recon-1/labels/inference/segmentations/nuc',\n",
    " 'jrc_hela-22.zarr/recon-1/labels/inference/segmentations/nuc',\n",
    " 'jrc_hela-21.zarr/recon-1/labels/inference/segmentations/nuc',\n",
    " 'jrc_cos7-11.zarr/recon-1/labels/inference/segmentations/nuc',\n",
    " 'jrc_sum159-1.zarr/recon-1/labels/inference/segmentations/nuc',\n",
    " 'jrc_mus-nacc-4.zarr/recon-2/labels/inference/segmentations/nuc',\n",
    " 'jrc_mus-nacc-3.zarr/recon-2/labels/inference/segmentations/nuc',\n",
    " 'jrc_mus-nacc-2.zarr/recon-2/labels/inference/segmentations/nuc',\n",
    " 'jrc_ctl-id8-5.zarr/recon-1/labels/inference/segmentations/nuc',\n",
    " 'jrc_ctl-id8-4.zarr/recon-1/labels/inference/segmentations/nuc',\n",
    " 'jrc_ctl-id8-3.zarr/recon-1/labels/inference/segmentations/nuc',\n",
    " 'jrc_hela-nz-1.zarr/recon-2/labels/inference/segmentations/nuc',\n",
    " 'jrc_mus-granule-neurons-1.zarr/recon-2/labels/inference/segmentations/nuc',\n",
    " 'jrc_mus-pancreas-3.zarr/recon-1/labels/inference/segmentations/nuc',\n",
    " 'jrc_mus-pancreas-2.zarr/recon-1/labels/inference/segmentations/nuc',\n",
    " 'jrc_mus-sc-zp105a.zarr/recon-1/labels/inference/segmentations/nuc',\n",
    " 'jrc_mus-granule-neurons-2.zarr/recon-2/labels/inference/segmentations/nuc',\n",
    " 'jrc_mus-granule-neurons-3.zarr/recon-2/labels/inference/segmentations/nuc',\n",
    " 'jrc_mus-sc-zp104a.zarr/recon-1/labels/inference/segmentations/nuc',\n",
    " 'jrc_cos7-1a.zarr/recon-2/labels/inference/segmentations/nuc',\n",
    "'jrc_cos7-1b.zarr/recon-2/labels/inference/segmentations/nuc',\n",
    "'jrc_mus-kidney-2.zarr/recon-1/labels/inference/segmentations/nuc',\n",
    "'jrc_mus-guard-hair-follicle.zarr/recon-1/labels/inference/segmentations/nuc',\n",
    " 'jrc_mus-meissner-corpuscle-1.zarr/recon-1/labels/inference/segmentations/nuc',\n",
    " 'jrc_mus-kidney.zarr/recon-1/labels/inference/segmentations/nuc',\n",
    " 'jrc_fly-acc-calyx-1.zarr/recon-1/labels/inference/segmentations/nuc',\n",
    " 'jrc_mus-meissner-corpuscle-2.zarr/recon-1/labels/inference/segmentations/nuc',\n",
    " 'jrc_fly-mb-z0419-20.zarr/recon-1/labels/inference/segmentations/nuc',\n",
    " 'jrc_ctl-id8-1.zarr/recon-1/labels/inference/segmentations/nuc',\n",
    " 'jrc_hela-h89-2.zarr/recon-1/labels/inference/segmentations/nuc',\n",
    " 'jrc_hela-h89-1.zarr/recon-1/labels/inference/segmentations/nuc',\n",
    " 'jrc_mus-pancreas-1.zarr/recon-1/labels/inference/segmentations/nuc',\n",
    " 'jrc_fly-fsb-1.zarr/recon-1/labels/inference/segmentations/nuc',\n",
    " 'jrc_mus-liver-2.zarr/recon-1/labels/inference/segmentations/nuc']\n",
    "\n",
    "\n"
   ]
  },
  {
   "cell_type": "code",
   "execution_count": null,
   "metadata": {},
   "outputs": [],
   "source": [
    "for p in zarr_paths:\n",
    "    ds_name = p.split('/')[0].split('.')[0]\n",
    "    image_name = 'nuc'\n",
    "    image_path = os.path.join('/nrs/cellmap/data/',ds_name, p)\n",
    "    image_title = 'Nucleus'\n",
    "\n",
    "    upsert_image(image_table,\n",
    "                    ds_name,\n",
    "                    image_name,\n",
    "                    image_path,\n",
    "                    image_title,\n",
    "                    \"ml_segmentation\",\n",
    "                    collection_table, \n",
    "                    fibsem_table,\n",
    "                    annotation_table)"
   ]
  },
  {
   "cell_type": "code",
   "execution_count": 10,
   "metadata": {},
   "outputs": [
    {
     "name": "stdout",
     "output_type": "stream",
     "text": [
      "Collecting cellmap_utils==0.0.18\n",
      "  Downloading cellmap_utils-0.0.18-py3-none-any.whl.metadata (1.3 kB)\n",
      "Downloading cellmap_utils-0.0.18-py3-none-any.whl (10 kB)\n",
      "Installing collected packages: cellmap_utils\n",
      "  Attempting uninstall: cellmap_utils\n",
      "    Found existing installation: cellmap-utils 0.0.17\n",
      "    Uninstalling cellmap-utils-0.0.17:\n",
      "      Successfully uninstalled cellmap-utils-0.0.17\n",
      "Successfully installed cellmap_utils-0.0.18\n"
     ]
    }
   ],
   "source": [
    "!python3 -m pip install cellmap_utils==0.0.18"
   ]
  },
  {
   "cell_type": "code",
   "execution_count": null,
   "metadata": {},
   "outputs": [],
   "source": []
  }
 ],
 "metadata": {
  "kernelspec": {
   "display_name": "env1",
   "language": "python",
   "name": "python3"
  },
  "language_info": {
   "codemirror_mode": {
    "name": "ipython",
    "version": 3
   },
   "file_extension": ".py",
   "mimetype": "text/x-python",
   "name": "python",
   "nbconvert_exporter": "python",
   "pygments_lexer": "ipython3",
   "version": "3.11.11"
  }
 },
 "nbformat": 4,
 "nbformat_minor": 2
}
