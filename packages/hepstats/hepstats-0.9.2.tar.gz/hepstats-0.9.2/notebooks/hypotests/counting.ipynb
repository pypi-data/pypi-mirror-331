{
 "cells": [
  {
   "cell_type": "markdown",
   "metadata": {},
   "source": [
    "# Counting experiment example\n",
    "\n",
    "In this example we do not use a shape analysis but instead do a counting experiment, i.e., we know the total number of events after some selection *Nobs* and we have an estimation of the number of background events *Nbkg*. The goal is to determine the number of signal events, *Nsig*, such that\n",
    "\n",
    "$$ Nobs = Nbkg + Nsig $$\n",
    "\n",
    "and do inferences on this parameter of interest."
   ]
  },
  {
   "cell_type": "code",
   "execution_count": null,
   "metadata": {},
   "outputs": [],
   "source": [
    "from __future__ import annotations\n",
    "\n",
    "import matplotlib.pyplot as plt\n",
    "import numpy as np\n",
    "import zfit\n",
    "from utils import plotlimit\n",
    "from zfit.loss import UnbinnedNLL\n",
    "from zfit.minimize import Minuit\n",
    "\n",
    "from hepstats.hypotests import Discovery, UpperLimit\n",
    "from hepstats.hypotests.calculators import AsymptoticCalculator, FrequentistCalculator\n",
    "from hepstats.hypotests.parameters import POI, POIarray"
   ]
  },
  {
   "cell_type": "markdown",
   "metadata": {},
   "source": [
    "We define the three yields used in the analysis:"
   ]
  },
  {
   "cell_type": "code",
   "execution_count": null,
   "metadata": {},
   "outputs": [],
   "source": [
    "Nsig = zfit.Parameter(\"Nsig\", 0, -100.0, 100)\n",
    "Nbkg = zfit.Parameter(\"Nbkg\", 100, 0, 500)\n",
    "Nobs = zfit.ComposedParameter(\"Nobs\", lambda a, b: a + b, params=[Nsig, Nbkg])"
   ]
  },
  {
   "cell_type": "markdown",
   "metadata": {},
   "source": [
    "We assume *Nobs* is Poisson distributed. In the cell below we define the Poisson PDF ourselves because it is not yet available in `zfit`. "
   ]
  },
  {
   "cell_type": "code",
   "execution_count": null,
   "metadata": {},
   "outputs": [],
   "source": [
    "obs = zfit.Space(\"N\", limits=(0, 800))\n",
    "model = zfit.pdf.Poisson(obs=obs, lamb=Nobs)"
   ]
  },
  {
   "cell_type": "markdown",
   "metadata": {},
   "source": [
    "In this example the number of events in the dataset is 370, and the estimated number of background events is 340 which means the number of signal events is 30."
   ]
  },
  {
   "cell_type": "code",
   "execution_count": null,
   "metadata": {},
   "outputs": [],
   "source": [
    "n = 370\n",
    "nbkg = 340\n",
    "\n",
    "data = zfit.data.Data.from_numpy(obs=obs, array=np.array([n]))\n",
    "Nbkg.set_value(nbkg)\n",
    "Nbkg.floating = False\n",
    "\n",
    "# likelihood function function\n",
    "nll = UnbinnedNLL(model=model, data=data)\n",
    "\n",
    "# Instantiate a minuit minimizer\n",
    "minimizer = Minuit(verbosity=0)\n",
    "\n",
    "# minimisation of the loss function\n",
    "minimum = minimizer.minimize(loss=nll)"
   ]
  },
  {
   "cell_type": "markdown",
   "metadata": {},
   "source": [
    "Using `hepstats` one can determine if this excess of signal is significant or not.\n",
    "\n",
    "### Inferences with the `AsymptoticCalculator`"
   ]
  },
  {
   "cell_type": "code",
   "execution_count": null,
   "metadata": {},
   "outputs": [],
   "source": [
    "# instantation of the calculator\n",
    "calculator = AsymptoticCalculator(nll, minimizer)\n",
    "calculator.bestfit = minimum  # optionnal"
   ]
  },
  {
   "cell_type": "markdown",
   "metadata": {},
   "source": [
    "#### Discovery test:"
   ]
  },
  {
   "cell_type": "code",
   "execution_count": null,
   "metadata": {},
   "outputs": [],
   "source": [
    "discovery_test = Discovery(calculator, POI(Nsig, 0))\n",
    "pnull, significance = discovery_test.result()"
   ]
  },
  {
   "cell_type": "markdown",
   "metadata": {},
   "source": [
    "The significance of the signal excess is **1.6 sigma**.\n",
    "\n",
    "#### Upper limit:"
   ]
  },
  {
   "cell_type": "code",
   "execution_count": null,
   "metadata": {},
   "outputs": [],
   "source": [
    "# parameter of interest to scan\n",
    "poi_scan = POIarray(Nsig, np.linspace(0.0, 100, 20))\n",
    "# parameter of interest set at the background only hypothesi\n",
    "poi_bkg_only = POI(Nsig, 0)"
   ]
  },
  {
   "cell_type": "code",
   "execution_count": null,
   "metadata": {},
   "outputs": [],
   "source": [
    "# instantation of the discovery test\n",
    "ul = UpperLimit(calculator, poi_scan, poi_bkg_only)\n",
    "ul.upperlimit(alpha=0.05, CLs=False)\n",
    "\n",
    "f = plt.figure(figsize=(9, 8))\n",
    "plotlimit(ul, alpha=0.05, CLs=False)\n",
    "plt.xlabel(\"Nsig\");"
   ]
  },
  {
   "cell_type": "markdown",
   "metadata": {},
   "source": [
    "#### Upper limit with uncertainty on the background prediction:\n",
    "\n",
    "Let's assume for now that the estimation of the background yield is \n",
    "$$ Nbkg = 340 \\pm 25.$$\n",
    "We add a Gaussian constraint on the likelihood and let *Nbkg* float."
   ]
  },
  {
   "cell_type": "code",
   "execution_count": null,
   "metadata": {},
   "outputs": [],
   "source": [
    "nbkg_constr = zfit.constraint.GaussianConstraint(params=Nbkg, observation=340, sigma=25)\n",
    "nll.add_constraints(nbkg_constr)\n",
    "Nbkg.floating = True"
   ]
  },
  {
   "cell_type": "code",
   "execution_count": null,
   "metadata": {},
   "outputs": [],
   "source": [
    "# instantation of the calculator\n",
    "calculator = AsymptoticCalculator(nll, Minuit(verbosity=0))\n",
    "\n",
    "# instantation of the discovery test\n",
    "poi_scan = POIarray(Nsig, np.linspace(0.0, 150, 20))\n",
    "ul = UpperLimit(calculator, poi_scan, poi_bkg_only)\n",
    "ul.upperlimit(alpha=0.05, CLs=False)\n",
    "\n",
    "f = plt.figure(figsize=(9, 8))\n",
    "plotlimit(ul, alpha=0.05, CLs=False)\n",
    "plt.xlabel(\"Nsig\");"
   ]
  },
  {
   "cell_type": "markdown",
   "metadata": {},
   "source": [
    "### Inferences with the `FrequentistCalculator`"
   ]
  },
  {
   "cell_type": "code",
   "execution_count": null,
   "metadata": {},
   "outputs": [],
   "source": [
    "nll = UnbinnedNLL(model=model, data=data)\n",
    "Nbkg.set_value(nbkg)\n",
    "Nbkg.floating = False\n",
    "\n",
    "calculator = FrequentistCalculator(nll, minimizer, ntoysalt=1000, ntoysnull=1000)\n",
    "calculator.bestfit = minimum  # optional"
   ]
  },
  {
   "cell_type": "markdown",
   "metadata": {},
   "source": [
    "#### Discovery test:"
   ]
  },
  {
   "cell_type": "code",
   "execution_count": null,
   "metadata": {},
   "outputs": [],
   "source": [
    "discovery_test = Discovery(calculator, POI(Nsig, 0))\n",
    "pnull, significance = discovery_test.result()"
   ]
  },
  {
   "cell_type": "markdown",
   "metadata": {},
   "source": [
    "#### Upper limit:"
   ]
  },
  {
   "cell_type": "code",
   "execution_count": null,
   "metadata": {},
   "outputs": [],
   "source": [
    "# parameter of interest to scan\n",
    "poi_scan = POIarray(Nsig, np.linspace(0.0, 100, 20))\n",
    "# parameter of interest set at the background only hypothesi\n",
    "poi_bkg_only = POI(Nsig, 0)\n",
    "\n",
    "# instantation of the discovery test\n",
    "ul = UpperLimit(calculator, poi_scan, poi_bkg_only)\n",
    "ul.upperlimit(alpha=0.05, CLs=False)\n",
    "\n",
    "f = plt.figure(figsize=(9, 8))\n",
    "plotlimit(ul, alpha=0.05, CLs=False)\n",
    "plt.xlabel(\"Nsig\");"
   ]
  },
  {
   "cell_type": "code",
   "execution_count": null,
   "metadata": {},
   "outputs": [],
   "source": []
  }
 ],
 "metadata": {
  "kernelspec": {
   "display_name": "Python 3",
   "language": "python",
   "name": "python3"
  },
  "language_info": {
   "codemirror_mode": {
    "name": "ipython",
    "version": 3
   },
   "file_extension": ".py",
   "mimetype": "text/x-python",
   "name": "python",
   "nbconvert_exporter": "python",
   "pygments_lexer": "ipython3",
   "version": "3.7.7"
  }
 },
 "nbformat": 4,
 "nbformat_minor": 4
}
