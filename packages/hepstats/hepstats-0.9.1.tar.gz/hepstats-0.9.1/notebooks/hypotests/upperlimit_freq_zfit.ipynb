{
 "cells": [
  {
   "cell_type": "markdown",
   "metadata": {
    "pycharm": {
     "name": "#%% md\n"
    }
   },
   "source": [
    "# Example of upper limit computation."
   ]
  },
  {
   "cell_type": "code",
   "execution_count": null,
   "metadata": {
    "pycharm": {
     "name": "#%%\n"
    }
   },
   "outputs": [],
   "source": [
    "from __future__ import annotations\n",
    "\n",
    "import matplotlib.pyplot as plt\n",
    "import numpy as np\n",
    "import zfit\n",
    "from utils import plotfitresult, plotlimit, pltdist\n",
    "from zfit.loss import ExtendedUnbinnedNLL\n",
    "from zfit.minimize import Minuit\n",
    "\n",
    "from hepstats.hypotests import UpperLimit\n",
    "from hepstats.hypotests.calculators import FrequentistCalculator\n",
    "from hepstats.hypotests.parameters import POI, POIarray"
   ]
  },
  {
   "cell_type": "code",
   "execution_count": null,
   "metadata": {
    "pycharm": {
     "name": "#%%\n"
    }
   },
   "outputs": [],
   "source": [
    "plt.rcParams[\"figure.figsize\"] = (9, 6)\n",
    "plt.rcParams[\"font.size\"] = 16"
   ]
  },
  {
   "cell_type": "markdown",
   "metadata": {
    "pycharm": {
     "name": "#%% md\n"
    }
   },
   "source": [
    "### Fit of a Gaussian signal over an exponential background:"
   ]
  },
  {
   "cell_type": "code",
   "execution_count": null,
   "metadata": {
    "pycharm": {
     "name": "#%%\n"
    }
   },
   "outputs": [],
   "source": [
    "bounds = (0.1, 3.0)\n",
    "\n",
    "# Data and signal\n",
    "\n",
    "np.random.seed(0)\n",
    "tau = -2.0\n",
    "beta = -1 / tau\n",
    "data = np.random.exponential(beta, 300)\n",
    "peak = np.random.normal(1.2, 0.1, 10)\n",
    "data = np.concatenate((data, peak))\n",
    "data = data[(data > bounds[0]) & (data < bounds[1])]"
   ]
  },
  {
   "cell_type": "code",
   "execution_count": null,
   "metadata": {
    "pycharm": {
     "name": "#%%\n"
    }
   },
   "outputs": [],
   "source": [
    "pltdist(data, bins=80, bounds=bounds)"
   ]
  },
  {
   "cell_type": "code",
   "execution_count": null,
   "metadata": {
    "pycharm": {
     "name": "#%%\n"
    }
   },
   "outputs": [],
   "source": [
    "obs = zfit.Space(\"x\", limits=bounds)"
   ]
  },
  {
   "cell_type": "code",
   "execution_count": null,
   "metadata": {
    "pycharm": {
     "name": "#%%\n"
    }
   },
   "outputs": [],
   "source": [
    "lambda_ = zfit.Parameter(\"lambda\", -2.0, -4.0, -1.0)\n",
    "Nsig = zfit.Parameter(\"Nsig\", 1.0, -20.0, len(data))\n",
    "Nbkg = zfit.Parameter(\"Nbkg\", len(data), 0.0, len(data) * 1.1)"
   ]
  },
  {
   "cell_type": "code",
   "execution_count": null,
   "metadata": {
    "pycharm": {
     "name": "#%%\n"
    }
   },
   "outputs": [],
   "source": [
    "signal = zfit.pdf.Gauss(obs=obs, mu=1.2, sigma=0.1).create_extended(Nsig)\n",
    "background = zfit.pdf.Exponential(obs=obs, lambda_=lambda_).create_extended(Nbkg)\n",
    "tot_model = zfit.pdf.SumPDF([signal, background])"
   ]
  },
  {
   "cell_type": "code",
   "execution_count": null,
   "metadata": {
    "pycharm": {
     "name": "#%%\n"
    }
   },
   "outputs": [],
   "source": [
    "# Create the negative log likelihood\n",
    "data_ = zfit.data.Data.from_numpy(obs=obs, array=data)\n",
    "nll = ExtendedUnbinnedNLL(model=tot_model, data=data_)"
   ]
  },
  {
   "cell_type": "code",
   "execution_count": null,
   "metadata": {
    "pycharm": {
     "name": "#%%\n"
    }
   },
   "outputs": [],
   "source": [
    "# Instantiate a minuit minimizer\n",
    "minimizer = Minuit()"
   ]
  },
  {
   "cell_type": "code",
   "execution_count": null,
   "metadata": {
    "pycharm": {
     "name": "#%%\n"
    }
   },
   "outputs": [],
   "source": [
    "# minimisation of the loss function\n",
    "minimum = minimizer.minimize(loss=nll)\n",
    "minimum.hesse()"
   ]
  },
  {
   "cell_type": "code",
   "execution_count": null,
   "metadata": {
    "pycharm": {
     "name": "#%%\n"
    }
   },
   "outputs": [],
   "source": [
    "nbins = 80\n",
    "pltdist(data, nbins, bounds)\n",
    "plotfitresult(tot_model, bounds, nbins)\n",
    "plt.xlabel(\"m [GeV/c$^2$]\")\n",
    "plt.ylabel(\"number of events\")"
   ]
  },
  {
   "cell_type": "markdown",
   "metadata": {
    "pycharm": {
     "name": "#%% md\n"
    }
   },
   "source": [
    "### Upper limit:\n",
    "\n",
    "Since the signal yield Nsig = $4.5 \\pm 5.8$  is consistent with zero signal we compute the CLs upper limit at 95% confidence level on Nsig."
   ]
  },
  {
   "cell_type": "code",
   "execution_count": null,
   "metadata": {
    "pycharm": {
     "name": "#%%\n"
    }
   },
   "outputs": [],
   "source": [
    "# instantation of the calculator\n",
    "# calculator = FrequentistCalculator(nll, minimizer, ntoysnull=5000, ntoysalt=5000)\n",
    "calculator = FrequentistCalculator.from_yaml(\n",
    "    \"toys/upperlimit_freq_zfit_toys.yml\", nll, minimizer, ntoysnull=5000, ntoysalt=5000\n",
    ")\n",
    "calculator.bestfit = minimum  # optionnal"
   ]
  },
  {
   "cell_type": "code",
   "execution_count": null,
   "metadata": {
    "pycharm": {
     "name": "#%%\n"
    }
   },
   "outputs": [],
   "source": [
    "# parameter of interest of the null hypothesis\n",
    "poinull = POIarray(Nsig, np.linspace(0.0, 25, 15))\n",
    "# parameter of interest of the alternative hypothesis\n",
    "poialt = POI(Nsig, 0.0)"
   ]
  },
  {
   "cell_type": "code",
   "execution_count": null,
   "metadata": {
    "pycharm": {
     "name": "#%%\n"
    }
   },
   "outputs": [],
   "source": [
    "# instantation of the discovery test\n",
    "ul = UpperLimit(calculator, poinull, poialt)"
   ]
  },
  {
   "cell_type": "code",
   "execution_count": null,
   "metadata": {
    "pycharm": {
     "name": "#%%\n"
    }
   },
   "outputs": [],
   "source": [
    "ul.upperlimit(alpha=0.05, CLs=True);"
   ]
  },
  {
   "cell_type": "code",
   "execution_count": null,
   "metadata": {
    "pycharm": {
     "name": "#%%\n"
    }
   },
   "outputs": [],
   "source": [
    "f = plt.figure(figsize=(9, 8))\n",
    "plotlimit(ul, alpha=0.05, CLs=True)\n",
    "plt.xlabel(\"Nsig\");"
   ]
  },
  {
   "cell_type": "code",
   "execution_count": null,
   "metadata": {
    "pycharm": {
     "name": "#%%\n"
    }
   },
   "outputs": [],
   "source": [
    "f = plt.figure(figsize=(9, 8))\n",
    "ax = plotlimit(ul, alpha=0.05, CLs=False)\n",
    "plt.xlabel(\"Nsig\");"
   ]
  },
  {
   "cell_type": "code",
   "execution_count": null,
   "metadata": {
    "pycharm": {
     "name": "#%%\n"
    }
   },
   "outputs": [],
   "source": [
    "calculator.to_yaml(\"toys/upperlimit_freq_zfit_toys.yml\")"
   ]
  },
  {
   "cell_type": "markdown",
   "metadata": {
    "pycharm": {
     "name": "#%% md\n"
    }
   },
   "source": [
    "### Illustration of the computation of the pvalues:\n",
    "\n",
    "In the following we plot the q, the profile likelihood ratio, distributions for the null (red) and alternative hypothesis (blue) as well as the observed value q_obs."
   ]
  },
  {
   "cell_type": "code",
   "execution_count": null,
   "metadata": {
    "pycharm": {
     "name": "#%%\n"
    }
   },
   "outputs": [],
   "source": [
    "qnull = calculator.qnull(poinull, poialt, onesided=True)"
   ]
  },
  {
   "cell_type": "code",
   "execution_count": null,
   "metadata": {
    "pycharm": {
     "name": "#%%\n"
    }
   },
   "outputs": [],
   "source": [
    "qobs = calculator.qobs(poinull, onesided=True)"
   ]
  },
  {
   "cell_type": "code",
   "execution_count": null,
   "metadata": {
    "pycharm": {
     "name": "#%%\n"
    }
   },
   "outputs": [],
   "source": [
    "qalt = calculator.qalt(poinull, poialt, onesided=True)"
   ]
  },
  {
   "cell_type": "code",
   "execution_count": null,
   "metadata": {
    "pycharm": {
     "name": "#%%\n"
    }
   },
   "outputs": [],
   "source": [
    "nbins = 30\n",
    "fontsize = 20\n",
    "\n",
    "\n",
    "def compute_pvalue(qdist, qobs):\n",
    "    qdist = qdist[~(np.isnan(qdist) | np.isinf(qdist))]\n",
    "    return len(qdist[qdist >= qobs]) / len(qdist)\n",
    "\n",
    "\n",
    "f, axs = plt.subplots(5, 3, figsize=(25, 30), tight_layout=True)\n",
    "\n",
    "for i, p in enumerate(poinull):\n",
    "    ax = axs.flatten()[i]\n",
    "\n",
    "    qaltp = qalt[p]\n",
    "    qaltp = qaltp[~np.isnan(qaltp)]\n",
    "\n",
    "    bounds = (0, np.percentile(qaltp, 99.9))\n",
    "\n",
    "    ax.hist(\n",
    "        qnull[p],\n",
    "        bins=nbins,\n",
    "        label=\"qnull distribution\",\n",
    "        log=True,\n",
    "        range=bounds,\n",
    "        histtype=\"step\",\n",
    "        color=\"crimson\",\n",
    "        lw=2,\n",
    "    )\n",
    "    ax.hist(\n",
    "        qaltp,\n",
    "        bins=nbins,\n",
    "        label=\"qalt distribution\",\n",
    "        log=True,\n",
    "        range=bounds,\n",
    "        histtype=\"step\",\n",
    "        color=\"royalblue\",\n",
    "        lw=2,\n",
    "    )\n",
    "    ax.axvline(qobs[i], color=\"black\", label=\"qobs\", lw=2)\n",
    "    ax.set_title(f\"{p.name} = {p.value:.2f}\")\n",
    "    ax.legend(loc=\"best\", fontsize=fontsize)\n",
    "    ax.set_xlabel(\"q\", fontsize=fontsize)\n",
    "\n",
    "    p_clsb = compute_pvalue(qnull[p], qobs[i])\n",
    "    p_clb = compute_pvalue(qaltp, qobs[i])\n",
    "    p_cls = p_clsb / p_clb\n",
    "\n",
    "    textstr = r\"$p_{CL_{B}}$\" + f\"     = {p_clb:.2f}\\n\"\n",
    "    textstr += r\"$p_{CL_{S+B}}$\" + f\"  = {p_clsb:.2f}\\n\"\n",
    "    textstr += r\"$p_{CL_{S}}$\" + f\"     = {p_cls:.2f}\"\n",
    "\n",
    "    props = {\"boxstyle\": \"round\", \"facecolor\": \"white\", \"alpha\": 0.5}\n",
    "    ax.text(\n",
    "        0.65,\n",
    "        0.65,\n",
    "        textstr,\n",
    "        transform=ax.transAxes,\n",
    "        fontsize=fontsize,\n",
    "        verticalalignment=\"top\",\n",
    "        bbox=props,\n",
    "    )"
   ]
  }
 ],
 "metadata": {
  "kernelspec": {
   "display_name": "Python 3",
   "language": "python",
   "name": "python3"
  },
  "language_info": {
   "codemirror_mode": {
    "name": "ipython",
    "version": 3
   },
   "file_extension": ".py",
   "mimetype": "text/x-python",
   "name": "python",
   "nbconvert_exporter": "python",
   "pygments_lexer": "ipython3",
   "version": "3.7.7"
  }
 },
 "nbformat": 4,
 "nbformat_minor": 4
}
