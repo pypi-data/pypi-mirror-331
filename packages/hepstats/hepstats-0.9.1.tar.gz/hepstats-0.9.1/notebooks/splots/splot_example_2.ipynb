{
 "cells": [
  {
   "cell_type": "markdown",
   "metadata": {},
   "source": [
    "# Generate and visualize toy data sets"
   ]
  },
  {
   "cell_type": "code",
   "execution_count": null,
   "metadata": {},
   "outputs": [],
   "source": [
    "from __future__ import annotations\n",
    "\n",
    "import numpy as np\n",
    "import zfit\n",
    "from matplotlib import pyplot as plt\n",
    "from scipy.stats import expon, norm\n",
    "\n",
    "zfit.settings.set_seed(10)  # fix seed\n",
    "\n",
    "bounds = (0, 10)\n",
    "obs = zfit.Space(\"x\", limits=bounds)\n",
    "\n",
    "# true parameters for signal and background\n",
    "truth_n_sig = 1000\n",
    "Nsig = zfit.Parameter(\"Nsig\", truth_n_sig)\n",
    "mean_sig = zfit.Parameter(\"mean_sig\", 5.0)\n",
    "sigma_sig = zfit.Parameter(\"sigma_sig\", 0.5)\n",
    "sig_pdf = zfit.pdf.Gauss(obs=obs, mu=mean_sig, sigma=sigma_sig).create_extended(Nsig)\n",
    "\n",
    "truth_n_bkg = 10000\n",
    "Nbkg = zfit.Parameter(\"Nbkg\", truth_n_bkg)\n",
    "lambda_bkg = zfit.Parameter(\"lambda_bkg\", -1 / 4.0)\n",
    "bkg_pdf = zfit.pdf.Exponential(obs=obs, lambda_=lambda_bkg).create_extended(Nbkg)\n",
    "\n",
    "truth_sig_t = (1.0,)\n",
    "truth_bkg_t = (2.5, 2.0)\n",
    "\n",
    "# make a data set\n",
    "m_sig = sig_pdf.sample(truth_n_sig).numpy()\n",
    "m_bkg = bkg_pdf.sample(truth_n_bkg).numpy()\n",
    "m = np.concatenate([m_sig, m_bkg]).flatten()\n",
    "\n",
    "# fill t variables\n",
    "t_sig = expon(0, *truth_sig_t).rvs(truth_n_sig)\n",
    "t_bkg = norm(*truth_bkg_t).rvs(truth_n_bkg)\n",
    "t = np.concatenate([t_sig, t_bkg])\n",
    "\n",
    "# cut out range (0, 10) in m, t\n",
    "ma = (bounds[0] < t) & (t < bounds[1])\n",
    "m = m[ma]\n",
    "t = t[ma]\n",
    "\n",
    "fig, ax = plt.subplots(1, 3, figsize=(16, 4.5))\n",
    "ax[0].hist2d(m, t, bins=(50, 50))\n",
    "ax[0].set_xlabel(\"m\")\n",
    "ax[0].set_ylabel(\"t\")\n",
    "ax[1].hist([m_bkg, m_sig], bins=50, stacked=True, label=(\"background\", \"signal\"))\n",
    "ax[1].set_xlabel(\"m\")\n",
    "ax[1].legend()\n",
    "ax[2].hist(\n",
    "    (t[truth_n_sig:], t[:truth_n_sig]),\n",
    "    bins=50,\n",
    "    stacked=True,\n",
    "    label=(\"background\", \"signal\"),\n",
    ")\n",
    "ax[2].set_xlabel(\"t\")\n",
    "ax[2].legend()\n",
    "\n",
    "sorter = np.argsort(m)\n",
    "m = m[sorter]\n",
    "t = t[sorter]"
   ]
  },
  {
   "cell_type": "markdown",
   "metadata": {},
   "source": [
    "#  Fit toy data set"
   ]
  },
  {
   "cell_type": "code",
   "execution_count": null,
   "metadata": {},
   "outputs": [],
   "source": [
    "from zfit.loss import ExtendedUnbinnedNLL\n",
    "from zfit.minimize import Minuit\n",
    "\n",
    "tot_pdf = zfit.pdf.SumPDF([sig_pdf, bkg_pdf])\n",
    "loss = ExtendedUnbinnedNLL(model=tot_pdf, data=zfit.data.Data.from_numpy(obs=obs, array=m))\n",
    "\n",
    "minimizer = Minuit()\n",
    "\n",
    "minimum = minimizer.minimize(loss=loss)\n",
    "minimum.hesse()"
   ]
  },
  {
   "cell_type": "markdown",
   "metadata": {},
   "source": [
    "## Visualize fitted model"
   ]
  },
  {
   "cell_type": "code",
   "execution_count": null,
   "metadata": {},
   "outputs": [],
   "source": [
    "from utils import plotfitresult, pltdist\n",
    "\n",
    "fig = plt.figure(figsize=(8, 5.5))\n",
    "\n",
    "nbins = 80\n",
    "pltdist(m, nbins, bounds)\n",
    "plotfitresult(tot_pdf, bounds, nbins, label=\"total model\", color=\"crimson\")\n",
    "plotfitresult(bkg_pdf, bounds, nbins, label=\"background\", color=\"forestgreen\")\n",
    "plotfitresult(sig_pdf, bounds, nbins, label=\"signal\", color=\"orange\")\n",
    "plt.xlabel(\"m\")\n",
    "plt.ylabel(\"number of events\")\n",
    "plt.legend();"
   ]
  },
  {
   "cell_type": "markdown",
   "metadata": {},
   "source": [
    "##  Compute sWeights"
   ]
  },
  {
   "cell_type": "code",
   "execution_count": null,
   "metadata": {},
   "outputs": [],
   "source": [
    "from hepstats.splot import compute_sweights\n",
    "\n",
    "weights = compute_sweights(tot_pdf, m)"
   ]
  },
  {
   "cell_type": "code",
   "execution_count": null,
   "metadata": {},
   "outputs": [],
   "source": [
    "fig, ax = plt.subplots(1, 2, figsize=(16, 4.5))\n",
    "plt.sca(ax[0])\n",
    "nbins = 40\n",
    "\n",
    "plt.plot(m, weights[Nsig], label=\"$w_\\\\mathrm{sig}$\")\n",
    "plt.plot(m, weights[Nbkg], label=\"$w_\\\\mathrm{bkg}$\")\n",
    "plt.plot(m, weights[Nsig] + weights[Nbkg], \"-k\")\n",
    "plt.axhline(0, color=\"0.5\")\n",
    "plt.legend()\n",
    "plt.sca(ax[1])\n",
    "\n",
    "plt.hist(t, bins=nbins, range=bounds, weights=weights[Nsig], label=\"weighted histogram\")\n",
    "plt.hist(t_sig, bins=nbins, range=bounds, histtype=\"step\", label=\"true histogram\")\n",
    "t1 = np.linspace(*bounds, nbins)\n",
    "tcdf = expon(0, 1).pdf(t1) * np.sum(weights[Nsig]) * (bounds[1] - bounds[0]) / nbins\n",
    "plt.plot(t1, tcdf, label=\"model with $\\\\lambda_\\\\mathrm{sig}$\")\n",
    "plt.xlabel(\"t\")\n",
    "plt.legend();"
   ]
  },
  {
   "cell_type": "code",
   "execution_count": null,
   "metadata": {},
   "outputs": [],
   "source": [
    "np.average(t, weights=weights[Nsig])"
   ]
  },
  {
   "cell_type": "code",
   "execution_count": null,
   "metadata": {},
   "outputs": [],
   "source": [
    "np.average(t_sig)"
   ]
  },
  {
   "cell_type": "code",
   "execution_count": null,
   "metadata": {},
   "outputs": [],
   "source": []
  }
 ],
 "metadata": {
  "kernelspec": {
   "display_name": "Python 3",
   "language": "python",
   "name": "python3"
  },
  "language_info": {
   "codemirror_mode": {
    "name": "ipython",
    "version": 3
   },
   "file_extension": ".py",
   "mimetype": "text/x-python",
   "name": "python",
   "nbconvert_exporter": "python",
   "pygments_lexer": "ipython3",
   "version": "3.7.6"
  }
 },
 "nbformat": 4,
 "nbformat_minor": 4
}
