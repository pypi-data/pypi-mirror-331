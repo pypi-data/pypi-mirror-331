{
 "cells": [
  {
   "cell_type": "code",
   "execution_count": 1,
   "id": "0f25615f-d91a-48c6-be3f-742874b49d15",
   "metadata": {},
   "outputs": [],
   "source": [
    "from orphanet_explorer_test import OrphanetDataManager"
   ]
  },
  {
   "cell_type": "code",
   "execution_count": 2,
   "id": "e8be3c18-cd0e-461e-8800-069d2c958e6e",
   "metadata": {},
   "outputs": [],
   "source": [
    "manager = OrphanetDataManager(\"output/\")"
   ]
  },
  {
   "cell_type": "code",
   "execution_count": 3,
   "id": "762609f0-36f1-4f7d-a8b4-b75555b407c6",
   "metadata": {},
   "outputs": [],
   "source": [
    "file_path = \"en_phenotype.xml\"  # Update this with the actual XML file path\n",
    "output_csv = \"en_phenotype.csv\""
   ]
  },
  {
   "cell_type": "code",
   "execution_count": null,
   "id": "8ac5e6b4-36cd-4d15-9c91-5d48c259e3d9",
   "metadata": {},
   "outputs": [],
   "source": [
    "root = manager.parse_xml(file_path)"
   ]
  },
  {
   "cell_type": "code",
   "execution_count": null,
   "id": "5e4d584f-1e0b-43a1-807c-7b2c823672b0",
   "metadata": {},
   "outputs": [],
   "source": [
    "manager.extract_phenotype_data(root, output_csv=output_csv )"
   ]
  },
  {
   "cell_type": "code",
   "execution_count": 3,
   "id": "8652fbd9-4ad4-4ac5-9ff9-981516b83d09",
   "metadata": {},
   "outputs": [
    {
     "name": "stderr",
     "output_type": "stream",
     "text": [
      "2025-02-17 16:24:25,045 - orphanet_explorer_test - INFO - Processing phenotype file: data/en_phenotype.xml\n",
      "2025-02-17 16:24:27,198 - orphanet_explorer_test - INFO - Processing consequences file: data/en_funct_consequences.xml\n",
      "2025-02-17 16:24:28,268 - orphanet_explorer_test - INFO - Processing natural_history file: data/en_nat_hist_ages.xml\n",
      "2025-02-17 16:24:28,418 - orphanet_explorer_test - INFO - Processing references file: data/mesh_omim_new.xml\n",
      "2025-02-17 16:24:30,452 - orphanet_explorer_test - INFO - Processing epidemiology file: data/en_epidimiology_prev.xml\n",
      "2025-02-17 16:24:31,831 - orphanet_explorer_test - INFO - Merged data saved to output/merged_orphanet_data.csv\n"
     ]
    }
   ],
   "source": [
    "# Define input files\n",
    "xml_files = {\n",
    "    \"references\": \"data/mesh_omim_new.xml\",\n",
    "    \"phenotype\": \"data/en_phenotype.xml\",\n",
    "    \"consequences\": \"data/en_funct_consequences.xml\",\n",
    "    \"natural_history\": \"data/en_nat_hist_ages.xml\",\n",
    "    \"epidemiology\": \"data/en_epidimiology_prev.xml\"\n",
    "}\n",
    "\n",
    "# Process files and save merged dataset\n",
    "merged_data = manager.process_files(\n",
    "    xml_files,\n",
    "    output_file=\"merged_orphanet_data.csv\"\n",
    ")"
   ]
  },
  {
   "cell_type": "code",
   "execution_count": null,
   "id": "6e094b84-327b-4676-966f-67772e0dadf2",
   "metadata": {},
   "outputs": [],
   "source": []
  }
 ],
 "metadata": {
  "kernelspec": {
   "display_name": "Python 3 (ipykernel)",
   "language": "python",
   "name": "python3"
  },
  "language_info": {
   "codemirror_mode": {
    "name": "ipython",
    "version": 3
   },
   "file_extension": ".py",
   "mimetype": "text/x-python",
   "name": "python",
   "nbconvert_exporter": "python",
   "pygments_lexer": "ipython3",
   "version": "3.10.9"
  }
 },
 "nbformat": 4,
 "nbformat_minor": 5
}
