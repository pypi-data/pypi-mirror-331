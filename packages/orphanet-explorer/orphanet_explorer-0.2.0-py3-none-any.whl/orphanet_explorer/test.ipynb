{
 "cells": [
  {
   "cell_type": "code",
   "execution_count": null,
   "id": "0f25615f-d91a-48c6-be3f-742874b49d15",
   "metadata": {},
   "outputs": [],
   "source": [
    "from orphanet_explorer import OrphanetDataManager"
   ]
  },
  {
   "cell_type": "code",
   "execution_count": null,
   "id": "c65bb8c2-a058-457d-bb74-93faa0cfaac0",
   "metadata": {},
   "outputs": [],
   "source": []
  },
  {
   "cell_type": "code",
   "execution_count": 3,
   "id": "762609f0-36f1-4f7d-a8b4-b75555b407c6",
   "metadata": {},
   "outputs": [],
   "source": [
    "file_path = \"en_phenotype.xml\"  # Update this with the actual XML file path\n"
   ]
  },
  {
   "cell_type": "code",
   "execution_count": null,
   "id": "8652fbd9-4ad4-4ac5-9ff9-981516b83d09",
   "metadata": {},
   "outputs": [],
   "source": [
    "manager = OrphanetDataManager(\"output/\")\n",
    "# Define input files\n",
    "xml_files = {\n",
    "    \"references\": \"data/references.xml\",\n",
    "    \"phenotype\": \"data/en_phenotype.xml\",\n",
    "    \"consequences\": \"data/en_funct_consequences.xml\",\n",
    "    \"natural_history\": \"data/en_nat_hist_ages.xml\",\n",
    "    \"epidemiology\": \"data/en_epidimiology_prev.xml\"\n",
    "}\n",
    "\n",
    "# Process files and save merged dataset\n",
    "merged_data = manager.process_files(\n",
    "    xml_files,\n",
    "    output_file=\"merged_orphanet_data.csv\"\n",
    ")"
   ]
  },
  {
   "cell_type": "code",
   "execution_count": null,
   "id": "d58b1d1e-96fa-4213-bbca-c006ca92c1f4",
   "metadata": {},
   "outputs": [],
   "source": [
    "output_csv = \"en_consequences.csv\"\n",
    "root = manager.parse_xml(xml_files['consequences'])\n",
    "\n",
    "manager.extract_consequences_data(root, output_csv=output_csv)"
   ]
  },
  {
   "cell_type": "code",
   "execution_count": null,
   "id": "6e094b84-327b-4676-966f-67772e0dadf2",
   "metadata": {},
   "outputs": [],
   "source": [
    "output_csv = \"en_phenotype.csv\"\n",
    "root = manager.parse_xml(xml_files['phenotype'])\n",
    "manager.extract_phenotype_data(root, output_csv=output_csv)"
   ]
  }
 ],
 "metadata": {
  "kernelspec": {
   "display_name": "Python 3 (ipykernel)",
   "language": "python",
   "name": "python3"
  },
  "language_info": {
   "codemirror_mode": {
    "name": "ipython",
    "version": 3
   },
   "file_extension": ".py",
   "mimetype": "text/x-python",
   "name": "python",
   "nbconvert_exporter": "python",
   "pygments_lexer": "ipython3",
   "version": "3.10.9"
  }
 },
 "nbformat": 4,
 "nbformat_minor": 5
}
