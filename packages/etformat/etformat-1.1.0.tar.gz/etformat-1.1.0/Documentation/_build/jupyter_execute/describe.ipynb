{
 "cells": [
  {
   "cell_type": "markdown",
   "metadata": {},
   "source": [
    "# 📖 describe\n",
    "\n",
    "## Analyze EDF Trials and Extract Statistics"
   ]
  },
  {
   "cell_type": "markdown",
   "metadata": {},
   "source": [
    "The describe() function allows users to analyze eye-tracking trial data from an EDF (Eye Data Format) file. It computes key statistics for a given trial or all trials, including:\n",
    "\n",
    "- Total duration of the trial\n",
    "- Number of fixations, saccades, and blinks\n",
    "- Average fixation duration\n",
    "- Average saccade amplitude\n",
    "- This function is useful for summarizing eye movement behavior from recorded trials.\n",
    "\n"
   ]
  },
  {
   "cell_type": "markdown",
   "metadata": {},
   "source": [
    "`describe` can directly work with EDF file or you can first Convert data using [export](export.md) function and then import files and use `describe` function."
   ]
  },
  {
   "cell_type": "code",
   "execution_count": 1,
   "metadata": {},
   "outputs": [
    {
     "ename": "KeyboardInterrupt",
     "evalue": "",
     "output_type": "error",
     "traceback": [
      "\u001b[1;31m---------------------------------------------------------------------------\u001b[0m",
      "\u001b[1;31mKeyboardInterrupt\u001b[0m                         Traceback (most recent call last)",
      "Cell \u001b[1;32mIn[1], line 2\u001b[0m\n\u001b[0;32m      1\u001b[0m \u001b[38;5;28;01mimport\u001b[39;00m\u001b[38;5;250m \u001b[39m\u001b[38;5;21;01metformat\u001b[39;00m\u001b[38;5;250m \u001b[39m\u001b[38;5;28;01mas\u001b[39;00m\u001b[38;5;250m \u001b[39m\u001b[38;5;21;01met\u001b[39;00m\n\u001b[1;32m----> 2\u001b[0m \u001b[43met\u001b[49m\u001b[38;5;241;43m.\u001b[39;49m\u001b[43mdescribe\u001b[49m\u001b[43m(\u001b[49m\u001b[38;5;124;43mr\u001b[39;49m\u001b[38;5;124;43m\"\u001b[39;49m\u001b[38;5;124;43mK:\u001b[39;49m\u001b[38;5;124;43m\\\u001b[39;49m\u001b[38;5;124;43mPackages for python\u001b[39;49m\u001b[38;5;124;43m\\\u001b[39;49m\u001b[38;5;124;43metformat misc\u001b[39;49m\u001b[38;5;124;43m\\\u001b[39;49m\u001b[38;5;124;43mtest.EDF\u001b[39;49m\u001b[38;5;124;43m\"\u001b[39;49m\u001b[43m)\u001b[49m\n",
      "File \u001b[1;32mk:\\packages for python\\etformat\\etformat\\describe.py:34\u001b[0m, in \u001b[0;36mdescribe\u001b[1;34m(data_source, trial_number)\u001b[0m\n\u001b[0;32m     31\u001b[0m     \u001b[38;5;28;01mreturn\u001b[39;00m \u001b[38;5;28;01mNone\u001b[39;00m\n\u001b[0;32m     33\u001b[0m \u001b[38;5;66;03m# Load EDF file\u001b[39;00m\n\u001b[1;32m---> 34\u001b[0m edf \u001b[38;5;241m=\u001b[39m \u001b[43mEDFFile\u001b[49m\u001b[43m(\u001b[49m\u001b[43medf_file_path\u001b[49m\u001b[43m,\u001b[49m\u001b[43m \u001b[49m\u001b[43mloadevents\u001b[49m\u001b[38;5;241;43m=\u001b[39;49m\u001b[38;5;28;43;01mTrue\u001b[39;49;00m\u001b[43m,\u001b[49m\u001b[43m \u001b[49m\u001b[43mloadsamples\u001b[49m\u001b[38;5;241;43m=\u001b[39;49m\u001b[38;5;28;43;01mTrue\u001b[39;49;00m\u001b[43m)\u001b[49m\n\u001b[0;32m     36\u001b[0m \u001b[38;5;28;01mif\u001b[39;00m edf\u001b[38;5;241m.\u001b[39msamples \u001b[38;5;129;01mis\u001b[39;00m \u001b[38;5;28;01mNone\u001b[39;00m \u001b[38;5;129;01mor\u001b[39;00m edf\u001b[38;5;241m.\u001b[39mevents \u001b[38;5;129;01mis\u001b[39;00m \u001b[38;5;28;01mNone\u001b[39;00m:\n\u001b[0;32m     37\u001b[0m     \u001b[38;5;28mprint\u001b[39m(\u001b[38;5;124m\"\u001b[39m\u001b[38;5;124m⚠️ No valid sample or event data found in the EDF file.\u001b[39m\u001b[38;5;124m\"\u001b[39m)\n",
      "File \u001b[1;32mk:\\packages for python\\etformat\\etformat\\edffile.py:103\u001b[0m, in \u001b[0;36mEDFFile.__init__\u001b[1;34m(self, filename, consistency, loadevents, loadsamples, sample_fields, start_marker_string, end_marker_string, parse_events, wide_variables, trigger_marker, verbose, libpath)\u001b[0m\n\u001b[0;32m    101\u001b[0m data_type \u001b[38;5;241m=\u001b[39m \u001b[38;5;28mself\u001b[39m\u001b[38;5;241m.\u001b[39m_edfapi\u001b[38;5;241m.\u001b[39medf_get_next_data(\u001b[38;5;28mself\u001b[39m\u001b[38;5;241m.\u001b[39m_file)\n\u001b[0;32m    102\u001b[0m \u001b[38;5;28;01mwhile\u001b[39;00m data_type \u001b[38;5;241m!=\u001b[39m EDF_NO_PENDING_ITEMS:\n\u001b[1;32m--> 103\u001b[0m     allf_data_ptr \u001b[38;5;241m=\u001b[39m \u001b[38;5;28;43mself\u001b[39;49m\u001b[38;5;241;43m.\u001b[39;49m\u001b[43m_edfapi\u001b[49m\u001b[38;5;241;43m.\u001b[39;49m\u001b[43medf_get_float_data\u001b[49m\u001b[43m(\u001b[49m\u001b[38;5;28;43mself\u001b[39;49m\u001b[38;5;241;43m.\u001b[39;49m\u001b[43m_file\u001b[49m\u001b[43m)\u001b[49m\n\u001b[0;32m    104\u001b[0m     \u001b[38;5;28;01mif\u001b[39;00m data_type \u001b[38;5;129;01min\u001b[39;00m EDF_EVENT_CODES\u001b[38;5;241m.\u001b[39mkeys():\n\u001b[0;32m    105\u001b[0m         \u001b[38;5;66;03m# trial start\u001b[39;00m\n\u001b[0;32m    106\u001b[0m         \u001b[38;5;28;01mif\u001b[39;00m data_type \u001b[38;5;241m==\u001b[39m EDF_EVENTS[\u001b[38;5;124m\"\u001b[39m\u001b[38;5;124mMESSAGEEVENT\u001b[39m\u001b[38;5;124m\"\u001b[39m] \u001b[38;5;129;01mand\u001b[39;00m \\\n\u001b[0;32m    107\u001b[0m            allf_data_ptr\u001b[38;5;241m.\u001b[39mcontents\u001b[38;5;241m.\u001b[39mfe[\u001b[38;5;124m\"\u001b[39m\u001b[38;5;124mmessage\u001b[39m\u001b[38;5;124m\"\u001b[39m]\u001b[38;5;241m.\u001b[39mstartswith(start_marker_string):\n",
      "\u001b[1;31mKeyboardInterrupt\u001b[0m: "
     ]
    }
   ],
   "source": [
    "import etformat as et\n",
    "et.describe(r\"K:\\Packages for python\\etformat misc\\test.EDF\")"
   ]
  },
  {
   "cell_type": "markdown",
   "metadata": {},
   "source": []
  },
  {
   "cell_type": "markdown",
   "metadata": {},
   "source": [
    "```{warning}\n",
    "if you see an error here regarding file is because of compiler error due to jupyter-book` code works in natural environment.\n",
    "```"
   ]
  },
  {
   "cell_type": "markdown",
   "metadata": {},
   "source": [
    "if you have already exported data there are two seperate files after conversion which are `EDFfilename_events.csv` and `EDFfilename_samples.csv` which can be used to analyze data."
   ]
  },
  {
   "cell_type": "code",
   "execution_count": null,
   "metadata": {},
   "outputs": [
    {
     "data": {
      "text/html": [
       "<div>\n",
       "<style scoped>\n",
       "    .dataframe tbody tr th:only-of-type {\n",
       "        vertical-align: middle;\n",
       "    }\n",
       "\n",
       "    .dataframe tbody tr th {\n",
       "        vertical-align: top;\n",
       "    }\n",
       "\n",
       "    .dataframe thead th {\n",
       "        text-align: right;\n",
       "    }\n",
       "</style>\n",
       "<table border=\"1\" class=\"dataframe\">\n",
       "  <thead>\n",
       "    <tr style=\"text-align: right;\">\n",
       "      <th></th>\n",
       "      <th>Trial</th>\n",
       "      <th>Total Duration (ms)</th>\n",
       "      <th>Total Samples</th>\n",
       "      <th>Number of Fixations</th>\n",
       "      <th>Number of Saccades</th>\n",
       "      <th>Number of Blinks</th>\n",
       "      <th>Avg Fixation Duration (ms)</th>\n",
       "      <th>Avg Saccade Amplitude</th>\n",
       "    </tr>\n",
       "  </thead>\n",
       "  <tbody>\n",
       "    <tr>\n",
       "      <th>0</th>\n",
       "      <td>1.0</td>\n",
       "      <td>NaN</td>\n",
       "      <td>0</td>\n",
       "      <td>0</td>\n",
       "      <td>0</td>\n",
       "      <td>0</td>\n",
       "      <td>NaN</td>\n",
       "      <td>NaN</td>\n",
       "    </tr>\n",
       "    <tr>\n",
       "      <th>1</th>\n",
       "      <td>2.0</td>\n",
       "      <td>9969.0</td>\n",
       "      <td>9970</td>\n",
       "      <td>33</td>\n",
       "      <td>33</td>\n",
       "      <td>1</td>\n",
       "      <td>302.090909</td>\n",
       "      <td>1.719866</td>\n",
       "    </tr>\n",
       "    <tr>\n",
       "      <th>2</th>\n",
       "      <td>3.0</td>\n",
       "      <td>8620.0</td>\n",
       "      <td>8621</td>\n",
       "      <td>32</td>\n",
       "      <td>32</td>\n",
       "      <td>0</td>\n",
       "      <td>269.375000</td>\n",
       "      <td>1.878651</td>\n",
       "    </tr>\n",
       "    <tr>\n",
       "      <th>3</th>\n",
       "      <td>4.0</td>\n",
       "      <td>4353.0</td>\n",
       "      <td>4354</td>\n",
       "      <td>11</td>\n",
       "      <td>11</td>\n",
       "      <td>1</td>\n",
       "      <td>395.727273</td>\n",
       "      <td>2.549112</td>\n",
       "    </tr>\n",
       "    <tr>\n",
       "      <th>4</th>\n",
       "      <td>5.0</td>\n",
       "      <td>13173.0</td>\n",
       "      <td>13174</td>\n",
       "      <td>42</td>\n",
       "      <td>42</td>\n",
       "      <td>2</td>\n",
       "      <td>313.642857</td>\n",
       "      <td>2.061150</td>\n",
       "    </tr>\n",
       "    <tr>\n",
       "      <th>...</th>\n",
       "      <td>...</td>\n",
       "      <td>...</td>\n",
       "      <td>...</td>\n",
       "      <td>...</td>\n",
       "      <td>...</td>\n",
       "      <td>...</td>\n",
       "      <td>...</td>\n",
       "      <td>...</td>\n",
       "    </tr>\n",
       "    <tr>\n",
       "      <th>475</th>\n",
       "      <td>476.0</td>\n",
       "      <td>2073.0</td>\n",
       "      <td>2074</td>\n",
       "      <td>6</td>\n",
       "      <td>6</td>\n",
       "      <td>1</td>\n",
       "      <td>345.500000</td>\n",
       "      <td>2.770143</td>\n",
       "    </tr>\n",
       "    <tr>\n",
       "      <th>476</th>\n",
       "      <td>477.0</td>\n",
       "      <td>2445.0</td>\n",
       "      <td>2446</td>\n",
       "      <td>7</td>\n",
       "      <td>6</td>\n",
       "      <td>1</td>\n",
       "      <td>349.285714</td>\n",
       "      <td>2.862927</td>\n",
       "    </tr>\n",
       "    <tr>\n",
       "      <th>477</th>\n",
       "      <td>478.0</td>\n",
       "      <td>2426.0</td>\n",
       "      <td>2427</td>\n",
       "      <td>5</td>\n",
       "      <td>5</td>\n",
       "      <td>1</td>\n",
       "      <td>485.200000</td>\n",
       "      <td>3.219999</td>\n",
       "    </tr>\n",
       "    <tr>\n",
       "      <th>478</th>\n",
       "      <td>479.0</td>\n",
       "      <td>2190.0</td>\n",
       "      <td>2191</td>\n",
       "      <td>7</td>\n",
       "      <td>8</td>\n",
       "      <td>2</td>\n",
       "      <td>312.857143</td>\n",
       "      <td>2.438215</td>\n",
       "    </tr>\n",
       "    <tr>\n",
       "      <th>479</th>\n",
       "      <td>480.0</td>\n",
       "      <td>2515.0</td>\n",
       "      <td>2516</td>\n",
       "      <td>7</td>\n",
       "      <td>6</td>\n",
       "      <td>0</td>\n",
       "      <td>359.285714</td>\n",
       "      <td>2.789500</td>\n",
       "    </tr>\n",
       "  </tbody>\n",
       "</table>\n",
       "<p>480 rows × 8 columns</p>\n",
       "</div>"
      ],
      "text/plain": [
       "     Trial  Total Duration (ms)  Total Samples  Number of Fixations  \\\n",
       "0      1.0                  NaN              0                    0   \n",
       "1      2.0               9969.0           9970                   33   \n",
       "2      3.0               8620.0           8621                   32   \n",
       "3      4.0               4353.0           4354                   11   \n",
       "4      5.0              13173.0          13174                   42   \n",
       "..     ...                  ...            ...                  ...   \n",
       "475  476.0               2073.0           2074                    6   \n",
       "476  477.0               2445.0           2446                    7   \n",
       "477  478.0               2426.0           2427                    5   \n",
       "478  479.0               2190.0           2191                    7   \n",
       "479  480.0               2515.0           2516                    7   \n",
       "\n",
       "     Number of Saccades  Number of Blinks  Avg Fixation Duration (ms)  \\\n",
       "0                     0                 0                         NaN   \n",
       "1                    33                 1                  302.090909   \n",
       "2                    32                 0                  269.375000   \n",
       "3                    11                 1                  395.727273   \n",
       "4                    42                 2                  313.642857   \n",
       "..                  ...               ...                         ...   \n",
       "475                   6                 1                  345.500000   \n",
       "476                   6                 1                  349.285714   \n",
       "477                   5                 1                  485.200000   \n",
       "478                   8                 2                  312.857143   \n",
       "479                   6                 0                  359.285714   \n",
       "\n",
       "     Avg Saccade Amplitude  \n",
       "0                      NaN  \n",
       "1                 1.719866  \n",
       "2                 1.878651  \n",
       "3                 2.549112  \n",
       "4                 2.061150  \n",
       "..                     ...  \n",
       "475               2.770143  \n",
       "476               2.862927  \n",
       "477               3.219999  \n",
       "478               2.438215  \n",
       "479               2.789500  \n",
       "\n",
       "[480 rows x 8 columns]"
      ]
     },
     "execution_count": 3,
     "metadata": {},
     "output_type": "execute_result"
    }
   ],
   "source": [
    "import pandas as pd\n",
    "import etformat as et\n",
    "\n",
    "# Load CSV files\n",
    "samples = pd.read_csv(r\"K:\\Packages for python\\etformat misc\\test_samples.csv\")\n",
    "events = pd.read_csv(r\"K:\\Packages for python\\etformat misc\\test_events.csv\")\n",
    "\n",
    "# Describe all trials using the CSV DataFrames\n",
    "df = et.describe((events, samples))\n",
    "df\n",
    "\n"
   ]
  },
  {
   "cell_type": "code",
   "execution_count": 5,
   "metadata": {},
   "outputs": [
    {
     "data": {
      "text/plain": [
       "{'Trial': 3.0,\n",
       " 'Total Duration (ms)': 8620.0,\n",
       " 'Total Samples': 8621.0,\n",
       " 'Number of Fixations': 32.0,\n",
       " 'Number of Saccades': 32.0,\n",
       " 'Number of Blinks': 0.0,\n",
       " 'Avg Fixation Duration (ms)': 269.375,\n",
       " 'Avg Saccade Amplitude': 1.8786510980887818}"
      ]
     },
     "execution_count": 5,
     "metadata": {},
     "output_type": "execute_result"
    }
   ],
   "source": [
    "# Describe trial #3 using CSV\n",
    "trial_stats = et.describe((events, samples), trial_number=3)\n",
    "trial_stats"
   ]
  }
 ],
 "metadata": {
  "kernelspec": {
   "display_name": "Python 3",
   "language": "python",
   "name": "python3"
  },
  "language_info": {
   "codemirror_mode": {
    "name": "ipython",
    "version": 3
   },
   "file_extension": ".py",
   "mimetype": "text/x-python",
   "name": "python",
   "nbconvert_exporter": "python",
   "pygments_lexer": "ipython3",
   "version": "3.12.8"
  }
 },
 "nbformat": 4,
 "nbformat_minor": 2
}