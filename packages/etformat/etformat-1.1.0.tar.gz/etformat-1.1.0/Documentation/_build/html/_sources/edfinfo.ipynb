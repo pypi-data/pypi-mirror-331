{
 "cells": [
  {
   "cell_type": "markdown",
   "metadata": {},
   "source": [
    "# 🖇️ EDF Info\n",
    "## Extract Information from EDF Files"
   ]
  },
  {
   "cell_type": "markdown",
   "metadata": {},
   "source": [
    "The edfinfo() function in etformat allows users to extract detailed information from an EDF (Eye Data Format) file. It retrieves and displays essential metadata, including:\n",
    "\n",
    "- Eye-tracking sampling rate\n",
    "- Pupil measurement type\n",
    "- Recording mode and type\n",
    "- Screen resolution\n",
    "- EyeLink version and camera details\n",
    "- Calibration type and recording date\n",
    "\n",
    "This function is useful for verifying EDF file metadata before processing."
   ]
  },
  {
   "cell_type": "markdown",
   "metadata": {},
   "source": [
    "### How to use it?"
   ]
  },
  {
   "cell_type": "markdown",
   "metadata": {},
   "source": [
    "if you have not installed `etformat` yet, you can install it using the following command:\n",
    "\n",
    "```python\n",
    "!pip install etformat\n",
    "```"
   ]
  },
  {
   "cell_type": "markdown",
   "metadata": {},
   "source": [
    "if you have installed `etformat`, you can use the following code to extract information from an EDF file:"
   ]
  },
  {
   "cell_type": "code",
   "execution_count": 2,
   "metadata": {},
   "outputs": [],
   "source": [
    "import etformat as et"
   ]
  },
  {
   "cell_type": "markdown",
   "metadata": {},
   "source": [
    "To read edf file information you can use the following code:"
   ]
  },
  {
   "cell_type": "code",
   "execution_count": null,
   "metadata": {},
   "outputs": [
    {
     "name": "stdout",
     "output_type": "stream",
     "text": [
      "📄 **EDF File Information**\n",
      "==================================================\n",
      "📌 Eye Recorded      : RIGHT\n",
      "📌 Sampling Rate     : 1000.0 Hz\n",
      "📌 Pupil Measurement : DIAMETER\n",
      "📌 Recording Mode    : CR\n",
      "📌 Data Type         : SAMPLES and EVENTS\n",
      "📌 Calibration Type  : HV5\n",
      "📌 Screen Size       : 2560 x 1440 pixels\n",
      "📌 EyeLink Version   : EYELINK CL\n",
      "📌 Camera Version    : Eyelink GL Version 1.2 Sensor=AG7\n",
      "📌 Serial Number     : CLG-BID14\n",
      "📌 Recorded By       : eyetracker.py\n",
      "📌 Recording Date    : Tue Dec  3 11:27:28 2024\n",
      "==================================================\n"
     ]
    }
   ],
   "source": [
    "et.edfinfo(r\"K:\\Packages for python\\etformat misc\\test.EDF\")"
   ]
  },
  {
   "cell_type": "markdown",
   "metadata": {},
   "source": [
    "```{tip}\n",
    "\n",
    "`edfinfo` reads whole EDF file if it is not preloaded into the memory. If you have a large EDF file, it may take some time to read the whole file. In such cases, you can use the `preload` parameter to load the EDF file into memory before reading it.\n",
    "\n",
    "```"
   ]
  }
 ],
 "metadata": {
  "kernelspec": {
   "display_name": "Python 3",
   "language": "python",
   "name": "python3"
  },
  "language_info": {
   "codemirror_mode": {
    "name": "ipython",
    "version": 3
   },
   "file_extension": ".py",
   "mimetype": "text/x-python",
   "name": "python",
   "nbconvert_exporter": "python",
   "pygments_lexer": "ipython3",
   "version": "3.12.8"
  },
  "widgets": {
   "application/vnd.jupyter.widget-state+json": {
    "state": {},
    "version_major": 2,
    "version_minor": 0
   }
  }
 },
 "nbformat": 4,
 "nbformat_minor": 4
}
