{
 "cells": [
  {
   "cell_type": "markdown",
   "metadata": {},
   "source": [
    "# 🖇️ EDF Info\n",
    "## Extract Information from EDF Files"
   ]
  },
  {
   "cell_type": "markdown",
   "metadata": {},
   "source": [
    "The edfinfo() function in etformat allows users to extract detailed information from an EDF (Eye Data Format) file. It retrieves and displays essential metadata, including:\n",
    "\n",
    "- Eye-tracking sampling rate\n",
    "- Pupil measurement type\n",
    "- Recording mode and type\n",
    "- Screen resolution\n",
    "- EyeLink version and camera details\n",
    "- Calibration type and recording date\n",
    "\n",
    "This function is useful for verifying EDF file metadata before processing."
   ]
  },
  {
   "cell_type": "markdown",
   "metadata": {},
   "source": [
    "### How to use it?"
   ]
  },
  {
   "cell_type": "markdown",
   "metadata": {},
   "source": [
    "if you have not installed `etformat` yet, you can install it using the following command:\n",
    "\n",
    "```python\n",
    "!pip install etformat\n",
    "```"
   ]
  },
  {
   "cell_type": "markdown",
   "metadata": {},
   "source": [
    "if you have installed `etformat`, you can use the following code to extract information from an EDF file:"
   ]
  },
  {
   "cell_type": "code",
   "execution_count": 1,
   "metadata": {},
   "outputs": [],
   "source": [
    "import etformat as et"
   ]
  },
  {
   "cell_type": "markdown",
   "metadata": {},
   "source": [
    "To read edf file information you can use the following code:"
   ]
  },
  {
   "cell_type": "code",
   "execution_count": 2,
   "metadata": {},
   "outputs": [
    {
     "ename": "KeyboardInterrupt",
     "evalue": "",
     "output_type": "error",
     "traceback": [
      "\u001b[1;31m---------------------------------------------------------------------------\u001b[0m",
      "\u001b[1;31mKeyboardInterrupt\u001b[0m                         Traceback (most recent call last)",
      "Cell \u001b[1;32mIn[2], line 1\u001b[0m\n\u001b[1;32m----> 1\u001b[0m \u001b[43met\u001b[49m\u001b[38;5;241;43m.\u001b[39;49m\u001b[43medfinfo\u001b[49m\u001b[43m(\u001b[49m\u001b[38;5;124;43mr\u001b[39;49m\u001b[38;5;124;43m\"\u001b[39;49m\u001b[38;5;124;43mK:\u001b[39;49m\u001b[38;5;124;43m\\\u001b[39;49m\u001b[38;5;124;43mPackages for python\u001b[39;49m\u001b[38;5;124;43m\\\u001b[39;49m\u001b[38;5;124;43metformat misc\u001b[39;49m\u001b[38;5;124;43m\\\u001b[39;49m\u001b[38;5;124;43mtest.EDF\u001b[39;49m\u001b[38;5;124;43m\"\u001b[39;49m\u001b[43m)\u001b[49m\n",
      "File \u001b[1;32mk:\\packages for python\\etformat\\etformat\\edfinfo.py:29\u001b[0m, in \u001b[0;36medfinfo\u001b[1;34m(edf_file_path)\u001b[0m\n\u001b[0;32m     26\u001b[0m     \u001b[38;5;28;01mreturn\u001b[39;00m\n\u001b[0;32m     28\u001b[0m \u001b[38;5;66;03m# Load EDF file\u001b[39;00m\n\u001b[1;32m---> 29\u001b[0m edf \u001b[38;5;241m=\u001b[39m \u001b[43mEDFFile\u001b[49m\u001b[43m(\u001b[49m\u001b[43medf_file_path\u001b[49m\u001b[43m,\u001b[49m\u001b[43m \u001b[49m\u001b[43mloadevents\u001b[49m\u001b[38;5;241;43m=\u001b[39;49m\u001b[38;5;28;43;01mTrue\u001b[39;49;00m\u001b[43m,\u001b[49m\u001b[43m \u001b[49m\u001b[43mloadsamples\u001b[49m\u001b[38;5;241;43m=\u001b[39;49m\u001b[38;5;28;43;01mTrue\u001b[39;49;00m\u001b[43m)\u001b[49m\n\u001b[0;32m     31\u001b[0m \u001b[38;5;28;01mif\u001b[39;00m edf\u001b[38;5;241m.\u001b[39mrecordings\u001b[38;5;241m.\u001b[39mempty:\n\u001b[0;32m     32\u001b[0m     \u001b[38;5;28mprint\u001b[39m(\u001b[38;5;124m\"\u001b[39m\u001b[38;5;124m⚠️ No recording information found in the EDF file.\u001b[39m\u001b[38;5;124m\"\u001b[39m)\n",
      "File \u001b[1;32mk:\\packages for python\\etformat\\etformat\\edffile.py:103\u001b[0m, in \u001b[0;36mEDFFile.__init__\u001b[1;34m(self, filename, consistency, loadevents, loadsamples, sample_fields, start_marker_string, end_marker_string, parse_events, wide_variables, trigger_marker, verbose, libpath)\u001b[0m\n\u001b[0;32m    101\u001b[0m data_type \u001b[38;5;241m=\u001b[39m \u001b[38;5;28mself\u001b[39m\u001b[38;5;241m.\u001b[39m_edfapi\u001b[38;5;241m.\u001b[39medf_get_next_data(\u001b[38;5;28mself\u001b[39m\u001b[38;5;241m.\u001b[39m_file)\n\u001b[0;32m    102\u001b[0m \u001b[38;5;28;01mwhile\u001b[39;00m data_type \u001b[38;5;241m!=\u001b[39m EDF_NO_PENDING_ITEMS:\n\u001b[1;32m--> 103\u001b[0m     allf_data_ptr \u001b[38;5;241m=\u001b[39m \u001b[38;5;28;43mself\u001b[39;49m\u001b[38;5;241;43m.\u001b[39;49m\u001b[43m_edfapi\u001b[49m\u001b[38;5;241;43m.\u001b[39;49m\u001b[43medf_get_float_data\u001b[49m\u001b[43m(\u001b[49m\u001b[38;5;28;43mself\u001b[39;49m\u001b[38;5;241;43m.\u001b[39;49m\u001b[43m_file\u001b[49m\u001b[43m)\u001b[49m\n\u001b[0;32m    104\u001b[0m     \u001b[38;5;28;01mif\u001b[39;00m data_type \u001b[38;5;129;01min\u001b[39;00m EDF_EVENT_CODES\u001b[38;5;241m.\u001b[39mkeys():\n\u001b[0;32m    105\u001b[0m         \u001b[38;5;66;03m# trial start\u001b[39;00m\n\u001b[0;32m    106\u001b[0m         \u001b[38;5;28;01mif\u001b[39;00m data_type \u001b[38;5;241m==\u001b[39m EDF_EVENTS[\u001b[38;5;124m\"\u001b[39m\u001b[38;5;124mMESSAGEEVENT\u001b[39m\u001b[38;5;124m\"\u001b[39m] \u001b[38;5;129;01mand\u001b[39;00m \\\n\u001b[0;32m    107\u001b[0m            allf_data_ptr\u001b[38;5;241m.\u001b[39mcontents\u001b[38;5;241m.\u001b[39mfe[\u001b[38;5;124m\"\u001b[39m\u001b[38;5;124mmessage\u001b[39m\u001b[38;5;124m\"\u001b[39m]\u001b[38;5;241m.\u001b[39mstartswith(start_marker_string):\n",
      "\u001b[1;31mKeyboardInterrupt\u001b[0m: "
     ]
    }
   ],
   "source": [
    "et.edfinfo(r\"K:\\Packages for python\\etformat misc\\test.EDF\")"
   ]
  },
  {
   "cell_type": "markdown",
   "metadata": {},
   "source": [
    "```{tip}\n",
    "\n",
    "`edfinfo` reads whole EDF file if it is not preloaded into the memory. If you have a large EDF file, it may take some time to read the whole file. In such cases, you can use the `preload` parameter to load the EDF file into memory before reading it.\n",
    "\n",
    "```"
   ]
  }
 ],
 "metadata": {
  "kernelspec": {
   "display_name": "Python 3",
   "language": "python",
   "name": "python3"
  },
  "language_info": {
   "codemirror_mode": {
    "name": "ipython",
    "version": 3
   },
   "file_extension": ".py",
   "mimetype": "text/x-python",
   "name": "python",
   "nbconvert_exporter": "python",
   "pygments_lexer": "ipython3",
   "version": "3.12.8"
  },
  "widgets": {
   "application/vnd.jupyter.widget-state+json": {
    "state": {},
    "version_major": 2,
    "version_minor": 0
   }
  }
 },
 "nbformat": 4,
 "nbformat_minor": 4
}