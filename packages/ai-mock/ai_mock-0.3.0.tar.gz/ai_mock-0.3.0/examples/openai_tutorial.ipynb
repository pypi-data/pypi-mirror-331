{
 "cells": [
  {
   "cell_type": "code",
   "execution_count": 1,
   "metadata": {},
   "outputs": [],
   "source": [
    "# Before starting, run the faux ai server in your terminal\n",
    "# Use 'fauxai' command if installed with pip\n",
    "# Use 'poetry run fauxai' if installed with poetry"
   ]
  },
  {
   "cell_type": "code",
   "execution_count": 2,
   "metadata": {},
   "outputs": [
    {
     "name": "stdout",
     "output_type": "stream",
     "text": [
      "Hello!\n",
      "True\n"
     ]
    }
   ],
   "source": [
    "from fauxai.openai import OpenAI\n",
    "\n",
    "client = OpenAI()\n",
    "\n",
    "content = input(\"Enter a message: \")\n",
    "\n",
    "response = client.chat.completions.create(\n",
    "    messages=[{\"role\": \"user\", \"content\": content}],\n",
    "    model=\"gpt-3.5-turbo\",\n",
    ")\n",
    "\n",
    "print(response.choices[0].message.content)\n",
    "print(response.choices[0].message.content == content)"
   ]
  },
  {
   "cell_type": "code",
   "execution_count": 3,
   "metadata": {},
   "outputs": [
    {
     "name": "stdout",
     "output_type": "stream",
     "text": [
      "Name: mock_function, Type: <class 'str'>\n",
      "Arguments: {'mock_arg': 'mock_var'}, Type: <class 'dict'>\n"
     ]
    }
   ],
   "source": [
    "# Let's test out the default mock tool call\n",
    "\n",
    "response = client.chat.completions.create(\n",
    "    messages=[{\"role\": \"user\", \"content\": \"func\"}],\n",
    "    model=\"gpt-3.5-turbo\",\n",
    ")\n",
    "\n",
    "tool_call = response.choices[0].message.tool_calls[0]\n",
    "\n",
    "print(f\"Name: {tool_call.function.name}, Type: {type(tool_call.function.name)}\")\n",
    "print(\n",
    "    f\"Arguments: {tool_call.function.arguments}, Type: {type(tool_call.function.arguments)}\"\n",
    ")"
   ]
  },
  {
   "cell_type": "code",
   "execution_count": 4,
   "metadata": {},
   "outputs": [],
   "source": [
    "def send_email(sender: str, recipient: str, subject: str, body: str) -> str:\n",
    "    print(\n",
    "        f\"Sending email from '{sender}' to '{recipient}' with subject '{subject}' and body '{body}'\"\n",
    "    )\n",
    "    return \"Email sent\""
   ]
  },
  {
   "cell_type": "code",
   "execution_count": 5,
   "metadata": {},
   "outputs": [
    {
     "name": "stdout",
     "output_type": "stream",
     "text": [
      "Sending email from 'You' to 'Adam' with subject 'Status Update' and body 'I'm still working on the project'\n"
     ]
    },
    {
     "data": {
      "text/plain": [
       "'Email sent'"
      ]
     },
     "execution_count": 5,
     "metadata": {},
     "output_type": "execute_result"
    }
   ],
   "source": [
    "response = client.chat.completions.create(\n",
    "    messages=[\n",
    "        {\n",
    "            \"role\": \"user\",\n",
    "            \"content\": \"Please send Adam an email with a status update on the project\",\n",
    "        }\n",
    "    ],\n",
    "    model=\"gpt-3.5-turbo\",\n",
    ")\n",
    "\n",
    "tool_call = response.choices[0].message.tool_calls[0]\n",
    "\n",
    "send_email(**tool_call.function.arguments)"
   ]
  },
  {
   "cell_type": "code",
   "execution_count": null,
   "metadata": {},
   "outputs": [],
   "source": []
  }
 ],
 "metadata": {
  "kernelspec": {
   "display_name": ".venv",
   "language": "python",
   "name": "python3"
  },
  "language_info": {
   "codemirror_mode": {
    "name": "ipython",
    "version": 3
   },
   "file_extension": ".py",
   "mimetype": "text/x-python",
   "name": "python",
   "nbconvert_exporter": "python",
   "pygments_lexer": "ipython3",
   "version": "3.12.4"
  }
 },
 "nbformat": 4,
 "nbformat_minor": 2
}
