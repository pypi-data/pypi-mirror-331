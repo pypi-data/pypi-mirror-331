{
 "cells": [
  {
   "cell_type": "code",
   "execution_count": 1,
   "id": "initial_id",
   "metadata": {
    "ExecuteTime": {
     "end_time": "2024-11-11T01:27:18.413535Z",
     "start_time": "2024-11-11T01:27:18.383367Z"
    }
   },
   "outputs": [],
   "source": [
    "from pathlib import Path\n",
    "\n",
    "import matplotlib\n",
    "import matplotlib.pyplot as plt\n",
    "import numpy as np\n",
    "import pandas as pd\n",
    "import seaborn as sns\n",
    "\n",
    "matplotlib.rcParams.update({'font.size': 18})"
   ]
  },
  {
   "cell_type": "code",
   "execution_count": 2,
   "id": "37ffcf5e9c3772d7",
   "metadata": {
    "ExecuteTime": {
     "end_time": "2024-11-11T01:27:19.356493Z",
     "start_time": "2024-11-11T01:27:19.334962Z"
    }
   },
   "outputs": [],
   "source": [
    "scores_dir = Path(\"designed/scores\")\n",
    "combined_dir = Path(\"designed/combined\")\n",
    "max_round = 4\n",
    "nanobodies = [\"H11-D4\", \"Nb21\", \"Ty1\", \"VHH-72\"]\n",
    "score_types = [\"log_likelihood_ratio\", \"Interface_pLDDT\", \"Interface_Residue_Count\", \"Interface_Atom_Count\", \"dG_separated\", \"weighted_score\"]\n",
    "\n",
    "sns.set_style(\"white\")\n",
    "\n",
    "figure_dir = Path(\"figures/nanobody_analysis\")\n",
    "figure_dir.mkdir(parents=True, exist_ok=True)\n",
    "\n",
    "linewidth = 4\n",
    "s = 250"
   ]
  },
  {
   "cell_type": "code",
   "execution_count": null,
   "id": "d50dd30e6374ebf8",
   "metadata": {
    "ExecuteTime": {
     "end_time": "2024-11-11T01:27:26.804053Z",
     "start_time": "2024-11-11T01:27:24.246119Z"
    }
   },
   "outputs": [],
   "source": [
    "# Plot ESM scores across rounds (all top 20 designs per input nanobody sequence)\n",
    "for nanobody in nanobodies:\n",
    "    fig, ax = plt.subplots(1, 1, figsize=(8, 6))\n",
    "    ax.axvline(0, color=\"black\", linestyle=\"--\", label=\"Input Sequence\", linewidth=linewidth)\n",
    "    for round_num in range(1, max_round + 1):\n",
    "        scores_path = scores_dir / f\"round_{round_num}_scores\" / f\"{nanobody}_all.csv\"\n",
    "        scores = pd.read_csv(scores_path)\n",
    "        sns.kdeplot(data=scores, x=\"log_likelihood_ratio\", label=f\"Round {round_num}\", ax=ax, linewidth=linewidth)\n",
    "    ax.set_title(f\"{nanobody}: ESM LLR\")\n",
    "    ax.set_xlabel(\"ESM Log-Likelihood Ratio (LLR)\")\n",
    "    plt.legend()\n",
    "    plt.savefig(figure_dir / f\"{nanobody}_rounds_esm_llr.pdf\", bbox_inches=\"tight\")"
   ]
  },
  {
   "cell_type": "code",
   "execution_count": null,
   "id": "7359250c876a9cc7",
   "metadata": {
    "ExecuteTime": {
     "end_time": "2024-11-11T01:28:42.900238Z",
     "start_time": "2024-11-11T01:28:39.559961Z"
    }
   },
   "outputs": [],
   "source": [
    "# Plot AlphaFold-Multimer ipLDDT vs Rosetta dG_separated scores across rounds (top 5 from each round)\n",
    "for nanobody in nanobodies:\n",
    "    fig, ax = plt.subplots(1, 1, figsize=(8, 6))\n",
    "    for round_num in range(max_round + 1):\n",
    "        scores_path = scores_dir / f\"round_{round_num}_scores\" / f\"{nanobody}.csv\"\n",
    "        scores = pd.read_csv(scores_path)\n",
    "        kwargs = {\"label\": f\"Round {round_num}\"} if round_num > 0 else {\"label\": \"Wildtype\", \"color\": \"black\", \"marker\": \"P\", \"zorder\": 10}\n",
    "        sns.scatterplot(data=scores, x=\"Interface_pLDDT\", y=\"dG_separated\", ax=ax, s=s, **kwargs)\n",
    "    ax.invert_yaxis()\n",
    "    ax.set_title(f\"{nanobody}: RS dG vs AF ipLDDT\")\n",
    "    ax.set_xlabel(\"AlphaFold-Multimer interface pLDDT (AF ipLDDT)\")\n",
    "    ax.set_ylabel(\"Rosetta dG-separated (RS dG)\")\n",
    "    plt.legend()\n",
    "    plt.savefig(figure_dir / f\"{nanobody}_rounds_rs_dg_vs_af_iplddt.pdf\", bbox_inches=\"tight\")"
   ]
  },
  {
   "cell_type": "code",
   "execution_count": null,
   "id": "5856505093bcf83f",
   "metadata": {
    "ExecuteTime": {
     "end_time": "2024-11-11T01:28:58.788324Z",
     "start_time": "2024-11-11T01:28:56.728259Z"
    }
   },
   "outputs": [],
   "source": [
    "# Plot weighted scores of best designs across rounds\n",
    "for nanobody in nanobodies:\n",
    "    fig, ax = plt.subplots(1, 1, figsize=(8, 6))\n",
    "    for round_num in range(1, max_round + 1):\n",
    "        scores_path = scores_dir / f\"round_{round_num}_scores\" / f\"{nanobody}.csv\"\n",
    "        scores = pd.read_csv(scores_path)\n",
    "        sns.kdeplot(data=scores, x=\"weighted_score\", label=f\"Round {round_num}\", ax=ax, linewidth=linewidth)\n",
    "    ax.set_title(f\"{nanobody}: WS\")\n",
    "    ax.set_xlabel(\"Weighted Score (WS)\")\n",
    "    plt.legend()\n",
    "    plt.savefig(figure_dir / f\"{nanobody}_weighted_score.pdf\", bbox_inches=\"tight\")"
   ]
  },
  {
   "cell_type": "code",
   "execution_count": null,
   "id": "dfd4bcb2990d8a0a",
   "metadata": {
    "ExecuteTime": {
     "end_time": "2024-11-11T01:29:13.389445Z",
     "start_time": "2024-11-11T01:29:08.749308Z"
    }
   },
   "outputs": [],
   "source": [
    "# Plot best designs for each nanobody\n",
    "bins = np.linspace(0, 16, 17)\n",
    "rounds = list(range(1, max_round + 1))\n",
    "for nanobody in nanobodies:\n",
    "    scores = pd.read_csv(combined_dir / f\"{nanobody}.csv\")\n",
    "    scores[\"round_num\"] = [len(name.replace(f\"{nanobody}-\", \"\").split(\"-\")) for name in scores[\"name\"]]\n",
    "    designed = scores.iloc[:-1]\n",
    "    wildtype = scores.iloc[-1:]\n",
    "\n",
    "    # Plot ESM scores\n",
    "    fig, ax = plt.subplots(1, 1, figsize=(8, 6))\n",
    "    for round_num in rounds:\n",
    "        if round_num in designed[\"round_num\"].values:\n",
    "            plt.bar(0, 0, color=sns.color_palette(\"tab10\")[round_num - 1], label=f\"Round {round_num}\")  # Dummy bar for legend\n",
    "    sns.histplot(data=designed, x=\"log_likelihood_ratio_vs_wildtype\", bins=bins, multiple=\"stack\", hue=\"round_num\", hue_order=rounds, palette=\"tab10\", ax=ax)\n",
    "    ax.axvline(wildtype.iloc[0][\"log_likelihood_ratio_vs_wildtype\"], color=\"black\", linestyle=\"--\", label=\"Wildtype\", linewidth=linewidth)\n",
    "    ax.set_title(f\"{nanobody}: \" + r\"ESM LLR$^{\\text{WT}}$\")\n",
    "    ax.set_xlabel(r\"ESM Log-Likelihood Ratio vs Wildtype (ESM LLR$^{\\text{WT}}$)\")\n",
    "    plt.legend()\n",
    "    plt.savefig(figure_dir / f\"{nanobody}_final_esm_llr.pdf\", bbox_inches=\"tight\")\n",
    "\n",
    "    # Plot AlphaFold-Multimer ipLDDT vs Rosetta dG_separated scores\n",
    "    fig, ax = plt.subplots(1, 1, figsize=(8, 6))\n",
    "    sns.scatterplot(data=wildtype, x=\"Interface_pLDDT\", y=\"dG_separated\", label=\"Wildtype\", color=\"black\", marker=\"P\", s=s, zorder=10)\n",
    "    for round_num in range(1, max_round + 1):\n",
    "        round_scores = designed[designed[\"round_num\"] == round_num]\n",
    "        sns.scatterplot(data=round_scores, x=\"Interface_pLDDT\", y=\"dG_separated\", label=f\"Round {round_num}\", s=s, ax=ax)\n",
    "    ax.invert_yaxis()\n",
    "    ax.set_title(f\"{nanobody}: RS dG vs AF ipLDDT\")\n",
    "    ax.set_xlabel(\"AlphaFold-Multimer interface pLDDT (AF ipLDDT)\")\n",
    "    ax.set_ylabel(\"Rosetta dG-separated (RS dG)\")\n",
    "    plt.legend()\n",
    "    plt.savefig(figure_dir / f\"{nanobody}_final_rs_dg_vs_af_iplddt.pdf\", bbox_inches=\"tight\")"
   ]
  },
  {
   "cell_type": "code",
   "execution_count": null,
   "id": "e242b7dabc65c0f4",
   "metadata": {},
   "outputs": [],
   "source": []
  }
 ],
 "metadata": {
  "kernelspec": {
   "display_name": "Python 3 (ipykernel)",
   "language": "python",
   "name": "python3"
  },
  "language_info": {
   "codemirror_mode": {
    "name": "ipython",
    "version": 3
   },
   "file_extension": ".py",
   "mimetype": "text/x-python",
   "name": "python",
   "nbconvert_exporter": "python",
   "pygments_lexer": "ipython3",
   "version": "3.12.8"
  }
 },
 "nbformat": 4,
 "nbformat_minor": 5
}
