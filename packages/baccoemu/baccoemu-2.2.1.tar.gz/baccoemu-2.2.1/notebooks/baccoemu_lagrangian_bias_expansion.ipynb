{
 "cells": [
  {
   "cell_type": "markdown",
   "metadata": {},
   "source": [
    "# baccoemu for Lagrangian bias expansion model\n",
    "Download the latest version of baccoemu from:\n",
    "```\n",
    "git clone git@bitbucket.org:rangulo/baccoemu.git\n",
    "```\n",
    "Then install it\n",
    "```\n",
    "cd baccoemu\n",
    "pip install .\n",
    "```\n",
    "Now you can check it is correctly installed\n",
    "```\n",
    "python -c \"import baccoemu\"\n",
    "```\n",
    "Note that if you stay in the ```baccoemu_beta``` folder you will probably get a missing ```_version.py``` error; you can either create that file or just use baccoemu in any other folder without incurring in this problem."
   ]
  },
  {
   "cell_type": "code",
   "execution_count": 1,
   "metadata": {},
   "outputs": [
    {
     "name": "stderr",
     "output_type": "stream",
     "text": [
      "2022-07-21 10:33:51.945882: W tensorflow/stream_executor/platform/default/dso_loader.cc:64] Could not load dynamic library 'libcudart.so.11.0'; dlerror: libcudart.so.11.0: cannot open shared object file: No such file or directory\n",
      "2022-07-21 10:33:51.945898: I tensorflow/stream_executor/cuda/cudart_stub.cc:29] Ignore above cudart dlerror if you do not have a GPU set up on your machine.\n",
      "2022-07-21 10:33:52.909639: W tensorflow/stream_executor/platform/default/dso_loader.cc:64] Could not load dynamic library 'libcuda.so.1'; dlerror: libcuda.so.1: cannot open shared object file: No such file or directory\n",
      "2022-07-21 10:33:52.909661: W tensorflow/stream_executor/cuda/cuda_driver.cc:269] failed call to cuInit: UNKNOWN ERROR (303)\n",
      "2022-07-21 10:33:52.909678: I tensorflow/stream_executor/cuda/cuda_diagnostics.cc:156] kernel driver does not appear to be running on this host (pc-486): /proc/driver/nvidia/version does not exist\n"
     ]
    }
   ],
   "source": [
    "import baccoemu\n",
    "import numpy as np\n",
    "import matplotlib.pyplot as plt"
   ]
  },
  {
   "cell_type": "code",
   "execution_count": 2,
   "metadata": {},
   "outputs": [],
   "source": [
    "pars = {\n",
    "    'omega_cold' : 0.32,\n",
    "    'omega_baryon' : 0.05,\n",
    "    'hubble' : 0.67,\n",
    "    'ns' : 0.96,\n",
    "    'sigma8_cold' : 0.83,\n",
    "    'neutrino_mass' : 0.0,\n",
    "    'w0' : -1,\n",
    "    'wa' : 0,\n",
    "    'expfactor' : 1\n",
    "}"
   ]
  },
  {
   "cell_type": "markdown",
   "metadata": {},
   "source": [
    "## Use linear and smeared BAO emulators"
   ]
  },
  {
   "cell_type": "code",
   "execution_count": 3,
   "metadata": {},
   "outputs": [
    {
     "name": "stderr",
     "output_type": "stream",
     "text": [
      "2022-07-21 10:33:53.032583: I tensorflow/core/platform/cpu_feature_guard.cc:142] This TensorFlow binary is optimized with oneAPI Deep Neural Network Library (oneDNN) to use the following CPU instructions in performance-critical operations:  AVX2 FMA\n",
      "To enable them in other operations, rebuild TensorFlow with the appropriate compiler flags.\n"
     ]
    },
    {
     "name": "stdout",
     "output_type": "stream",
     "text": [
      "Loading sigma8 emulator...\n",
      "Sigma8 emulator loaded in memory.\n",
      "Loading linear emulator...\n"
     ]
    },
    {
     "name": "stderr",
     "output_type": "stream",
     "text": [
      "/home/matteozennaro/miniconda3/envs/condaenv/lib/python3.9/site-packages/sklearn/base.py:329: UserWarning: Trying to unpickle estimator PCA from version 1.0 when using version 1.1.1. This might lead to breaking code or invalid results. Use at your own risk. For more info please refer to:\n",
      "https://scikit-learn.org/stable/model_persistence.html#security-maintainability-limitations\n",
      "  warnings.warn(\n",
      "/home/matteozennaro/miniconda3/envs/condaenv/lib/python3.9/site-packages/sklearn/base.py:329: UserWarning: Trying to unpickle estimator StandardScaler from version 1.0 when using version 1.1.1. This might lead to breaking code or invalid results. Use at your own risk. For more info please refer to:\n",
      "https://scikit-learn.org/stable/model_persistence.html#security-maintainability-limitations\n",
      "  warnings.warn(\n"
     ]
    },
    {
     "name": "stdout",
     "output_type": "stream",
     "text": [
      "Linear emulator loaded in memory.\n",
      "Loading smeared bao emulator...\n",
      "Smeared bao emulator loaded in memory.\n",
      "Loading non-linear emulator...\n",
      "Nonlinear emulator loaded in memory.\n",
      "Loading Baryonic Emulator...\n",
      "Baryonic Emulator loaded in memory.\n"
     ]
    },
    {
     "name": "stderr",
     "output_type": "stream",
     "text": [
      "/home/matteozennaro/miniconda3/envs/condaenv/lib/python3.9/site-packages/sklearn/base.py:329: UserWarning: Trying to unpickle estimator StandardScaler from version 0.22.1 when using version 1.1.1. This might lead to breaking code or invalid results. Use at your own risk. For more info please refer to:\n",
      "https://scikit-learn.org/stable/model_persistence.html#security-maintainability-limitations\n",
      "  warnings.warn(\n",
      "/home/matteozennaro/miniconda3/envs/condaenv/lib/python3.9/site-packages/sklearn/base.py:329: UserWarning: Trying to unpickle estimator PCA from version 0.22.1 when using version 1.1.1. This might lead to breaking code or invalid results. Use at your own risk. For more info please refer to:\n",
      "https://scikit-learn.org/stable/model_persistence.html#security-maintainability-limitations\n",
      "  warnings.warn(\n",
      "/home/matteozennaro/miniconda3/envs/condaenv/lib/python3.9/site-packages/sklearn/base.py:329: UserWarning: Trying to unpickle estimator StandardScaler from version 0.23.2 when using version 1.1.1. This might lead to breaking code or invalid results. Use at your own risk. For more info please refer to:\n",
      "https://scikit-learn.org/stable/model_persistence.html#security-maintainability-limitations\n",
      "  warnings.warn(\n",
      "/home/matteozennaro/miniconda3/envs/condaenv/lib/python3.9/site-packages/sklearn/base.py:329: UserWarning: Trying to unpickle estimator PCA from version 0.23.2 when using version 1.1.1. This might lead to breaking code or invalid results. Use at your own risk. For more info please refer to:\n",
      "https://scikit-learn.org/stable/model_persistence.html#security-maintainability-limitations\n",
      "  warnings.warn(\n"
     ]
    }
   ],
   "source": [
    "matter = baccoemu.Matter_powerspectrum()"
   ]
  },
  {
   "cell_type": "code",
   "execution_count": 4,
   "metadata": {},
   "outputs": [
    {
     "name": "stdout",
     "output_type": "stream",
     "text": [
      "CPU times: user 4.24 ms, sys: 30 µs, total: 4.27 ms\n",
      "Wall time: 5.4 ms\n"
     ]
    }
   ],
   "source": [
    "%%time\n",
    "k_bao, pk_bao = matter.get_smeared_bao_pk(k=None, **pars)"
   ]
  },
  {
   "cell_type": "code",
   "execution_count": 5,
   "metadata": {},
   "outputs": [
    {
     "ename": "NameError",
     "evalue": "name 'k_lin' is not defined",
     "output_type": "error",
     "traceback": [
      "\u001b[0;31m---------------------------------------------------------------------------\u001b[0m",
      "\u001b[0;31mNameError\u001b[0m                                 Traceback (most recent call last)",
      "\u001b[0;32m<timed exec>\u001b[0m in \u001b[0;36m<module>\u001b[0;34m\u001b[0m\n",
      "\u001b[0;31mNameError\u001b[0m: name 'k_lin' is not defined"
     ]
    }
   ],
   "source": [
    "%%time\n",
    "k_lin, pk_lin = matter.get_linear_pk(k=k_bao, **pars)"
   ]
  },
  {
   "cell_type": "markdown",
   "metadata": {},
   "source": [
    "## Use nonlinear pk emulator"
   ]
  },
  {
   "cell_type": "code",
   "execution_count": 6,
   "metadata": {},
   "outputs": [
    {
     "name": "stdout",
     "output_type": "stream",
     "text": [
      "CPU times: user 10.2 ms, sys: 0 ns, total: 10.2 ms\n",
      "Wall time: 8.65 ms\n"
     ]
    }
   ],
   "source": [
    "%%time\n",
    "k_nl, pk_nl = matter.get_nonlinear_pk(k=None, **pars)"
   ]
  },
  {
   "cell_type": "code",
   "execution_count": 7,
   "metadata": {},
   "outputs": [
    {
     "ename": "NameError",
     "evalue": "name 'k_lin' is not defined",
     "output_type": "error",
     "traceback": [
      "\u001b[0;31m---------------------------------------------------------------------------\u001b[0m",
      "\u001b[0;31mNameError\u001b[0m                                 Traceback (most recent call last)",
      "\u001b[0;32m/tmp/ipykernel_6272/3542042635.py\u001b[0m in \u001b[0;36m<module>\u001b[0;34m\u001b[0m\n\u001b[1;32m      1\u001b[0m \u001b[0mfig\u001b[0m\u001b[0;34m,\u001b[0m \u001b[0max\u001b[0m \u001b[0;34m=\u001b[0m \u001b[0mplt\u001b[0m\u001b[0;34m.\u001b[0m\u001b[0msubplots\u001b[0m\u001b[0;34m(\u001b[0m\u001b[0;36m2\u001b[0m\u001b[0;34m,\u001b[0m \u001b[0;36m1\u001b[0m\u001b[0;34m,\u001b[0m \u001b[0mfigsize\u001b[0m\u001b[0;34m=\u001b[0m\u001b[0;34m(\u001b[0m\u001b[0;36m8\u001b[0m\u001b[0;34m,\u001b[0m \u001b[0;36m8\u001b[0m\u001b[0;34m)\u001b[0m\u001b[0;34m,\u001b[0m \u001b[0msharex\u001b[0m\u001b[0;34m=\u001b[0m\u001b[0;32mTrue\u001b[0m\u001b[0;34m,\u001b[0m \u001b[0mgridspec_kw\u001b[0m\u001b[0;34m=\u001b[0m\u001b[0;34m{\u001b[0m\u001b[0;34m'hspace'\u001b[0m \u001b[0;34m:\u001b[0m \u001b[0;36m0\u001b[0m\u001b[0;34m}\u001b[0m\u001b[0;34m)\u001b[0m\u001b[0;34m\u001b[0m\u001b[0;34m\u001b[0m\u001b[0m\n\u001b[1;32m      2\u001b[0m \u001b[0;34m\u001b[0m\u001b[0m\n\u001b[0;32m----> 3\u001b[0;31m \u001b[0max\u001b[0m\u001b[0;34m[\u001b[0m\u001b[0;36m0\u001b[0m\u001b[0;34m]\u001b[0m\u001b[0;34m.\u001b[0m\u001b[0mloglog\u001b[0m\u001b[0;34m(\u001b[0m\u001b[0mk_lin\u001b[0m\u001b[0;34m,\u001b[0m \u001b[0mpk_lin\u001b[0m\u001b[0;34m,\u001b[0m \u001b[0mlw\u001b[0m\u001b[0;34m=\u001b[0m\u001b[0;36m3\u001b[0m\u001b[0;34m,\u001b[0m \u001b[0malpha\u001b[0m\u001b[0;34m=\u001b[0m\u001b[0;36m0.5\u001b[0m\u001b[0;34m,\u001b[0m \u001b[0mlabel\u001b[0m\u001b[0;34m=\u001b[0m\u001b[0;34m'linear'\u001b[0m\u001b[0;34m)\u001b[0m\u001b[0;34m\u001b[0m\u001b[0;34m\u001b[0m\u001b[0m\n\u001b[0m\u001b[1;32m      4\u001b[0m \u001b[0max\u001b[0m\u001b[0;34m[\u001b[0m\u001b[0;36m0\u001b[0m\u001b[0;34m]\u001b[0m\u001b[0;34m.\u001b[0m\u001b[0mloglog\u001b[0m\u001b[0;34m(\u001b[0m\u001b[0mk_bao\u001b[0m\u001b[0;34m,\u001b[0m \u001b[0mpk_bao\u001b[0m\u001b[0;34m,\u001b[0m \u001b[0mlw\u001b[0m\u001b[0;34m=\u001b[0m\u001b[0;36m3\u001b[0m\u001b[0;34m,\u001b[0m \u001b[0mls\u001b[0m\u001b[0;34m=\u001b[0m\u001b[0;34m'--'\u001b[0m\u001b[0;34m,\u001b[0m \u001b[0malpha\u001b[0m\u001b[0;34m=\u001b[0m\u001b[0;36m0.5\u001b[0m\u001b[0;34m,\u001b[0m \u001b[0mlabel\u001b[0m\u001b[0;34m=\u001b[0m\u001b[0;34m'smeared BAO'\u001b[0m\u001b[0;34m)\u001b[0m\u001b[0;34m\u001b[0m\u001b[0;34m\u001b[0m\u001b[0m\n\u001b[1;32m      5\u001b[0m \u001b[0max\u001b[0m\u001b[0;34m[\u001b[0m\u001b[0;36m0\u001b[0m\u001b[0;34m]\u001b[0m\u001b[0;34m.\u001b[0m\u001b[0mloglog\u001b[0m\u001b[0;34m(\u001b[0m\u001b[0mk_nl\u001b[0m\u001b[0;34m,\u001b[0m \u001b[0mpk_nl\u001b[0m\u001b[0;34m,\u001b[0m \u001b[0mlw\u001b[0m\u001b[0;34m=\u001b[0m\u001b[0;36m3\u001b[0m\u001b[0;34m,\u001b[0m \u001b[0malpha\u001b[0m\u001b[0;34m=\u001b[0m\u001b[0;36m0.5\u001b[0m\u001b[0;34m,\u001b[0m \u001b[0mlabel\u001b[0m\u001b[0;34m=\u001b[0m\u001b[0;34m'nonlinear'\u001b[0m\u001b[0;34m)\u001b[0m\u001b[0;34m\u001b[0m\u001b[0;34m\u001b[0m\u001b[0m\n",
      "\u001b[0;31mNameError\u001b[0m: name 'k_lin' is not defined"
     ]
    },
    {
     "data": {
      "image/png": "[encoded data removed]",
      "text/plain": [
       "<Figure size 576x576 with 2 Axes>"
      ]
     },
     "metadata": {
      "needs_background": "light"
     },
     "output_type": "display_data"
    }
   ],
   "source": [
    "fig, ax = plt.subplots(2, 1, figsize=(8, 8), sharex=True, gridspec_kw={'hspace' : 0})\n",
    "\n",
    "ax[0].loglog(k_lin, pk_lin, lw=3, alpha=0.5, label='linear')\n",
    "ax[0].loglog(k_bao, pk_bao, lw=3, ls='--', alpha=0.5, label='smeared BAO')\n",
    "ax[0].loglog(k_nl, pk_nl, lw=3, alpha=0.5, label='nonlinear')\n",
    "ax[0].legend()\n",
    "\n",
    "ax[1].semilogx(k_lin, pk_lin / pk_lin, lw=3, alpha=0.5)\n",
    "ax[1].semilogx(k_lin, pk_bao / pk_lin, lw=3, alpha=0.5)\n",
    "ax[1].semilogx(k_nl, pk_nl / matter.get_linear_pk(k=k_nl, **pars)[1], lw=3, alpha=0.5)\n",
    "ax[1].set_ylim(0.95, 1.05)\n",
    "\n",
    "ax[0].set_ylabel(r'$P(k) \\,\\, [h^{-3} \\,\\, \\mathrm{Mpc}^{3}]$', fontsize=20)\n",
    "ax[1].set_ylabel(r'$P(k) / P_{\\rm lin}(k)$', fontsize=20)\n",
    "ax[1].set_xlabel(r'$k \\,\\, [h \\,\\, \\mathrm{Mpc}^{-1}]$', fontsize=20)\n",
    "\n",
    "plt.show()"
   ]
  },
  {
   "cell_type": "markdown",
   "metadata": {},
   "source": [
    "## Use Lagrangian bias terms emulator"
   ]
  },
  {
   "cell_type": "code",
   "execution_count": null,
   "metadata": {},
   "outputs": [],
   "source": [
    "lbias = baccoemu.Lbias_expansion()"
   ]
  },
  {
   "cell_type": "code",
   "execution_count": null,
   "metadata": {},
   "outputs": [],
   "source": [
    "%%time\n",
    "k, pnn = lbias.get_nonlinear_pnn(k=None, **pars)"
   ]
  },
  {
   "cell_type": "code",
   "execution_count": null,
   "metadata": {},
   "outputs": [],
   "source": [
    "%%time\n",
    "k, plpt = lbias.get_lpt_pk(k=k, **pars)"
   ]
  },
  {
   "cell_type": "code",
   "execution_count": null,
   "metadata": {},
   "outputs": [],
   "source": [
    "fig, ax = plt.subplots(1, 3, figsize=(18, 8), sharey=True, gridspec_kw={'wspace' : 0})\n",
    "\n",
    "labels = lbias.lb_term_labels\n",
    "\n",
    "for i in range(len(pnn)):\n",
    "    axi = np.int(i / 5)\n",
    "    ax[axi].loglog(k, abs(pnn[i]), lw=3, alpha=0.5, color=f'C{i}', label=labels[i])\n",
    "    ax[axi].loglog(k, abs(plpt[i]), lw=3, ls='--', alpha=0.5, color=f'C{i}')\n",
    "ax[0].set_xlabel(r'$k \\,\\, [h \\,\\, \\mathrm{Mpc}^{-1}]$', fontsize=20)\n",
    "ax[1].set_xlabel(r'$k \\,\\, [h \\,\\, \\mathrm{Mpc}^{-1}]$', fontsize=20)\n",
    "ax[2].set_xlabel(r'$k \\,\\, [h \\,\\, \\mathrm{Mpc}^{-1}]$', fontsize=20)\n",
    "ax[0].set_ylabel(r'$|P_{ij}| \\,\\, [h^{-3} \\,\\, \\mathrm{Mpc}^3]$', fontsize=20)\n",
    "_l = [plt.Line2D([], [], lw=3, ls='-', color='k', label='LPT'), plt.Line2D([], [], lw=3, ls='--', color='k', label='nonlinear')]\n",
    "_l = ax[0].legend(handles=_l, loc='lower right')\n",
    "ax[0].add_artist(_l)\n",
    "for _ax in ax:\n",
    "    _ax.legend()\n",
    "plt.show()"
   ]
  },
  {
   "cell_type": "code",
   "execution_count": null,
   "metadata": {},
   "outputs": [],
   "source": [
    "bias = [0.75, 0.25, 0.1, 1.4] # b1, b2, bs2, blaplacian"
   ]
  },
  {
   "cell_type": "code",
   "execution_count": null,
   "metadata": {},
   "outputs": [],
   "source": [
    "%%time\n",
    "kgal, pgalauto, pgalcross = lbias.get_galaxy_real_pk(bias=bias, k=None, **pars)"
   ]
  },
  {
   "cell_type": "code",
   "execution_count": null,
   "metadata": {},
   "outputs": [],
   "source": [
    "fig, ax = plt.subplots(1, 4, figsize=(15, 5), sharey=True, gridspec_kw={'wspace' : 0})\n",
    "\n",
    "bb = [np.linspace(0.3, 1.7, 5), np.linspace(-0.6, 0.6, 5), np.linspace(-0.6, 0.6, 5), np.linspace(-20, 1, 5)]\n",
    "labels = [r'$b_{1}$', r'$b_{2}$', r'$b_{s^2}$', r'$b_{\\nabla^2\\delta}$']\n",
    "\n",
    "for i, bbi in enumerate(bb):\n",
    "    for bi in bbi: \n",
    "        this_bias = np.copy(bias)\n",
    "        this_bias[i] = bi\n",
    "        res = lbias.get_galaxy_real_pk(bias=this_bias, k=None, **pars)\n",
    "        ax[i].loglog(kgal, res[1], lw=3, alpha=0.5)\n",
    "        ax[i].set_xlabel(r'$k \\,\\, [h \\,\\, \\mathrm{Mpc}^{-1}]$', fontsize=20)\n",
    "        ax[i].set_title(labels[i], fontsize=20)\n",
    "ax[0].set_ylabel(r'$P(k) \\,\\, [h^{-3} \\,\\, \\mathrm{Mpc}^3]$', fontsize=20)\n",
    "plt.show()"
   ]
  }
 ],
 "metadata": {
  "kernelspec": {
   "display_name": "Python 3",
   "language": "python",
   "name": "python3"
  },
  "language_info": {
   "codemirror_mode": {
    "name": "ipython",
    "version": 3
   },
   "file_extension": ".py",
   "mimetype": "text/x-python",
   "name": "python",
   "nbconvert_exporter": "python",
   "pygments_lexer": "ipython3",
   "version": "3.9.7"
  }
 },
 "nbformat": 4,
 "nbformat_minor": 4
}
