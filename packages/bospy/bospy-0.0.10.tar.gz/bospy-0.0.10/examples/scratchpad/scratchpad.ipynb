{
 "cells": [
  {
   "cell_type": "code",
   "execution_count": 1,
   "metadata": {},
   "outputs": [],
   "source": [
    "import bospy.bos as bos\n",
    "import time\n",
    "\n",
    "# host = \"localhost\"\n",
    "host = \"nuc\"\n",
    "\n",
    "bos.SYSMOD_ADDR = \"{}:2821\".format(host)\n",
    "bos.DEVCTRL_ADDR = \"{}:2822\".format(host)\n",
    "bos.HISTORY_ADDR = \"{}:2823\".format(host)"
   ]
  },
  {
   "cell_type": "markdown",
   "metadata": {},
   "source": [
    "### Make a new Driver"
   ]
  },
  {
   "cell_type": "code",
   "execution_count": null,
   "metadata": {},
   "outputs": [],
   "source": [
    "# driver = bos.MakeDriver('bacnet', 'bacnet', 50062)\n",
    "# print(driver)"
   ]
  },
  {
   "cell_type": "markdown",
   "metadata": {},
   "source": [
    "### Make a new device"
   ]
  },
  {
   "cell_type": "code",
   "execution_count": null,
   "metadata": {},
   "outputs": [],
   "source": [
    "# multisensor = bos.MakeDevice('delta-multisensor')\n",
    "# multisensor\n",
    "multisensor = 'bos://localhost/dev/8'"
   ]
  },
  {
   "cell_type": "markdown",
   "metadata": {},
   "source": [
    "### Create child points\n",
    "read points from list and attach to newly created device"
   ]
  },
  {
   "cell_type": "code",
   "execution_count": null,
   "metadata": {},
   "outputs": [],
   "source": [
    "import pandas as pd\n",
    "path = '/Users/jamescoleman/code/bos/services/device/drivers/bacnet/templates/delta_03_sensor.csv'\n",
    "point_list = pd.read_csv(path)\n",
    "point_list = point_list[point_list['import'].str.lower() == 'y']\n",
    "point_list"
   ]
  },
  {
   "cell_type": "code",
   "execution_count": null,
   "metadata": {},
   "outputs": [],
   "source": [
    "# points:list[str] = []\n",
    "# for i in point_list.index:\n",
    "#     row = point_list.loc[i]\n",
    "#     xref = \"bacnet://{}/{}/{},{}/{}\".format(\n",
    "#         row['ip_addr'],\n",
    "#         row['bacnet_instance'],\n",
    "#         row['object_type'],\n",
    "#         row['object_number'],\n",
    "#         row['property'],\n",
    "#     )\n",
    "#     print(row['bos_name'], row['brick_type'])\n",
    "#     print(xref)\n",
    "#     pt = bos.MakePoint(\n",
    "#         name=row['bos_name'],\n",
    "#         device=multisensor,\n",
    "#         types=row['brick_type'],\n",
    "#         xref=xref)\n",
    "#     points.append(pt)\n",
    "#     print(\"added {} ({})\".format(row['bos_name'], pt))\n",
    "\n",
    "# points"
   ]
  },
  {
   "cell_type": "code",
   "execution_count": 2,
   "metadata": {},
   "outputs": [
    {
     "name": "stdout",
     "output_type": "stream",
     "text": [
      "there are 8 devices in the system model\n",
      "the first 3 pointers are:\n",
      "\t bos://localhost/dev/1\n",
      "\t bos://localhost/dev/2\n",
      "\t bos://localhost/dev/3\n"
     ]
    }
   ],
   "source": [
    "dev = bos.QueryDevices()\n",
    "print(\"there are {} devices in the system model\".format(len(dev)))\n",
    "print(\"the first {} pointers are:\".format(3))\n",
    "for p in dev[:3]:\n",
    "    print(\"\\t\", p)"
   ]
  },
  {
   "cell_type": "code",
   "execution_count": null,
   "metadata": {},
   "outputs": [],
   "source": [
    "# bos.Delete(sub=\"bos://localhost/dev/8\")\n",
    "# bos.Delete(sub=\"bos://localhost/dev/8/pts/1\")"
   ]
  },
  {
   "cell_type": "code",
   "execution_count": null,
   "metadata": {},
   "outputs": [],
   "source": [
    "# new_dev = bos.MakeDevice(name='dummy-device')\n",
    "# print(new_dev)"
   ]
  },
  {
   "cell_type": "code",
   "execution_count": null,
   "metadata": {},
   "outputs": [],
   "source": [
    "# new_dev = \"bos://localhost/dev/8\"\n",
    "# new_pt = bos.MakePoint(name=\"first-point\", device=new_dev, types=\"brick:On_Command\")\n",
    "# print(new_pt)"
   ]
  },
  {
   "cell_type": "code",
   "execution_count": null,
   "metadata": {},
   "outputs": [],
   "source": [
    "names:dict = {}\n",
    "for p in points:\n",
    "    name = bos.GetName(p)\n",
    "    names[p] = name\n",
    "    print(name, p)"
   ]
  },
  {
   "cell_type": "code",
   "execution_count": null,
   "metadata": {},
   "outputs": [],
   "source": [
    "light_level = bos.QueryPoints(names='o3_light_level')\n",
    "light_level"
   ]
  },
  {
   "cell_type": "code",
   "execution_count": null,
   "metadata": {},
   "outputs": [],
   "source": [
    "# bos.Get(light_level)\n",
    "results = bos.Get(points[:5])\n",
    "for key in results:\n",
    "    print(names[key], results[key])"
   ]
  },
  {
   "cell_type": "code",
   "execution_count": 3,
   "metadata": {},
   "outputs": [
    {
     "data": {
      "text/plain": [
       "True"
      ]
     },
     "execution_count": 3,
     "metadata": {},
     "output_type": "execute_result"
    }
   ],
   "source": [
    "red_on = bos.QueryPoints(names='red-on')\n",
    "bos.Set(red_on, False)"
   ]
  },
  {
   "cell_type": "code",
   "execution_count": null,
   "metadata": {},
   "outputs": [],
   "source": [
    "bos.Get(bos.QueryPoints(names='co2'))"
   ]
  },
  {
   "cell_type": "code",
   "execution_count": null,
   "metadata": {},
   "outputs": [],
   "source": [
    "bos.QueryPoints()"
   ]
  },
  {
   "cell_type": "code",
   "execution_count": null,
   "metadata": {},
   "outputs": [],
   "source": [
    "fan_dev = bos.QueryDevices(names='box-fan', types='brick:Fan')\n",
    "print(fan_dev)"
   ]
  },
  {
   "cell_type": "code",
   "execution_count": null,
   "metadata": {},
   "outputs": [],
   "source": [
    "for d in dev:\n",
    "    name = bos.GetName(d)\n",
    "    print(d, name)"
   ]
  },
  {
   "cell_type": "code",
   "execution_count": null,
   "metadata": {},
   "outputs": [],
   "source": [
    "on_pts = bos.QueryPoints(types='brick:On_Command')\n",
    "print(on_pts)"
   ]
  },
  {
   "cell_type": "code",
   "execution_count": null,
   "metadata": {},
   "outputs": [],
   "source": [
    "bos.Set(on_pts, False)"
   ]
  },
  {
   "cell_type": "code",
   "execution_count": null,
   "metadata": {},
   "outputs": [],
   "source": [
    "power_pts = bos.QueryPoints(types='brick:Power_Sensor')\n",
    "print(power_pts)"
   ]
  },
  {
   "cell_type": "code",
   "execution_count": null,
   "metadata": {},
   "outputs": [],
   "source": [
    "bos.Get(power_pts)"
   ]
  },
  {
   "cell_type": "code",
   "execution_count": null,
   "metadata": {},
   "outputs": [],
   "source": [
    "pts = bos.QueryPoints()\n",
    "print(\"there are {} control points in the system model\".format(len(pts)))\n",
    "print(\"the first {} pointers are:\".format(3))\n",
    "for p in pts[:3]:\n",
    "    print(\"\\t\", p)"
   ]
  },
  {
   "cell_type": "code",
   "execution_count": null,
   "metadata": {},
   "outputs": [],
   "source": [
    "bos.QueryDevices(names='box-fan')"
   ]
  },
  {
   "cell_type": "code",
   "execution_count": null,
   "metadata": {},
   "outputs": [],
   "source": [
    "named_pts = bos.QueryPoints(names=['yellow-on', 'red-on'])\n",
    "print(\"There are {} points named 'yellow-on' or 'red-on'\".format(len(named_pts)))\n",
    "print(named_pts)"
   ]
  },
  {
   "cell_type": "code",
   "execution_count": null,
   "metadata": {},
   "outputs": [],
   "source": [
    "on_pts = bos.QueryPoints(types='brick:On_Command')\n",
    "print(\"There are {} brick:On_Command typed points\".format(len(on_pts)))\n",
    "print(on_pts)"
   ]
  },
  {
   "cell_type": "code",
   "execution_count": null,
   "metadata": {},
   "outputs": [],
   "source": [
    "on_pts = bos.QueryPoints(types='brick:On_Command', parent_types='brick:Luminaire')\n",
    "print(\"There are {} brick:On_Command typed points that belong to a brick:Luminaire \".format(len(on_pts)))\n",
    "print(on_pts)"
   ]
  },
  {
   "cell_type": "code",
   "execution_count": null,
   "metadata": {},
   "outputs": [],
   "source": [
    "statuses = bos.Get(on_pts)\n",
    "print(statuses)"
   ]
  },
  {
   "cell_type": "code",
   "execution_count": null,
   "metadata": {},
   "outputs": [],
   "source": [
    "pts = bos.QueryPoints(names=['fan-power', 'main-power'])\n",
    "print(pts)"
   ]
  },
  {
   "cell_type": "code",
   "execution_count": null,
   "metadata": {},
   "outputs": [],
   "source": [
    "bos.SetSampleRate(pts, '1m')\n"
   ]
  },
  {
   "cell_type": "code",
   "execution_count": null,
   "metadata": {},
   "outputs": [],
   "source": [
    "for p in on_pts:\n",
    "    name = bos.PointName(p)\n",
    "    print(name, \"=\", statuses[p])\n",
    "    "
   ]
  },
  {
   "cell_type": "code",
   "execution_count": null,
   "metadata": {},
   "outputs": [],
   "source": [
    "fan_on = bos.QueryPoints(names='fan-on')\n",
    "print(fan_on)"
   ]
  },
  {
   "cell_type": "code",
   "execution_count": null,
   "metadata": {},
   "outputs": [],
   "source": [
    "bos.Set(fan_on, False)"
   ]
  },
  {
   "cell_type": "code",
   "execution_count": null,
   "metadata": {},
   "outputs": [],
   "source": [
    "bos.Set(on_pts, [True, True]) # turn on all lights\n",
    "time.sleep(5)                  \n",
    "bos.Set(on_pts, False)        # turn off all lights"
   ]
  },
  {
   "cell_type": "code",
   "execution_count": null,
   "metadata": {},
   "outputs": [],
   "source": [
    "temp_pts = bos.QueryPoints(locations='lab', types='brick:Air_Temperature_Sensor')\n",
    "temps = bos.Get(temp_pts)\n",
    "for p in temp_pts:\n",
    "    name = bos.PointName(p)\n",
    "    print(name, \"=\", temps[p])\n",
    "\n",
    "mean_temp = sum(temps.values()) / len(temps)\n",
    "print(\"===\")\n",
    "print(\"mean_lab_temp = {:.1f}\".format(mean_temp) )"
   ]
  },
  {
   "cell_type": "code",
   "execution_count": null,
   "metadata": {},
   "outputs": [],
   "source": [
    "elec = bos.QueryPoints(parent_types=\"brick:Electrical_Meter\",)\n",
    "elec = elec[-4:]\n",
    "elec"
   ]
  },
  {
   "cell_type": "code",
   "execution_count": null,
   "metadata": {},
   "outputs": [],
   "source": [
    "fan_pts = bos.QueryPoints(parent_types='brick:Fan')"
   ]
  },
  {
   "cell_type": "code",
   "execution_count": null,
   "metadata": {},
   "outputs": [],
   "source": [
    "for name in [bos.PointName(pt) for pt in fan_pts]:\n",
    "    print(name)"
   ]
  },
  {
   "cell_type": "code",
   "execution_count": null,
   "metadata": {},
   "outputs": [],
   "source": [
    "fan_power = bos.QueryPoints(names='fan-power')\n",
    "print(fan_power)\n",
    "bos.Get(fan_power)\n"
   ]
  },
  {
   "cell_type": "code",
   "execution_count": null,
   "metadata": {},
   "outputs": [],
   "source": [
    "fan_on = bos.QueryPoints(names='fan-on')\n",
    "print(fan_on)\n",
    "bos.Get(fan_on)"
   ]
  },
  {
   "cell_type": "code",
   "execution_count": null,
   "metadata": {},
   "outputs": [],
   "source": [
    "bos.Set(fan_on, False)"
   ]
  },
  {
   "cell_type": "code",
   "execution_count": null,
   "metadata": {},
   "outputs": [],
   "source": [
    "results = bos.Get(elec)\n",
    "for k, v in results.items():\n",
    "    print(k,v)"
   ]
  },
  {
   "cell_type": "code",
   "execution_count": null,
   "metadata": {},
   "outputs": [],
   "source": [
    "\n",
    "fan_on = bos.QueryPoints(types='brick:On_Command', parent_types='brick:Fan')\n",
    "print(fan_on)\n",
    "bos.Set(fan_on, False)\n",
    "\n",
    "\n",
    "\n",
    "\n",
    "\n",
    "\n",
    "\n",
    "\n",
    "\n",
    "\n"
   ]
  },
  {
   "cell_type": "code",
   "execution_count": null,
   "metadata": {},
   "outputs": [],
   "source": []
  },
  {
   "cell_type": "code",
   "execution_count": null,
   "metadata": {},
   "outputs": [],
   "source": [
    "df = bos.GetHistory(temp_pts,\n",
    "                    start='2025-01-27 00:00:00-05',\n",
    "                    end=  '2025-01-28 00:00:00-05', tz='US/Eastern',\n",
    "                    pandas=True, resample_to='5min', get_names=True)\n",
    "df"
   ]
  },
  {
   "cell_type": "code",
   "execution_count": null,
   "metadata": {},
   "outputs": [],
   "source": [
    "df.plot()"
   ]
  },
  {
   "cell_type": "code",
   "execution_count": null,
   "metadata": {},
   "outputs": [],
   "source": [
    "for p, v in values.items():\n",
    "    name = bos.PointName(p)\n",
    "    print(name, \"=\", v)"
   ]
  },
  {
   "cell_type": "code",
   "execution_count": null,
   "metadata": {},
   "outputs": [],
   "source": []
  },
  {
   "cell_type": "code",
   "execution_count": null,
   "metadata": {},
   "outputs": [],
   "source": [
    "bos.Set(named_pts, False)"
   ]
  },
  {
   "cell_type": "code",
   "execution_count": null,
   "metadata": {},
   "outputs": [],
   "source": [
    "bos.Get(named_pts)"
   ]
  },
  {
   "cell_type": "code",
   "execution_count": null,
   "metadata": {},
   "outputs": [],
   "source": [
    "\n",
    "\n",
    "\n",
    "\n",
    "\n",
    "\n",
    "\n",
    "\n",
    "\n"
   ]
  },
  {
   "cell_type": "code",
   "execution_count": null,
   "metadata": {},
   "outputs": [],
   "source": [
    "\n",
    "pt_name = bos.PointToName(pts[0])\n",
    "print('\"{}\" is accessed via <{}>'.format(pt_name, pts[0]))"
   ]
  },
  {
   "cell_type": "code",
   "execution_count": null,
   "metadata": {},
   "outputs": [],
   "source": [
    "pts = bos.QueryPoints(\n",
    "    parent_types='brick:Thermostat')\n",
    "print(len(pts))\n",
    "pts"
   ]
  },
  {
   "cell_type": "code",
   "execution_count": null,
   "metadata": {},
   "outputs": [],
   "source": [
    "pts = bos.QueryPoints(\n",
    "    types='brick:On_Command',\n",
    "    parent_types='brick:Luminaire')\n",
    "print(len(pts))\n",
    "pts"
   ]
  },
  {
   "cell_type": "code",
   "execution_count": null,
   "metadata": {},
   "outputs": [],
   "source": [
    "pts = bos.QueryPoints(\n",
    "    types='brick:On_Command',\n",
    "    parent_types='brick:Fan')\n",
    "print(len(pts))\n",
    "pts"
   ]
  },
  {
   "cell_type": "code",
   "execution_count": null,
   "metadata": {},
   "outputs": [],
   "source": [
    "bos.Set(pts, False)"
   ]
  },
  {
   "cell_type": "code",
   "execution_count": null,
   "metadata": {},
   "outputs": [],
   "source": [
    "pts = bos.QueryPoints(\n",
    "    types='brick:Power_Sensor',\n",
    "    parent_types='brick:Luminaire')\n",
    "print(len(pts))\n",
    "pts"
   ]
  },
  {
   "cell_type": "code",
   "execution_count": null,
   "metadata": {},
   "outputs": [],
   "source": [
    "powerPts = bos.QueryPoints(\n",
    "    types='brick:Power_Sensor')\n",
    "powerPts"
   ]
  },
  {
   "cell_type": "code",
   "execution_count": null,
   "metadata": {},
   "outputs": [],
   "source": [
    "all_on_pts = bos.QueryPoints(types='brick:On_Command')\n",
    "resp = bos.Set(all_on_pts, False)"
   ]
  },
  {
   "cell_type": "code",
   "execution_count": null,
   "metadata": {},
   "outputs": [],
   "source": [
    "resp = bos.Set(all_on_pts, True)\n",
    "print(resp)\n",
    "time.sleep(5)\n",
    "values = bos.Get(powerPts)\n",
    "for k, v in values.items():\n",
    "    print(k,v )"
   ]
  },
  {
   "cell_type": "code",
   "execution_count": null,
   "metadata": {},
   "outputs": [],
   "source": [
    "\n",
    "names = {pt: bos.PointToName(pt) for pt in powerPts}\n",
    "for pt in powerPts:\n",
    "    print(\"{} = {}\".format(names[pt], values[pt]))"
   ]
  },
  {
   "cell_type": "code",
   "execution_count": null,
   "metadata": {},
   "outputs": [],
   "source": [
    "\n",
    "bos.Set(all_on_pts, False)"
   ]
  },
  {
   "cell_type": "code",
   "execution_count": null,
   "metadata": {},
   "outputs": [],
   "source": [
    "bos.Get(pts)"
   ]
  },
  {
   "cell_type": "code",
   "execution_count": null,
   "metadata": {},
   "outputs": [],
   "source": [
    "pts = bos.QueryPoints()\n",
    "pts = sorted(pts)\n",
    "for i, point in enumerate(pts):\n",
    "    name = bos.PointToName(point)\n",
    "    value = bos.Get(point)\n",
    "    print(\"{} = {}\".format(point, name))"
   ]
  },
  {
   "cell_type": "code",
   "execution_count": null,
   "metadata": {},
   "outputs": [],
   "source": [
    "pts = bos.QueryPoints()\n",
    "pts = sorted(pts)\n",
    "for i, point in enumerate(pts):\n",
    "    name = bos.PointToName(point)\n",
    "    value = bos.Get(point)\n",
    "    print(\"({}) {} = {}\".format(point, name, value[point]))"
   ]
  },
  {
   "cell_type": "code",
   "execution_count": null,
   "metadata": {},
   "outputs": [],
   "source": [
    "pts = bos.QueryPoints()\n",
    "print(len(pts))"
   ]
  },
  {
   "cell_type": "code",
   "execution_count": null,
   "metadata": {},
   "outputs": [],
   "source": [
    "bos.SetSampleRate(pts, '5m')"
   ]
  },
  {
   "cell_type": "code",
   "execution_count": null,
   "metadata": {},
   "outputs": [],
   "source": [
    "onPt = bos.NameToPoint('on')\n",
    "bos.Set(onPt, False)"
   ]
  },
  {
   "cell_type": "code",
   "execution_count": null,
   "metadata": {},
   "outputs": [],
   "source": [
    "power = bos.NameToPoint('power')\n",
    "V = bos.Get(power)\n",
    "print(\"using {} watts\".format(V[power]))\n",
    "bos.Set(onPt, False)"
   ]
  },
  {
   "cell_type": "code",
   "execution_count": null,
   "metadata": {},
   "outputs": [],
   "source": [
    "names = [(p, bos.PointToName(p)) for p in pts]\n",
    "for n in names:\n",
    "    print(n)"
   ]
  },
  {
   "cell_type": "code",
   "execution_count": null,
   "metadata": {},
   "outputs": [],
   "source": [
    "bos.Set(onPt, False)"
   ]
  },
  {
   "cell_type": "code",
   "execution_count": null,
   "metadata": {},
   "outputs": [],
   "source": [
    "powerPt = bos.NameToPoint(\"power\")\n",
    "bos.Get(powerPt)"
   ]
  },
  {
   "cell_type": "code",
   "execution_count": null,
   "metadata": {},
   "outputs": [],
   "source": [
    "air_temp_1 = bos.NameToPoint(\"air_temp\")\n",
    "air_temp_2 = bos.NameToPoint(\"air_temp_east\")\n",
    "air_temp_3 = bos.NameToPoint(\"air_temp_west\")\n",
    "air_temps = [air_temp_1, air_temp_2, air_temp_3]\n",
    "print(air_temps)"
   ]
  },
  {
   "cell_type": "code",
   "execution_count": null,
   "metadata": {},
   "outputs": [],
   "source": [
    "air_temps = bos.QueryPoints(types='brick:Air_Temperature_Sensor',\n",
    "                            parent_types='brick:Thermostat')\n",
    "print(air_temps)"
   ]
  },
  {
   "cell_type": "code",
   "execution_count": null,
   "metadata": {},
   "outputs": [],
   "source": [
    "df = bos.GetHistory(air_temps,\n",
    "                    start='2025-01-26 00:00:00-05',\n",
    "                    end='2025-01-27 00:00:00-05', tz='US/Eastern',\n",
    "                    pandas=True, resample_to='5min', get_names=True)\n",
    "df"
   ]
  },
  {
   "cell_type": "code",
   "execution_count": null,
   "metadata": {},
   "outputs": [],
   "source": [
    "df.plot()"
   ]
  },
  {
   "cell_type": "code",
   "execution_count": null,
   "metadata": {},
   "outputs": [],
   "source": [
    "import numpy as np\n",
    "# TODO get all the power readings\n",
    "power_vector = np.array(list(power_readings.values()))\n",
    "\n",
    "avg_power = power_vector.mean()\n",
    "total_power = power_vector.sum()\n",
    "\n",
    "print(\"the total power draw is {:.1f} W and the average of {} devices is {:.1f} W\".format(\n",
    "    total_power, len(power_vector), avg_power\n",
    "))"
   ]
  },
  {
   "cell_type": "code",
   "execution_count": null,
   "metadata": {},
   "outputs": [],
   "source": [
    "bos.GetHistory(pts)"
   ]
  },
  {
   "cell_type": "code",
   "execution_count": null,
   "metadata": {},
   "outputs": [],
   "source": [
    "bos.Set(pts, False)"
   ]
  },
  {
   "cell_type": "code",
   "execution_count": null,
   "metadata": {},
   "outputs": [],
   "source": [
    "pt = bos.NameToPoint('air_temp_setpoint')\n",
    "v = bos.Get(pt)\n",
    "print(pt, v)"
   ]
  },
  {
   "cell_type": "code",
   "execution_count": null,
   "metadata": {},
   "outputs": [],
   "source": [
    "import time\n",
    "# get the point named \"on\", then turn it on\n",
    "onPt = bos.NameToPoint('on')\n",
    "ok = bos.Set(onPt, True)\n",
    "\n",
    "# what 4 seconds for the power measurement to be accurate\n",
    "time.sleep(4)\n",
    "\n",
    "# get the point named power, then read it\n",
    "powerPt = bos.NameToPoint('power')\n",
    "power_draw = bos.Get(powerPt)[powerPt]\n",
    "\n",
    "# set the point to off\n",
    "onPt = bos.Set(onPt, False)\n",
    "print(ok)\n",
    "\n",
    "print(\"While on the bulb draws {} watts\".format(power_draw))"
   ]
  },
  {
   "cell_type": "code",
   "execution_count": null,
   "metadata": {},
   "outputs": [],
   "source": [
    "v = bos.Get(pt)\n",
    "v[pt]"
   ]
  },
  {
   "cell_type": "code",
   "execution_count": null,
   "metadata": {},
   "outputs": [],
   "source": []
  }
 ],
 "metadata": {
  "kernelspec": {
   "display_name": "bos",
   "language": "python",
   "name": "python3"
  },
  "language_info": {
   "codemirror_mode": {
    "name": "ipython",
    "version": 3
   },
   "file_extension": ".py",
   "mimetype": "text/x-python",
   "name": "python",
   "nbconvert_exporter": "python",
   "pygments_lexer": "ipython3",
   "version": "3.12.4"
  }
 },
 "nbformat": 4,
 "nbformat_minor": 2
}
