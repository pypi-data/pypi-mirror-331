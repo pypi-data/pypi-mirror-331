{
 "cells": [
  {
   "cell_type": "markdown",
   "id": "63ce0734-aad1-48c2-948c-f6ad0606132f",
   "metadata": {},
   "source": [
    "## Run a pipeline using dask and threads"
   ]
  },
  {
   "cell_type": "markdown",
   "id": "cdbd6fb8-f668-4a18-bbb7-f92a3bdf2172",
   "metadata": {},
   "source": [
    "This process will run the entire pipeline described in a configuration file using dask and threads"
   ]
  },
  {
   "cell_type": "markdown",
   "id": "118c14ec-8c74-4341-99b9-4099862de1f7",
   "metadata": {},
   "source": [
    "## Import dependencies"
   ]
  },
  {
   "cell_type": "code",
   "execution_count": 1,
   "id": "f00299ae-1140-494b-99be-9fa8867c0ac8",
   "metadata": {
    "execution": {
     "iopub.execute_input": "2025-03-06T10:28:53.351876Z",
     "iopub.status.busy": "2025-03-06T10:28:53.351616Z",
     "iopub.status.idle": "2025-03-06T10:28:55.935253Z",
     "shell.execute_reply": "2025-03-06T10:28:55.934388Z"
    }
   },
   "outputs": [],
   "source": [
    "%load_ext autoreload\n",
    "%autoreload 2\n",
    "from paidiverpy.pipeline import Pipeline"
   ]
  },
  {
   "cell_type": "markdown",
   "id": "89f47537-0ef2-473e-b7f7-a572cebce86b",
   "metadata": {},
   "source": [
    "## Instantiate the Pipeline class"
   ]
  },
  {
   "cell_type": "markdown",
   "id": "29c5be66-c950-4ea3-9448-b7618e0ea52a",
   "metadata": {},
   "source": [
    "This pipeline will process the dataset using dask and threads. In this case, as \"n_jobs: -1\", it will use all the processors that I have on my machine."
   ]
  },
  {
   "cell_type": "code",
   "execution_count": 2,
   "id": "46f413c1-b9a5-4dc1-a27d-9cba7f9c745c",
   "metadata": {
    "execution": {
     "iopub.execute_input": "2025-03-06T10:28:55.939165Z",
     "iopub.status.busy": "2025-03-06T10:28:55.938635Z",
     "iopub.status.idle": "2025-03-06T10:28:56.047004Z",
     "shell.execute_reply": "2025-03-06T10:28:56.045994Z"
    }
   },
   "outputs": [],
   "source": [
    "pipeline = Pipeline(config_file_path=\"../config_files/config_benthic_dask.yml\", verbose=2)"
   ]
  },
  {
   "cell_type": "code",
   "execution_count": 3,
   "id": "491bd5dd-5462-4905-8a62-7e57e83aacc6",
   "metadata": {
    "execution": {
     "iopub.execute_input": "2025-03-06T10:28:56.050975Z",
     "iopub.status.busy": "2025-03-06T10:28:56.050751Z",
     "iopub.status.idle": "2025-03-06T10:28:56.081214Z",
     "shell.execute_reply": "2025-03-06T10:28:56.080661Z"
    }
   },
   "outputs": [
    {
     "data": {
      "text/plain": [
       "{\n",
       "    \"general\": {\n",
       "        \"name\": \"raw\",\n",
       "        \"step_name\": \"open\",\n",
       "        \"sample_data\": \"benthic_csv\",\n",
       "        \"input_path\": \"/home/tobfer/.paidiverpy_cache/benthic_csv/images\",\n",
       "        \"metadata_path\": \"/home/tobfer/.paidiverpy_cache/benthic_csv/metadata/metadata_benthic_csv.csv\",\n",
       "        \"metadata_type\": \"CSV_FILE\",\n",
       "        \"image_type\": \"PNG\",\n",
       "        \"append_data_to_metadata\": \"/home/tobfer/.paidiverpy_cache/benthic_csv/metadata/appended_metadata_benthic_csv.csv\",\n",
       "        \"is_remote\": false,\n",
       "        \"output_is_remote\": false,\n",
       "        \"output_path\": \"output\",\n",
       "        \"n_jobs\": -1,\n",
       "        \"client\": null,\n",
       "        \"track_changes\": true,\n",
       "        \"rename\": null,\n",
       "        \"sampling\": [\n",
       "            {\n",
       "                \"name\": \"sampling\",\n",
       "                \"step_name\": \"sampling\",\n",
       "                \"mode\": \"fixed\",\n",
       "                \"test\": false,\n",
       "                \"params\": {\n",
       "                    \"value\": 20,\n",
       "                    \"raise_error\": false\n",
       "                }\n",
       "            }\n",
       "        ],\n",
       "        \"convert\": [\n",
       "            {\n",
       "                \"name\": \"convert\",\n",
       "                \"step_name\": \"convert\",\n",
       "                \"mode\": \"bits\",\n",
       "                \"test\": false,\n",
       "                \"params\": {\n",
       "                    \"output_bits\": 8,\n",
       "                    \"raise_error\": false\n",
       "                }\n",
       "            }\n",
       "        ]\n",
       "    },\n",
       "    \"steps\": [\n",
       "        {\n",
       "            \"name\": \"datetime\",\n",
       "            \"step_name\": \"sampling\",\n",
       "            \"mode\": \"datetime\",\n",
       "            \"test\": false,\n",
       "            \"params\": {\n",
       "                \"min\": \"2018-06-11 04:14:00\",\n",
       "                \"max\": \"2018-06-11 04:20:00\",\n",
       "                \"raise_error\": false\n",
       "            }\n",
       "        },\n",
       "        {\n",
       "            \"name\": \"overlapping\",\n",
       "            \"step_name\": \"sampling\",\n",
       "            \"mode\": \"overlapping\",\n",
       "            \"test\": false,\n",
       "            \"params\": {\n",
       "                \"omega\": 57,\n",
       "                \"theta\": 40,\n",
       "                \"threshold\": 0.5,\n",
       "                \"camera_distance\": 1.12,\n",
       "                \"raise_error\": false\n",
       "            }\n",
       "        },\n",
       "        {\n",
       "            \"name\": \"colour_alteration\",\n",
       "            \"step_name\": \"colour\",\n",
       "            \"mode\": \"colour_alteration\",\n",
       "            \"test\": false,\n",
       "            \"params\": {\n",
       "                \"method\": \"white_balance\",\n",
       "                \"raise_error\": false\n",
       "            }\n",
       "        },\n",
       "        {\n",
       "            \"name\": \"gaussian_blur\",\n",
       "            \"step_name\": \"colour\",\n",
       "            \"mode\": \"gaussian_blur\",\n",
       "            \"test\": false,\n",
       "            \"params\": {\n",
       "                \"sigma\": 1.0,\n",
       "                \"raise_error\": false\n",
       "            }\n",
       "        },\n",
       "        {\n",
       "            \"name\": \"sharpen\",\n",
       "            \"step_name\": \"colour\",\n",
       "            \"mode\": \"sharpen\",\n",
       "            \"test\": false,\n",
       "            \"params\": {\n",
       "                \"alpha\": 1.5,\n",
       "                \"beta\": -0.5,\n",
       "                \"raise_error\": false\n",
       "            }\n",
       "        },\n",
       "        {\n",
       "            \"name\": \"contrast\",\n",
       "            \"step_name\": \"colour\",\n",
       "            \"mode\": \"contrast\",\n",
       "            \"test\": false\n",
       "        }\n",
       "    ]\n",
       "}"
      ]
     },
     "execution_count": 3,
     "metadata": {},
     "output_type": "execute_result"
    }
   ],
   "source": [
    "pipeline.config"
   ]
  },
  {
   "cell_type": "code",
   "execution_count": 4,
   "id": "310d8998-6ac7-4db4-a706-50270b6895ee",
   "metadata": {
    "execution": {
     "iopub.execute_input": "2025-03-06T10:28:56.084138Z",
     "iopub.status.busy": "2025-03-06T10:28:56.083916Z",
     "iopub.status.idle": "2025-03-06T10:28:56.110486Z",
     "shell.execute_reply": "2025-03-06T10:28:56.109728Z"
    }
   },
   "outputs": [
    {
     "data": {
      "text/html": [
       "\n",
       "        <div style=\"display: flex; flex-wrap: wrap; align-items: center;\">\n",
       "            \n",
       "        <div id=\"general\" title=\"Click to see more information\" class=\"square\"\n",
       "            style=\"float:left; cursor: pointer; padding: 10px;\n",
       "            width: max-content; height: 80px; margin: 10px;\n",
       "            border: 1px solid #000; text-align: center; line-height: 80px;\"\n",
       "            onclick=\"showParameters('general')\">\n",
       "            <h2 style=\"font-size:20px;\">Raw</h2>\n",
       "            <h2 style=\"font-size:13px;\">Type: Open</h2>\n",
       "        </div>\n",
       "        <div style=\"float:left; width: 50px; height: 80px; margin: 10px; text-align: center; line-height: 80px;\">&#10132;</div>\n",
       "                <div id=\"step_0\" title=\"Click to see more information\"\n",
       "                    class=\"square\" style=\"cursor: pointer; float:left;\n",
       "                    padding: 10px; width: max-content; height: 80px;\n",
       "                    margin: 10px; border: 1px solid #000; text-align: center;\n",
       "                    line-height: 80px;\" onclick=\"showParameters('step_0')\">\n",
       "                    <h2 style=\"font-size:20px;\">Datetime</h2>\n",
       "                    <h2 style=\"font-size:13px;\">Type: Sampling</h2>\n",
       "                </div>\n",
       "            \n",
       "                    <div style=\"float:left; width: 50px; height: 80px;\n",
       "                        margin: 10px; text-align: center; line-height: 80px;\">\n",
       "                        &#10132;\n",
       "                    </div>\n",
       "                \n",
       "                <div id=\"step_1\" title=\"Click to see more information\"\n",
       "                    class=\"square\" style=\"cursor: pointer; float:left;\n",
       "                    padding: 10px; width: max-content; height: 80px;\n",
       "                    margin: 10px; border: 1px solid #000; text-align: center;\n",
       "                    line-height: 80px;\" onclick=\"showParameters('step_1')\">\n",
       "                    <h2 style=\"font-size:20px;\">Overlapping</h2>\n",
       "                    <h2 style=\"font-size:13px;\">Type: Sampling</h2>\n",
       "                </div>\n",
       "            \n",
       "                    <div style=\"float:left; width: 50px; height: 80px;\n",
       "                        margin: 10px; text-align: center; line-height: 80px;\">\n",
       "                        &#10132;\n",
       "                    </div>\n",
       "                \n",
       "                <div id=\"step_2\" title=\"Click to see more information\"\n",
       "                    class=\"square\" style=\"cursor: pointer; float:left;\n",
       "                    padding: 10px; width: max-content; height: 80px;\n",
       "                    margin: 10px; border: 1px solid #000; text-align: center;\n",
       "                    line-height: 80px;\" onclick=\"showParameters('step_2')\">\n",
       "                    <h2 style=\"font-size:20px;\">Colour_alteration</h2>\n",
       "                    <h2 style=\"font-size:13px;\">Type: Colour</h2>\n",
       "                </div>\n",
       "            \n",
       "                    <div style=\"float:left; width: 50px; height: 80px;\n",
       "                        margin: 10px; text-align: center; line-height: 80px;\">\n",
       "                        &#10132;\n",
       "                    </div>\n",
       "                \n",
       "                <div id=\"step_3\" title=\"Click to see more information\"\n",
       "                    class=\"square\" style=\"cursor: pointer; float:left;\n",
       "                    padding: 10px; width: max-content; height: 80px;\n",
       "                    margin: 10px; border: 1px solid #000; text-align: center;\n",
       "                    line-height: 80px;\" onclick=\"showParameters('step_3')\">\n",
       "                    <h2 style=\"font-size:20px;\">Gaussian_blur</h2>\n",
       "                    <h2 style=\"font-size:13px;\">Type: Colour</h2>\n",
       "                </div>\n",
       "            \n",
       "                    <div style=\"float:left; width: 50px; height: 80px;\n",
       "                        margin: 10px; text-align: center; line-height: 80px;\">\n",
       "                        &#10132;\n",
       "                    </div>\n",
       "                <div style=\"clear:both;\"></div>\n",
       "                <div id=\"step_4\" title=\"Click to see more information\"\n",
       "                    class=\"square\" style=\"cursor: pointer; float:left;\n",
       "                    padding: 10px; width: max-content; height: 80px;\n",
       "                    margin: 10px; border: 1px solid #000; text-align: center;\n",
       "                    line-height: 80px;\" onclick=\"showParameters('step_4')\">\n",
       "                    <h2 style=\"font-size:20px;\">Sharpen</h2>\n",
       "                    <h2 style=\"font-size:13px;\">Type: Colour</h2>\n",
       "                </div>\n",
       "            \n",
       "                    <div style=\"float:left; width: 50px; height: 80px;\n",
       "                        margin: 10px; text-align: center; line-height: 80px;\">\n",
       "                        &#10132;\n",
       "                    </div>\n",
       "                \n",
       "                <div id=\"step_5\" title=\"Click to see more information\"\n",
       "                    class=\"square\" style=\"cursor: pointer; float:left;\n",
       "                    padding: 10px; width: max-content; height: 80px;\n",
       "                    margin: 10px; border: 1px solid #000; text-align: center;\n",
       "                    line-height: 80px;\" onclick=\"showParameters('step_5')\">\n",
       "                    <h2 style=\"font-size:20px;\">Contrast</h2>\n",
       "                    <h2 style=\"font-size:13px;\">Type: Colour</h2>\n",
       "                </div>\n",
       "            \n",
       "        </div>\n",
       "        <div id=\"parameters\" style=\"padding: 10px; margin: 10px;\">\n",
       "                <div id=\"parameters_step_0\" class=\"parameters\"\n",
       "                    style=\"display: none;\">\n",
       "                    <pre>{\n",
       "    \"name\": \"datetime\",\n",
       "    \"step_name\": \"sampling\",\n",
       "    \"mode\": \"datetime\",\n",
       "    \"test\": false,\n",
       "    \"params\": {\n",
       "        \"min\": \"2018-06-11 04:14:00\",\n",
       "        \"max\": \"2018-06-11 04:20:00\",\n",
       "        \"raise_error\": false\n",
       "    }\n",
       "}</pre>\n",
       "                </div>\n",
       "            \n",
       "                <div id=\"parameters_step_1\" class=\"parameters\"\n",
       "                    style=\"display: none;\">\n",
       "                    <pre>{\n",
       "    \"name\": \"overlapping\",\n",
       "    \"step_name\": \"sampling\",\n",
       "    \"mode\": \"overlapping\",\n",
       "    \"test\": false,\n",
       "    \"params\": {\n",
       "        \"omega\": 57,\n",
       "        \"theta\": 40,\n",
       "        \"threshold\": 0.5,\n",
       "        \"camera_distance\": 1.12,\n",
       "        \"raise_error\": false\n",
       "    }\n",
       "}</pre>\n",
       "                </div>\n",
       "            \n",
       "                <div id=\"parameters_step_2\" class=\"parameters\"\n",
       "                    style=\"display: none;\">\n",
       "                    <pre>{\n",
       "    \"name\": \"colour_alteration\",\n",
       "    \"step_name\": \"colour\",\n",
       "    \"mode\": \"colour_alteration\",\n",
       "    \"test\": false,\n",
       "    \"params\": {\n",
       "        \"method\": \"white_balance\",\n",
       "        \"raise_error\": false\n",
       "    }\n",
       "}</pre>\n",
       "                </div>\n",
       "            \n",
       "                <div id=\"parameters_step_3\" class=\"parameters\"\n",
       "                    style=\"display: none;\">\n",
       "                    <pre>{\n",
       "    \"name\": \"gaussian_blur\",\n",
       "    \"step_name\": \"colour\",\n",
       "    \"mode\": \"gaussian_blur\",\n",
       "    \"test\": false,\n",
       "    \"params\": {\n",
       "        \"sigma\": 1.0,\n",
       "        \"raise_error\": false\n",
       "    }\n",
       "}</pre>\n",
       "                </div>\n",
       "            \n",
       "                <div id=\"parameters_step_4\" class=\"parameters\"\n",
       "                    style=\"display: none;\">\n",
       "                    <pre>{\n",
       "    \"name\": \"sharpen\",\n",
       "    \"step_name\": \"colour\",\n",
       "    \"mode\": \"sharpen\",\n",
       "    \"test\": false,\n",
       "    \"params\": {\n",
       "        \"alpha\": 1.5,\n",
       "        \"beta\": -0.5,\n",
       "        \"raise_error\": false\n",
       "    }\n",
       "}</pre>\n",
       "                </div>\n",
       "            \n",
       "                <div id=\"parameters_step_5\" class=\"parameters\"\n",
       "                    style=\"display: none;\">\n",
       "                    <pre>{\n",
       "    \"name\": \"contrast\",\n",
       "    \"step_name\": \"colour\",\n",
       "    \"mode\": \"contrast\",\n",
       "    \"test\": false\n",
       "}</pre>\n",
       "                </div>\n",
       "            \n",
       "            <div id=\"parameters_general\" class=\"parameters\" style=\"display: none;\">\n",
       "                <pre>{\n",
       "    \"name\": \"raw\",\n",
       "    \"step_name\": \"open\",\n",
       "    \"sample_data\": \"benthic_csv\",\n",
       "    \"input_path\": \"/home/tobfer/.paidiverpy_cache/benthic_csv/images\",\n",
       "    \"metadata_path\": \"/home/tobfer/.paidiverpy_cache/benthic_csv/metadata/metadata_benthic_csv.csv\",\n",
       "    \"metadata_type\": \"CSV_FILE\",\n",
       "    \"image_type\": \"PNG\",\n",
       "    \"append_data_to_metadata\": \"/home/tobfer/.paidiverpy_cache/benthic_csv/metadata/appended_metadata_benthic_csv.csv\",\n",
       "    \"is_remote\": false,\n",
       "    \"output_is_remote\": false,\n",
       "    \"output_path\": \"output\",\n",
       "    \"n_jobs\": -1,\n",
       "    \"client\": null,\n",
       "    \"track_changes\": true,\n",
       "    \"rename\": null,\n",
       "    \"sampling\": [\n",
       "        {\n",
       "            \"name\": \"sampling\",\n",
       "            \"step_name\": \"sampling\",\n",
       "            \"mode\": \"fixed\",\n",
       "            \"test\": false,\n",
       "            \"params\": {\n",
       "                \"value\": 20,\n",
       "                \"raise_error\": false\n",
       "            }\n",
       "        }\n",
       "    ],\n",
       "    \"convert\": [\n",
       "        {\n",
       "            \"name\": \"convert\",\n",
       "            \"step_name\": \"convert\",\n",
       "            \"mode\": \"bits\",\n",
       "            \"test\": false,\n",
       "            \"params\": {\n",
       "                \"output_bits\": 8,\n",
       "                \"raise_error\": false\n",
       "            }\n",
       "        }\n",
       "    ]\n",
       "}</pre>\n",
       "            </div>\n",
       "        </div>\n",
       "        <script>\n",
       "            function showParameters(id) {\n",
       "                // Hide all parameter sections\n",
       "                var currentTarget = document.getElementById(id);\n",
       "                var square = document.getElementsByClassName('square');\n",
       "                var allParams = document.getElementsByClassName('parameters');\n",
       "                var selectedParams = document.getElementById('parameters_' + id);\n",
       "                var idWasVisible = false;\n",
       "                if (selectedParams) {\n",
       "                    var idWasVisible = selectedParams.style.display === 'block';\n",
       "                }\n",
       "                for (var i = 0; i < square.length; i++) {\n",
       "                    square[i].style.color = 'black';\n",
       "                }\n",
       "                for (var i = 0; i < allParams.length; i++) {\n",
       "                    allParams[i].style.display = 'none';\n",
       "                }\n",
       "                // Show the selected parameter section\n",
       "                if (selectedParams) {\n",
       "                    if (idWasVisible) {\n",
       "                        selectedParams.style.display = 'none';\n",
       "                        currentTarget.style.color = 'black';\n",
       "                    } else {\n",
       "                        selectedParams.style.display = 'block';\n",
       "                        currentTarget.style.color = 'red';\n",
       "                    }\n",
       "                }\n",
       "            }\n",
       "        </script>\n",
       "        "
      ],
      "text/plain": [
       "<paidiverpy.pipeline.pipeline.Pipeline at 0x79ce00daee60>"
      ]
     },
     "execution_count": 4,
     "metadata": {},
     "output_type": "execute_result"
    }
   ],
   "source": [
    "# See the pipeline steps. Click in a step to see more information about it\n",
    "pipeline"
   ]
  },
  {
   "cell_type": "code",
   "execution_count": 5,
   "id": "e61c25b4-79fd-4f28-94bb-e68aab8d0e94",
   "metadata": {
    "execution": {
     "iopub.execute_input": "2025-03-06T10:28:56.113735Z",
     "iopub.status.busy": "2025-03-06T10:28:56.113508Z",
     "iopub.status.idle": "2025-03-06T10:28:56.139890Z",
     "shell.execute_reply": "2025-03-06T10:28:56.139219Z"
    }
   },
   "outputs": [],
   "source": [
    "# See the pipeline steps in json format\n",
    "# pipeline.steps"
   ]
  },
  {
   "cell_type": "code",
   "execution_count": 6,
   "id": "0131f808-2a6a-40e0-beb7-41726f5c638a",
   "metadata": {
    "execution": {
     "iopub.execute_input": "2025-03-06T10:28:56.143524Z",
     "iopub.status.busy": "2025-03-06T10:28:56.143209Z",
     "iopub.status.idle": "2025-03-06T10:28:58.877871Z",
     "shell.execute_reply": "2025-03-06T10:28:58.876724Z"
    },
    "scrolled": true
   },
   "outputs": [
    {
     "name": "stdout",
     "output_type": "stream",
     "text": [
      "\u001b[92m☁ paidiverpy ☁  |       INFO | 2025-03-06 10:28:56 | Processing images using 16 cores\u001b[0m\n"
     ]
    },
    {
     "name": "stdout",
     "output_type": "stream",
     "text": [
      "\u001b[92m☁ paidiverpy ☁  |       INFO | 2025-03-06 10:28:56 | Running step 0: raw - OpenLayer\u001b[0m\n"
     ]
    },
    {
     "name": "stdout",
     "output_type": "stream",
     "text": [
      "\r",
      "[                                        ] | 0% Completed | 877.02 us"
     ]
    },
    {
     "name": "stdout",
     "output_type": "stream",
     "text": [
      "\r",
      "[                                        ] | 0% Completed | 105.51 ms"
     ]
    },
    {
     "name": "stdout",
     "output_type": "stream",
     "text": [
      "\r",
      "[##############################          ] | 75% Completed | 214.85 ms"
     ]
    },
    {
     "name": "stdout",
     "output_type": "stream",
     "text": [
      "\r",
      "[########################################] | 100% Completed | 321.29 ms"
     ]
    },
    {
     "name": "stdout",
     "output_type": "stream",
     "text": [
      "\n"
     ]
    },
    {
     "name": "stdout",
     "output_type": "stream",
     "text": [
      "\r",
      "[                                        ] | 0% Completed | 544.47 us"
     ]
    },
    {
     "name": "stderr",
     "output_type": "stream",
     "text": [
      "WARNING:root:Unsupported output bits or image already within provided format: 8\n"
     ]
    },
    {
     "name": "stderr",
     "output_type": "stream",
     "text": [
      "WARNING:root:Unsupported output bits or image already within provided format: 8\n"
     ]
    },
    {
     "name": "stderr",
     "output_type": "stream",
     "text": [
      "WARNING:root:Unsupported output bits or image already within provided format: 8\n"
     ]
    },
    {
     "name": "stderr",
     "output_type": "stream",
     "text": [
      "WARNING:root:Unsupported output bits or image already within provided format: 8\n"
     ]
    },
    {
     "name": "stderr",
     "output_type": "stream",
     "text": [
      "WARNING:root:Unsupported output bits or image already within provided format: 8\n"
     ]
    },
    {
     "name": "stdout",
     "output_type": "stream",
     "text": [
      "\r",
      "[##########                              ] | 25% Completed | 107.31 ms"
     ]
    },
    {
     "name": "stderr",
     "output_type": "stream",
     "text": [
      "WARNING:root:Unsupported output bits or image already within provided format: 8\n"
     ]
    },
    {
     "name": "stderr",
     "output_type": "stream",
     "text": [
      "WARNING:root:Unsupported output bits or image already within provided format: 8\n"
     ]
    },
    {
     "name": "stderr",
     "output_type": "stream",
     "text": [
      "WARNING:root:Unsupported output bits or image already within provided format: 8\n"
     ]
    },
    {
     "name": "stderr",
     "output_type": "stream",
     "text": [
      "WARNING:root:Unsupported output bits or image already within provided format: 8\n"
     ]
    },
    {
     "name": "stderr",
     "output_type": "stream",
     "text": [
      "WARNING:root:Unsupported output bits or image already within provided format: 8\n"
     ]
    },
    {
     "name": "stderr",
     "output_type": "stream",
     "text": [
      "WARNING:root:Unsupported output bits or image already within provided format: 8\n"
     ]
    },
    {
     "name": "stderr",
     "output_type": "stream",
     "text": [
      "WARNING:root:Unsupported output bits or image already within provided format: 8\n"
     ]
    },
    {
     "name": "stderr",
     "output_type": "stream",
     "text": [
      "WARNING:root:Unsupported output bits or image already within provided format: 8\n"
     ]
    },
    {
     "name": "stderr",
     "output_type": "stream",
     "text": [
      "WARNING:root:Unsupported output bits or image already within provided format: 8\n"
     ]
    },
    {
     "name": "stdout",
     "output_type": "stream",
     "text": [
      "\r",
      "[##############################          ] | 75% Completed | 208.68 ms"
     ]
    },
    {
     "name": "stderr",
     "output_type": "stream",
     "text": [
      "WARNING:root:Unsupported output bits or image already within provided format: 8\n"
     ]
    },
    {
     "name": "stderr",
     "output_type": "stream",
     "text": [
      "WARNING:root:Unsupported output bits or image already within provided format: 8\n"
     ]
    },
    {
     "name": "stderr",
     "output_type": "stream",
     "text": [
      "WARNING:root:Unsupported output bits or image already within provided format: 8\n"
     ]
    },
    {
     "name": "stderr",
     "output_type": "stream",
     "text": [
      "WARNING:root:Unsupported output bits or image already within provided format: 8\n"
     ]
    },
    {
     "name": "stderr",
     "output_type": "stream",
     "text": [
      "WARNING:root:Unsupported output bits or image already within provided format: 8\n"
     ]
    },
    {
     "name": "stderr",
     "output_type": "stream",
     "text": [
      "WARNING:root:Unsupported output bits or image already within provided format: 8\n"
     ]
    },
    {
     "name": "stdout",
     "output_type": "stream",
     "text": [
      "\r",
      "[########################################] | 100% Completed | 310.48 ms"
     ]
    },
    {
     "name": "stdout",
     "output_type": "stream",
     "text": [
      "\n"
     ]
    },
    {
     "name": "stdout",
     "output_type": "stream",
     "text": [
      "\u001b[92m☁ paidiverpy ☁  |       INFO | 2025-03-06 10:28:57 | Step 0 completed\u001b[0m\n"
     ]
    },
    {
     "name": "stderr",
     "output_type": "stream",
     "text": [
      "INFO:paidiverpy:Step 0 completed\n"
     ]
    },
    {
     "name": "stdout",
     "output_type": "stream",
     "text": [
      "\u001b[92m☁ paidiverpy ☁  |       INFO | 2025-03-06 10:28:57 | Running step 1: datetime - ResampleLayer\u001b[0m\n"
     ]
    },
    {
     "name": "stderr",
     "output_type": "stream",
     "text": [
      "INFO:paidiverpy:Running step 1: datetime - ResampleLayer\n"
     ]
    },
    {
     "name": "stdout",
     "output_type": "stream",
     "text": [
      "\u001b[92m☁ paidiverpy ☁  |       INFO | 2025-03-06 10:28:57 | Number of photos to be removed: 6\u001b[0m\n"
     ]
    },
    {
     "name": "stderr",
     "output_type": "stream",
     "text": [
      "INFO:paidiverpy:Number of photos to be removed: 6\n"
     ]
    },
    {
     "name": "stdout",
     "output_type": "stream",
     "text": [
      "\u001b[92m☁ paidiverpy ☁  |       INFO | 2025-03-06 10:28:57 | Step 1 completed\u001b[0m\n"
     ]
    },
    {
     "name": "stderr",
     "output_type": "stream",
     "text": [
      "INFO:paidiverpy:Step 1 completed\n"
     ]
    },
    {
     "name": "stdout",
     "output_type": "stream",
     "text": [
      "\u001b[92m☁ paidiverpy ☁  |       INFO | 2025-03-06 10:28:57 | Running step 2: overlapping - ResampleLayer\u001b[0m\n"
     ]
    },
    {
     "name": "stderr",
     "output_type": "stream",
     "text": [
      "INFO:paidiverpy:Running step 2: overlapping - ResampleLayer\n"
     ]
    },
    {
     "name": "stdout",
     "output_type": "stream",
     "text": [
      "\u001b[92m☁ paidiverpy ☁  |       INFO | 2025-03-06 10:28:57 | Number of photos to be removed: 4\u001b[0m\n"
     ]
    },
    {
     "name": "stderr",
     "output_type": "stream",
     "text": [
      "INFO:paidiverpy:Number of photos to be removed: 4\n"
     ]
    },
    {
     "name": "stdout",
     "output_type": "stream",
     "text": [
      "\u001b[92m☁ paidiverpy ☁  |       INFO | 2025-03-06 10:28:57 | Step 2 completed\u001b[0m\n"
     ]
    },
    {
     "name": "stderr",
     "output_type": "stream",
     "text": [
      "INFO:paidiverpy:Step 2 completed\n"
     ]
    },
    {
     "name": "stdout",
     "output_type": "stream",
     "text": [
      "\u001b[92m☁ paidiverpy ☁  |       INFO | 2025-03-06 10:28:57 | Running step 3: colour_alteration - ColourLayer\u001b[0m\n"
     ]
    },
    {
     "name": "stderr",
     "output_type": "stream",
     "text": [
      "INFO:paidiverpy:Running step 3: colour_alteration - ColourLayer\n"
     ]
    },
    {
     "name": "stdout",
     "output_type": "stream",
     "text": [
      "\r",
      "[                                        ] | 0% Completed | 831.48 us"
     ]
    },
    {
     "name": "stdout",
     "output_type": "stream",
     "text": [
      "\r",
      "[########################################] | 100% Completed | 104.29 ms"
     ]
    },
    {
     "name": "stdout",
     "output_type": "stream",
     "text": [
      "\n"
     ]
    },
    {
     "name": "stdout",
     "output_type": "stream",
     "text": [
      "\u001b[92m☁ paidiverpy ☁  |       INFO | 2025-03-06 10:28:57 | Step 3 completed\u001b[0m\n"
     ]
    },
    {
     "name": "stderr",
     "output_type": "stream",
     "text": [
      "INFO:paidiverpy:Step 3 completed\n"
     ]
    },
    {
     "name": "stdout",
     "output_type": "stream",
     "text": [
      "\u001b[92m☁ paidiverpy ☁  |       INFO | 2025-03-06 10:28:57 | Running step 4: gaussian_blur - ColourLayer\u001b[0m\n"
     ]
    },
    {
     "name": "stderr",
     "output_type": "stream",
     "text": [
      "INFO:paidiverpy:Running step 4: gaussian_blur - ColourLayer\n"
     ]
    },
    {
     "name": "stdout",
     "output_type": "stream",
     "text": [
      "\r",
      "[                                        ] | 0% Completed | 590.74 us"
     ]
    },
    {
     "name": "stdout",
     "output_type": "stream",
     "text": [
      "\r",
      "[########################################] | 100% Completed | 105.21 ms"
     ]
    },
    {
     "name": "stdout",
     "output_type": "stream",
     "text": [
      "\n"
     ]
    },
    {
     "name": "stdout",
     "output_type": "stream",
     "text": [
      "\u001b[92m☁ paidiverpy ☁  |       INFO | 2025-03-06 10:28:58 | Step 4 completed\u001b[0m\n"
     ]
    },
    {
     "name": "stderr",
     "output_type": "stream",
     "text": [
      "INFO:paidiverpy:Step 4 completed\n"
     ]
    },
    {
     "name": "stdout",
     "output_type": "stream",
     "text": [
      "\u001b[92m☁ paidiverpy ☁  |       INFO | 2025-03-06 10:28:58 | Running step 5: sharpen - ColourLayer\u001b[0m\n"
     ]
    },
    {
     "name": "stderr",
     "output_type": "stream",
     "text": [
      "INFO:paidiverpy:Running step 5: sharpen - ColourLayer\n"
     ]
    },
    {
     "name": "stdout",
     "output_type": "stream",
     "text": [
      "\r",
      "[                                        ] | 0% Completed | 448.35 us"
     ]
    },
    {
     "name": "stdout",
     "output_type": "stream",
     "text": [
      "\r",
      "[########################################] | 100% Completed | 102.80 ms"
     ]
    },
    {
     "name": "stdout",
     "output_type": "stream",
     "text": [
      "\n"
     ]
    },
    {
     "name": "stdout",
     "output_type": "stream",
     "text": [
      "\u001b[92m☁ paidiverpy ☁  |       INFO | 2025-03-06 10:28:58 | Step 5 completed\u001b[0m\n"
     ]
    },
    {
     "name": "stderr",
     "output_type": "stream",
     "text": [
      "INFO:paidiverpy:Step 5 completed\n"
     ]
    },
    {
     "name": "stdout",
     "output_type": "stream",
     "text": [
      "\u001b[92m☁ paidiverpy ☁  |       INFO | 2025-03-06 10:28:58 | Running step 6: contrast - ColourLayer\u001b[0m\n"
     ]
    },
    {
     "name": "stderr",
     "output_type": "stream",
     "text": [
      "INFO:paidiverpy:Running step 6: contrast - ColourLayer\n"
     ]
    },
    {
     "name": "stdout",
     "output_type": "stream",
     "text": [
      "\r",
      "[                                        ] | 0% Completed | 841.99 us"
     ]
    },
    {
     "name": "stdout",
     "output_type": "stream",
     "text": [
      "\r",
      "[####################                    ] | 50% Completed | 105.32 ms"
     ]
    },
    {
     "name": "stdout",
     "output_type": "stream",
     "text": [
      "\r",
      "[################################        ] | 80% Completed | 217.77 ms"
     ]
    },
    {
     "name": "stdout",
     "output_type": "stream",
     "text": [
      "\r",
      "[########################################] | 100% Completed | 331.70 ms"
     ]
    },
    {
     "name": "stdout",
     "output_type": "stream",
     "text": [
      "\n"
     ]
    },
    {
     "name": "stdout",
     "output_type": "stream",
     "text": [
      "\u001b[92m☁ paidiverpy ☁  |       INFO | 2025-03-06 10:28:58 | Step 6 completed\u001b[0m\n"
     ]
    },
    {
     "name": "stderr",
     "output_type": "stream",
     "text": [
      "INFO:paidiverpy:Step 6 completed\n"
     ]
    }
   ],
   "source": [
    "# Run the pipeline\n",
    "pipeline.run()"
   ]
  },
  {
   "cell_type": "code",
   "execution_count": null,
   "id": "563cb307-28ab-4543-85b8-1b728acf5cfc",
   "metadata": {},
   "outputs": [],
   "source": []
  }
 ],
 "metadata": {
  "kernelspec": {
   "display_name": "Python 3 (ipykernel)",
   "language": "python",
   "name": "python3"
  },
  "language_info": {
   "codemirror_mode": {
    "name": "ipython",
    "version": 3
   },
   "file_extension": ".py",
   "mimetype": "text/x-python",
   "name": "python",
   "nbconvert_exporter": "python",
   "pygments_lexer": "ipython3",
   "version": "3.10.12"
  }
 },
 "nbformat": 4,
 "nbformat_minor": 5
}
