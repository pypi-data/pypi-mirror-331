{
 "cells": [
  {
   "cell_type": "markdown",
   "id": "63ce0734-aad1-48c2-948c-f6ad0606132f",
   "metadata": {},
   "source": [
    "## Run a pipeline with data on a remote s3 bucket"
   ]
  },
  {
   "cell_type": "markdown",
   "id": "cdbd6fb8-f668-4a18-bbb7-f92a3bdf2172",
   "metadata": {},
   "source": [
    "This process will run the entire pipeline described in a configuration file. The input data is available in a remote s3 bucket."
   ]
  },
  {
   "cell_type": "markdown",
   "id": "2eb37ea8-69d2-4e23-bf77-c39b2e0d108e",
   "metadata": {},
   "source": [
    "## Import dependencies"
   ]
  },
  {
   "cell_type": "code",
   "execution_count": 1,
   "id": "f00299ae-1140-494b-99be-9fa8867c0ac8",
   "metadata": {
    "execution": {
     "iopub.execute_input": "2025-03-06T10:30:21.340440Z",
     "iopub.status.busy": "2025-03-06T10:30:21.340197Z",
     "iopub.status.idle": "2025-03-06T10:30:23.855302Z",
     "shell.execute_reply": "2025-03-06T10:30:23.854300Z"
    }
   },
   "outputs": [],
   "source": [
    "%load_ext autoreload\n",
    "%autoreload 2\n",
    "from paidiverpy.pipeline import Pipeline"
   ]
  },
  {
   "cell_type": "markdown",
   "id": "1901794f-b8ac-4ec7-a83e-9a4947bc9a67",
   "metadata": {},
   "source": [
    "## Working with a public object store (https data)"
   ]
  },
  {
   "cell_type": "markdown",
   "id": "0a036f6a-a579-49ee-8d55-5d60e3f1e7f4",
   "metadata": {},
   "source": [
    "When working with public object store, you just need to give as input path the paths of the files in the configuration file, as you can see in the example below:\n",
    "\n",
    "```yaml\n",
    "general:\n",
    "  input_path: \"https://paidiver-o.s3-ext.jc.rl.ac.uk/paidiverpy/data/lazy_load_benthic/\"\n",
    "  output_path: \"output\"\n",
    "  metadata_path: \"https://paidiver-o.s3-ext.jc.rl.ac.uk/paidiverpy/data/lazy_load_benthic/metadata_ifdo_hf.json\"\n",
    "```\n",
    "\n",
    "In this case, I am giving the path on the object store where all my images are storage. For the metadata path, you have to give the exact link of the metadata"
   ]
  },
  {
   "cell_type": "code",
   "execution_count": 2,
   "id": "46f413c1-b9a5-4dc1-a27d-9cba7f9c745c",
   "metadata": {
    "execution": {
     "iopub.execute_input": "2025-03-06T10:30:23.858925Z",
     "iopub.status.busy": "2025-03-06T10:30:23.858452Z",
     "iopub.status.idle": "2025-03-06T10:30:24.947912Z",
     "shell.execute_reply": "2025-03-06T10:30:24.947105Z"
    }
   },
   "outputs": [
    {
     "name": "stdout",
     "output_type": "stream",
     "text": [
      "\u001b[93m☁ paidiverpy ☁  |    WARNING | 2025-03-06 10:30:24 | Failed to validate the IFDO metadata.\n",
      "You can continue, but some functions may not work properly.\n",
      "Please set verbose to 3 (DEBUG) to see the validation errors.\u001b[0m\n"
     ]
    },
    {
     "name": "stdout",
     "output_type": "stream",
     "text": [
      "\u001b[93m☁ paidiverpy ☁  |    WARNING | 2025-03-06 10:30:24 | Metadata does not have a image-altitude-meters type column. It should have one of the following columns: ['image-altitude-meters', 'depth', 'depth_m', 'depth_metres', 'depth_metre', 'depth_meters', 'depth_meter']\u001b[0m\n"
     ]
    },
    {
     "name": "stdout",
     "output_type": "stream",
     "text": [
      "\u001b[93m☁ paidiverpy ☁  |    WARNING | 2025-03-06 10:30:24 | Some functions may not work properly.\u001b[0m\n"
     ]
    }
   ],
   "source": [
    "pipeline = Pipeline(config_file_path=\"../config_files/config_object_store.yml\")"
   ]
  },
  {
   "cell_type": "code",
   "execution_count": 3,
   "id": "310d8998-6ac7-4db4-a706-50270b6895ee",
   "metadata": {
    "execution": {
     "iopub.execute_input": "2025-03-06T10:30:24.951229Z",
     "iopub.status.busy": "2025-03-06T10:30:24.950989Z",
     "iopub.status.idle": "2025-03-06T10:30:24.980988Z",
     "shell.execute_reply": "2025-03-06T10:30:24.980037Z"
    }
   },
   "outputs": [
    {
     "data": {
      "text/html": [
       "\n",
       "        <div style=\"display: flex; flex-wrap: wrap; align-items: center;\">\n",
       "            \n",
       "        <div id=\"general\" title=\"Click to see more information\" class=\"square\"\n",
       "            style=\"float:left; cursor: pointer; padding: 10px;\n",
       "            width: max-content; height: 80px; margin: 10px;\n",
       "            border: 1px solid #000; text-align: center; line-height: 80px;\"\n",
       "            onclick=\"showParameters('general')\">\n",
       "            <h2 style=\"font-size:20px;\">Raw</h2>\n",
       "            <h2 style=\"font-size:13px;\">Type: Open</h2>\n",
       "        </div>\n",
       "        <div style=\"float:left; width: 50px; height: 80px; margin: 10px; text-align: center; line-height: 80px;\">&#10132;</div>\n",
       "                <div id=\"step_0\" title=\"Click to see more information\"\n",
       "                    class=\"square\" style=\"cursor: pointer; float:left;\n",
       "                    padding: 10px; width: max-content; height: 80px;\n",
       "                    margin: 10px; border: 1px solid #000; text-align: center;\n",
       "                    line-height: 80px;\" onclick=\"showParameters('step_0')\">\n",
       "                    <h2 style=\"font-size:20px;\">Colour_correction</h2>\n",
       "                    <h2 style=\"font-size:13px;\">Type: Colour</h2>\n",
       "                </div>\n",
       "            \n",
       "                    <div style=\"float:left; width: 50px; height: 80px;\n",
       "                        margin: 10px; text-align: center; line-height: 80px;\">\n",
       "                        &#10132;\n",
       "                    </div>\n",
       "                \n",
       "                <div id=\"step_1\" title=\"Click to see more information\"\n",
       "                    class=\"square\" style=\"cursor: pointer; float:left;\n",
       "                    padding: 10px; width: max-content; height: 80px;\n",
       "                    margin: 10px; border: 1px solid #000; text-align: center;\n",
       "                    line-height: 80px;\" onclick=\"showParameters('step_1')\">\n",
       "                    <h2 style=\"font-size:20px;\">Datetime</h2>\n",
       "                    <h2 style=\"font-size:13px;\">Type: Sampling</h2>\n",
       "                </div>\n",
       "            \n",
       "                    <div style=\"float:left; width: 50px; height: 80px;\n",
       "                        margin: 10px; text-align: center; line-height: 80px;\">\n",
       "                        &#10132;\n",
       "                    </div>\n",
       "                \n",
       "                <div id=\"step_2\" title=\"Click to see more information\"\n",
       "                    class=\"square\" style=\"cursor: pointer; float:left;\n",
       "                    padding: 10px; width: max-content; height: 80px;\n",
       "                    margin: 10px; border: 1px solid #000; text-align: center;\n",
       "                    line-height: 80px;\" onclick=\"showParameters('step_2')\">\n",
       "                    <h2 style=\"font-size:20px;\">Colour_correction</h2>\n",
       "                    <h2 style=\"font-size:13px;\">Type: Colour</h2>\n",
       "                </div>\n",
       "            \n",
       "                    <div style=\"float:left; width: 50px; height: 80px;\n",
       "                        margin: 10px; text-align: center; line-height: 80px;\">\n",
       "                        &#10132;\n",
       "                    </div>\n",
       "                \n",
       "                <div id=\"step_3\" title=\"Click to see more information\"\n",
       "                    class=\"square\" style=\"cursor: pointer; float:left;\n",
       "                    padding: 10px; width: max-content; height: 80px;\n",
       "                    margin: 10px; border: 1px solid #000; text-align: center;\n",
       "                    line-height: 80px;\" onclick=\"showParameters('step_3')\">\n",
       "                    <h2 style=\"font-size:20px;\">Sharpen</h2>\n",
       "                    <h2 style=\"font-size:13px;\">Type: Colour</h2>\n",
       "                </div>\n",
       "            \n",
       "        </div>\n",
       "        <div id=\"parameters\" style=\"padding: 10px; margin: 10px;\">\n",
       "                <div id=\"parameters_step_0\" class=\"parameters\"\n",
       "                    style=\"display: none;\">\n",
       "                    <pre>{\n",
       "    \"name\": \"colour_correction\",\n",
       "    \"step_name\": \"colour\",\n",
       "    \"mode\": \"grayscale\",\n",
       "    \"test\": false\n",
       "}</pre>\n",
       "                </div>\n",
       "            \n",
       "                <div id=\"parameters_step_1\" class=\"parameters\"\n",
       "                    style=\"display: none;\">\n",
       "                    <pre>{\n",
       "    \"name\": \"datetime\",\n",
       "    \"step_name\": \"sampling\",\n",
       "    \"mode\": \"datetime\",\n",
       "    \"test\": false,\n",
       "    \"params\": {\n",
       "        \"min\": \"2016-05-11 04:14:00\",\n",
       "        \"max\": \"2016-05-11 09:27:00\",\n",
       "        \"raise_error\": false\n",
       "    }\n",
       "}</pre>\n",
       "                </div>\n",
       "            \n",
       "                <div id=\"parameters_step_2\" class=\"parameters\"\n",
       "                    style=\"display: none;\">\n",
       "                    <pre>{\n",
       "    \"name\": \"colour_correction\",\n",
       "    \"step_name\": \"colour\",\n",
       "    \"mode\": \"gaussian_blur\",\n",
       "    \"test\": false,\n",
       "    \"params\": {\n",
       "        \"sigma\": 1.0,\n",
       "        \"raise_error\": false\n",
       "    }\n",
       "}</pre>\n",
       "                </div>\n",
       "            \n",
       "                <div id=\"parameters_step_3\" class=\"parameters\"\n",
       "                    style=\"display: none;\">\n",
       "                    <pre>{\n",
       "    \"name\": \"sharpen\",\n",
       "    \"step_name\": \"colour\",\n",
       "    \"mode\": \"sharpen\",\n",
       "    \"test\": false,\n",
       "    \"params\": {\n",
       "        \"alpha\": 1.5,\n",
       "        \"beta\": -0.5,\n",
       "        \"raise_error\": false\n",
       "    }\n",
       "}</pre>\n",
       "                </div>\n",
       "            \n",
       "            <div id=\"parameters_general\" class=\"parameters\" style=\"display: none;\">\n",
       "                <pre>{\n",
       "    \"name\": \"raw\",\n",
       "    \"step_name\": \"open\",\n",
       "    \"sample_data\": null,\n",
       "    \"is_remote\": true,\n",
       "    \"input_path\": \"https://paidiver-o.s3-ext.jc.rl.ac.uk/paidiverpy/data/lazy_load_benthic/\",\n",
       "    \"metadata_path\": \"https://paidiver-o.s3-ext.jc.rl.ac.uk/paidiverpy/data/lazy_load_benthic/metadata_ifdo_hf.json\",\n",
       "    \"metadata_type\": \"IFDO\",\n",
       "    \"image_type\": \"JPG\",\n",
       "    \"append_data_to_metadata\": false,\n",
       "    \"output_is_remote\": false,\n",
       "    \"output_path\": \"output\",\n",
       "    \"n_jobs\": 8,\n",
       "    \"client\": null,\n",
       "    \"track_changes\": true,\n",
       "    \"rename\": null,\n",
       "    \"sampling\": [\n",
       "        {\n",
       "            \"name\": \"sampling\",\n",
       "            \"step_name\": \"sampling\",\n",
       "            \"mode\": \"percent\",\n",
       "            \"test\": false,\n",
       "            \"params\": {\n",
       "                \"value\": 0.1,\n",
       "                \"raise_error\": false\n",
       "            }\n",
       "        }\n",
       "    ],\n",
       "    \"convert\": [\n",
       "        {\n",
       "            \"name\": \"convert\",\n",
       "            \"step_name\": \"convert\",\n",
       "            \"mode\": \"bits\",\n",
       "            \"test\": false,\n",
       "            \"params\": {\n",
       "                \"output_bits\": 8,\n",
       "                \"raise_error\": false\n",
       "            }\n",
       "        }\n",
       "    ]\n",
       "}</pre>\n",
       "            </div>\n",
       "        </div>\n",
       "        <script>\n",
       "            function showParameters(id) {\n",
       "                // Hide all parameter sections\n",
       "                var currentTarget = document.getElementById(id);\n",
       "                var square = document.getElementsByClassName('square');\n",
       "                var allParams = document.getElementsByClassName('parameters');\n",
       "                var selectedParams = document.getElementById('parameters_' + id);\n",
       "                var idWasVisible = false;\n",
       "                if (selectedParams) {\n",
       "                    var idWasVisible = selectedParams.style.display === 'block';\n",
       "                }\n",
       "                for (var i = 0; i < square.length; i++) {\n",
       "                    square[i].style.color = 'black';\n",
       "                }\n",
       "                for (var i = 0; i < allParams.length; i++) {\n",
       "                    allParams[i].style.display = 'none';\n",
       "                }\n",
       "                // Show the selected parameter section\n",
       "                if (selectedParams) {\n",
       "                    if (idWasVisible) {\n",
       "                        selectedParams.style.display = 'none';\n",
       "                        currentTarget.style.color = 'black';\n",
       "                    } else {\n",
       "                        selectedParams.style.display = 'block';\n",
       "                        currentTarget.style.color = 'red';\n",
       "                    }\n",
       "                }\n",
       "            }\n",
       "        </script>\n",
       "        "
      ],
      "text/plain": [
       "<paidiverpy.pipeline.pipeline.Pipeline at 0x7b0fb88aab00>"
      ]
     },
     "execution_count": 3,
     "metadata": {},
     "output_type": "execute_result"
    }
   ],
   "source": [
    "# See the pipeline steps. Click in a step to see more information about it\n",
    "pipeline"
   ]
  },
  {
   "cell_type": "code",
   "execution_count": 4,
   "id": "0131f808-2a6a-40e0-beb7-41726f5c638a",
   "metadata": {
    "execution": {
     "iopub.execute_input": "2025-03-06T10:30:24.983958Z",
     "iopub.status.busy": "2025-03-06T10:30:24.983730Z",
     "iopub.status.idle": "2025-03-06T10:30:37.170389Z",
     "shell.execute_reply": "2025-03-06T10:30:37.167287Z"
    },
    "scrolled": true
   },
   "outputs": [
    {
     "name": "stdout",
     "output_type": "stream",
     "text": [
      "\u001b[92m☁ paidiverpy ☁  |       INFO | 2025-03-06 10:30:25 | Processing images using 8 cores\u001b[0m\n"
     ]
    },
    {
     "name": "stdout",
     "output_type": "stream",
     "text": [
      "\u001b[92m☁ paidiverpy ☁  |       INFO | 2025-03-06 10:30:25 | Running step 0: raw - OpenLayer\u001b[0m\n"
     ]
    },
    {
     "name": "stdout",
     "output_type": "stream",
     "text": [
      "\r",
      "[                                        ] | 0% Completed | 474.66 us"
     ]
    },
    {
     "name": "stdout",
     "output_type": "stream",
     "text": [
      "\r",
      "[                                        ] | 0% Completed | 102.71 ms"
     ]
    },
    {
     "name": "stdout",
     "output_type": "stream",
     "text": [
      "\r",
      "[                                        ] | 0% Completed | 205.26 ms"
     ]
    },
    {
     "name": "stdout",
     "output_type": "stream",
     "text": [
      "\r",
      "[                                        ] | 0% Completed | 306.58 ms"
     ]
    },
    {
     "name": "stdout",
     "output_type": "stream",
     "text": [
      "\r",
      "[                                        ] | 0% Completed | 407.54 ms"
     ]
    },
    {
     "name": "stdout",
     "output_type": "stream",
     "text": [
      "\r",
      "[                                        ] | 0% Completed | 508.39 ms"
     ]
    },
    {
     "name": "stdout",
     "output_type": "stream",
     "text": [
      "\r",
      "[                                        ] | 0% Completed | 610.08 ms"
     ]
    },
    {
     "name": "stdout",
     "output_type": "stream",
     "text": [
      "\r",
      "[                                        ] | 0% Completed | 711.14 ms"
     ]
    },
    {
     "name": "stdout",
     "output_type": "stream",
     "text": [
      "\r",
      "[                                        ] | 0% Completed | 812.33 ms"
     ]
    },
    {
     "name": "stdout",
     "output_type": "stream",
     "text": [
      "\r",
      "[                                        ] | 0% Completed | 913.19 ms"
     ]
    },
    {
     "name": "stdout",
     "output_type": "stream",
     "text": [
      "\r",
      "[                                        ] | 0% Completed | 1.01 s"
     ]
    },
    {
     "name": "stdout",
     "output_type": "stream",
     "text": [
      "\r",
      "[                                        ] | 0% Completed | 1.12 s"
     ]
    },
    {
     "name": "stdout",
     "output_type": "stream",
     "text": [
      "\r",
      "[                                        ] | 0% Completed | 1.22 s"
     ]
    },
    {
     "name": "stdout",
     "output_type": "stream",
     "text": [
      "\r",
      "[                                        ] | 0% Completed | 1.32 s"
     ]
    },
    {
     "name": "stdout",
     "output_type": "stream",
     "text": [
      "\r",
      "[                                        ] | 0% Completed | 1.42 s"
     ]
    },
    {
     "name": "stdout",
     "output_type": "stream",
     "text": [
      "\r",
      "[                                        ] | 0% Completed | 1.52 s"
     ]
    },
    {
     "name": "stdout",
     "output_type": "stream",
     "text": [
      "\r",
      "[                                        ] | 0% Completed | 1.62 s"
     ]
    },
    {
     "name": "stdout",
     "output_type": "stream",
     "text": [
      "\r",
      "[                                        ] | 0% Completed | 1.72 s"
     ]
    },
    {
     "name": "stdout",
     "output_type": "stream",
     "text": [
      "\r",
      "[                                        ] | 0% Completed | 1.82 s"
     ]
    },
    {
     "name": "stdout",
     "output_type": "stream",
     "text": [
      "\r",
      "[                                        ] | 0% Completed | 1.93 s"
     ]
    },
    {
     "name": "stdout",
     "output_type": "stream",
     "text": [
      "\r",
      "[                                        ] | 0% Completed | 2.03 s"
     ]
    },
    {
     "name": "stdout",
     "output_type": "stream",
     "text": [
      "\r",
      "[                                        ] | 0% Completed | 2.13 s"
     ]
    },
    {
     "name": "stdout",
     "output_type": "stream",
     "text": [
      "\r",
      "[                                        ] | 0% Completed | 2.23 s"
     ]
    },
    {
     "name": "stdout",
     "output_type": "stream",
     "text": [
      "\r",
      "[                                        ] | 0% Completed | 2.33 s"
     ]
    },
    {
     "name": "stdout",
     "output_type": "stream",
     "text": [
      "\r",
      "[####                                    ] | 10% Completed | 2.44 s"
     ]
    },
    {
     "name": "stdout",
     "output_type": "stream",
     "text": [
      "\r",
      "[####                                    ] | 10% Completed | 2.54 s"
     ]
    },
    {
     "name": "stdout",
     "output_type": "stream",
     "text": [
      "\r",
      "[####                                    ] | 10% Completed | 2.64 s"
     ]
    },
    {
     "name": "stdout",
     "output_type": "stream",
     "text": [
      "\r",
      "[####                                    ] | 10% Completed | 2.74 s"
     ]
    },
    {
     "name": "stdout",
     "output_type": "stream",
     "text": [
      "\r",
      "[####                                    ] | 10% Completed | 2.84 s"
     ]
    },
    {
     "name": "stdout",
     "output_type": "stream",
     "text": [
      "\r",
      "[####                                    ] | 10% Completed | 2.94 s"
     ]
    },
    {
     "name": "stdout",
     "output_type": "stream",
     "text": [
      "\r",
      "[########                                ] | 20% Completed | 3.05 s"
     ]
    },
    {
     "name": "stdout",
     "output_type": "stream",
     "text": [
      "\r",
      "[########                                ] | 20% Completed | 3.15 s"
     ]
    },
    {
     "name": "stdout",
     "output_type": "stream",
     "text": [
      "\r",
      "[########                                ] | 20% Completed | 3.25 s"
     ]
    },
    {
     "name": "stdout",
     "output_type": "stream",
     "text": [
      "\r",
      "[########                                ] | 20% Completed | 3.35 s"
     ]
    },
    {
     "name": "stdout",
     "output_type": "stream",
     "text": [
      "\r",
      "[########                                ] | 20% Completed | 3.46 s"
     ]
    },
    {
     "name": "stdout",
     "output_type": "stream",
     "text": [
      "\r",
      "[########                                ] | 20% Completed | 3.56 s"
     ]
    },
    {
     "name": "stdout",
     "output_type": "stream",
     "text": [
      "\r",
      "[############                            ] | 30% Completed | 3.66 s"
     ]
    },
    {
     "name": "stdout",
     "output_type": "stream",
     "text": [
      "\r",
      "[############                            ] | 30% Completed | 3.76 s"
     ]
    },
    {
     "name": "stdout",
     "output_type": "stream",
     "text": [
      "\r",
      "[############                            ] | 30% Completed | 3.87 s"
     ]
    },
    {
     "name": "stdout",
     "output_type": "stream",
     "text": [
      "\r",
      "[####################                    ] | 50% Completed | 3.97 s"
     ]
    },
    {
     "name": "stdout",
     "output_type": "stream",
     "text": [
      "\r",
      "[############################            ] | 70% Completed | 4.07 s"
     ]
    },
    {
     "name": "stdout",
     "output_type": "stream",
     "text": [
      "\r",
      "[############################            ] | 70% Completed | 4.17 s"
     ]
    },
    {
     "name": "stdout",
     "output_type": "stream",
     "text": [
      "\r",
      "[################################        ] | 80% Completed | 4.27 s"
     ]
    },
    {
     "name": "stdout",
     "output_type": "stream",
     "text": [
      "\r",
      "[################################        ] | 80% Completed | 4.38 s"
     ]
    },
    {
     "name": "stdout",
     "output_type": "stream",
     "text": [
      "\r",
      "[################################        ] | 80% Completed | 4.48 s"
     ]
    },
    {
     "name": "stdout",
     "output_type": "stream",
     "text": [
      "\r",
      "[################################        ] | 80% Completed | 4.58 s"
     ]
    },
    {
     "name": "stdout",
     "output_type": "stream",
     "text": [
      "\r",
      "[################################        ] | 80% Completed | 4.68 s"
     ]
    },
    {
     "name": "stdout",
     "output_type": "stream",
     "text": [
      "\r",
      "[################################        ] | 80% Completed | 4.79 s"
     ]
    },
    {
     "name": "stdout",
     "output_type": "stream",
     "text": [
      "\r",
      "[################################        ] | 80% Completed | 4.89 s"
     ]
    },
    {
     "name": "stdout",
     "output_type": "stream",
     "text": [
      "\r",
      "[####################################    ] | 90% Completed | 4.99 s"
     ]
    },
    {
     "name": "stdout",
     "output_type": "stream",
     "text": [
      "\r",
      "[####################################    ] | 90% Completed | 5.09 s"
     ]
    },
    {
     "name": "stdout",
     "output_type": "stream",
     "text": [
      "\r",
      "[####################################    ] | 90% Completed | 5.20 s"
     ]
    },
    {
     "name": "stdout",
     "output_type": "stream",
     "text": [
      "\r",
      "[####################################    ] | 90% Completed | 5.30 s"
     ]
    },
    {
     "name": "stdout",
     "output_type": "stream",
     "text": [
      "\r",
      "[####################################    ] | 90% Completed | 5.40 s"
     ]
    },
    {
     "name": "stdout",
     "output_type": "stream",
     "text": [
      "\r",
      "[####################################    ] | 90% Completed | 5.50 s"
     ]
    },
    {
     "name": "stdout",
     "output_type": "stream",
     "text": [
      "\r",
      "[########################################] | 100% Completed | 5.60 s"
     ]
    },
    {
     "name": "stdout",
     "output_type": "stream",
     "text": [
      "\n"
     ]
    },
    {
     "name": "stdout",
     "output_type": "stream",
     "text": [
      "\r",
      "[                                        ] | 0% Completed | 729.03 us"
     ]
    },
    {
     "name": "stdout",
     "output_type": "stream",
     "text": [
      "\r",
      "[                                        ] | 0% Completed | 106.08 ms"
     ]
    },
    {
     "name": "stderr",
     "output_type": "stream",
     "text": [
      "WARNING:root:Unsupported output bits or image already within provided format: 8\n"
     ]
    },
    {
     "name": "stderr",
     "output_type": "stream",
     "text": [
      "WARNING:root:Unsupported output bits or image already within provided format: 8\n"
     ]
    },
    {
     "name": "stderr",
     "output_type": "stream",
     "text": [
      "WARNING:root:Unsupported output bits or image already within provided format: 8\n"
     ]
    },
    {
     "name": "stderr",
     "output_type": "stream",
     "text": [
      "WARNING:root:Unsupported output bits or image already within provided format: 8\n"
     ]
    },
    {
     "name": "stdout",
     "output_type": "stream",
     "text": [
      "\r",
      "[################                        ] | 40% Completed | 208.90 ms"
     ]
    },
    {
     "name": "stderr",
     "output_type": "stream",
     "text": [
      "WARNING:root:Unsupported output bits or image already within provided format: 8\n"
     ]
    },
    {
     "name": "stdout",
     "output_type": "stream",
     "text": [
      "\r",
      "[####################                    ] | 50% Completed | 311.43 ms"
     ]
    },
    {
     "name": "stderr",
     "output_type": "stream",
     "text": [
      "WARNING:root:Unsupported output bits or image already within provided format: 8\n"
     ]
    },
    {
     "name": "stderr",
     "output_type": "stream",
     "text": [
      "WARNING:root:Unsupported output bits or image already within provided format: 8\n"
     ]
    },
    {
     "name": "stderr",
     "output_type": "stream",
     "text": [
      "WARNING:root:Unsupported output bits or image already within provided format: 8\n"
     ]
    },
    {
     "name": "stderr",
     "output_type": "stream",
     "text": [
      "WARNING:root:Unsupported output bits or image already within provided format: 8\n"
     ]
    },
    {
     "name": "stdout",
     "output_type": "stream",
     "text": [
      "\r",
      "[###################################     ] | 87% Completed | 418.26 ms"
     ]
    },
    {
     "name": "stderr",
     "output_type": "stream",
     "text": [
      "WARNING:root:Unsupported output bits or image already within provided format: 8\n"
     ]
    },
    {
     "name": "stdout",
     "output_type": "stream",
     "text": [
      "\r",
      "[########################################] | 100% Completed | 521.75 ms"
     ]
    },
    {
     "name": "stdout",
     "output_type": "stream",
     "text": [
      "\n"
     ]
    },
    {
     "name": "stdout",
     "output_type": "stream",
     "text": [
      "\u001b[92m☁ paidiverpy ☁  |       INFO | 2025-03-06 10:30:32 | Step 0 completed\u001b[0m\n"
     ]
    },
    {
     "name": "stderr",
     "output_type": "stream",
     "text": [
      "INFO:paidiverpy:Step 0 completed\n"
     ]
    },
    {
     "name": "stdout",
     "output_type": "stream",
     "text": [
      "\u001b[92m☁ paidiverpy ☁  |       INFO | 2025-03-06 10:30:32 | Running step 1: colour_correction - ColourLayer\u001b[0m\n"
     ]
    },
    {
     "name": "stderr",
     "output_type": "stream",
     "text": [
      "INFO:paidiverpy:Running step 1: colour_correction - ColourLayer\n"
     ]
    },
    {
     "name": "stdout",
     "output_type": "stream",
     "text": [
      "\r",
      "[                                        ] | 0% Completed | 507.26 us"
     ]
    },
    {
     "name": "stdout",
     "output_type": "stream",
     "text": [
      "\r",
      "[########################################] | 100% Completed | 103.62 ms"
     ]
    },
    {
     "name": "stdout",
     "output_type": "stream",
     "text": [
      "\n"
     ]
    },
    {
     "name": "stdout",
     "output_type": "stream",
     "text": [
      "\u001b[92m☁ paidiverpy ☁  |       INFO | 2025-03-06 10:30:32 | Step 1 completed\u001b[0m\n"
     ]
    },
    {
     "name": "stderr",
     "output_type": "stream",
     "text": [
      "INFO:paidiverpy:Step 1 completed\n"
     ]
    },
    {
     "name": "stdout",
     "output_type": "stream",
     "text": [
      "\u001b[92m☁ paidiverpy ☁  |       INFO | 2025-03-06 10:30:32 | Running step 2: datetime - ResampleLayer\u001b[0m\n"
     ]
    },
    {
     "name": "stderr",
     "output_type": "stream",
     "text": [
      "INFO:paidiverpy:Running step 2: datetime - ResampleLayer\n"
     ]
    },
    {
     "name": "stdout",
     "output_type": "stream",
     "text": [
      "\u001b[92m☁ paidiverpy ☁  |       INFO | 2025-03-06 10:30:32 | Number of photos to be removed: 0\u001b[0m\n"
     ]
    },
    {
     "name": "stderr",
     "output_type": "stream",
     "text": [
      "INFO:paidiverpy:Number of photos to be removed: 0\n"
     ]
    },
    {
     "name": "stdout",
     "output_type": "stream",
     "text": [
      "\u001b[92m☁ paidiverpy ☁  |       INFO | 2025-03-06 10:30:32 | Step 2 completed\u001b[0m\n"
     ]
    },
    {
     "name": "stderr",
     "output_type": "stream",
     "text": [
      "INFO:paidiverpy:Step 2 completed\n"
     ]
    },
    {
     "name": "stdout",
     "output_type": "stream",
     "text": [
      "\u001b[92m☁ paidiverpy ☁  |       INFO | 2025-03-06 10:30:32 | Running step 3: colour_correction - ColourLayer\u001b[0m\n"
     ]
    },
    {
     "name": "stderr",
     "output_type": "stream",
     "text": [
      "INFO:paidiverpy:Running step 3: colour_correction - ColourLayer\n"
     ]
    },
    {
     "name": "stdout",
     "output_type": "stream",
     "text": [
      "\r",
      "[                                        ] | 0% Completed | 942.82 us"
     ]
    },
    {
     "name": "stdout",
     "output_type": "stream",
     "text": [
      "\r",
      "[######################################  ] | 95% Completed | 106.27 ms"
     ]
    },
    {
     "name": "stdout",
     "output_type": "stream",
     "text": [
      "\r",
      "[########################################] | 100% Completed | 208.77 ms"
     ]
    },
    {
     "name": "stdout",
     "output_type": "stream",
     "text": [
      "\n"
     ]
    },
    {
     "name": "stdout",
     "output_type": "stream",
     "text": [
      "\u001b[92m☁ paidiverpy ☁  |       INFO | 2025-03-06 10:30:33 | Step 3 completed\u001b[0m\n"
     ]
    },
    {
     "name": "stderr",
     "output_type": "stream",
     "text": [
      "INFO:paidiverpy:Step 3 completed\n"
     ]
    },
    {
     "name": "stdout",
     "output_type": "stream",
     "text": [
      "\u001b[92m☁ paidiverpy ☁  |       INFO | 2025-03-06 10:30:33 | Running step 4: sharpen - ColourLayer\u001b[0m\n"
     ]
    },
    {
     "name": "stderr",
     "output_type": "stream",
     "text": [
      "INFO:paidiverpy:Running step 4: sharpen - ColourLayer\n"
     ]
    },
    {
     "name": "stdout",
     "output_type": "stream",
     "text": [
      "\r",
      "[                                        ] | 0% Completed | 905.54 us"
     ]
    },
    {
     "name": "stdout",
     "output_type": "stream",
     "text": [
      "\r",
      "[################                        ] | 40% Completed | 105.41 ms"
     ]
    },
    {
     "name": "stdout",
     "output_type": "stream",
     "text": [
      "\r",
      "[################                        ] | 40% Completed | 210.69 ms"
     ]
    },
    {
     "name": "stdout",
     "output_type": "stream",
     "text": [
      "\r",
      "[################                        ] | 40% Completed | 317.74 ms"
     ]
    },
    {
     "name": "stdout",
     "output_type": "stream",
     "text": [
      "\r",
      "[################                        ] | 40% Completed | 425.99 ms"
     ]
    },
    {
     "name": "stdout",
     "output_type": "stream",
     "text": [
      "\r",
      "[################                        ] | 40% Completed | 530.17 ms"
     ]
    },
    {
     "name": "stdout",
     "output_type": "stream",
     "text": [
      "\r",
      "[################                        ] | 40% Completed | 636.72 ms"
     ]
    },
    {
     "name": "stdout",
     "output_type": "stream",
     "text": [
      "\r",
      "[################                        ] | 40% Completed | 746.54 ms"
     ]
    },
    {
     "name": "stdout",
     "output_type": "stream",
     "text": [
      "\r",
      "[################                        ] | 40% Completed | 849.02 ms"
     ]
    },
    {
     "name": "stdout",
     "output_type": "stream",
     "text": [
      "\r",
      "[################                        ] | 40% Completed | 950.49 ms"
     ]
    },
    {
     "name": "stdout",
     "output_type": "stream",
     "text": [
      "\r",
      "[################                        ] | 40% Completed | 1.06 s"
     ]
    },
    {
     "name": "stdout",
     "output_type": "stream",
     "text": [
      "\r",
      "[####################                    ] | 50% Completed | 1.16 s"
     ]
    },
    {
     "name": "stdout",
     "output_type": "stream",
     "text": [
      "\r",
      "[####################                    ] | 50% Completed | 1.26 s"
     ]
    },
    {
     "name": "stdout",
     "output_type": "stream",
     "text": [
      "\r",
      "[########################                ] | 60% Completed | 1.36 s"
     ]
    },
    {
     "name": "stdout",
     "output_type": "stream",
     "text": [
      "\r",
      "[########################                ] | 60% Completed | 1.46 s"
     ]
    },
    {
     "name": "stdout",
     "output_type": "stream",
     "text": [
      "\r",
      "[##########################              ] | 65% Completed | 1.56 s"
     ]
    },
    {
     "name": "stdout",
     "output_type": "stream",
     "text": [
      "\r",
      "[##########################              ] | 65% Completed | 1.67 s"
     ]
    },
    {
     "name": "stdout",
     "output_type": "stream",
     "text": [
      "\r",
      "[##########################              ] | 65% Completed | 1.78 s"
     ]
    },
    {
     "name": "stdout",
     "output_type": "stream",
     "text": [
      "\r",
      "[##########################              ] | 65% Completed | 1.88 s"
     ]
    },
    {
     "name": "stdout",
     "output_type": "stream",
     "text": [
      "\r",
      "[##########################              ] | 65% Completed | 1.99 s"
     ]
    },
    {
     "name": "stdout",
     "output_type": "stream",
     "text": [
      "\r",
      "[############################            ] | 70% Completed | 2.09 s"
     ]
    },
    {
     "name": "stdout",
     "output_type": "stream",
     "text": [
      "\r",
      "[############################            ] | 70% Completed | 2.19 s"
     ]
    },
    {
     "name": "stdout",
     "output_type": "stream",
     "text": [
      "\r",
      "[##############################          ] | 75% Completed | 2.30 s"
     ]
    },
    {
     "name": "stdout",
     "output_type": "stream",
     "text": [
      "\r",
      "[##############################          ] | 75% Completed | 2.41 s"
     ]
    },
    {
     "name": "stdout",
     "output_type": "stream",
     "text": [
      "\r",
      "[##############################          ] | 75% Completed | 2.51 s"
     ]
    },
    {
     "name": "stdout",
     "output_type": "stream",
     "text": [
      "\r",
      "[################################        ] | 80% Completed | 2.62 s"
     ]
    },
    {
     "name": "stdout",
     "output_type": "stream",
     "text": [
      "\r",
      "[################################        ] | 80% Completed | 2.73 s"
     ]
    },
    {
     "name": "stdout",
     "output_type": "stream",
     "text": [
      "\r",
      "[################################        ] | 80% Completed | 2.84 s"
     ]
    },
    {
     "name": "stdout",
     "output_type": "stream",
     "text": [
      "\r",
      "[####################################    ] | 90% Completed | 2.95 s"
     ]
    },
    {
     "name": "stdout",
     "output_type": "stream",
     "text": [
      "\r",
      "[####################################    ] | 90% Completed | 3.06 s"
     ]
    },
    {
     "name": "stdout",
     "output_type": "stream",
     "text": [
      "\r",
      "[####################################    ] | 90% Completed | 3.16 s"
     ]
    },
    {
     "name": "stdout",
     "output_type": "stream",
     "text": [
      "\r",
      "[######################################  ] | 95% Completed | 3.26 s"
     ]
    },
    {
     "name": "stdout",
     "output_type": "stream",
     "text": [
      "\r",
      "[######################################  ] | 95% Completed | 3.37 s"
     ]
    },
    {
     "name": "stdout",
     "output_type": "stream",
     "text": [
      "\r",
      "[########################################] | 100% Completed | 3.47 s"
     ]
    },
    {
     "name": "stdout",
     "output_type": "stream",
     "text": [
      "\n"
     ]
    },
    {
     "name": "stdout",
     "output_type": "stream",
     "text": [
      "\u001b[92m☁ paidiverpy ☁  |       INFO | 2025-03-06 10:30:37 | Step 4 completed\u001b[0m\n"
     ]
    },
    {
     "name": "stderr",
     "output_type": "stream",
     "text": [
      "INFO:paidiverpy:Step 4 completed\n"
     ]
    }
   ],
   "source": [
    "# Run the pipeline\n",
    "pipeline.run()"
   ]
  },
  {
   "cell_type": "code",
   "execution_count": 5,
   "id": "a5aa8ca4-9231-4769-8b12-b4f3d435a29a",
   "metadata": {
    "execution": {
     "iopub.execute_input": "2025-03-06T10:30:37.179686Z",
     "iopub.status.busy": "2025-03-06T10:30:37.176442Z",
     "iopub.status.idle": "2025-03-06T10:30:37.236325Z",
     "shell.execute_reply": "2025-03-06T10:30:37.234183Z"
    }
   },
   "outputs": [],
   "source": [
    "# See the images output\n",
    "# pipeline.images"
   ]
  },
  {
   "cell_type": "markdown",
   "id": "7b9582e0-3202-483e-bdc2-7283a5132af5",
   "metadata": {},
   "source": [
    "## Get files with a private object store with credentials\n",
    "\n",
    "Get files from a private object store. In this case, you need to pass the credentials of the object store as env variables:\n",
    "\n",
    "```\n",
    "OS_SECRET=\n",
    "OS_TOKEN=\n",
    "OS_ENDPOINT=\n",
    "```\n",
    "\n",
    "Normally, in this case, the path starts with \"s3://\", like  in the example below:\n",
    "\n",
    "```yaml\n",
    "general:\n",
    "  input_path: \"s3://paidiverpy/data/lazy_load_benthic/\"\n",
    "  output_path: \"s3://paidiverpy/data/lazy_load_benthic/output2/\"\n",
    "  metadata_path: \"s3://paidiverpy/data/lazy_load_benthic/metadata_ifdo_hf.json\"\n",
    "```\n"
   ]
  },
  {
   "cell_type": "markdown",
   "id": "cbd04ee8-f8e8-4c8b-8423-cdb61f9cf4a5",
   "metadata": {},
   "source": [
    "After providing the correct environment variables, you have to update the configuration file `examples/config_files/config_object_store2.yml` with the correct Object store paths. And then, you can try to run this notebook with the commands below:\n",
    "\n",
    "```python\n",
    "pipeline = Pipeline(config_file_path=\"../config_files/config_object_store2.yml\")\n",
    "pipeline.run()\n",
    "pipeline.save_images(image_format=\"png\")\n",
    "```\n",
    "\n",
    "The images will be saved in the object store\n"
   ]
  },
  {
   "cell_type": "code",
   "execution_count": null,
   "id": "750faa5f-fe47-47e8-ae00-1e3b4f0dc525",
   "metadata": {},
   "outputs": [],
   "source": []
  }
 ],
 "metadata": {
  "kernelspec": {
   "display_name": "Python 3 (ipykernel)",
   "language": "python",
   "name": "python3"
  },
  "language_info": {
   "codemirror_mode": {
    "name": "ipython",
    "version": 3
   },
   "file_extension": ".py",
   "mimetype": "text/x-python",
   "name": "python",
   "nbconvert_exporter": "python",
   "pygments_lexer": "ipython3",
   "version": "3.10.12"
  }
 },
 "nbformat": 4,
 "nbformat_minor": 5
}
