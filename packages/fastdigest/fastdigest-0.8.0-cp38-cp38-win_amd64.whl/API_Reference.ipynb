{
 "cells": [
  {
   "cell_type": "markdown",
   "metadata": {},
   "source": [
    "### Contents\n",
    "\n",
    "- [Initialization](#initialization)\n",
    "  - [TDigest()](#tdigest)\n",
    "  - [TDigest.from_values(values)](#tdigestfrom_valuesvalues)\n",
    "- [Mathematical functions](#mathematical-functions)\n",
    "  - [self.quantile(q)](#selfquantileq)\n",
    "  - [self.percentile(p)](#selfpercentilep)\n",
    "  - [self.median()](#selfmedian)\n",
    "  - [self.iqr()](#selfiqr)\n",
    "  - [self.min()](#selfmin)\n",
    "  - [self.max()](#selfmax)\n",
    "  - [self.cdf(x)](#selfcdfx)\n",
    "  - [self.probability(x1, x2)](#selfprobabilityx1-x2)\n",
    "  - [self.sum()](#selfsum)\n",
    "  - [self.mean()](#selfmean)\n",
    "  - [self.trimmed_mean(q1, q2)](#selftrimmed_meanq1-q2)\n",
    "- [Updating a TDigest](#updating-a-tdigest)\n",
    "  - [self.batch_update(values)](#selfbatch_updatevalues)\n",
    "  - [self.update(value)](#selfupdatevalue)\n",
    "- [Merging TDigest objects](#merging-tdigest-objects)\n",
    "  - [self.merge_inplace(other)](#selfmerge_inplaceother)\n",
    "  - [self.merge(other)](#selfmergeother)\n",
    "  - [merge_all(digests)](#merge_alldigests)\n",
    "- [Dict conversion](#dict-conversion)\n",
    "  - [self.to_dict()](#selfto_dict)\n",
    "  - [TDigest.from_dict(tdigest_dict)](#tdigestfrom_dicttdigest_dict)\n",
    "- [Other methods and properties](#other-methods-and-properties)\n",
    "  - [self.n_values](#selfn_values)\n",
    "  - [self.n_centroids](#selfn_centroids)\n",
    "  - [self.max_centroids](#selfmax_centroids)\n",
    "  - [Magic methods](#magic-methods)"
   ]
  },
  {
   "cell_type": "markdown",
   "metadata": {},
   "source": [
    "### Initialization"
   ]
  },
  {
   "cell_type": "markdown",
   "metadata": {},
   "source": [
    "#### TDigest()\n",
    "\n",
    "Create a new TDigest instance by simply calling the class init method."
   ]
  },
  {
   "cell_type": "code",
   "execution_count": 1,
   "metadata": {},
   "outputs": [
    {
     "data": {
      "text/plain": [
       "TDigest(max_centroids=1000)"
      ]
     },
     "execution_count": 1,
     "metadata": {},
     "output_type": "execute_result"
    }
   ],
   "source": [
    "from fastdigest import TDigest\n",
    "\n",
    "digest = TDigest()\n",
    "digest"
   ]
  },
  {
   "cell_type": "markdown",
   "metadata": {},
   "source": [
    "**Note:** The `max_centroids` parameter controls how big the data structure is allowed to get before it's automatically compressed. A lower value enables a smaller memory footprint and faster computation speed at the cost of some accuracy. The default value of 1000 offers a great balance.\n",
    "\n",
    "You can also set it to `None` to disable automatic compression and have more fine-grained control. However, this is generally not advisable, as regular compression takes almost no time and significantly speeds up all other operations."
   ]
  },
  {
   "cell_type": "markdown",
   "metadata": {},
   "source": [
    "#### TDigest.from_values(values)\n",
    "\n",
    "Static method to initialize a TDigest directly from any sequence of numerical values."
   ]
  },
  {
   "cell_type": "code",
   "execution_count": 2,
   "metadata": {},
   "outputs": [
    {
     "name": "stdout",
     "output_type": "stream",
     "text": [
      "TDigest(max_centroids=1000): 988 centroids from 10000 values\n"
     ]
    }
   ],
   "source": [
    "import numpy as np\n",
    "\n",
    "digest = TDigest.from_values([1.42, 2.71, 3.14])  # from list\n",
    "digest = TDigest.from_values((42,))               # from tuple\n",
    "digest = TDigest.from_values(range(101))          # from range\n",
    "\n",
    "data = np.random.random(10_000)\n",
    "digest = TDigest.from_values(data)  # from NumPy array\n",
    "\n",
    "print(f\"{digest}: {len(digest)} centroids from {digest.n_values} values\")"
   ]
  },
  {
   "cell_type": "markdown",
   "metadata": {},
   "source": [
    "### Mathematical functions"
   ]
  },
  {
   "cell_type": "markdown",
   "metadata": {},
   "source": [
    "#### self.quantile(q)\n",
    "\n",
    "Estimate the value at the quantile `q` (between 0 and 1).\n",
    "\n",
    "This is the inverse function of [cdf(x)](#selfcdfx)."
   ]
  },
  {
   "cell_type": "code",
   "execution_count": 3,
   "metadata": {},
   "outputs": [
    {
     "name": "stdout",
     "output_type": "stream",
     "text": [
      "         Median: 0.001\n",
      "99th percentile: 2.274\n"
     ]
    }
   ],
   "source": [
    "# using a standard normal distribution\n",
    "digest = TDigest.from_values(np.random.normal(0, 1, 10_000))\n",
    "\n",
    "print(f\"         Median: {digest.quantile(0.5):.3f}\")\n",
    "print(f\"99th percentile: {digest.quantile(0.99):.3f}\")"
   ]
  },
  {
   "cell_type": "markdown",
   "metadata": {},
   "source": [
    "#### self.percentile(p)\n",
    "\n",
    "Estimate the value at the percentile `p` (between 0 and 100)."
   ]
  },
  {
   "cell_type": "code",
   "execution_count": 4,
   "metadata": {},
   "outputs": [
    {
     "name": "stdout",
     "output_type": "stream",
     "text": [
      "         Median: 0.001\n",
      "99th percentile: 2.274\n"
     ]
    }
   ],
   "source": [
    "print(f\"         Median: {digest.percentile(50):.3f}\")\n",
    "print(f\"99th percentile: {digest.percentile(99):.3f}\")"
   ]
  },
  {
   "cell_type": "markdown",
   "metadata": {},
   "source": [
    "#### self.median()\n",
    "\n",
    "Estimate the median value."
   ]
  },
  {
   "cell_type": "code",
   "execution_count": 5,
   "metadata": {},
   "outputs": [
    {
     "name": "stdout",
     "output_type": "stream",
     "text": [
      "Median: 0.001\n"
     ]
    }
   ],
   "source": [
    "print(f\"Median: {digest.median():.3f}\")"
   ]
  },
  {
   "cell_type": "markdown",
   "metadata": {},
   "source": [
    "#### self.iqr()\n",
    "\n",
    "Estimate the interquartile range (IQR)."
   ]
  },
  {
   "cell_type": "code",
   "execution_count": 6,
   "metadata": {},
   "outputs": [
    {
     "name": "stdout",
     "output_type": "stream",
     "text": [
      "IQR: 1.334\n"
     ]
    }
   ],
   "source": [
    "print(f\"IQR: {digest.iqr():.3f}\")"
   ]
  },
  {
   "cell_type": "markdown",
   "metadata": {},
   "source": [
    "#### self.min()\n",
    "\n",
    "Return the lowest ingested value. This is always an exact value."
   ]
  },
  {
   "cell_type": "code",
   "execution_count": 7,
   "metadata": {},
   "outputs": [
    {
     "name": "stdout",
     "output_type": "stream",
     "text": [
      "Minimum: -3.545\n"
     ]
    }
   ],
   "source": [
    "print(f\"Minimum: {digest.min():+.3f}\")"
   ]
  },
  {
   "cell_type": "markdown",
   "metadata": {},
   "source": [
    "#### self.max()\n",
    "\n",
    "Return the highest ingested value. This is always an exact value."
   ]
  },
  {
   "cell_type": "code",
   "execution_count": 8,
   "metadata": {},
   "outputs": [
    {
     "name": "stdout",
     "output_type": "stream",
     "text": [
      "Maximum: +4.615\n"
     ]
    }
   ],
   "source": [
    "print(f\"Maximum: {digest.max():+.3f}\")"
   ]
  },
  {
   "cell_type": "markdown",
   "metadata": {},
   "source": [
    "#### self.cdf(x)\n",
    "\n",
    "Estimate the cumulative probability (aka relative rank) of the value `x`.\n",
    "\n",
    "This is the inverse function of [quantile(q)](#selfquantileq)."
   ]
  },
  {
   "cell_type": "code",
   "execution_count": 9,
   "metadata": {},
   "outputs": [
    {
     "name": "stdout",
     "output_type": "stream",
     "text": [
      "cdf(0.0) = 0.500\n",
      "cdf(1.0) = 0.846\n"
     ]
    }
   ],
   "source": [
    "print(f\"cdf(0.0) = {digest.cdf(0.0):.3f}\")\n",
    "print(f\"cdf(1.0) = {digest.cdf(1.0):.3f}\")"
   ]
  },
  {
   "cell_type": "markdown",
   "metadata": {},
   "source": [
    "#### self.probability(x1, x2)\n",
    "\n",
    "Estimate the probability of finding a value in the interval [`x1`, `x2`]."
   ]
  },
  {
   "cell_type": "code",
   "execution_count": 10,
   "metadata": {},
   "outputs": [
    {
     "name": "stdout",
     "output_type": "stream",
     "text": [
      "Probability of value between ±2: 95.4%\n"
     ]
    }
   ],
   "source": [
    "prob = digest.probability(-2.0, 2.0)\n",
    "prob_pct = 100 * prob\n",
    "print(f\"Probability of value between ±2: {prob_pct:.1f}%\")"
   ]
  },
  {
   "cell_type": "markdown",
   "metadata": {},
   "source": [
    "### self.sum()\n",
    "\n",
    "Return the sum of all ingested values. This is an exact value within floating-point precision."
   ]
  },
  {
   "cell_type": "code",
   "execution_count": 11,
   "metadata": {},
   "outputs": [
    {
     "name": "stdout",
     "output_type": "stream",
     "text": [
      "Sum: 55.0\n"
     ]
    }
   ],
   "source": [
    "data = list(range(11))\n",
    "digest = TDigest.from_values(data)\n",
    "\n",
    "print(f\"Sum: {digest.sum()}\")"
   ]
  },
  {
   "cell_type": "markdown",
   "metadata": {},
   "source": [
    "### self.mean()\n",
    "\n",
    "Calculate the arithmetic mean of all ingested values. This is always an exact value."
   ]
  },
  {
   "cell_type": "code",
   "execution_count": 12,
   "metadata": {},
   "outputs": [
    {
     "name": "stdout",
     "output_type": "stream",
     "text": [
      "Mean value: 5.0\n"
     ]
    }
   ],
   "source": [
    "data = list(range(11))\n",
    "digest = TDigest.from_values(data)\n",
    "\n",
    "print(f\"Mean value: {digest.mean()}\")"
   ]
  },
  {
   "cell_type": "markdown",
   "metadata": {},
   "source": [
    "### self.trimmed_mean(q1, q2)\n",
    "\n",
    "Estimate the truncated mean between the two quantiles `q1` and `q2`."
   ]
  },
  {
   "cell_type": "code",
   "execution_count": 13,
   "metadata": {},
   "outputs": [
    {
     "name": "stdout",
     "output_type": "stream",
     "text": [
      "        Mean: 9095.0\n",
      "Trimmed mean: 5.0\n"
     ]
    }
   ],
   "source": [
    "# inserting an outlier that we want to ignore\n",
    "data[-1] = 100_000\n",
    "digest = TDigest.from_values(data)\n",
    "mean = digest.mean()\n",
    "trimmed_mean = digest.trimmed_mean(0.1, 0.9)\n",
    "\n",
    "print(f\"        Mean: {mean}\")\n",
    "print(f\"Trimmed mean: {trimmed_mean}\")"
   ]
  },
  {
   "cell_type": "markdown",
   "metadata": {},
   "source": [
    "### Updating a TDigest"
   ]
  },
  {
   "cell_type": "markdown",
   "metadata": {},
   "source": [
    "#### self.batch_update(values)\n",
    "\n",
    "Update a digest in-place with a sequence of values."
   ]
  },
  {
   "cell_type": "code",
   "execution_count": 14,
   "metadata": {},
   "outputs": [
    {
     "name": "stdout",
     "output_type": "stream",
     "text": [
      "TDigest(max_centroids=1000): 11 values\n"
     ]
    }
   ],
   "source": [
    "digest = TDigest()\n",
    "digest.batch_update([1, 2, 3, 4, 5, 6])\n",
    "digest.batch_update(np.arange(7, 11))  # using numpy array\n",
    "digest.batch_update([5])  # can also just be one value ...\n",
    "digest.batch_update([])   # ... or empty\n",
    "\n",
    "print(f\"{digest}: {digest.n_values} values\")"
   ]
  },
  {
   "cell_type": "markdown",
   "metadata": {},
   "source": [
    "#### self.update(value)\n",
    "\n",
    "Update a digest in-place with a single value.\n",
    "\n",
    "**Note:** Looping over this is relatively slow. If you have many value to add, it's preferable to use `batch_update` instead."
   ]
  },
  {
   "cell_type": "code",
   "execution_count": 15,
   "metadata": {},
   "outputs": [
    {
     "name": "stdout",
     "output_type": "stream",
     "text": [
      "TDigest(max_centroids=1000): 7 values\n"
     ]
    }
   ],
   "source": [
    "digest = TDigest.from_values([1, 2, 3, 4, 5, 6])\n",
    "digest.update(42)\n",
    "\n",
    "print(f\"{digest}: {digest.n_values} values\")"
   ]
  },
  {
   "cell_type": "markdown",
   "metadata": {},
   "source": [
    "### Merging TDigest objects"
   ]
  },
  {
   "cell_type": "markdown",
   "metadata": {},
   "source": [
    "#### self.merge_inplace(other)\n",
    "\n",
    "Use this method or the `+=` operator to locally update a TDigest with the centroids from an `other`."
   ]
  },
  {
   "cell_type": "code",
   "execution_count": 16,
   "metadata": {},
   "outputs": [
    {
     "name": "stdout",
     "output_type": "stream",
     "text": [
      "TDigest(max_centroids=30): 30 centroids from 101 values\n"
     ]
    }
   ],
   "source": [
    "digest = TDigest.from_values(range(50), max_centroids=30)\n",
    "tmp_digest = TDigest.from_values(range(50, 101))\n",
    "\n",
    "digest += tmp_digest  # alias for: digest.merge_inplace(tmp_digest)\n",
    "\n",
    "print(f\"{digest}: {len(digest)} centroids from {digest.n_values} values\")"
   ]
  },
  {
   "cell_type": "markdown",
   "metadata": {},
   "source": [
    "#### self.merge(other)\n",
    "\n",
    "Use this method or the `+` operator to create a new TDigest instance from two digests."
   ]
  },
  {
   "cell_type": "code",
   "execution_count": 17,
   "metadata": {},
   "outputs": [
    {
     "name": "stdout",
     "output_type": "stream",
     "text": [
      "TDigest(max_centroids=1000): 53 centroids from 101 values\n"
     ]
    }
   ],
   "source": [
    "digest1 = TDigest.from_values(range(50), max_centroids=1000)\n",
    "digest2 = TDigest.from_values(range(50, 101), max_centroids=3)\n",
    "\n",
    "merged = digest1 + digest2  # alias for digest1.merge(digest2)\n",
    "\n",
    "print(f\"{merged}: {len(merged)} centroids from {merged.n_values} values\")"
   ]
  },
  {
   "cell_type": "markdown",
   "metadata": {},
   "source": [
    "**Note:** Here, when merging TDigests with different `max_centroids` parameters, the larger value is used for the new instance. `None` counts as larger than any other value, since it means no compression. So, for example:\n",
    "\n",
    "- (1000, 1000) &rarr; 1000\n",
    "- (1000, 2000) &rarr; 2000\n",
    "- (500, `None`) &rarr; `None`"
   ]
  },
  {
   "cell_type": "markdown",
   "metadata": {},
   "source": [
    "#### merge_all(digests)\n",
    "\n",
    "Use this function to easily merge a list (or other iterable) of many TDigests."
   ]
  },
  {
   "cell_type": "code",
   "execution_count": 18,
   "metadata": {},
   "outputs": [
    {
     "name": "stdout",
     "output_type": "stream",
     "text": [
      "TDigest(max_centroids=30): 30 centroids from 100 values\n"
     ]
    }
   ],
   "source": [
    "from fastdigest import merge_all\n",
    "\n",
    "# create a list of 10 digests from (non-overlapping) ranges\n",
    "partial_digests = []\n",
    "for i in range(10):\n",
    "    partial_data = range(i * 10, (i+1) * 10)\n",
    "    digest = TDigest.from_values(partial_data, max_centroids=30)\n",
    "    partial_digests.append(digest)\n",
    "\n",
    "# merge all digests and create a new instance\n",
    "merged = merge_all(partial_digests)\n",
    "\n",
    "print(f\"{merged}: {len(merged)} centroids from {merged.n_values} values\")"
   ]
  },
  {
   "cell_type": "markdown",
   "metadata": {},
   "source": [
    "**Note:** The `max_centroids` value for the new instance is automatically determined from the input TDigests (using the same logic as explained above).\n",
    "\n",
    "But you can also specify a different value:"
   ]
  },
  {
   "cell_type": "code",
   "execution_count": 19,
   "metadata": {},
   "outputs": [
    {
     "name": "stdout",
     "output_type": "stream",
     "text": [
      "TDigest(max_centroids=1000): 100 centroids from 100 values\n"
     ]
    }
   ],
   "source": [
    "merged = merge_all(partial_digests, max_centroids=1000)\n",
    "\n",
    "print(f\"{merged}: {len(merged)} centroids from {merged.n_values} values\")"
   ]
  },
  {
   "cell_type": "markdown",
   "metadata": {},
   "source": [
    "### Dict conversion"
   ]
  },
  {
   "cell_type": "markdown",
   "metadata": {},
   "source": [
    "#### self.to_dict()\n",
    "\n",
    "Obtain a dictionary representation of the TDigest."
   ]
  },
  {
   "cell_type": "code",
   "execution_count": 20,
   "metadata": {},
   "outputs": [
    {
     "name": "stdout",
     "output_type": "stream",
     "text": [
      "{\n",
      "  \"max_centroids\": 3,\n",
      "  \"centroids\": [\n",
      "    {\n",
      "      \"m\": 10.5,\n",
      "      \"c\": 22.0\n",
      "    },\n",
      "    {\n",
      "      \"m\": 49.5,\n",
      "      \"c\": 56.0\n",
      "    },\n",
      "    {\n",
      "      \"m\": 89.0,\n",
      "      \"c\": 23.0\n",
      "    }\n",
      "  ]\n",
      "}\n"
     ]
    }
   ],
   "source": [
    "import json\n",
    "\n",
    "digest = TDigest.from_values(range(101), max_centroids=3)\n",
    "tdigest_dict = digest.to_dict()\n",
    "\n",
    "print(json.dumps(tdigest_dict, indent=2))"
   ]
  },
  {
   "cell_type": "markdown",
   "metadata": {},
   "source": [
    "**Note:** The dict has to contain a \"centroids\" list, with each centroid itself being a dict with keys \"m\" (mean) and \"c\" (count). The \"max_centroids\" key is optional."
   ]
  },
  {
   "cell_type": "markdown",
   "metadata": {},
   "source": [
    "#### TDigest.from_dict(tdigest_dict)\n",
    "\n",
    "Static method to create a new TDigest instance from the `tdigest_dict`."
   ]
  },
  {
   "cell_type": "code",
   "execution_count": 21,
   "metadata": {},
   "outputs": [
    {
     "name": "stdout",
     "output_type": "stream",
     "text": [
      "TDigest(max_centroids=3): 101 values\n"
     ]
    }
   ],
   "source": [
    "digest = TDigest.from_dict(tdigest_dict)\n",
    "\n",
    "print(f\"{digest}: {digest.n_values} values\")"
   ]
  },
  {
   "cell_type": "markdown",
   "metadata": {},
   "source": [
    "### Other methods and properties"
   ]
  },
  {
   "cell_type": "markdown",
   "metadata": {},
   "source": [
    "#### self.n_values\n",
    "\n",
    "Returns the total number of values ingested."
   ]
  },
  {
   "cell_type": "markdown",
   "metadata": {},
   "source": [
    "#### self.n_centroids\n",
    "\n",
    "Returns the number of centroids in the digest."
   ]
  },
  {
   "cell_type": "markdown",
   "metadata": {},
   "source": [
    "#### self.max_centroids\n",
    "\n",
    "Returns the `max_centroids` parameter of the instance. Can also be used to change the parameter."
   ]
  },
  {
   "cell_type": "markdown",
   "metadata": {},
   "source": [
    "#### Magic methods\n",
    "\n",
    "- `digest1 == digest2`: returns `True` if both instances have identical centroids (within f64 accuracy) and the same `max_centroids` parameter\n",
    "\n",
    "- `self + other`: alias for `self.merge(other)`\n",
    "\n",
    "- `self += other`: alias for `self.merge_inplace(other)`\n",
    "\n",
    "- `len(digest)`: alias for `digest.n_centroids`\n",
    "\n",
    "- `repr(digest)`, `str(digest)`: returns a string representation"
   ]
  }
 ],
 "metadata": {
  "kernelspec": {
   "display_name": "Python 3",
   "language": "python",
   "name": "python3"
  },
  "language_info": {
   "codemirror_mode": {
    "name": "ipython",
    "version": 3
   },
   "file_extension": ".py",
   "mimetype": "text/x-python",
   "name": "python",
   "nbconvert_exporter": "python",
   "pygments_lexer": "ipython3",
   "version": "3.13.2"
  }
 },
 "nbformat": 4,
 "nbformat_minor": 2
}
