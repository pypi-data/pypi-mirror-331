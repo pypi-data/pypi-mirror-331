{
 "cells": [
  {
   "cell_type": "code",
   "execution_count": 4,
   "metadata": {},
   "outputs": [],
   "source": [
    "from rdcanon import canon_smarts, Graph, prims\n",
    "import random\n",
    "\n",
    "smarts = \"[CX4H3:1][NX2H1:2]\"\n",
    "# prims1 = {}\n",
    "# for k in prims:\n",
    "    # prims1[k] = random.random()\n",
    "\n",
    "g = Graph()\n",
    "\n",
    "g.graph_from_smarts(smarts, prims)\n"
   ]
  },
  {
   "cell_type": "code",
   "execution_count": 5,
   "metadata": {},
   "outputs": [
    {
     "name": "stdout",
     "output_type": "stream",
     "text": [
      "Graph([Node(0, [C;X4;H3:1]), Node(1, [N;X2;H1:2])])\n"
     ]
    }
   ],
   "source": [
    "print(g)"
   ]
  },
  {
   "cell_type": "code",
   "execution_count": 2,
   "metadata": {},
   "outputs": [
    {
     "name": "stdout",
     "output_type": "stream",
     "text": [
      "Atom instance is valid.\n"
     ]
    }
   ],
   "source": [
    "class ValenceConstraint:\n",
    "    # Define maximum allowed valence (simplified) for each supported atom.\n",
    "    constraints = {\n",
    "        'C': {'max_valence': 4},\n",
    "        'N': {'max_valence': 3},  # Typically trivalent; can vary with formal charge/hybridization.\n",
    "        'O': {'max_valence': 2},\n",
    "        'S': {'max_valence': 6},  # Sulfur can expand its octet.\n",
    "        'P': {'max_valence': 5}   # Phosphorus typically forms up to 5 bonds.\n",
    "    }\n",
    "    \n",
    "    def __init__(self, atom, hydrogens, connectivity, charge, hybridization):\n",
    "        self.atom = atom\n",
    "        self.hydrogens = hydrogens\n",
    "        self.connectivity = connectivity\n",
    "        self.charge = charge\n",
    "        self.hybridization = hybridization\n",
    "        self.validate()\n",
    "    \n",
    "    def validate(self):\n",
    "        if self.atom not in self.constraints:\n",
    "            raise ValueError(f\"Unsupported atom type: {self.atom}\")\n",
    "        \n",
    "        max_valence = self.constraints[self.atom]['max_valence']\n",
    "        # Basic valence check: the sum of hydrogen count and connectivity should not exceed the maximum allowed.\n",
    "        if self.hydrogens + self.connectivity > max_valence:\n",
    "            raise ValueError(\n",
    "                f\"Invalid valence for {self.atom}: {self.hydrogens} hydrogens and connectivity {self.connectivity} \"\n",
    "                f\"exceeds maximum allowed valence of {max_valence}.\"\n",
    "            )\n",
    "        # Additional checks (e.g., based on charge or hybridization) can be added here.\n",
    "        return True\n",
    "\n",
    "# Example usage:\n",
    "try:\n",
    "    # Carbon with 2 hydrogens and connectivity of 2 is valid (2+2 <= 4).\n",
    "    atom_instance = ValenceConstraint(atom='C', hydrogens=2, connectivity=2, charge=0, hybridization='sp2')\n",
    "    print(\"Atom instance is valid.\")\n",
    "except ValueError as e:\n",
    "    print(e)\n"
   ]
  }
 ],
 "metadata": {
  "kernelspec": {
   "display_name": "general",
   "language": "python",
   "name": "python3"
  },
  "language_info": {
   "codemirror_mode": {
    "name": "ipython",
    "version": 3
   },
   "file_extension": ".py",
   "mimetype": "text/x-python",
   "name": "python",
   "nbconvert_exporter": "python",
   "pygments_lexer": "ipython3",
   "version": "3.13.2"
  }
 },
 "nbformat": 4,
 "nbformat_minor": 2
}
