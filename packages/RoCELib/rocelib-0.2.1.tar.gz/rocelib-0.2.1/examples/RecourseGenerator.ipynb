{
 "cells": [
  {
   "cell_type": "markdown",
   "metadata": {
    "collapsed": false
   },
   "source": [
    "# Recourse Generation\n",
    "\n",
    "The key point of this library - to implement recourse methods."
   ]
  },
  {
   "cell_type": "markdown",
   "metadata": {
    "collapsed": false
   },
   "source": [
    "## Usage\n",
    "\n",
    "Here is how to use a RecourseGenerator"
   ]
  },
  {
   "cell_type": "code",
   "execution_count": 3,
   "metadata": {
    "collapsed": false
   },
   "outputs": [],
   "source": [
    "# Import necessary components\n",
    "from rocelib.recourse_methods.BinaryLinearSearch import BinaryLinearSearch\n",
    "from rocelib.models.pytorch_models.TrainablePyTorchModel import TrainablePyTorchModel\n",
    "from rocelib.datasets.ExampleDatasets import get_example_dataset\n",
    "from rocelib.models.sklearn_models.TrainableLogisticRegressionModel import TrainableLogisticRegressionModel\n",
    "from rocelib.tasks.ClassificationTask import ClassificationTask\n",
    "from rocelib.recourse_methods.STCE import TrexNN\n",
    "\n",
    "# Load and preprocess dataset\n",
    "dl = get_example_dataset(\"ionosphere\")\n",
    "dl.default_preprocess()\n",
    "\n",
    "# Load model, note some RecourseGenerators may only work with a certain type of model,\n",
    "# e.g., MCE only works with a TrainablePyTorchModel\n",
    "# model = TrainableLogisticRegressionModel()\n",
    "model = TrainablePyTorchModel(34, [10], 1)\n",
    "# Create task\n",
    "model.train(dl)\n",
    "task = ClassificationTask(model, dl)\n"
   ]
  },
  {
   "cell_type": "code",
   "execution_count": 4,
   "metadata": {
    "collapsed": false
   },
   "outputs": [
    {
     "name": "stdout",
     "output_type": "stream",
     "text": [
      "   feature_0  feature_1  feature_2  feature_3  feature_4  feature_5  \\\n",
      "1   0.348433        0.0   0.721648  -0.527811   0.634308  -1.037587   \n",
      "3   0.348433        0.0   0.721648  -1.125172   0.768477   1.921340   \n",
      "5   0.348433        0.0  -1.243407  -0.114091  -1.349028  -0.511523   \n",
      "7  -2.869990        0.0  -1.290430  -0.100661  -1.157858  -0.251849   \n",
      "9   0.348433        0.0  -1.327935  -0.292560  -1.157858  -0.251849   \n",
      "\n",
      "   feature_6  feature_7  feature_8  feature_9  ...  feature_24  feature_25  \\\n",
      "1  -1.339106  -2.029452   0.964074  -0.469482  ...   -1.037790   -0.383054   \n",
      "3   0.329433  -2.152585  -1.010873  -0.375331  ...    1.045426    1.926340   \n",
      "5  -1.133699  -0.456917  -0.720437  -0.237965  ...   -0.624980    0.109965   \n",
      "7   0.914531  -2.152585  -1.010873  -0.375331  ...    1.045426    2.109592   \n",
      "9  -1.118190  -0.229536  -0.784346  -0.930218  ...   -0.942070    0.114081   \n",
      "\n",
      "   feature_26  feature_27  feature_28  feature_29  feature_30  feature_31  \\\n",
      "1   -1.447849   -0.208419   -0.989185   -0.173530   -0.909063   -0.115213   \n",
      "3   -0.049490    1.947300    1.080843   -0.341218   -0.167687    1.957315   \n",
      "5   -1.113629    0.294529   -0.794754    0.069447   -0.617720    0.007398   \n",
      "7    0.889208    1.947300   -0.658092    0.055016    1.134610    1.957315   \n",
      "9   -0.650264    0.084840   -0.658092    0.055016   -0.326921    0.477055   \n",
      "\n",
      "   feature_32  feature_33  \n",
      "1   -0.932605   -0.083286  \n",
      "3   -1.289826    2.107299  \n",
      "5   -0.670131    0.225864  \n",
      "7   -0.669384   -0.030962  \n",
      "9   -0.826650    0.782967  \n",
      "\n",
      "[5 rows x 34 columns]\n"
     ]
    }
   ],
   "source": [
    "# Each RecourseGenerator takes the task on creation, it can also take a custom distance function\n",
    "#recourse_gen = BinaryLinearSearch(task)\n",
    "recourse_gen = TrexNN(task)\n",
    "# Get negative instances, the default column_name is always \"target\" but you can set it to the\n",
    "# name of your dataset's target variable\n",
    "negs = dl.get_negative_instances(neg_value=0, column_name=\"target\")\n",
    "\n",
    "# You can generate for a set of instances stored in a DataFrame\n",
    "print(recourse_gen.generate(negs.head(5)))"
   ]
  },
  {
   "cell_type": "code",
   "execution_count": 17,
   "metadata": {
    "collapsed": false
   },
   "outputs": [
    {
     "name": "stdout",
     "output_type": "stream",
     "text": [
      "   feature_0  feature_1  feature_2  feature_3  feature_4  feature_5  \\\n",
      "1   0.348433        0.0   0.721648  -0.374822   0.668592  -0.754725   \n",
      "\n",
      "   feature_6  feature_7  feature_8  feature_9  ...  feature_26  feature_27  \\\n",
      "1  -0.727327  -1.443417   0.939151  -0.597236  ...   -1.156499    0.016656   \n",
      "\n",
      "   feature_28  feature_29  feature_30  feature_31  feature_32  feature_33  \\\n",
      "1   -0.762151    0.021424   -0.716593    0.036511   -0.761113    0.046193   \n",
      "\n",
      "   target      loss  \n",
      "1       1  0.058028  \n",
      "\n",
      "[1 rows x 36 columns]\n"
     ]
    }
   ],
   "source": [
    "# You can generate for one instance, that can be a Series\n",
    "print(recourse_gen.generate_for_instance(negs.iloc[0]))"
   ]
  },
  {
   "cell_type": "code",
   "execution_count": 10,
   "metadata": {
    "collapsed": false
   },
   "outputs": [
    {
     "name": "stdout",
     "output_type": "stream",
     "text": [
      "     feature_0  feature_1  feature_2  feature_3  feature_4  feature_5  \\\n",
      "1     0.348433        0.0   0.690526  -0.398488   0.657984  -0.812093   \n",
      "3     0.348433        0.0   0.503254  -0.649715   0.649199   0.939155   \n",
      "5     0.348433        0.0  -0.468945  -0.096833  -0.394883  -0.354418   \n",
      "7    -0.581892        0.0  -0.001999  -0.072066   0.211646  -0.279242   \n",
      "9     0.348433        0.0  -0.248192  -0.010496  -0.142386   0.058144   \n",
      "..         ...        ...        ...        ...        ...        ...   \n",
      "242   0.348433        0.0  -0.278011  -1.062065  -0.902017  -0.241978   \n",
      "244   0.348433        0.0  -1.074052  -0.052282   0.737076   0.085947   \n",
      "246   0.348433        0.0  -0.358022  -0.085565  -0.144406  -0.248432   \n",
      "250   0.348433        0.0  -0.200273   0.409059  -0.290839   0.653651   \n",
      "252   0.348433        0.0  -0.320657   0.063514  -0.254427   0.117673   \n",
      "\n",
      "     feature_6  feature_7  feature_8  feature_9  ...  feature_26  feature_27  \\\n",
      "1    -0.693998  -1.507096   0.940103  -0.432706  ...   -0.798969   -0.088650   \n",
      "3     0.463956  -1.277857  -0.295062  -0.353723  ...    0.119930    1.133642   \n",
      "5    -0.233066  -0.310897   0.033396  -0.292458  ...   -0.423446    0.285563   \n",
      "7     0.771043  -0.775724   0.179099  -0.291842  ...    0.810663    0.694930   \n",
      "9    -0.138234   0.189942  -0.033717  -0.069438  ...   -1.104656    0.907204   \n",
      "..         ...        ...        ...        ...  ...         ...         ...   \n",
      "242  -0.848219  -0.243744   0.047087   0.564872  ...   -2.475447   -1.363428   \n",
      "244   0.642538  -0.160395  -0.871026  -0.205878  ...    0.524716   -1.393306   \n",
      "246  -0.055134  -0.225036  -0.048231  -0.346272  ...    0.545030    0.853071   \n",
      "250   0.116701   1.489778  -1.644757  -0.040388  ...   -0.137042   -1.160703   \n",
      "252  -0.253676   0.220243  -1.246359   1.247813  ...   -0.639866    0.716812   \n",
      "\n",
      "     feature_28  feature_29  feature_30  feature_31  feature_32  feature_33  \\\n",
      "1     -0.403520   -0.102804   -0.329230   -0.039972   -0.302671   -0.069768   \n",
      "3      0.814207   -0.154090    0.154814    1.086871   -0.454026    1.153175   \n",
      "5     -0.155442    0.079386   -0.076043    0.098111   -0.106541    0.190423   \n",
      "7      0.512425    0.089803    1.134610    0.585795    0.605832    0.001387   \n",
      "9     -0.982534    0.847385   -0.870300    0.918824   -1.249248    0.996700   \n",
      "..          ...         ...         ...         ...         ...         ...   \n",
      "242   -0.858278   -1.110502   -0.384989    0.091543   -0.414914    0.101694   \n",
      "244   -0.789553    0.118174    0.794322    0.241375    0.720401   -0.197833   \n",
      "246    0.042992    0.065216    0.090227    0.025031    0.076540   -0.011091   \n",
      "250   -0.306946   -0.401957   -0.111856   -0.232455    0.539570    0.795209   \n",
      "252   -1.129732    0.344628   -1.116695    0.208920   -1.173496    0.037874   \n",
      "\n",
      "     target      loss  \n",
      "1         1  0.062963  \n",
      "3         1  0.062700  \n",
      "5         1  0.082498  \n",
      "7         1  0.071546  \n",
      "9         1  0.055340  \n",
      "..      ...       ...  \n",
      "242       1  0.065916  \n",
      "244       1  0.074841  \n",
      "246       1  0.051220  \n",
      "250       1  0.070049  \n",
      "252       1  0.067504  \n",
      "\n",
      "[125 rows x 36 columns]\n"
     ]
    }
   ],
   "source": [
    "# You can generate for all negative instances\n",
    "print(recourse_gen.generate_for_all(neg_value=0, column_name=\"target\"))"
   ]
  },
  {
   "cell_type": "markdown",
   "metadata": {
    "collapsed": false
   },
   "source": [
    "## Implementing your own RecourseGenerator\n",
    "\n",
    "Here is an example of creating your own RecourseGenerator. Let's make a simple one which gets\n",
    "n different positive instances and chooses a random one. Let's say it also allows a random seed value."
   ]
  },
  {
   "cell_type": "code",
   "execution_count": 18,
   "metadata": {
    "collapsed": false
   },
   "outputs": [],
   "source": [
    "from rocelib.recourse_methods.RecourseGenerator import RecourseGenerator\n",
    "import pandas as pd\n",
    "\n",
    "# Implement the RecourseGenerator class\n",
    "class RandomCE(RecourseGenerator):\n",
    "\n",
    "    # You must implement the _generation_method function, this returns the CE for a given\n",
    "    # instance, if you take any extra arguments make sure to specify them before **kwargs,\n",
    "    # like we have done for n and seed (they must have some default value)\n",
    "    def _generation_method(self, instance,\n",
    "                           column_name=\"target\", neg_value=0, n=50, seed=None, **kwargs):\n",
    "        # Remember, the RecourseGenerator has access to its Task! Use this to get access to your dataset or model,\n",
    "        # or to use any of their methods, here we use the ClassificationTask's get_random_positive_instance() method\n",
    "        pos = pd.concat([self.task.get_random_positive_instance(neg_value=neg_value, column_name=column_name) for _ in range(n)])\n",
    "\n",
    "        # Depending on whether a seed is provided, we return a random positive - the result must be a DataFrame\n",
    "        if seed is None:\n",
    "            return pos.sample(n=1)\n",
    "\n",
    "        return pos.sample(n=1, random_state=seed)"
   ]
  },
  {
   "cell_type": "markdown",
   "metadata": {
    "collapsed": false
   },
   "source": [
    "Within the RecourseGenerator you can access:\n",
    "\n",
    "- The Task - self.Task\n",
    "- The DatasetLoader - self.task.training_data\n",
    "- The TrainableModel - self.task.model\n",
    "\n",
    "and their respective methods. If your method needs additional arguments, you can put them in the function signature\n",
    "but do NOT remove any other arguments (including **kwargs). Remember to return a DataFrame!\n",
    "\n",
    "Here is our new CE in use below:"
   ]
  },
  {
   "cell_type": "code",
   "execution_count": 19,
   "metadata": {
    "collapsed": false
   },
   "outputs": [
    {
     "name": "stdout",
     "output_type": "stream",
     "text": [
      "     feature_0  feature_1  feature_2  feature_3  feature_4  feature_5  \\\n",
      "1     0.348433        0.0  -0.287006  -0.059418  -0.327280  -0.460692   \n",
      "3     0.348433        0.0   0.484384  -0.432757   0.641493  -0.492138   \n",
      "5     0.348433        0.0   0.721648  -0.240904   0.768477  -0.187913   \n",
      "7     0.348433        0.0   0.545410  -0.002046   0.656576  -0.202300   \n",
      "9     0.348433        0.0   0.613620   0.296294   0.594067   0.468411   \n",
      "..         ...        ...        ...        ...        ...        ...   \n",
      "242   0.348433        0.0  -0.619744  -0.667804  -0.301718   0.231077   \n",
      "244   0.348433        0.0  -0.104511  -1.482835   0.487810   0.949881   \n",
      "246   0.348433        0.0   0.721648   0.105575   0.680925  -0.449413   \n",
      "250   0.348433        0.0   0.591607   0.208886   0.647426   0.299250   \n",
      "252   0.348433        0.0   0.642915   0.094890   0.706064   0.167120   \n",
      "\n",
      "     feature_6  feature_7  feature_8  feature_9  ...  feature_24  feature_25  \\\n",
      "1    -0.088637  -0.309458  -0.020832  -0.176433  ...    0.339450    0.140195   \n",
      "3     0.753946  -0.545877   0.733144  -0.727926  ...    0.375390   -0.806809   \n",
      "5     0.914531  -0.328207   0.964074  -0.410661  ...    0.784565   -0.545903   \n",
      "7     0.806899  -0.126749   0.837322  -0.347990  ...    0.625691    0.362717   \n",
      "9     0.611574   0.731219   0.444229   0.946009  ...   -1.491405    1.646429   \n",
      "..         ...        ...        ...        ...  ...         ...         ...   \n",
      "242  -0.327685   0.090979  -0.187972  -0.087870  ...   -0.012542    0.304305   \n",
      "244   0.530875  -0.089442   0.107401  -0.039522  ...    0.212223    0.665099   \n",
      "246   0.452555  -0.229536   0.964074  -0.375331  ...    0.888040    0.229704   \n",
      "250   0.623954   0.516203   0.550106   0.600058  ...   -0.813233    1.711380   \n",
      "252   0.833751   0.298360   0.925444   0.350141  ...    0.017339    1.611118   \n",
      "\n",
      "     feature_26  feature_27  feature_28  feature_29  feature_30  feature_31  \\\n",
      "1     -0.018412    0.066888    0.091685    0.121591    0.338088   -0.098970   \n",
      "3      0.051214   -0.868020    0.214489   -1.124954    0.207189   -1.111407   \n",
      "5      0.356276   -0.404563    0.612966   -0.705476    0.334776   -0.505119   \n",
      "7      0.376083    0.368431    0.496335    0.356643    0.625120    0.217092   \n",
      "9     -2.186885    1.334364   -1.839333    1.091271   -1.937593    0.835878   \n",
      "..          ...         ...         ...         ...         ...         ...   \n",
      "242   -0.244847   -0.132951   -0.319973   -0.218793    0.029310   -0.281366   \n",
      "244   -0.099930    0.630702    0.145575    0.618328    0.144263    0.579191   \n",
      "246    0.725105    0.179352    1.001809    0.234238    0.895662   -0.169869   \n",
      "250   -1.458072    1.546821   -1.234879    1.463671   -1.292928    1.262423   \n",
      "252   -0.402800    1.652275   -0.224332    1.751636   -0.376670    1.700608   \n",
      "\n",
      "     feature_32  feature_33  \n",
      "1      0.460314   -0.214233  \n",
      "3      0.138961   -1.272993  \n",
      "5      0.560828   -0.875298  \n",
      "7      0.580965    0.213805  \n",
      "9     -2.225374    0.526953  \n",
      "..          ...         ...  \n",
      "242   -0.509723   -1.100093  \n",
      "244    0.112750    0.609276  \n",
      "246    0.985358    0.066222  \n",
      "250   -1.577936    1.162936  \n",
      "252   -0.496023    1.814037  \n",
      "\n",
      "[125 rows x 34 columns]\n"
     ]
    }
   ],
   "source": [
    "# Create RecourseGenerator\n",
    "random_ce = RandomCE(task)\n",
    "\n",
    "# Test it\n",
    "ces = random_ce.generate_for_all()\n",
    "print(ces)"
   ]
  },
  {
   "cell_type": "markdown",
   "metadata": {
    "collapsed": false
   },
   "source": [
    "We can even verify it by seeing all the predictions for the CEs are positive."
   ]
  },
  {
   "cell_type": "code",
   "execution_count": 20,
   "metadata": {
    "collapsed": false
   },
   "outputs": [
    {
     "name": "stdout",
     "output_type": "stream",
     "text": [
      "[1 1 1 1 1 1 1 1 1 1 1 1 1 1 1 1 1 1 1 1 1 1 1 1 1 1 1 1 1 1 1 1 1 1 1 1 1\n",
      " 1 1 1 1 1 1 1 1 1 1 1 1 1 1 1 1 1 1 1 1 1 1 1 1 1 1 1 1 1 1 1 1 1 1 1 1 1\n",
      " 1 1 1 1 1 1 1 1 1 1 1 1 1 1 1 1 1 1 1 1 1 1 1 1 1 1 1 1 1 1 1 1 1 1 1 1 1\n",
      " 1 1 1 1 1 1 1 1 1 1 1 1 1 1]\n"
     ]
    }
   ],
   "source": [
    "print(model.predict(ces))"
   ]
  }
 ],
 "metadata": {
  "kernelspec": {
   "display_name": "Python 3",
   "language": "python",
   "name": "python3"
  },
  "language_info": {
   "codemirror_mode": {
    "name": "ipython",
    "version": 2
   },
   "file_extension": ".py",
   "mimetype": "text/x-python",
   "name": "python",
   "nbconvert_exporter": "python",
   "pygments_lexer": "ipython2",
   "version": "2.7.6"
  }
 },
 "nbformat": 4,
 "nbformat_minor": 0
}
