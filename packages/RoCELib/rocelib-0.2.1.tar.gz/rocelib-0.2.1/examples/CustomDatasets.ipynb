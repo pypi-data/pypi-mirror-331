{
 "cells": [
  {
   "cell_type": "markdown",
   "metadata": {},
   "source": [
    "# CsvDatasetLoader Usage Example\n",
    "This notebook demonstrates how to use the `CsvDatasetLoader` class to load and manipulate a dataset from a CSV file.\n",
    "We will perform the following operations:\n",
    "1. Load a dataset\n",
    "2. Access features and target columns\n",
    "3. Filter negative instances\n",
    "4. Get a random positive instance\n",
    "5. Programmatically set the dataset"
   ]
  },
  {
   "cell_type": "code",
   "execution_count": 1,
   "metadata": {},
   "outputs": [],
   "source": [
    "# Import necessary libraries\n",
    "import pandas as pd\n",
    "from rocelib.datasets.custom_datasets.CsvDatasetLoader import CsvDatasetLoader\n"
   ]
  },
  {
   "cell_type": "markdown",
   "metadata": {},
   "source": [
    "### Step 1: Initialize the CsvDatasetLoader with the path to the CSV and the target column name"
   ]
  },
  {
   "cell_type": "code",
   "execution_count": 2,
   "metadata": {},
   "outputs": [],
   "source": [
    "# Let's assume the contents of 'test.csv' look like this:\n",
    "# ----------------------------------\n",
    "# feature1,feature2,target\n",
    "# 1.0, 2.0, 0\n",
    "# 3.0, 4.0, 1\n",
    "# 5.0, 6.0, 0\n",
    "# 7.0, 8.0, 1\n",
    "# ----------------------------------\n",
    "\n",
    "csv_path = \"test.csv\"  # Path to the CSV file\n",
    "target_column = \"target\"  # Name of the target column\n",
    "\n",
    "# Create an instance of CsvDatasetLoader\n",
    "loader = CsvDatasetLoader(csv=csv_path, target_column=target_column)"
   ]
  },
  {
   "cell_type": "markdown",
   "metadata": {},
   "source": [
    "### Step 2: Access the loaded dataset (whole dataset)"
   ]
  },
  {
   "cell_type": "code",
   "execution_count": 3,
   "metadata": {},
   "outputs": [
    {
     "name": "stdout",
     "output_type": "stream",
     "text": [
      "Full Dataset:\n",
      "   feature1  feature2  target\n",
      "0       1.0       2.0       0\n",
      "1       3.0       4.0       1\n",
      "2       5.0       6.0       0\n",
      "3       7.0       8.0       1\n"
     ]
    }
   ],
   "source": [
    "# This will print the full dataset including feature columns and target column\n",
    "print(\"Full Dataset:\")\n",
    "print(loader.data)"
   ]
  },
  {
   "cell_type": "markdown",
   "metadata": {},
   "source": [
    "### Step 3: Access the feature columns (X)"
   ]
  },
  {
   "cell_type": "code",
   "execution_count": 4,
   "metadata": {},
   "outputs": [
    {
     "name": "stdout",
     "output_type": "stream",
     "text": [
      "\n",
      "Feature Columns (X):\n",
      "   feature1  feature2\n",
      "0       1.0       2.0\n",
      "1       3.0       4.0\n",
      "2       5.0       6.0\n",
      "3       7.0       8.0\n"
     ]
    }
   ],
   "source": [
    "# This returns only the feature columns (without the target column)\n",
    "print(\"\\nFeature Columns (X):\")\n",
    "print(loader.X)"
   ]
  },
  {
   "cell_type": "markdown",
   "metadata": {},
   "source": [
    "### Step 4: Access the target column (y)"
   ]
  },
  {
   "cell_type": "code",
   "execution_count": 5,
   "metadata": {},
   "outputs": [
    {
     "name": "stdout",
     "output_type": "stream",
     "text": [
      "\n",
      "Target Column (y):\n",
      "   target\n",
      "0       0\n",
      "1       1\n",
      "2       0\n",
      "3       1\n"
     ]
    }
   ],
   "source": [
    "# This returns only the target column\n",
    "print(\"\\nTarget Column (y):\")\n",
    "print(loader.y)"
   ]
  },
  {
   "cell_type": "markdown",
   "metadata": {},
   "source": [
    "### Step 5: Filter negative instances (target value == 0)"
   ]
  },
  {
   "cell_type": "code",
   "execution_count": 6,
   "metadata": {},
   "outputs": [
    {
     "name": "stdout",
     "output_type": "stream",
     "text": [
      "\n",
      "Negative Instances (Target == 0):\n",
      "   feature1  feature2\n",
      "0       1.0       2.0\n",
      "2       5.0       6.0\n"
     ]
    }
   ],
   "source": [
    "# Assuming '0' is the negative value in the dataset for the target column\n",
    "negative_instances = loader.get_negative_instances(neg_value=0)\n",
    "print(\"\\nNegative Instances (Target == 0):\")\n",
    "print(negative_instances)"
   ]
  },
  {
   "cell_type": "markdown",
   "metadata": {},
   "source": [
    "### Step 6: Retrieve a random positive instance (target value != 0)"
   ]
  },
  {
   "cell_type": "code",
   "execution_count": 7,
   "metadata": {},
   "outputs": [
    {
     "name": "stdout",
     "output_type": "stream",
     "text": [
      "\n",
      "Random Positive Instance (Target != 0):\n",
      "   feature1  feature2\n",
      "3       7.0       8.0\n"
     ]
    }
   ],
   "source": [
    "# Assuming any value other than '0' is a positive instance\n",
    "positive_instance = loader.get_random_positive_instance(neg_value=0)\n",
    "print(\"\\nRandom Positive Instance (Target != 0):\")\n",
    "print(positive_instance)"
   ]
  },
  {
   "cell_type": "markdown",
   "metadata": {},
   "source": [
    "### Step 7: Demonstrating setting the dataset programmatically (optional)"
   ]
  },
  {
   "cell_type": "code",
   "execution_count": 8,
   "metadata": {},
   "outputs": [
    {
     "name": "stdout",
     "output_type": "stream",
     "text": [
      "\n",
      "Newly Set Dataset:\n",
      "   feature1  feature2  target\n",
      "0       9.0      11.0       1\n",
      "1      10.0      12.0       0\n"
     ]
    }
   ],
   "source": [
    "# For demonstration purposes, we'll set the data manually and show that it works as expected\n",
    "new_data = pd.DataFrame({\n",
    "    'feature1': [9.0, 10.0],\n",
    "    'feature2': [11.0, 12.0],\n",
    "    'target': [1, 0]\n",
    "})\n",
    "\n",
    "loader.data = new_data  # Setting the new dataset\n",
    "\n",
    "# Display the newly set dataset\n",
    "print(\"\\nNewly Set Dataset:\")\n",
    "print(loader.data)"
   ]
  },
  {
   "cell_type": "markdown",
   "metadata": {},
   "source": [
    "### Demonstrating functionality with the new dataset"
   ]
  },
  {
   "cell_type": "code",
   "execution_count": 9,
   "metadata": {},
   "outputs": [
    {
     "name": "stdout",
     "output_type": "stream",
     "text": [
      "\n",
      "New Feature Columns (X):\n",
      "   feature1  feature2\n",
      "0       9.0      11.0\n",
      "1      10.0      12.0\n",
      "\n",
      "New Target Column (y):\n",
      "   target\n",
      "0       1\n",
      "1       0\n",
      "\n",
      "Negative Instances (Target == 0) from the new data:\n",
      "   feature1  feature2\n",
      "1      10.0      12.0\n",
      "\n",
      "Random Positive Instance (Target != 0) from the new data:\n",
      "   feature1  feature2\n",
      "0       9.0      11.0\n"
     ]
    }
   ],
   "source": [
    "# Now, demonstrate the functionality again with the new dataset\n",
    "print(\"\\nNew Feature Columns (X):\")\n",
    "print(loader.X)\n",
    "\n",
    "print(\"\\nNew Target Column (y):\")\n",
    "print(loader.y)\n",
    "\n",
    "# Negative instances with the new data\n",
    "print(\"\\nNegative Instances (Target == 0) from the new data:\")\n",
    "print(loader.get_negative_instances(neg_value=0))\n",
    "\n",
    "# Random positive instance with the new data\n",
    "print(\"\\nRandom Positive Instance (Target != 0) from the new data:\")\n",
    "print(loader.get_random_positive_instance(neg_value=0))"
   ]
  },
  {
   "cell_type": "code",
   "execution_count": 9,
   "outputs": [],
   "source": [],
   "metadata": {
    "collapsed": false
   }
  }
 ],
 "metadata": {
  "kernelspec": {
   "display_name": "Python 3",
   "language": "python",
   "name": "python3"
  },
  "language_info": {
   "name": "python",
   "version": "3.8.5"
  }
 },
 "nbformat": 4,
 "nbformat_minor": 4
}
