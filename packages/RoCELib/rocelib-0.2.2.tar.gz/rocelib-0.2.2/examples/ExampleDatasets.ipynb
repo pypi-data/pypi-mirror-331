{
 "cells": [
  {
   "cell_type": "markdown",
   "metadata": {},
   "source": [
    "# Example Usage of ExampleDatasetLoader with IonosphereDatasetLoader"
   ]
  },
  {
   "cell_type": "markdown",
   "metadata": {},
   "source": [
    "This notebook demonstrates how to use the ExampleDatasetLoader class and its implementation, specifically the IonosphereDatasetLoader. We will:\n",
    "1. Load the dataset\n",
    "2. Perform default preprocessing\n",
    "3. Use custom preprocessing techniques such as imputing missing values, scaling, and encoding categorical data.\n"
   ]
  },
  {
   "cell_type": "code",
   "execution_count": 1,
   "metadata": {},
   "outputs": [
    {
     "data": {
      "text/plain": "   feature_0  feature_1  feature_2  feature_3  feature_4  feature_5  \\\n0          1          0    0.99539   -0.05889    0.85243    0.02306   \n1          1          0    1.00000   -0.18829    0.93035   -0.36156   \n2          1          0    1.00000   -0.03365    1.00000    0.00485   \n3          1          0    1.00000   -0.45161    1.00000    1.00000   \n4          1          0    1.00000   -0.02401    0.94140    0.06531   \n\n   feature_6  feature_7  feature_8  feature_9  ...  feature_25  feature_26  \\\n0    0.83398   -0.37708    1.00000    0.03760  ...    -0.51171     0.41078   \n1   -0.10868   -0.93597    1.00000   -0.04549  ...    -0.26569    -0.20468   \n2    1.00000   -0.12062    0.88965    0.01198  ...    -0.40220     0.58984   \n3    0.71216   -1.00000    0.00000    0.00000  ...     0.90695     0.51613   \n4    0.92106   -0.23255    0.77152   -0.16399  ...    -0.65158     0.13290   \n\n   feature_27  feature_28  feature_29  feature_30  feature_31  feature_32  \\\n0    -0.46168     0.21266    -0.34090     0.42267    -0.54487     0.18641   \n1    -0.18401    -0.19040    -0.11593    -0.16626    -0.06288    -0.13738   \n2    -0.22145     0.43100    -0.17365     0.60436    -0.24180     0.56045   \n3     1.00000     1.00000    -0.20099     0.25682     1.00000    -0.32382   \n4    -0.53206     0.02431    -0.62197    -0.05707    -0.59573    -0.04608   \n\n   feature_33  target  \n0    -0.45300       g  \n1    -0.02447       b  \n2    -0.38238       g  \n3     1.00000       b  \n4    -0.65697       g  \n\n[5 rows x 35 columns]",
      "text/html": "<div>\n<style scoped>\n    .dataframe tbody tr th:only-of-type {\n        vertical-align: middle;\n    }\n\n    .dataframe tbody tr th {\n        vertical-align: top;\n    }\n\n    .dataframe thead th {\n        text-align: right;\n    }\n</style>\n<table border=\"1\" class=\"dataframe\">\n  <thead>\n    <tr style=\"text-align: right;\">\n      <th></th>\n      <th>feature_0</th>\n      <th>feature_1</th>\n      <th>feature_2</th>\n      <th>feature_3</th>\n      <th>feature_4</th>\n      <th>feature_5</th>\n      <th>feature_6</th>\n      <th>feature_7</th>\n      <th>feature_8</th>\n      <th>feature_9</th>\n      <th>...</th>\n      <th>feature_25</th>\n      <th>feature_26</th>\n      <th>feature_27</th>\n      <th>feature_28</th>\n      <th>feature_29</th>\n      <th>feature_30</th>\n      <th>feature_31</th>\n      <th>feature_32</th>\n      <th>feature_33</th>\n      <th>target</th>\n    </tr>\n  </thead>\n  <tbody>\n    <tr>\n      <th>0</th>\n      <td>1</td>\n      <td>0</td>\n      <td>0.99539</td>\n      <td>-0.05889</td>\n      <td>0.85243</td>\n      <td>0.02306</td>\n      <td>0.83398</td>\n      <td>-0.37708</td>\n      <td>1.00000</td>\n      <td>0.03760</td>\n      <td>...</td>\n      <td>-0.51171</td>\n      <td>0.41078</td>\n      <td>-0.46168</td>\n      <td>0.21266</td>\n      <td>-0.34090</td>\n      <td>0.42267</td>\n      <td>-0.54487</td>\n      <td>0.18641</td>\n      <td>-0.45300</td>\n      <td>g</td>\n    </tr>\n    <tr>\n      <th>1</th>\n      <td>1</td>\n      <td>0</td>\n      <td>1.00000</td>\n      <td>-0.18829</td>\n      <td>0.93035</td>\n      <td>-0.36156</td>\n      <td>-0.10868</td>\n      <td>-0.93597</td>\n      <td>1.00000</td>\n      <td>-0.04549</td>\n      <td>...</td>\n      <td>-0.26569</td>\n      <td>-0.20468</td>\n      <td>-0.18401</td>\n      <td>-0.19040</td>\n      <td>-0.11593</td>\n      <td>-0.16626</td>\n      <td>-0.06288</td>\n      <td>-0.13738</td>\n      <td>-0.02447</td>\n      <td>b</td>\n    </tr>\n    <tr>\n      <th>2</th>\n      <td>1</td>\n      <td>0</td>\n      <td>1.00000</td>\n      <td>-0.03365</td>\n      <td>1.00000</td>\n      <td>0.00485</td>\n      <td>1.00000</td>\n      <td>-0.12062</td>\n      <td>0.88965</td>\n      <td>0.01198</td>\n      <td>...</td>\n      <td>-0.40220</td>\n      <td>0.58984</td>\n      <td>-0.22145</td>\n      <td>0.43100</td>\n      <td>-0.17365</td>\n      <td>0.60436</td>\n      <td>-0.24180</td>\n      <td>0.56045</td>\n      <td>-0.38238</td>\n      <td>g</td>\n    </tr>\n    <tr>\n      <th>3</th>\n      <td>1</td>\n      <td>0</td>\n      <td>1.00000</td>\n      <td>-0.45161</td>\n      <td>1.00000</td>\n      <td>1.00000</td>\n      <td>0.71216</td>\n      <td>-1.00000</td>\n      <td>0.00000</td>\n      <td>0.00000</td>\n      <td>...</td>\n      <td>0.90695</td>\n      <td>0.51613</td>\n      <td>1.00000</td>\n      <td>1.00000</td>\n      <td>-0.20099</td>\n      <td>0.25682</td>\n      <td>1.00000</td>\n      <td>-0.32382</td>\n      <td>1.00000</td>\n      <td>b</td>\n    </tr>\n    <tr>\n      <th>4</th>\n      <td>1</td>\n      <td>0</td>\n      <td>1.00000</td>\n      <td>-0.02401</td>\n      <td>0.94140</td>\n      <td>0.06531</td>\n      <td>0.92106</td>\n      <td>-0.23255</td>\n      <td>0.77152</td>\n      <td>-0.16399</td>\n      <td>...</td>\n      <td>-0.65158</td>\n      <td>0.13290</td>\n      <td>-0.53206</td>\n      <td>0.02431</td>\n      <td>-0.62197</td>\n      <td>-0.05707</td>\n      <td>-0.59573</td>\n      <td>-0.04608</td>\n      <td>-0.65697</td>\n      <td>g</td>\n    </tr>\n  </tbody>\n</table>\n<p>5 rows × 35 columns</p>\n</div>"
     },
     "execution_count": 1,
     "metadata": {},
     "output_type": "execute_result"
    }
   ],
   "source": [
    "# Importing the required class\n",
    "from rocelib.datasets.ExampleDatasets import get_example_dataset\n",
    "\n",
    "# Instantiate the dataset loader, here we use get_example_dataset\n",
    "# which has options:\n",
    "#                - iris\n",
    "#                - ionosphere\n",
    "#                - adult\n",
    "#                - titanic\n",
    "# Alternatively instantiate DatasetLoader directly, e.g., IonosphereDatasetLoader()\n",
    "ionosphere_loader = get_example_dataset(\"ionosphere\")\n",
    "\n",
    "# Load the dataset\n",
    "ionosphere_loader.load_data()\n",
    "\n",
    "# Display the first 5 rows of the dataset\n",
    "ionosphere_loader.data.head()"
   ]
  },
  {
   "cell_type": "markdown",
   "metadata": {},
   "source": [
    "## Preprocessing the Data Using the Default Method\n",
    "The `default_preprocess` method applies the default pipeline which in this case includes standard scaling."
   ]
  },
  {
   "cell_type": "code",
   "execution_count": 2,
   "metadata": {},
   "outputs": [
    {
     "data": {
      "text/plain": "   feature_0  feature_1  feature_2  feature_3  feature_4  feature_5  \\\n0   0.348433        0.0   0.712372  -0.234257   0.484208  -0.201735   \n1   0.348433        0.0   0.721648  -0.527811   0.634308  -1.037587   \n2   0.348433        0.0   0.721648  -0.176998   0.768477  -0.241309   \n3   0.348433        0.0   0.721648  -1.125172   0.768477   1.921340   \n4   0.348433        0.0   0.721648  -0.155129   0.655594  -0.109918   \n\n   feature_6  feature_7  feature_8  feature_9  ...  feature_25  feature_26  \\\n0   0.577059  -0.954679   0.964074  -0.297510  ...   -0.867565   -0.253868   \n1  -1.339106  -2.029452   0.964074  -0.469482  ...   -0.383054   -1.447849   \n2   0.914531  -0.461494   0.746139  -0.350536  ...   -0.651896    0.093506   \n3   0.329433  -2.152585  -1.010873  -0.375331  ...    1.926340   -0.049490   \n4   0.754068  -0.676741   0.512838  -0.714742  ...   -1.143025   -0.792950   \n\n   feature_27  feature_28  feature_29  feature_30  feature_31  feature_32  \\\n0   -0.713971   -0.288290   -0.617039    0.122937   -1.055054   -0.312221   \n1   -0.208419   -0.989185   -0.173530   -0.909063   -0.115213   -0.932605   \n2   -0.276586    0.091389   -0.287320    0.441318   -0.464092    0.404443   \n3    1.947300    1.080843   -0.341218   -0.167687    1.957315   -1.289826   \n4   -0.842112   -0.615818   -1.171144   -0.717726   -1.154227   -0.757673   \n\n   feature_33  target  \n0   -0.999595       1  \n1   -0.083286       0  \n2   -0.848591       1  \n3    2.107299       0  \n4   -1.435736       1  \n\n[5 rows x 35 columns]",
      "text/html": "<div>\n<style scoped>\n    .dataframe tbody tr th:only-of-type {\n        vertical-align: middle;\n    }\n\n    .dataframe tbody tr th {\n        vertical-align: top;\n    }\n\n    .dataframe thead th {\n        text-align: right;\n    }\n</style>\n<table border=\"1\" class=\"dataframe\">\n  <thead>\n    <tr style=\"text-align: right;\">\n      <th></th>\n      <th>feature_0</th>\n      <th>feature_1</th>\n      <th>feature_2</th>\n      <th>feature_3</th>\n      <th>feature_4</th>\n      <th>feature_5</th>\n      <th>feature_6</th>\n      <th>feature_7</th>\n      <th>feature_8</th>\n      <th>feature_9</th>\n      <th>...</th>\n      <th>feature_25</th>\n      <th>feature_26</th>\n      <th>feature_27</th>\n      <th>feature_28</th>\n      <th>feature_29</th>\n      <th>feature_30</th>\n      <th>feature_31</th>\n      <th>feature_32</th>\n      <th>feature_33</th>\n      <th>target</th>\n    </tr>\n  </thead>\n  <tbody>\n    <tr>\n      <th>0</th>\n      <td>0.348433</td>\n      <td>0.0</td>\n      <td>0.712372</td>\n      <td>-0.234257</td>\n      <td>0.484208</td>\n      <td>-0.201735</td>\n      <td>0.577059</td>\n      <td>-0.954679</td>\n      <td>0.964074</td>\n      <td>-0.297510</td>\n      <td>...</td>\n      <td>-0.867565</td>\n      <td>-0.253868</td>\n      <td>-0.713971</td>\n      <td>-0.288290</td>\n      <td>-0.617039</td>\n      <td>0.122937</td>\n      <td>-1.055054</td>\n      <td>-0.312221</td>\n      <td>-0.999595</td>\n      <td>1</td>\n    </tr>\n    <tr>\n      <th>1</th>\n      <td>0.348433</td>\n      <td>0.0</td>\n      <td>0.721648</td>\n      <td>-0.527811</td>\n      <td>0.634308</td>\n      <td>-1.037587</td>\n      <td>-1.339106</td>\n      <td>-2.029452</td>\n      <td>0.964074</td>\n      <td>-0.469482</td>\n      <td>...</td>\n      <td>-0.383054</td>\n      <td>-1.447849</td>\n      <td>-0.208419</td>\n      <td>-0.989185</td>\n      <td>-0.173530</td>\n      <td>-0.909063</td>\n      <td>-0.115213</td>\n      <td>-0.932605</td>\n      <td>-0.083286</td>\n      <td>0</td>\n    </tr>\n    <tr>\n      <th>2</th>\n      <td>0.348433</td>\n      <td>0.0</td>\n      <td>0.721648</td>\n      <td>-0.176998</td>\n      <td>0.768477</td>\n      <td>-0.241309</td>\n      <td>0.914531</td>\n      <td>-0.461494</td>\n      <td>0.746139</td>\n      <td>-0.350536</td>\n      <td>...</td>\n      <td>-0.651896</td>\n      <td>0.093506</td>\n      <td>-0.276586</td>\n      <td>0.091389</td>\n      <td>-0.287320</td>\n      <td>0.441318</td>\n      <td>-0.464092</td>\n      <td>0.404443</td>\n      <td>-0.848591</td>\n      <td>1</td>\n    </tr>\n    <tr>\n      <th>3</th>\n      <td>0.348433</td>\n      <td>0.0</td>\n      <td>0.721648</td>\n      <td>-1.125172</td>\n      <td>0.768477</td>\n      <td>1.921340</td>\n      <td>0.329433</td>\n      <td>-2.152585</td>\n      <td>-1.010873</td>\n      <td>-0.375331</td>\n      <td>...</td>\n      <td>1.926340</td>\n      <td>-0.049490</td>\n      <td>1.947300</td>\n      <td>1.080843</td>\n      <td>-0.341218</td>\n      <td>-0.167687</td>\n      <td>1.957315</td>\n      <td>-1.289826</td>\n      <td>2.107299</td>\n      <td>0</td>\n    </tr>\n    <tr>\n      <th>4</th>\n      <td>0.348433</td>\n      <td>0.0</td>\n      <td>0.721648</td>\n      <td>-0.155129</td>\n      <td>0.655594</td>\n      <td>-0.109918</td>\n      <td>0.754068</td>\n      <td>-0.676741</td>\n      <td>0.512838</td>\n      <td>-0.714742</td>\n      <td>...</td>\n      <td>-1.143025</td>\n      <td>-0.792950</td>\n      <td>-0.842112</td>\n      <td>-0.615818</td>\n      <td>-1.171144</td>\n      <td>-0.717726</td>\n      <td>-1.154227</td>\n      <td>-0.757673</td>\n      <td>-1.435736</td>\n      <td>1</td>\n    </tr>\n  </tbody>\n</table>\n<p>5 rows × 35 columns</p>\n</div>"
     },
     "execution_count": 2,
     "metadata": {},
     "output_type": "execute_result"
    }
   ],
   "source": [
    "# Apply default preprocessing\n",
    "ionosphere_loader.default_preprocess()\n",
    "\n",
    "# Show the preprocessed data\n",
    "ionosphere_loader.data.head()"
   ]
  },
  {
   "cell_type": "markdown",
   "metadata": {},
   "source": [
    "## Custom Preprocessing\n",
    "We can also customize the preprocessing by defining different imputation strategies, scaling methods, or encoding choices."
   ]
  },
  {
   "cell_type": "code",
   "execution_count": 3,
   "metadata": {},
   "outputs": [
    {
     "data": {
      "text/plain": "   feature_0  feature_1  feature_2  feature_3  feature_4  feature_5  \\\n0        1.0        0.0   0.997695   0.470555   0.926215   0.511530   \n1        1.0        0.0   1.000000   0.405855   0.965175   0.319220   \n2        1.0        0.0   1.000000   0.483175   1.000000   0.502425   \n3        1.0        0.0   1.000000   0.274195   1.000000   1.000000   \n4        1.0        0.0   1.000000   0.487995   0.970700   0.532655   \n\n   feature_6  feature_7  feature_8  feature_9  ...  feature_25  feature_26  \\\n0    0.91699   0.311460   1.000000   0.518800  ...    0.244145    0.705390   \n1    0.44566   0.032015   1.000000   0.477255  ...    0.367155    0.397660   \n2    1.00000   0.439690   0.944825   0.505990  ...    0.298900    0.794920   \n3    0.85608   0.000000   0.500000   0.500000  ...    0.953475    0.758065   \n4    0.96053   0.383725   0.885760   0.418005  ...    0.174210    0.566450   \n\n   feature_27  feature_28  feature_29  feature_30  feature_31  feature_32  \\\n0    0.269160    0.606330    0.329550    0.711335    0.227565    0.593205   \n1    0.407995    0.404800    0.442035    0.416870    0.468560    0.431310   \n2    0.389275    0.715500    0.413175    0.802180    0.379100    0.780225   \n3    1.000000    1.000000    0.399505    0.628410    1.000000    0.338090   \n4    0.233970    0.512155    0.189015    0.471465    0.202135    0.476960   \n\n   feature_33  target  \n0    0.273500     1.0  \n1    0.487765     0.0  \n2    0.308810     1.0  \n3    1.000000     0.0  \n4    0.171515     1.0  \n\n[5 rows x 35 columns]",
      "text/html": "<div>\n<style scoped>\n    .dataframe tbody tr th:only-of-type {\n        vertical-align: middle;\n    }\n\n    .dataframe tbody tr th {\n        vertical-align: top;\n    }\n\n    .dataframe thead th {\n        text-align: right;\n    }\n</style>\n<table border=\"1\" class=\"dataframe\">\n  <thead>\n    <tr style=\"text-align: right;\">\n      <th></th>\n      <th>feature_0</th>\n      <th>feature_1</th>\n      <th>feature_2</th>\n      <th>feature_3</th>\n      <th>feature_4</th>\n      <th>feature_5</th>\n      <th>feature_6</th>\n      <th>feature_7</th>\n      <th>feature_8</th>\n      <th>feature_9</th>\n      <th>...</th>\n      <th>feature_25</th>\n      <th>feature_26</th>\n      <th>feature_27</th>\n      <th>feature_28</th>\n      <th>feature_29</th>\n      <th>feature_30</th>\n      <th>feature_31</th>\n      <th>feature_32</th>\n      <th>feature_33</th>\n      <th>target</th>\n    </tr>\n  </thead>\n  <tbody>\n    <tr>\n      <th>0</th>\n      <td>1.0</td>\n      <td>0.0</td>\n      <td>0.997695</td>\n      <td>0.470555</td>\n      <td>0.926215</td>\n      <td>0.511530</td>\n      <td>0.91699</td>\n      <td>0.311460</td>\n      <td>1.000000</td>\n      <td>0.518800</td>\n      <td>...</td>\n      <td>0.244145</td>\n      <td>0.705390</td>\n      <td>0.269160</td>\n      <td>0.606330</td>\n      <td>0.329550</td>\n      <td>0.711335</td>\n      <td>0.227565</td>\n      <td>0.593205</td>\n      <td>0.273500</td>\n      <td>1.0</td>\n    </tr>\n    <tr>\n      <th>1</th>\n      <td>1.0</td>\n      <td>0.0</td>\n      <td>1.000000</td>\n      <td>0.405855</td>\n      <td>0.965175</td>\n      <td>0.319220</td>\n      <td>0.44566</td>\n      <td>0.032015</td>\n      <td>1.000000</td>\n      <td>0.477255</td>\n      <td>...</td>\n      <td>0.367155</td>\n      <td>0.397660</td>\n      <td>0.407995</td>\n      <td>0.404800</td>\n      <td>0.442035</td>\n      <td>0.416870</td>\n      <td>0.468560</td>\n      <td>0.431310</td>\n      <td>0.487765</td>\n      <td>0.0</td>\n    </tr>\n    <tr>\n      <th>2</th>\n      <td>1.0</td>\n      <td>0.0</td>\n      <td>1.000000</td>\n      <td>0.483175</td>\n      <td>1.000000</td>\n      <td>0.502425</td>\n      <td>1.00000</td>\n      <td>0.439690</td>\n      <td>0.944825</td>\n      <td>0.505990</td>\n      <td>...</td>\n      <td>0.298900</td>\n      <td>0.794920</td>\n      <td>0.389275</td>\n      <td>0.715500</td>\n      <td>0.413175</td>\n      <td>0.802180</td>\n      <td>0.379100</td>\n      <td>0.780225</td>\n      <td>0.308810</td>\n      <td>1.0</td>\n    </tr>\n    <tr>\n      <th>3</th>\n      <td>1.0</td>\n      <td>0.0</td>\n      <td>1.000000</td>\n      <td>0.274195</td>\n      <td>1.000000</td>\n      <td>1.000000</td>\n      <td>0.85608</td>\n      <td>0.000000</td>\n      <td>0.500000</td>\n      <td>0.500000</td>\n      <td>...</td>\n      <td>0.953475</td>\n      <td>0.758065</td>\n      <td>1.000000</td>\n      <td>1.000000</td>\n      <td>0.399505</td>\n      <td>0.628410</td>\n      <td>1.000000</td>\n      <td>0.338090</td>\n      <td>1.000000</td>\n      <td>0.0</td>\n    </tr>\n    <tr>\n      <th>4</th>\n      <td>1.0</td>\n      <td>0.0</td>\n      <td>1.000000</td>\n      <td>0.487995</td>\n      <td>0.970700</td>\n      <td>0.532655</td>\n      <td>0.96053</td>\n      <td>0.383725</td>\n      <td>0.885760</td>\n      <td>0.418005</td>\n      <td>...</td>\n      <td>0.174210</td>\n      <td>0.566450</td>\n      <td>0.233970</td>\n      <td>0.512155</td>\n      <td>0.189015</td>\n      <td>0.471465</td>\n      <td>0.202135</td>\n      <td>0.476960</td>\n      <td>0.171515</td>\n      <td>1.0</td>\n    </tr>\n  </tbody>\n</table>\n<p>5 rows × 35 columns</p>\n</div>"
     },
     "execution_count": 3,
     "metadata": {},
     "output_type": "execute_result"
    }
   ],
   "source": [
    "# Custom preprocessing\n",
    "ionosphere_loader.preprocess(\n",
    "    impute_strategy_numeric='mean',  # Impute missing numeric values with mean\n",
    "    scale_method='minmax',           # Apply min-max scaling\n",
    "    encode_categorical=False         # No categorical encoding needed (since no categorical features)\n",
    ")\n",
    "\n",
    "# Show preprocessed data after custom preprocessing\n",
    "ionosphere_loader.data.head()"
   ]
  },
  {
   "cell_type": "markdown",
   "source": [
    "If you do not want to alter the state of the DatasetLoader after preprocessing, you can\n",
    "get the preprocessed features directly too using the functions below:"
   ],
   "metadata": {
    "collapsed": false
   }
  },
  {
   "cell_type": "code",
   "execution_count": 4,
   "outputs": [
    {
     "name": "stdout",
     "output_type": "stream",
     "text": [
      "   feature_0  feature_1  feature_2  feature_3  feature_4  feature_5  \\\n",
      "0   0.348433        0.0   0.712372  -0.234257   0.484208  -0.201735   \n",
      "1   0.348433        0.0   0.721648  -0.527811   0.634308  -1.037587   \n",
      "2   0.348433        0.0   0.721648  -0.176998   0.768477  -0.241309   \n",
      "3   0.348433        0.0   0.721648  -1.125172   0.768477   1.921340   \n",
      "4   0.348433        0.0   0.721648  -0.155129   0.655594  -0.109918   \n",
      "\n",
      "   feature_6  feature_7  feature_8  feature_9  ...  feature_24  feature_25  \\\n",
      "0   0.577059  -0.954679   0.964074  -0.297510  ...    0.297728   -0.867565   \n",
      "1  -1.339106  -2.029452   0.964074  -0.469482  ...   -1.037790   -0.383054   \n",
      "2   0.914531  -0.461494   0.746139  -0.350536  ...    0.310141   -0.651896   \n",
      "3   0.329433  -2.152585  -1.010873  -0.375331  ...    1.045426    1.926340   \n",
      "4   0.754068  -0.676741   0.512838  -0.714742  ...   -0.628910   -1.143025   \n",
      "\n",
      "   feature_26  feature_27  feature_28  feature_29  feature_30  feature_31  \\\n",
      "0   -0.253868   -0.713971   -0.288290   -0.617039    0.122937   -1.055054   \n",
      "1   -1.447849   -0.208419   -0.989185   -0.173530   -0.909063   -0.115213   \n",
      "2    0.093506   -0.276586    0.091389   -0.287320    0.441318   -0.464092   \n",
      "3   -0.049490    1.947300    1.080843   -0.341218   -0.167687    1.957315   \n",
      "4   -0.792950   -0.842112   -0.615818   -1.171144   -0.717726   -1.154227   \n",
      "\n",
      "   feature_32  feature_33  \n",
      "0   -0.312221   -0.999595  \n",
      "1   -0.932605   -0.083286  \n",
      "2    0.404443   -0.848591  \n",
      "3   -1.289826    2.107299  \n",
      "4   -0.757673   -1.435736  \n",
      "\n",
      "[5 rows x 34 columns]\n",
      "   feature_0  feature_1  feature_2  feature_3  feature_4  feature_5  \\\n",
      "0        1.0        0.0   0.997695   0.470555   0.926215   0.511530   \n",
      "1        1.0        0.0   1.000000   0.405855   0.965175   0.319220   \n",
      "2        1.0        0.0   1.000000   0.483175   1.000000   0.502425   \n",
      "3        1.0        0.0   1.000000   0.274195   1.000000   1.000000   \n",
      "4        1.0        0.0   1.000000   0.487995   0.970700   0.532655   \n",
      "\n",
      "   feature_6  feature_7  feature_8  feature_9  ...  feature_24  feature_25  \\\n",
      "0    0.91699   0.311460   1.000000   0.518800  ...    0.784055    0.244145   \n",
      "1    0.44566   0.032015   1.000000   0.477255  ...    0.398340    0.367155   \n",
      "2    1.00000   0.439690   0.944825   0.505990  ...    0.787640    0.298900   \n",
      "3    0.85608   0.000000   0.500000   0.500000  ...    1.000000    0.953475   \n",
      "4    0.96053   0.383725   0.885760   0.418005  ...    0.516430    0.174210   \n",
      "\n",
      "   feature_26  feature_27  feature_28  feature_29  feature_30  feature_31  \\\n",
      "0    0.705390    0.269160    0.606330    0.329550    0.711335    0.227565   \n",
      "1    0.397660    0.407995    0.404800    0.442035    0.416870    0.468560   \n",
      "2    0.794920    0.389275    0.715500    0.413175    0.802180    0.379100   \n",
      "3    0.758065    1.000000    1.000000    0.399505    0.628410    1.000000   \n",
      "4    0.566450    0.233970    0.512155    0.189015    0.471465    0.202135   \n",
      "\n",
      "   feature_32  feature_33  \n",
      "0    0.593205    0.273500  \n",
      "1    0.431310    0.487765  \n",
      "2    0.780225    0.308810  \n",
      "3    0.338090    1.000000  \n",
      "4    0.476960    0.171515  \n",
      "\n",
      "[5 rows x 34 columns]\n"
     ]
    }
   ],
   "source": [
    "ionosphere_loader = get_example_dataset(\"ionosphere\")\n",
    "\n",
    "default_preprocessed = ionosphere_loader.get_default_preprocessed_features()\n",
    "\n",
    "print(default_preprocessed.head())\n",
    "\n",
    "custom_preprocessed = ionosphere_loader.get_preprocessed_features(\n",
    "    impute_strategy_numeric='mean',  # Impute missing numeric values with mean\n",
    "    scale_method='minmax',           # Apply min-max scaling\n",
    "    encode_categorical=False         # No categorical encoding needed (since no categorical features)\n",
    ")\n",
    "\n",
    "print(custom_preprocessed.head())"
   ],
   "metadata": {
    "collapsed": false
   }
  },
  {
   "cell_type": "code",
   "execution_count": 4,
   "outputs": [],
   "source": [],
   "metadata": {
    "collapsed": false
   }
  }
 ],
 "metadata": {
  "kernelspec": {
   "display_name": "Python 3",
   "language": "python",
   "name": "python3"
  },
  "language_info": {
   "name": "python",
   "version": "3.8.10"
  }
 },
 "nbformat": 4,
 "nbformat_minor": 5
}
