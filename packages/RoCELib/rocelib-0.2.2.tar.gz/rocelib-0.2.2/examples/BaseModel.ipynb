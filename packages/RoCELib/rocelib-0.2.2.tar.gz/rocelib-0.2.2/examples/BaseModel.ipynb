{
 "cells": [
  {
   "cell_type": "markdown",
   "metadata": {},
   "source": [
    "# Extending TrainableModel: TrainableLogisticRegressionModel Example\n",
    "\n",
    "This notebook demonstrates how to extend the `TrainableModel` abstract base class and implement its methods using a custom logistic regression model from scikit-learn (different to the basic one provided in the library). This will allow your model to be used in other recourse generation methods."
   ]
  },
  {
   "cell_type": "code",
   "execution_count": 1,
   "outputs": [],
   "source": [
    "from rocelib.datasets.DatasetLoader import DatasetLoader\n",
    "# Import TrainableModel\n",
    "from rocelib.models.TrainableModel import TrainableModel\n",
    "\n",
    "# Import modules four your model\n",
    "import pandas as pd\n",
    "import torch\n",
    "from sklearn.linear_model import LogisticRegression\n",
    "from sklearn.metrics import accuracy_score, classification_report\n",
    "from sklearn.model_selection import train_test_split\n",
    "from sklearn.datasets import load_iris"
   ],
   "metadata": {
    "collapsed": false
   }
  },
  {
   "cell_type": "code",
   "execution_count": 2,
   "metadata": {},
   "outputs": [],
   "source": [
    "# Extend TrainableModel and implement all its methods\n",
    "class TrainableLogisticRegressionModel(TrainableModel):\n",
    "    def __init__(self):\n",
    "        super().__init__(LogisticRegression())\n",
    "    \n",
    "    def train(self, dataset_loader: DatasetLoader) -> None:\n",
    "        self._model.fit(dataset_loader.X, dataset_loader.y.values.ravel())\n",
    "    \n",
    "    def predict(self, X: pd.DataFrame) -> pd.DataFrame:\n",
    "        predictions = self._model.predict(X)\n",
    "        return pd.DataFrame(predictions, columns=['prediction'], index=X.index)\n",
    "    \n",
    "    def predict_single(self, X: pd.DataFrame) -> int:\n",
    "        return int(self._model.predict(X)[0])\n",
    "    \n",
    "    def predict_proba(self, X: pd.DataFrame) -> pd.DataFrame:\n",
    "        probabilities = self._model.predict_proba(X)\n",
    "        return pd.DataFrame(probabilities, columns=[f'class_{i}' for i in range(probabilities.shape[1])], index=X.index)\n",
    "    \n",
    "    def predict_proba_tensor(self, X: torch.Tensor) -> torch.Tensor:\n",
    "        X_numpy = X.numpy()\n",
    "        probabilities = self._model.predict_proba(X_numpy)\n",
    "        return torch.tensor(probabilities)\n",
    "    \n",
    "    def evaluate(self, X: pd.DataFrame, y: pd.DataFrame):\n",
    "        y_pred = self.predict(X)\n",
    "        accuracy = accuracy_score(y, y_pred)\n",
    "        report = classification_report(y, y_pred)\n",
    "        return {\n",
    "            'accuracy': accuracy,\n",
    "            'classification_report': report\n",
    "        }"
   ]
  },
  {
   "cell_type": "markdown",
   "metadata": {},
   "source": [
    "## Example Usage"
   ]
  },
  {
   "cell_type": "code",
   "execution_count": 3,
   "metadata": {},
   "outputs": [
    {
     "name": "stdout",
     "output_type": "stream",
     "text": [
      "Predictions:\n",
      "     prediction\n",
      "73            1\n",
      "18            0\n",
      "118           2\n",
      "78            1\n",
      "76            1\n",
      "\n",
      "Single prediction: 1\n",
      "\n",
      "Probabilities:\n",
      "          class_0   class_1       class_2\n",
      "73   3.799987e-03  0.827708  1.684918e-01\n",
      "18   9.469409e-01  0.053059  1.990661e-07\n",
      "118  8.843105e-09  0.001549  9.984513e-01\n",
      "78   6.479330e-03  0.792189  2.013315e-01\n",
      "76   1.455772e-03  0.774086  2.244581e-01\n",
      "\n",
      "Probabilities (tensor):\n",
      "tensor([[3.8000e-03, 8.2771e-01, 1.6849e-01],\n",
      "        [9.4694e-01, 5.3059e-02, 1.9907e-07],\n",
      "        [8.8431e-09, 1.5487e-03, 9.9845e-01],\n",
      "        [6.4793e-03, 7.9219e-01, 2.0133e-01],\n",
      "        [1.4558e-03, 7.7409e-01, 2.2446e-01]], dtype=torch.float64)\n",
      "\n",
      "Accuracy: 1.0\n",
      "\n",
      "Classification Report:\n",
      "              precision    recall  f1-score   support\n",
      "\n",
      "           0       1.00      1.00      1.00        10\n",
      "           1       1.00      1.00      1.00         9\n",
      "           2       1.00      1.00      1.00        11\n",
      "\n",
      "    accuracy                           1.00        30\n",
      "   macro avg       1.00      1.00      1.00        30\n",
      "weighted avg       1.00      1.00      1.00        30\n",
      "\n"
     ]
    },
    {
     "name": "stderr",
     "output_type": "stream",
     "text": [
      "C:\\Users\\aarya\\Documents\\Imperial College London\\UROP\\RoCELib refined\\RoCELib\\venv\\lib\\site-packages\\sklearn\\utils\\validation.py:2739: UserWarning: X does not have valid feature names, but LogisticRegression was fitted with feature names\n",
      "  warnings.warn(\n"
     ]
    }
   ],
   "source": [
    "# Load the Iris dataset, we are not using a DatasetLoader here, using the DatasetLoader with a TrainableModel\n",
    "# is covered in the Tasks notebook\n",
    "iris = load_iris()\n",
    "X = pd.DataFrame(iris.data, columns=iris.feature_names)\n",
    "y = pd.DataFrame(iris.target, columns=['target'])\n",
    "\n",
    "# Split the data\n",
    "X_train, X_test, y_train, y_test = train_test_split(X, y, test_size=0.2, random_state=42)\n",
    "\n",
    "# Create and train the model\n",
    "model = TrainableLogisticRegressionModel()\n",
    "model.train(X_train, y_train)\n",
    "\n",
    "# Make predictions\n",
    "predictions = model.predict(X_test)\n",
    "print(\"Predictions:\")\n",
    "print(predictions.head())\n",
    "\n",
    "# Make a single prediction\n",
    "single_prediction = model.predict_single(X_test.iloc[[0]])\n",
    "print(f\"\\nSingle prediction: {single_prediction}\")\n",
    "\n",
    "# Predict probabilities\n",
    "probabilities = model.predict_proba(X_test)\n",
    "print(\"\\nProbabilities:\")\n",
    "print(probabilities.head())\n",
    "\n",
    "# Predict probabilities using tensor input\n",
    "X_tensor = torch.tensor(X_test.values, dtype=torch.float32)\n",
    "proba_tensor = model.predict_proba_tensor(X_tensor)\n",
    "print(\"\\nProbabilities (tensor):\")\n",
    "print(proba_tensor[:5])\n",
    "\n",
    "# Evaluate the model\n",
    "evaluation = model.evaluate(X_test, y_test)\n",
    "print(f\"\\nAccuracy: {evaluation['accuracy']}\")\n",
    "print(\"\\nClassification Report:\")\n",
    "print(evaluation['classification_report'])"
   ]
  }
 ],
 "metadata": {
  "kernelspec": {
   "display_name": "Python 3",
   "language": "python",
   "name": "python3"
  },
  "language_info": {
   "codemirror_mode": {
    "name": "ipython",
    "version": 3
   },
   "file_extension": ".py",
   "mimetype": "text/x-python",
   "name": "python",
   "nbconvert_exporter": "python",
   "pygments_lexer": "ipython3",
   "version": "3.8.10"
  }
 },
 "nbformat": 4,
 "nbformat_minor": 4
}
