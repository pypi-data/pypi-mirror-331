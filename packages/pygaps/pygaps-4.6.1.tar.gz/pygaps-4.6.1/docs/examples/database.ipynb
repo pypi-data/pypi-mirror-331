{
 "cells": [
  {
   "cell_type": "markdown",
   "metadata": {},
   "source": [
    "# Database examples"
   ]
  },
  {
   "cell_type": "markdown",
   "metadata": {},
   "source": [
    "## Premise\n",
    "\n",
    "Let's assume we want to upload a newly created isotherm in the internal\n",
    "database. This isotherm is measured on the novel adsorbent *Carbon X1*, with\n",
    "nitrogen at 77 K."
   ]
  },
  {
   "cell_type": "markdown",
   "metadata": {},
   "source": [
    "## Imports\n",
    "\n",
    "First we need to do the required imports"
   ]
  },
  {
   "cell_type": "code",
   "execution_count": 1,
   "metadata": {},
   "outputs": [],
   "source": [
    "import pygaps\n",
    "import pygaps.parsing as pgp"
   ]
  },
  {
   "cell_type": "markdown",
   "metadata": {},
   "source": [
    "## Upload\n",
    "\n",
    "We happen to have the isotherm conveniently stored as a json file, so we load it\n",
    "into memory and inspect it."
   ]
  },
  {
   "cell_type": "code",
   "execution_count": 2,
   "metadata": {},
   "outputs": [
    {
     "name": "stdout",
     "output_type": "stream",
     "text": [
      "Material: Carbon X1\n",
      "Adsorbate: nitrogen\n",
      "Temperature: 77.355K\n",
      "Units: \n",
      "\tUptake in: mmol/g\n",
      "\tPressure in: bar\n",
      "Other properties: \n",
      "\tmaterial_batch: X1\n",
      "\tiso_type: physisorption\n",
      "\tuser: PI\n",
      "\tinstrument: homemade1\n",
      "\tactivation_temperature: 150.0\n",
      "\tlab: local\n",
      "\ttreatment: acid activated\n",
      "\n"
     ]
    },
    {
     "data": {
      "text/html": [
       "<pre style=\"white-space:pre;overflow-x:auto;line-height:normal;font-family:Menlo,'DejaVu Sans Mono',consolas,'Courier New',monospace\"><span style=\"font-weight: bold\">&lt;</span><span style=\"color: #ff00ff; text-decoration-color: #ff00ff; font-weight: bold\">AxesSubplot:</span><span style=\"color: #808000; text-decoration-color: #808000; font-weight: bold\">xlabel</span><span style=\"color: #000000; text-decoration-color: #000000\">=</span><span style=\"color: #008000; text-decoration-color: #008000\">'Pressure [$bar$]'</span><span style=\"color: #000000; text-decoration-color: #000000\">, </span><span style=\"color: #808000; text-decoration-color: #808000\">ylabel</span><span style=\"color: #000000; text-decoration-color: #000000\">=</span><span style=\"color: #008000; text-decoration-color: #008000\">'Loading [$mmol\\\\/g^{-1}$]'</span><span style=\"font-weight: bold\">&gt;</span>\n",
       "</pre>\n"
      ],
      "text/plain": [
       "\u001b[1m<\u001b[0m\u001b[1;95mAxesSubplot:\u001b[0m\u001b[1;33mxlabel\u001b[0m\u001b[39m=\u001b[0m\u001b[32m'Pressure \u001b[0m\u001b[32m[\u001b[0m\u001b[32m$bar$\u001b[0m\u001b[32m]\u001b[0m\u001b[32m'\u001b[0m\u001b[39m, \u001b[0m\u001b[33mylabel\u001b[0m\u001b[39m=\u001b[0m\u001b[32m'Loading \u001b[0m\u001b[32m[\u001b[0m\u001b[32m$mmol\\\\/g^\u001b[0m\u001b[32m{\u001b[0m\u001b[32m-1\u001b[0m\u001b[32m}\u001b[0m\u001b[32m$\u001b[0m\u001b[32m]\u001b[0m\u001b[32m'\u001b[0m\u001b[1m>\u001b[0m\n"
      ]
     },
     "metadata": {},
     "output_type": "display_data"
    },
    {
     "data": {
      "image/png": "[encoded data removed]"
     },
     "metadata": {
      "needs_background": "light"
     },
     "output_type": "display_data"
    }
   ],
   "source": [
    "from pathlib import Path\n",
    "\n",
    "json_path = Path.cwd() / 'data' / 'carbon_x1_n2.json'\n",
    "with open(json_path) as text_file:\n",
    "    isotherm = pgp.isotherm_from_json(text_file.read())\n",
    "\n",
    "isotherm.print_info()"
   ]
  },
  {
   "cell_type": "markdown",
   "metadata": {},
   "source": [
    "Now we can do the database upload."
   ]
  },
  {
   "cell_type": "code",
   "execution_count": 3,
   "metadata": {},
   "outputs": [
    {
     "name": "stdout",
     "output_type": "stream",
     "text": [
      "Material uploaded: 'Carbon X1'\n",
      "Isotherm uploaded: '29c44c6f12c0f4735b6de977bdcef5c5'\n"
     ]
    }
   ],
   "source": [
    "isotherm.to_db()"
   ]
  },
  {
   "cell_type": "markdown",
   "metadata": {},
   "source": [
    "The output points out that two things happened:\n",
    "\n",
    "- The isotherm material was first uploaded, using the `material.name` as a database ID.\n",
    "- Then the isotherm itself was uploaded, using its `isotherm.iso_id` as the unique ID.\n",
    "\n",
    "The adsorbate (`nitrogen`) is already in the database, so it does need to be stored.\n",
    "\n",
    "Now if we try to run the upload again we get an error."
   ]
  },
  {
   "cell_type": "code",
   "execution_count": 4,
   "metadata": {},
   "outputs": [
    {
     "name": "stdout",
     "output_type": "stream",
     "text": [
      "Error inserting isotherm \"29c44c6f12c0f4735b6de977bdcef5c5\" base properties. Ensure material \"Carbon X1\", and adsorbate \"nitrogen\" exist in the database. Original error:\n",
      " UNIQUE constraint failed: isotherms.id\n"
     ]
    }
   ],
   "source": [
    "try:\n",
    "    isotherm.to_db()\n",
    "except Exception as e: \n",
    "    print(e)"
   ]
  },
  {
   "cell_type": "markdown",
   "metadata": {},
   "source": [
    "There was a `FOREIGN KEY` error: this isotherm is already in the database!\n",
    "\n",
    "To retrieve the newly uploaded isotherm we can use the `isotherms_from_db()`\n",
    "function. By default, it gets all existing isotherms, although it can be\n",
    "configured to only return those matching a filter."
   ]
  },
  {
   "cell_type": "code",
   "execution_count": 5,
   "metadata": {},
   "outputs": [
    {
     "name": "stdout",
     "output_type": "stream",
     "text": [
      "Selected 1 isotherms\n",
      "Selected 0 isotherms\n",
      "Selected 1 isotherms\n",
      "True\n"
     ]
    }
   ],
   "source": [
    "# Getting all isotherms: 1 found\n",
    "isos = pgp.isotherms_from_db()\n",
    "# Filtering isotherms with an adsorbate: 0 found\n",
    "isos = pgp.isotherms_from_db(criteria={'adsorbate' : 'neon'})\n",
    "# Filtering isotherms on a material: 1 found\n",
    "isos = pgp.isotherms_from_db(criteria={'material' : 'Carbon X1'})\n",
    "\n",
    "# Check if the isotherm is the same\n",
    "print(isotherm == isos[0])"
   ]
  },
  {
   "cell_type": "markdown",
   "metadata": {},
   "source": [
    "<div class=\"alert alert-info\">\n",
    "Any kind of isotherm can be stored, including `ModelIsotherms` and `BaseIsotherms`.\n",
    "</div>\n",
    "\n",
    "If we want to remove the isotherm from the database, we can just use a delete function:"
   ]
  },
  {
   "cell_type": "code",
   "execution_count": 6,
   "metadata": {},
   "outputs": [
    {
     "name": "stdout",
     "output_type": "stream",
     "text": [
      "Isotherm deleted: '29c44c6f12c0f4735b6de977bdcef5c5'\n"
     ]
    }
   ],
   "source": [
    "# This will remove the isotherm from the internal database\n",
    "pgp.isotherm_delete_db(isotherm)"
   ]
  },
  {
   "cell_type": "markdown",
   "metadata": {},
   "source": [
    "<div class=\"alert alert-warning\">\n",
    "The corresponding isotherm `Material` and `Adsorbate` have not been deleted, just the `Isotherm`!\n",
    "</div>"
   ]
  },
  {
   "cell_type": "markdown",
   "metadata": {},
   "source": [
    "## Uploading Materials and Adsorbates\n",
    "\n",
    "Besides `Isotherms`, individually created `Materials` and `Adsorbates` can\n",
    "similarly be stored. If we attempt to create and upload a material which has\n",
    "some more metadata about the *Carbon X1* sample we used previously."
   ]
  },
  {
   "cell_type": "code",
   "execution_count": 7,
   "metadata": {
    "scrolled": true
   },
   "outputs": [
    {
     "name": "stdout",
     "output_type": "stream",
     "text": [
      "UNIQUE constraint failed: materials.name\n"
     ]
    }
   ],
   "source": [
    "novel_material = pygaps.Material(\n",
    "    name='Carbon X1',\n",
    "    contact='PI',\n",
    "    source='local',\n",
    "    treatment='etched',\n",
    ")\n",
    "try:\n",
    "    pgp.material_to_db(novel_material)\n",
    "except Exception as e:\n",
    "    print(e)"
   ]
  },
  {
   "cell_type": "markdown",
   "metadata": {},
   "source": [
    "We get a foreign key error, since the material.name is still in the database from the initial isotherm upload!\n",
    "\n",
    "Instead, we overwrite it, using a function parameter:"
   ]
  },
  {
   "cell_type": "code",
   "execution_count": 8,
   "metadata": {},
   "outputs": [
    {
     "name": "stdout",
     "output_type": "stream",
     "text": [
      "Selected 1 materials\n",
      "Carbon X1\n"
     ]
    }
   ],
   "source": [
    "mats = pgp.materials_from_db()\n",
    "print(mats[0])"
   ]
  },
  {
   "cell_type": "code",
   "execution_count": 9,
   "metadata": {},
   "outputs": [
    {
     "name": "stdout",
     "output_type": "stream",
     "text": [
      "Material properties type uploaded 'contact'\n",
      "Material properties type uploaded 'source'\n",
      "Material properties type uploaded 'treatment'\n",
      "Material uploaded: 'Carbon X1'\n"
     ]
    }
   ],
   "source": [
    "pgp.material_to_db(novel_material, overwrite=True)"
   ]
  },
  {
   "cell_type": "markdown",
   "metadata": {},
   "source": [
    "Several things happened behind the scenes, including an upload of the new\n",
    "metadata types. Now the material has been updated. We can check this easily."
   ]
  },
  {
   "cell_type": "code",
   "execution_count": 10,
   "metadata": {},
   "outputs": [
    {
     "name": "stdout",
     "output_type": "stream",
     "text": [
      "Selected 1 materials\n",
      "True\n",
      "True\n"
     ]
    }
   ],
   "source": [
    "mats = pgp.materials_from_db()\n",
    "print(mats[0] == novel_material)\n",
    "\n",
    "# The material was also cached internally\n",
    "print(novel_material in pygaps.MATERIAL_LIST)"
   ]
  },
  {
   "cell_type": "markdown",
   "metadata": {},
   "source": [
    "We can also delete this material."
   ]
  },
  {
   "cell_type": "code",
   "execution_count": 11,
   "metadata": {},
   "outputs": [
    {
     "name": "stdout",
     "output_type": "stream",
     "text": [
      "Material deleted: 'Carbon X1'\n"
     ]
    }
   ],
   "source": [
    "pgp.material_delete_db(novel_material)"
   ]
  },
  {
   "cell_type": "markdown",
   "metadata": {},
   "source": [
    "The same is true for `Adsorbates` by using the `adsorbate_to_db`/`adsorbates_from_db`/`adsorbate_delete_db` functions."
   ]
  },
  {
   "cell_type": "markdown",
   "metadata": {},
   "source": [
    "## Using a separate database\n",
    "\n",
    "Up until now, we have been using the default database which comes with pyGAPS.\n",
    "This may not be ideal for long term isotherm storage or making changes, as every\n",
    "new pyGAPS version will replace the default database.\n",
    "\n",
    "To see the location of the default database:"
   ]
  },
  {
   "cell_type": "code",
   "execution_count": 12,
   "metadata": {},
   "outputs": [
    {
     "data": {
      "text/html": [
       "<pre style=\"white-space:pre;overflow-x:auto;line-height:normal;font-family:Menlo,'DejaVu Sans Mono',consolas,'Courier New',monospace\"><span style=\"color: #800080; text-decoration-color: #800080; font-weight: bold\">WindowsPath</span><span style=\"font-weight: bold\">(</span><span style=\"color: #008000; text-decoration-color: #008000\">'c:/users/pauli/git/pygaps/src/pygaps/data/default.db'</span><span style=\"font-weight: bold\">)</span>\n",
       "</pre>\n"
      ],
      "text/plain": [
       "\u001b[1;35mWindowsPath\u001b[0m\u001b[1m(\u001b[0m\u001b[32m'c:/users/pauli/git/pygaps/src/pygaps/data/default.db'\u001b[0m\u001b[1m)\u001b[0m\n"
      ]
     },
     "metadata": {},
     "output_type": "display_data"
    }
   ],
   "source": [
    "pygaps.DATABASE"
   ]
  },
  {
   "cell_type": "markdown",
   "metadata": {},
   "source": [
    "However you can easily create your own, then use it instead. To do this pyGAPS provides an utility function."
   ]
  },
  {
   "cell_type": "code",
   "execution_count": 13,
   "metadata": {},
   "outputs": [
    {
     "name": "stdout",
     "output_type": "stream",
     "text": [
      "Experiment type uploaded 'isotherm'\n",
      "Experiment type uploaded 'pointisotherm'\n",
      "Experiment type uploaded 'modelisotherm'\n"
     ]
    }
   ],
   "source": [
    "from pygaps.utilities.sqlite_db_creator import db_create\n",
    "\n",
    "db_create(\"./own_database.db\")"
   ]
  },
  {
   "cell_type": "markdown",
   "metadata": {},
   "source": [
    "This new database is identical to the default pyGAPS database, and includes all\n",
    "adsorbate data. To use it for any storage, one can pass its path to the database\n",
    "interaction functions."
   ]
  },
  {
   "cell_type": "code",
   "execution_count": 14,
   "metadata": {},
   "outputs": [
    {
     "name": "stdout",
     "output_type": "stream",
     "text": [
      "Material properties type uploaded 'contact'\n",
      "Material properties type uploaded 'source'\n",
      "Material properties type uploaded 'treatment'\n",
      "Material uploaded: 'Carbon X1'\n",
      "Isotherm uploaded: '29c44c6f12c0f4735b6de977bdcef5c5'\n"
     ]
    }
   ],
   "source": [
    "pgp.material_to_db(novel_material, db_path=\"./own_database.db\")\n",
    "pgp.isotherm_to_db(isotherm, db_path=\"./own_database.db\")"
   ]
  }
 ],
 "metadata": {
  "kernelspec": {
   "display_name": "Python 3 (ipykernel)",
   "language": "python",
   "name": "python3"
  },
  "language_info": {
   "codemirror_mode": {
    "name": "ipython",
    "version": 3
   },
   "file_extension": ".py",
   "mimetype": "text/x-python",
   "name": "python",
   "nbconvert_exporter": "python",
   "pygments_lexer": "ipython3",
   "version": "3.9.7"
  }
 },
 "nbformat": 4,
 "nbformat_minor": 2
}
