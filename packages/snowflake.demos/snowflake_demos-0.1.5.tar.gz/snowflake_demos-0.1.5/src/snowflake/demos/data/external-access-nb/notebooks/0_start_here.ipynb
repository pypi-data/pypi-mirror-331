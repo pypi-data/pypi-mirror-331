{
 "cells": [
  {
   "cell_type": "markdown",
   "id": "d0725965-00f2-4c63-9bd6-b0827b004907",
   "metadata": {
    "collapsed": false,
    "name": "intro_md"
   },
   "source": [
    "# Setting up External Access for Snowflake Notebooks\n",
    "\n",
    "By default, Snowflake restricts network traffic from requests from external endpoints. In order to access external endpoints, we first need to create an [external access integration](https://docs.snowflake.com/en/developer-guide/external-network-access/creating-using-external-network-access#label-creating-using-external-access-integration-access-integration). This example demonstrates how you can access an external endpoint to work with external services in your Snowflake Notebooks."
   ]
  },
  {
   "cell_type": "markdown",
   "id": "133628b6-7c04-4f80-95a2-86bc1335c826",
   "metadata": {
    "collapsed": false,
    "name": "eai_md"
   },
   "source": [
    "## Provisioining External Access Integration\n",
    "\n",
    "External access integrations, alongside their underlying network rules, need to be created and provisioned by an organization admin. These were already created for you to use directly. You would just need to enable them in Notebooks.\n",
    "\n",
    "There are two steps in creating an external access integration for notebooks.\n",
    "\n",
    "1. Create a network rule to define a set of IP addresses or domains via [CREATE NETWORK RULE](https://docs.snowflake.com/en/sql-reference/sql/create-network-rule).\n",
    "\n",
    "2. Create an external access integration to specify the allowed list of network rules via [CREATE EXTERNAL ACCESS INTEGRATION](https://docs.snowflake.com/en/sql-reference/sql/create-external-access-integration).\n",
    "\n",
    "You can find a list of external network access examples [here](https://docs.snowflake.com/en/developer-guide/external-network-access/external-network-access-examples). Below we demonstrate how admins can create the external access integration for several common data science and machine learning use cases."
   ]
  },
  {
   "cell_type": "markdown",
   "id": "318a98e5-17ad-49bf-aa0f-3bad3fd5e48d",
   "metadata": {
    "collapsed": false,
    "name": "eai_sample_md"
   },
   "source": [
    "## Example 1: Load sample dataset from Github\n",
    "\n",
    "Let say that you are trying to load a sample CSV file from a public Github repo.\n",
    "```python\n",
    "import pandas as pd\n",
    "df = pd.read_csv(\"https://raw.githubusercontent.com/altair-viz/vega_datasets/master/vega_datasets/_data/stocks.csv\")\n",
    "```\n",
    "\n",
    "Without the external access setup, you will get the following error:\n",
    "\n",
    "```\n",
    "URLError: <urlopen error [Errno 16] Device or resource busy>\n",
    "```\n",
    "\n",
    "To resolve this issue, click on the `⋮` button on the top right, then navigate to `Notebook settings` and the `External access` pane. Here, you will see a list of external access integrations that is available to you. you can toggle the one ends with `GH_ACCESS_INTEGRATION` on. \n",
    "\n",
    "Below are the examples to create external access integration and network rule. Please do not create them again. These were already provisioned for you to use it.\n",
    "\n",
    "```sql\n",
    "-- Create the Github external access integration and the network rule it relies on.\n",
    "CREATE OR REPLACE NETWORK RULE gh_network_rule\n",
    "  MODE = EGRESS\n",
    "  TYPE = HOST_PORT\n",
    "  VALUE_LIST = ('raw.githubusercontent.com', 'githubusercontent.com', 'github.com');\n",
    "\n",
    "CREATE OR REPLACE EXTERNAL ACCESS INTEGRATION gh_access_integration\n",
    "  ALLOWED_NETWORK_RULES = (gh_network_rule)\n",
    "  ENABLED = true;\n",
    "```\n"
   ]
  },
  {
   "cell_type": "code",
   "execution_count": null,
   "id": "04524527-df7e-4d10-879b-a0fd417acd04",
   "metadata": {
    "codeCollapsed": false,
    "collapsed": false,
    "language": "python",
    "name": "eai_sample"
   },
   "outputs": [],
   "source": [
    "from snowflake.snowpark.context import get_active_session\n",
    "session = get_active_session()\n",
    "# Add a query tag to the session. This helps with debugging and performance monitoring.\n",
    "session.query_tag = {\"origin\":\"sf_sit-is\", \"name\":\"notebook_demo_pack\", \"version\":{\"major\":1, \"minor\":0}, \"attributes\":{\"is_quickstart\":0, \"source\":\"notebook\"}}\n",
    "\n",
    "import pandas as pd\n",
    "df = pd.read_csv(\"https://raw.githubusercontent.com/altair-viz/vega_datasets/master/vega_datasets/_data/stocks.csv\")"
   ]
  },
  {
   "cell_type": "markdown",
   "id": "386930fa-7038-4f99-ab3d-bcdff76b45c4",
   "metadata": {
    "collapsed": false,
    "name": "access_huggingface_model_md"
   },
   "source": [
    "## Example 2: Accessing a pre-trained model from HuggingFace\n",
    "\n",
    "Let say that you are use a pre-trained model from HuggingFace to perform some NLP tasks.\n",
    "```python\n",
    "import torch\n",
    "import warnings\n",
    "warnings.simplefilter('ignore')\n",
    "\n",
    "from transformers import AutoModel, AutoTokenizer\n",
    "tokenizer = AutoTokenizer.from_pretrained('Snowflake/snowflake-arctic-embed-xs')\n",
    "model = AutoModel.from_pretrained('Snowflake/snowflake-arctic-embed-xs', add_pooling_layer=False)\n",
    "```\n",
    "\n",
    "Without the external access setup, you will get the following error:\n",
    "\n",
    "```\n",
    "OSError: We couldn't connect to 'https://huggingface.co' to load this file, couldn't find it in the cached files and it looks like Snowflake/snowflake-arctic-embed-xs is not the path to a directory containing a file named config.json. Checkout your internet connection or see how to run the library in offline mode at 'https://huggingface.co/docs/transformers/installation#offline-mode'.\n",
    "```\n",
    "\n",
    "To resolve this issue, click on the `⋮` button on the top right, then navigate to `Notebook settings` and the `External access` pane. Here, you will see a list of external access integrations that is available to you. you can toggle the one ends with `HF_ACCESS_INTEGRATION` on.\n",
    "\n",
    "Below are the examples to create external access integration and network rule. Please do not create them again. These were already provisioned for you to use it.\n",
    "\n",
    "```sql\n",
    "-- Create the HuggingFace external access integration and the network rule it relies on.\n",
    "CREATE OR REPLACE NETWORK RULE hf_network_rule\n",
    "  MODE = EGRESS\n",
    "  TYPE = HOST_PORT\n",
    "  VALUE_LIST = ('huggingface.co', 'cdn-lfs-us-1.huggingface.co');\n",
    "\n",
    "CREATE OR REPLACE EXTERNAL ACCESS INTEGRATION hf_access_integration\n",
    "  ALLOWED_NETWORK_RULES = (hf_network_rule)\n",
    "  ENABLED = true;\n",
    "```"
   ]
  },
  {
   "cell_type": "code",
   "execution_count": null,
   "id": "59eb42df-fe08-4a91-bf80-29975c8c0f57",
   "metadata": {
    "codeCollapsed": false,
    "collapsed": false,
    "language": "python",
    "name": "access_huggingface_model"
   },
   "outputs": [],
   "source": [
    "import os\n",
    "os.environ['HF_HOME'] = '/tmp/'"
   ]
  },
  {
   "cell_type": "code",
   "execution_count": null,
   "id": "3775908f-ca36-4846-8f38-5adca39217f2",
   "metadata": {
    "codeCollapsed": false,
    "collapsed": false,
    "language": "python",
    "name": "access_huggingface_model2"
   },
   "outputs": [],
   "source": [
    "import torch\n",
    "from transformers import AutoModel, AutoTokenizer\n",
    "# Load the pre-trained model (https://huggingface.co/Snowflake/snowflake-arctic-embed-xs)\n",
    "tokenizer = AutoTokenizer.from_pretrained('Snowflake/snowflake-arctic-embed-xs')\n",
    "model = AutoModel.from_pretrained('Snowflake/snowflake-arctic-embed-xs', add_pooling_layer=False)"
   ]
  },
  {
   "cell_type": "code",
   "execution_count": null,
   "id": "bc20f76e-dfc4-4bc9-a68d-abb39951be9e",
   "metadata": {
    "language": "python",
    "name": "access_huggingface_model3"
   },
   "outputs": [],
   "source": [
    "# Set the model in evaluation model\n",
    "model.eval()"
   ]
  },
  {
   "cell_type": "markdown",
   "id": "62b29ba4-df9f-4504-a04d-5252872202a5",
   "metadata": {
    "collapsed": false,
    "name": "scoring_md"
   },
   "source": [
    "Now that we have the pre-trained model, we can use it to score the relevance of the document given the query."
   ]
  },
  {
   "cell_type": "code",
   "execution_count": null,
   "id": "db9637a5-0ed9-4e24-b117-54ab1487910c",
   "metadata": {
    "codeCollapsed": false,
    "collapsed": false,
    "language": "python",
    "name": "scoring"
   },
   "outputs": [],
   "source": [
    "query_prefix = 'Represent this sentence for searching relevant passages: '\n",
    "queries  = ['What is Snowflake?', 'Where can I get the best tacos?']\n",
    "queries_with_prefix = [\"{}{}\".format(query_prefix, i) for i in queries]\n",
    "query_tokens = tokenizer(queries_with_prefix, padding=True, truncation=True, return_tensors='pt', max_length=512)\n",
    "\n",
    "documents = ['The Data Cloud!', 'Mexico City, of course!']\n",
    "document_tokens =  tokenizer(documents, padding=True, truncation=True, return_tensors='pt', max_length=512)\n",
    "\n",
    "# Compute token embeddings\n",
    "with torch.no_grad():\n",
    "    query_embeddings = model(**query_tokens)[0][:, 0]\n",
    "    doument_embeddings = model(**document_tokens)[0][:, 0]\n",
    "\n",
    "\n",
    "# normalize embeddings\n",
    "query_embeddings = torch.nn.functional.normalize(query_embeddings, p=2, dim=1)\n",
    "doument_embeddings = torch.nn.functional.normalize(doument_embeddings, p=2, dim=1)\n",
    "\n",
    "scores = torch.mm(query_embeddings, doument_embeddings.transpose(0, 1))\n",
    "for query, query_scores in zip(queries, scores):\n",
    "    doc_score_pairs = list(zip(documents, query_scores))\n",
    "    doc_score_pairs = sorted(doc_score_pairs, key=lambda x: x[1], reverse=True)\n",
    "    #Output passages & scores\n",
    "    print(\"Query:\", query)\n",
    "    for document, score in doc_score_pairs:\n",
    "        print(score, document)"
   ]
  },
  {
   "cell_type": "markdown",
   "id": "fac4d31c-1b7a-462c-bfdc-a53f3021db8a",
   "metadata": {
    "collapsed": false,
    "name": "conclusion_md"
   },
   "source": [
    "### Conclusion\n",
    "\n",
    "- In this example, we demonstrated how you set up external access integration to access an external endpoint. \n",
    "- To load data from an external endpoint, you can also create an external access integration and attach it to a UDF. Check out [this tutorial](https://github.com/Snowflake-Labs/snowflake-demo-notebooks/blob/main/Ingest%20Public%20JSON/Ingest%20Public%20JSON.ipynb) to learn how you can load semi-structured JSON data from a public endpoint into a Snowflake table.\n",
    "- To learn more about external network access to Snowflake, refer to the documentation [here](https://docs.snowflake.com/en/developer-guide/external-network-access/external-network-access-overview)."
   ]
  }
 ],
 "metadata": {
  "kernelspec": {
   "display_name": "Streamlit Notebook",
   "name": "streamlit"
  }
 },
 "nbformat": 4,
 "nbformat_minor": 5
}
