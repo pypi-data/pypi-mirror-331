{
 "cells": [
  {
   "cell_type": "code",
   "execution_count": 1,
   "id": "6ce2e68c-4469-4618-b1d0-d8ea6e9dff44",
   "metadata": {},
   "outputs": [],
   "source": [
    "import mloggers\n",
    "import warnings\n",
    "import sys"
   ]
  },
  {
   "cell_type": "code",
   "execution_count": 9,
   "id": "888966ee",
   "metadata": {},
   "outputs": [
    {
     "name": "stdout",
     "output_type": "stream",
     "text": [
      "this\n",
      "that\n",
      "this\n"
     ]
    }
   ],
   "source": [
    "class Hi:\n",
    "    THIS = \"this\"\n",
    "name = \"THAT\"\n",
    "print (Hi.THIS)\n",
    "Hi.name = \"that\"\n",
    "print(Hi.THAT)\n",
    "\n",
    "def f(a: Hi):\n",
    "    print(a)\n",
    "\n",
    "f(Hi.THIS)"
   ]
  },
  {
   "cell_type": "code",
   "execution_count": 2,
   "id": "215f5249",
   "metadata": {},
   "outputs": [
    {
     "data": {
      "text/plain": [
       "0"
      ]
     },
     "execution_count": 2,
     "metadata": {},
     "output_type": "execute_result"
    }
   ],
   "source": [
    "from mloggers.logger import DEFAULT_IMPORTANCE\n",
    "DEFAULT_IMPORTANCE"
   ]
  },
  {
   "cell_type": "code",
   "execution_count": 4,
   "id": "7c1a859d",
   "metadata": {},
   "outputs": [
    {
     "name": "stdout",
     "output_type": "stream",
     "text": [
      "LogLevel.ERROR error LogLevel.Properties(color='red', priority=9223372036854775807)\n",
      "LogLevel.WARN warn LogLevel.Properties(color='yellow', priority=1)\n",
      "LogLevel.INFO info LogLevel.Properties(color='cyan', priority=0)\n",
      "LogLevel.DEBUG debug LogLevel.Properties(color='magenta', priority=-1)\n"
     ]
    }
   ],
   "source": [
    "from mloggers._log_levels import LogLevel, _log_level_properties\n",
    "for level in LogLevel:\n",
    "    print(level, level.value, _log_level_properties[level])"
   ]
  },
  {
   "cell_type": "code",
   "execution_count": 5,
   "id": "39777e72",
   "metadata": {},
   "outputs": [],
   "source": [
    "default_priority = LogLevel.INFO"
   ]
  },
  {
   "cell_type": "code",
   "execution_count": 6,
   "id": "dea5c9d2",
   "metadata": {},
   "outputs": [],
   "source": [
    "logger = mloggers.ConsoleLogger(default_priority)"
   ]
  },
  {
   "cell_type": "code",
   "execution_count": 8,
   "id": "754a9f9b",
   "metadata": {},
   "outputs": [
    {
     "name": "stdout",
     "output_type": "stream",
     "text": [
      "Ciao\n"
     ]
    }
   ],
   "source": [
    "class Test():\n",
    "    def __init__(self) -> None:\n",
    "        self.printstring='Ciao'\n",
    "\n",
    "    def __str__(self) -> str:\n",
    "        return self.printstring\n",
    "    \n",
    "\n",
    "testClass = Test()\n",
    "print(testClass)"
   ]
  },
  {
   "cell_type": "code",
   "execution_count": 9,
   "id": "9320558a",
   "metadata": {},
   "outputs": [],
   "source": [
    "def test_logger(logger):\n",
    "    logger.debug(\"debug\")\n",
    "    logger.info(\"info\")\n",
    "    logger.warn(\"warn\")\n",
    "    logger.warning(\"warning\")\n",
    "    logger.error(\"error\")\n",
    "    logger.log(\"no level\")\n",
    "    logger.log(\"no level\", level=\"TEST\")\n",
    "    logger.log(\"test1\", \"test2\")\n",
    "    logger.log(testClass)\n",
    "    logger.log({\"testDict\": \"test1\"})\n",
    "    logger.info({\"dict1\": \"test\"}, {\"dict2\": \"test2\"})"
   ]
  },
  {
   "cell_type": "code",
   "execution_count": 11,
   "id": "86bb6016",
   "metadata": {},
   "outputs": [
    {
     "name": "stdout",
     "output_type": "stream",
     "text": [
      "\u001b[36m[INFO] \u001b[0m[19:27:59] info\n",
      "\u001b[33m[WARN] \u001b[0m[19:27:59] warn\n",
      "\u001b[33m[WARN] \u001b[0m[19:27:59] warning\n",
      "\u001b[31m[ERROR] \u001b[0m[19:27:59] error\n",
      "[19:27:59] no level\n",
      "\u001b[32m[TEST] \u001b[0m[19:27:59] no level\n",
      "[19:27:59] test1 test2\n",
      "[19:27:59] Ciao\n",
      "[19:27:59] testDict: test1\n",
      "\u001b[36m[INFO] \u001b[0m[19:27:59] dict1: test\n",
      "\u001b[36m[INFO] \u001b[0m[19:27:59] dict2: test2\n"
     ]
    }
   ],
   "source": [
    "test_logger(logger)"
   ]
  },
  {
   "cell_type": "code",
   "execution_count": 13,
   "id": "e99697c9",
   "metadata": {},
   "outputs": [
    {
     "name": "stdout",
     "output_type": "stream",
     "text": [
      "('test1', 'test2')\n",
      "False\n",
      "True\n",
      "False\n",
      "test1 test2\n"
     ]
    }
   ],
   "source": [
    "class FakeLogger():\n",
    "\n",
    "    def test(self, *messages, level=None, **kwargs):\n",
    "        print(messages)\n",
    "        print(any(isinstance(message, dict) for message in messages))\n",
    "        print(any(not isinstance(message, dict) for message in messages))\n",
    "        print(any(isinstance(message, dict) for message in messages) and any(not isinstance(message, dict) for message in messages))\n",
    "        if isinstance(messages, tuple):\n",
    "            messages = list(messages)\n",
    "            # If the messages are strings, join them into a single string.\n",
    "            if all(not isinstance(message, dict) for message in messages):\n",
    "                messages = \" \".join(messages)\n",
    "                print(f\"{str(messages)}\")\n",
    "            # If the messages are dictionaries, print them separately.\n",
    "            else:\n",
    "                for message in messages:\n",
    "                    print(f\"{str(message)}\")\n",
    "\n",
    "fakelogger = FakeLogger()\n",
    "\n",
    "fakelogger.test(\"test1\", \"test2\")"
   ]
  },
  {
   "cell_type": "code",
   "execution_count": 16,
   "id": "d6c05425",
   "metadata": {},
   "outputs": [
    {
     "name": "stdout",
     "output_type": "stream",
     "text": [
      "LogLevel.ERROR\n",
      "\u001b[31m[ERROR] \u001b[0m[19:28:22] error\n",
      "[19:28:22] no level\n",
      "[19:28:22] test1 test2\n",
      "[19:28:22] Ciao\n",
      "[19:28:22] testDict: test1\n",
      "\n",
      "\n",
      "\n",
      "LogLevel.WARN\n",
      "\u001b[33m[WARN] \u001b[0m[19:28:22] warn\n",
      "\u001b[33m[WARN] \u001b[0m[19:28:22] warning\n",
      "\u001b[31m[ERROR] \u001b[0m[19:28:22] error\n",
      "[19:28:22] no level\n",
      "[19:28:22] test1 test2\n",
      "[19:28:22] Ciao\n",
      "[19:28:22] testDict: test1\n",
      "\n",
      "\n",
      "\n",
      "LogLevel.INFO\n",
      "\u001b[36m[INFO] \u001b[0m[19:28:22] info\n",
      "\u001b[33m[WARN] \u001b[0m[19:28:22] warn\n",
      "\u001b[33m[WARN] \u001b[0m[19:28:22] warning\n",
      "\u001b[31m[ERROR] \u001b[0m[19:28:22] error\n",
      "[19:28:22] no level\n",
      "\u001b[32m[TEST] \u001b[0m[19:28:22] no level\n",
      "[19:28:22] test1 test2\n",
      "[19:28:22] Ciao\n",
      "[19:28:22] testDict: test1\n",
      "\u001b[36m[INFO] \u001b[0m[19:28:22] dict1: test\n",
      "\u001b[36m[INFO] \u001b[0m[19:28:22] dict2: test2\n",
      "\n",
      "\n",
      "\n",
      "LogLevel.DEBUG\n",
      "\u001b[35m[DEBUG] \u001b[0m[19:28:22] debug\n",
      "\u001b[36m[INFO] \u001b[0m[19:28:22] info\n",
      "\u001b[33m[WARN] \u001b[0m[19:28:22] warn\n",
      "\u001b[33m[WARN] \u001b[0m[19:28:22] warning\n",
      "\u001b[31m[ERROR] \u001b[0m[19:28:22] error\n",
      "[19:28:22] no level\n",
      "\u001b[32m[TEST] \u001b[0m[19:28:22] no level\n",
      "[19:28:22] test1 test2\n",
      "[19:28:22] Ciao\n",
      "[19:28:22] testDict: test1\n",
      "\u001b[36m[INFO] \u001b[0m[19:28:22] dict1: test\n",
      "\u001b[36m[INFO] \u001b[0m[19:28:22] dict2: test2\n",
      "\n",
      "\n",
      "\n"
     ]
    }
   ],
   "source": [
    "for level in LogLevel:\n",
    "    logger.set_min_priority(level)\n",
    "    print(level)\n",
    "    test_logger(logger)\n",
    "    print(\"\\n\\n\")"
   ]
  },
  {
   "cell_type": "code",
   "execution_count": 18,
   "id": "902f899e",
   "metadata": {},
   "outputs": [
    {
     "data": {
      "text/html": [
       "Finishing last run (ID:0ikiv4fy) before initializing another..."
      ],
      "text/plain": [
       "<IPython.core.display.HTML object>"
      ]
     },
     "metadata": {},
     "output_type": "display_data"
    },
    {
     "name": "stderr",
     "output_type": "stream",
     "text": [
      "wandb: WARNING Source type is set to 'repo' but some required information is missing from the environment. A job will not be created from this run. See https://docs.wandb.ai/guides/launch/create-job\n"
     ]
    },
    {
     "data": {
      "text/html": [
       "<style>\n",
       "    table.wandb td:nth-child(1) { padding: 0 10px; text-align: left ; width: auto;} td:nth-child(2) {text-align: left ; width: 100%}\n",
       "    .wandb-row { display: flex; flex-direction: row; flex-wrap: wrap; justify-content: flex-start; width: 100% }\n",
       "    .wandb-col { display: flex; flex-direction: column; flex-basis: 100%; flex: 1; padding: 10px; }\n",
       "    </style>\n",
       "<div class=\"wandb-row\"><div class=\"wandb-col\"><h3>Run summary:</h3><br/><table class=\"wandb\"><tr><td>ERROR</td><td>error</td></tr><tr><td>INFO</td><td>info</td></tr><tr><td>TEST</td><td>no level</td></tr><tr><td>WARN</td><td>warning</td></tr><tr><td>dict1</td><td>test</td></tr><tr><td>dict2</td><td>test2</td></tr><tr><td>message</td><td>Ciao</td></tr><tr><td>testDict</td><td>test1</td></tr></table><br/></div></div>"
      ],
      "text/plain": [
       "<IPython.core.display.HTML object>"
      ]
     },
     "metadata": {},
     "output_type": "display_data"
    },
    {
     "data": {
      "text/html": [
       " View run <strong style=\"color:#cdcd00\">b</strong> at: <a href='https://wandb.ai/serhez/c/runs/0ikiv4fy' target=\"_blank\">https://wandb.ai/serhez/c/runs/0ikiv4fy</a><br/>Synced 4 W&B file(s), 0 media file(s), 0 artifact file(s) and 0 other file(s)"
      ],
      "text/plain": [
       "<IPython.core.display.HTML object>"
      ]
     },
     "metadata": {},
     "output_type": "display_data"
    },
    {
     "data": {
      "text/html": [
       "Find logs at: <code>./wandb/run-20240424_192830-0ikiv4fy/logs</code>"
      ],
      "text/plain": [
       "<IPython.core.display.HTML object>"
      ]
     },
     "metadata": {},
     "output_type": "display_data"
    },
    {
     "data": {
      "text/html": [
       "Successfully finished last run (ID:0ikiv4fy). Initializing new run:<br/>"
      ],
      "text/plain": [
       "<IPython.core.display.HTML object>"
      ]
     },
     "metadata": {},
     "output_type": "display_data"
    },
    {
     "data": {
      "text/html": [
       "wandb version 0.16.6 is available!  To upgrade, please run:\n",
       " $ pip install wandb --upgrade"
      ],
      "text/plain": [
       "<IPython.core.display.HTML object>"
      ]
     },
     "metadata": {},
     "output_type": "display_data"
    },
    {
     "data": {
      "text/html": [
       "Tracking run with wandb version 0.16.2"
      ],
      "text/plain": [
       "<IPython.core.display.HTML object>"
      ]
     },
     "metadata": {},
     "output_type": "display_data"
    },
    {
     "data": {
      "text/html": [
       "Run data is saved locally in <code>/Users/ser/dev/mloggers/wandb/run-20240424_192848-tm7pi79q</code>"
      ],
      "text/plain": [
       "<IPython.core.display.HTML object>"
      ]
     },
     "metadata": {},
     "output_type": "display_data"
    },
    {
     "data": {
      "text/html": [
       "Syncing run <strong><a href='https://wandb.ai/serhez/c/runs/tm7pi79q' target=\"_blank\">b</a></strong> to <a href='https://wandb.ai/serhez/c' target=\"_blank\">Weights & Biases</a> (<a href='https://wandb.me/run' target=\"_blank\">docs</a>)<br/>"
      ],
      "text/plain": [
       "<IPython.core.display.HTML object>"
      ]
     },
     "metadata": {},
     "output_type": "display_data"
    },
    {
     "data": {
      "text/html": [
       " View project at <a href='https://wandb.ai/serhez/c' target=\"_blank\">https://wandb.ai/serhez/c</a>"
      ],
      "text/plain": [
       "<IPython.core.display.HTML object>"
      ]
     },
     "metadata": {},
     "output_type": "display_data"
    },
    {
     "data": {
      "text/html": [
       " View run at <a href='https://wandb.ai/serhez/c/runs/tm7pi79q' target=\"_blank\">https://wandb.ai/serhez/c/runs/tm7pi79q</a>"
      ],
      "text/plain": [
       "<IPython.core.display.HTML object>"
      ]
     },
     "metadata": {},
     "output_type": "display_data"
    },
    {
     "name": "stderr",
     "output_type": "stream",
     "text": [
      "wandb: WARNING Source type is set to 'repo' but some required information is missing from the environment. A job will not be created from this run. See https://docs.wandb.ai/guides/launch/create-job\n"
     ]
    },
    {
     "data": {
      "text/html": [
       " View run <strong style=\"color:#cdcd00\">b</strong> at: <a href='https://wandb.ai/serhez/c/runs/tm7pi79q' target=\"_blank\">https://wandb.ai/serhez/c/runs/tm7pi79q</a><br/>Synced 4 W&B file(s), 0 media file(s), 0 artifact file(s) and 0 other file(s)"
      ],
      "text/plain": [
       "<IPython.core.display.HTML object>"
      ]
     },
     "metadata": {},
     "output_type": "display_data"
    },
    {
     "data": {
      "text/html": [
       "Find logs at: <code>./wandb/run-20240424_192848-tm7pi79q/logs</code>"
      ],
      "text/plain": [
       "<IPython.core.display.HTML object>"
      ]
     },
     "metadata": {},
     "output_type": "display_data"
    },
    {
     "name": "stdout",
     "output_type": "stream",
     "text": [
      "\u001b[31m[ERROR]\u001b[0m [WandbLogger] Error while logging to wandb: You must call wandb.init() before wandb.log()\n",
      "\u001b[31m[ERROR]\u001b[0m [WandbLogger] Error while logging to wandb: You must call wandb.init() before wandb.log()\n",
      "\u001b[31m[ERROR]\u001b[0m [WandbLogger] Error while logging to wandb: You must call wandb.init() before wandb.log()\n",
      "\u001b[31m[ERROR]\u001b[0m [WandbLogger] Error while logging to wandb: You must call wandb.init() before wandb.log()\n",
      "\u001b[31m[ERROR]\u001b[0m [WandbLogger] Error while logging to wandb: You must call wandb.init() before wandb.log()\n",
      "\u001b[31m[ERROR]\u001b[0m [WandbLogger] Error while logging to wandb: You must call wandb.init() before wandb.log()\n",
      "\u001b[31m[ERROR]\u001b[0m [WandbLogger] Error while logging to wandb: You must call wandb.init() before wandb.log()\n",
      "\u001b[31m[ERROR]\u001b[0m [WandbLogger] Error while logging to wandb: You must call wandb.init() before wandb.log()\n",
      "\u001b[31m[ERROR]\u001b[0m [WandbLogger] Error while logging to wandb: You must call wandb.init() before wandb.log()\n",
      "\u001b[31m[ERROR]\u001b[0m [WandbLogger] Error while logging to wandb: You must call wandb.init() before wandb.log()\n",
      "\u001b[31m[ERROR]\u001b[0m [WandbLogger] Error while logging to wandb: You must call wandb.init() before wandb.log()\n"
     ]
    }
   ],
   "source": [
    "wandb_logger = mloggers.WandbLogger(group=\"a\", experiment=\"b\", project=\"c\", default_priority=LogLevel.INFO)\n",
    "\n",
    "test_logger(wandb_logger)"
   ]
  },
  {
   "cell_type": "code",
   "execution_count": 19,
   "id": "3bb4524e",
   "metadata": {},
   "outputs": [
    {
     "name": "stdout",
     "output_type": "stream",
     "text": [
      "\u001b[36m[INFO]\u001b[0m [FileLogger] Logging to file test.log\n"
     ]
    }
   ],
   "source": [
    "loggers = [ mloggers.ConsoleLogger(default_priority), mloggers.FileLogger(\"test.log\", default_priority)]\n",
    "\n",
    "logger = mloggers.MultiLogger(loggers)"
   ]
  },
  {
   "cell_type": "code",
   "execution_count": 21,
   "id": "94310984",
   "metadata": {},
   "outputs": [
    {
     "name": "stdout",
     "output_type": "stream",
     "text": [
      "LogLevel.ERROR\n",
      "\u001b[31m[ERROR] \u001b[0m[19:29:45] error\n",
      "[19:29:45] no level\n",
      "[19:29:45] test1 test2\n",
      "[19:29:45] Ciao\n",
      "[19:29:45] testDict: test1\n",
      "\n",
      "\n",
      "\n",
      "LogLevel.WARN\n",
      "\u001b[33m[WARN] \u001b[0m[19:29:45] warn\n",
      "\u001b[33m[WARN] \u001b[0m[19:29:45] warning\n",
      "\u001b[31m[ERROR] \u001b[0m[19:29:45] error\n",
      "[19:29:45] no level\n",
      "[19:29:45] test1 test2\n",
      "[19:29:45] Ciao\n",
      "[19:29:45] testDict: test1\n",
      "\n",
      "\n",
      "\n",
      "LogLevel.INFO\n",
      "\u001b[36m[INFO] \u001b[0m[19:29:45] info\n",
      "\u001b[33m[WARN] \u001b[0m[19:29:45] warn\n",
      "\u001b[33m[WARN] \u001b[0m[19:29:45] warning\n",
      "\u001b[31m[ERROR] \u001b[0m[19:29:45] error\n",
      "[19:29:45] no level\n",
      "\u001b[32m[TEST] \u001b[0m[19:29:45] no level\n",
      "[19:29:45] test1 test2\n",
      "[19:29:45] Ciao\n",
      "[19:29:45] testDict: test1\n",
      "\u001b[36m[INFO] \u001b[0m[19:29:45] dict1: test\n",
      "\u001b[36m[INFO] \u001b[0m[19:29:45] dict2: test2\n",
      "\n",
      "\n",
      "\n",
      "LogLevel.DEBUG\n",
      "\u001b[35m[DEBUG] \u001b[0m[19:29:45] debug\n",
      "\u001b[36m[INFO] \u001b[0m[19:29:45] info\n",
      "\u001b[33m[WARN] \u001b[0m[19:29:45] warn\n",
      "\u001b[33m[WARN] \u001b[0m[19:29:45] warning\n",
      "\u001b[31m[ERROR] \u001b[0m[19:29:45] error\n",
      "[19:29:45] no level\n",
      "\u001b[32m[TEST] \u001b[0m[19:29:45] no level\n",
      "[19:29:45] test1 test2\n",
      "[19:29:45] Ciao\n",
      "[19:29:45] testDict: test1\n",
      "\u001b[36m[INFO] \u001b[0m[19:29:45] dict1: test\n",
      "\u001b[36m[INFO] \u001b[0m[19:29:45] dict2: test2\n",
      "\n",
      "\n",
      "\n"
     ]
    }
   ],
   "source": [
    "for level in LogLevel:\n",
    "    logger.set_min_priority(level)\n",
    "    print(level)\n",
    "    test_logger(logger)\n",
    "    print(\"\\n\\n\")"
   ]
  },
  {
   "cell_type": "code",
   "execution_count": 22,
   "id": "2d38e1ea",
   "metadata": {},
   "outputs": [
    {
     "name": "stdout",
     "output_type": "stream",
     "text": [
      "\u001b[36m[INFO]\u001b[0m [FileLogger] Logging to file test.log\n"
     ]
    }
   ],
   "source": [
    "logger = mloggers.FileLogger(\"test.log\", default_priority)"
   ]
  },
  {
   "cell_type": "code",
   "execution_count": 23,
   "id": "dbc8aae9",
   "metadata": {},
   "outputs": [],
   "source": [
    "def test_prints():\n",
    "    print(\"Hello\")\n",
    "    warnings.warn(\"Warning\")\n",
    "    print(\"Error\", file=sys.stderr)\n",
    "    sys.stdout.flush()\n",
    "    sys.stderr.flush()"
   ]
  },
  {
   "cell_type": "code",
   "execution_count": 24,
   "id": "4c19f8f0",
   "metadata": {},
   "outputs": [
    {
     "name": "stdout",
     "output_type": "stream",
     "text": [
      "Hello\n"
     ]
    },
    {
     "name": "stderr",
     "output_type": "stream",
     "text": [
      "/var/folders/fx/hq_jl3fs0vq28cc0rv_zjmcm0000gn/T/ipykernel_61885/3646135677.py:3: UserWarning: Warning\n",
      "  warnings.warn(\"Warning\")\n",
      "Error\n"
     ]
    }
   ],
   "source": [
    "test_prints()"
   ]
  },
  {
   "cell_type": "code",
   "execution_count": 25,
   "id": "78029c68",
   "metadata": {},
   "outputs": [
    {
     "name": "stdout",
     "output_type": "stream",
     "text": [
      "Hello\n"
     ]
    },
    {
     "name": "stderr",
     "output_type": "stream",
     "text": [
      "/var/folders/fx/hq_jl3fs0vq28cc0rv_zjmcm0000gn/T/ipykernel_61885/3646135677.py:3: UserWarning: Warning\n",
      "  warnings.warn(\"Warning\")\n",
      "Error\n"
     ]
    }
   ],
   "source": [
    "test_prints()"
   ]
  },
  {
   "cell_type": "code",
   "execution_count": 26,
   "id": "4343c347",
   "metadata": {},
   "outputs": [
    {
     "ename": "AttributeError",
     "evalue": "'FileLogger' object has no attribute 'reset_streams'",
     "output_type": "error",
     "traceback": [
      "\u001b[0;31m---------------------------------------------------------------------------\u001b[0m",
      "\u001b[0;31mAttributeError\u001b[0m                            Traceback (most recent call last)",
      "Cell \u001b[0;32mIn[26], line 1\u001b[0m\n\u001b[0;32m----> 1\u001b[0m \u001b[43mlogger\u001b[49m\u001b[38;5;241;43m.\u001b[39;49m\u001b[43mreset_streams\u001b[49m()\n",
      "\u001b[0;31mAttributeError\u001b[0m: 'FileLogger' object has no attribute 'reset_streams'"
     ]
    }
   ],
   "source": [
    "logger.reset_streams()"
   ]
  },
  {
   "cell_type": "code",
   "execution_count": 27,
   "id": "561b3381",
   "metadata": {},
   "outputs": [
    {
     "name": "stdout",
     "output_type": "stream",
     "text": [
      "Hello\n"
     ]
    },
    {
     "name": "stderr",
     "output_type": "stream",
     "text": [
      "/var/folders/fx/hq_jl3fs0vq28cc0rv_zjmcm0000gn/T/ipykernel_61885/3646135677.py:3: UserWarning: Warning\n",
      "  warnings.warn(\"Warning\")\n",
      "Error\n"
     ]
    }
   ],
   "source": [
    "test_prints()"
   ]
  },
  {
   "cell_type": "code",
   "execution_count": 28,
   "id": "a50a336b",
   "metadata": {},
   "outputs": [],
   "source": [
    "logger = mloggers.ConsoleLogger(default_priority)"
   ]
  },
  {
   "cell_type": "code",
   "execution_count": 29,
   "id": "67c92833",
   "metadata": {},
   "outputs": [
    {
     "name": "stdout",
     "output_type": "stream",
     "text": [
      "Hello\n"
     ]
    },
    {
     "name": "stderr",
     "output_type": "stream",
     "text": [
      "/var/folders/fx/hq_jl3fs0vq28cc0rv_zjmcm0000gn/T/ipykernel_61885/3646135677.py:3: UserWarning: Warning\n",
      "  warnings.warn(\"Warning\")\n",
      "Error\n"
     ]
    }
   ],
   "source": [
    "test_prints()"
   ]
  },
  {
   "cell_type": "code",
   "execution_count": 30,
   "id": "c11cb35a",
   "metadata": {},
   "outputs": [
    {
     "ename": "AttributeError",
     "evalue": "'ConsoleLogger' object has no attribute 'redirect_streams'",
     "output_type": "error",
     "traceback": [
      "\u001b[0;31m---------------------------------------------------------------------------\u001b[0m",
      "\u001b[0;31mAttributeError\u001b[0m                            Traceback (most recent call last)",
      "Cell \u001b[0;32mIn[30], line 1\u001b[0m\n\u001b[0;32m----> 1\u001b[0m \u001b[43mlogger\u001b[49m\u001b[38;5;241;43m.\u001b[39;49m\u001b[43mredirect_streams\u001b[49m()\n",
      "\u001b[0;31mAttributeError\u001b[0m: 'ConsoleLogger' object has no attribute 'redirect_streams'"
     ]
    }
   ],
   "source": [
    "logger.redirect_streams()"
   ]
  },
  {
   "cell_type": "code",
   "execution_count": null,
   "id": "72424d47",
   "metadata": {},
   "outputs": [],
   "source": [
    "test_prints()"
   ]
  },
  {
   "cell_type": "code",
   "execution_count": null,
   "id": "6f4ff123",
   "metadata": {},
   "outputs": [],
   "source": [
    "logger.reset_streams()"
   ]
  },
  {
   "cell_type": "code",
   "execution_count": null,
   "id": "e3d8c0ac",
   "metadata": {},
   "outputs": [],
   "source": [
    "test_prints()"
   ]
  }
 ],
 "metadata": {
  "kernelspec": {
   "display_name": "Python 3 (ipykernel)",
   "language": "python",
   "name": "python3"
  },
  "language_info": {
   "codemirror_mode": {
    "name": "ipython",
    "version": 3
   },
   "file_extension": ".py",
   "mimetype": "text/x-python",
   "name": "python",
   "nbconvert_exporter": "python",
   "pygments_lexer": "ipython3",
   "version": "3.12.1"
  }
 },
 "nbformat": 4,
 "nbformat_minor": 5
}
