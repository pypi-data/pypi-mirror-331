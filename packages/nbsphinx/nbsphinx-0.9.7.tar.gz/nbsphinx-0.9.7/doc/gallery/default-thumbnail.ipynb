{
 "cells": [
  {
   "cell_type": "markdown",
   "metadata": {
    "nbsphinx": "hidden"
   },
   "source": [
    "This notebook is part of the `nbsphinx` documentation: https://nbsphinx.readthedocs.io/."
   ]
  },
  {
   "cell_type": "markdown",
   "metadata": {},
   "source": [
    "# Default Thumbnail\n",
    "\n",
    "By default,\n",
    "the last image output of a notebook will be used as its thumbnail.\n",
    "Without an image output, a placeholder will be used.\n",
    "See [a notebook with no thumbnail](no-thumbnail.ipynb) for an example.\n",
    "\n",
    "However, if a thumbnail is explicitly assigned by\n",
    "[Using Cell Metadata to Select a Thumbnail](cell-metadata.ipynb),\n",
    "[Using a Cell Tag to Select a Thumbnail](cell-tag.ipynb) or\n",
    "[Specifying a Thumbnail File](thumbnail-from-conf-py.ipynb),\n",
    "these methods will take precedence."
   ]
  },
  {
   "cell_type": "code",
   "execution_count": null,
   "metadata": {},
   "outputs": [],
   "source": [
    "import matplotlib.pyplot as plt\n",
    "import numpy as np"
   ]
  },
  {
   "cell_type": "markdown",
   "metadata": {},
   "source": [
    "Although the next cell contains an image (a plot), it won't be used as the thumbnail because it's not the last in the notebook, and we haven't explicitly tagged it."
   ]
  },
  {
   "cell_type": "code",
   "execution_count": null,
   "metadata": {},
   "outputs": [],
   "source": [
    "fig, ax = plt.subplots(figsize=[6, 3])\n",
    "x = np.linspace(-5, 5, 50)\n",
    "ax.plot(x, np.sinc(x));"
   ]
  },
  {
   "cell_type": "markdown",
   "metadata": {},
   "source": [
    "But the next cell is the last containing an image in the notebook,\n",
    "so its last image output will be used as the thumbnail."
   ]
  },
  {
   "cell_type": "code",
   "execution_count": null,
   "metadata": {},
   "outputs": [],
   "source": [
    "display(fig)\n",
    "fig, ax = plt.subplots(figsize=[6, 3])\n",
    "x = np.linspace(-5, 5, 50)\n",
    "ax.plot(x, -np.sinc(x), color='red');"
   ]
  }
 ],
 "metadata": {
  "kernelspec": {
   "display_name": "Python 3 (ipykernel)",
   "language": "python",
   "name": "python3"
  },
  "language_info": {
   "codemirror_mode": {
    "name": "ipython",
    "version": 3
   },
   "file_extension": ".py",
   "mimetype": "text/x-python",
   "name": "python",
   "nbconvert_exporter": "python",
   "pygments_lexer": "ipython3",
   "version": "3.11.2"
  }
 },
 "nbformat": 4,
 "nbformat_minor": 4
}
