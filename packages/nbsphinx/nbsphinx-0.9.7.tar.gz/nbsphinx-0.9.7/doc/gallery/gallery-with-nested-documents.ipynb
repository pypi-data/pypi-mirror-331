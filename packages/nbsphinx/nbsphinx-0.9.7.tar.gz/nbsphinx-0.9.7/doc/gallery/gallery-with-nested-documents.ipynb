{
 "cells": [
  {
   "cell_type": "markdown",
   "metadata": {
    "nbsphinx": "hidden"
   },
   "source": [
    "This notebook is part of the `nbsphinx` documentation: https://nbsphinx.readthedocs.io/."
   ]
  },
  {
   "cell_type": "markdown",
   "metadata": {},
   "source": [
    "# Gallery With Nested Documents\n",
    "\n",
    "You can create\n",
    "[thumbnail galleries in reST files](../a-normal-rst-file.rst#thumbnail-galleries),\n",
    "but you can also create such galleries in Jupyter notebooks\n",
    "by adding the `nbsphinx-gallery`\n",
    "cell tag or metadata,\n",
    "which is used just like the\n",
    "[nbsphinx-toctree](../subdir/toctree.ipynb) cell tag/metadata.\n",
    "For possible options, see the [toctree](../subdir/toctree.ipynb) notebook.\n",
    "\n",
    "<div class=\"alert alert-info\">\n",
    "\n",
    "Note\n",
    "\n",
    "In LaTeX output this behaves just like ``toctree``,\n",
    "i.e. no thumbnail gallery is shown,\n",
    "but the linked files are included in the document.\n",
    "\n",
    "Like with ``toctree`` you should avoid adding content\n",
    "after a gallery (except other toctrees and galleries)\n",
    "because this content would appear in the LaTeX output\n",
    "*after* the content of all included source files,\n",
    "which is probably not what you want.\n",
    "\n",
    "</div>\n",
    "\n",
    "The following cell has the `nbsphinx-gallery` tag,\n",
    "which creates a thumbnail gallery.\n",
    "The *first* section title in that cell (if available)\n",
    "is used as `caption` (unless it is already given in the metadata).\n",
    "\n",
    "The notebooks in the following gallery describe different ways\n",
    "how to select which images are used as thumbnails.\n",
    "The notebooks are added as sub-sections under the current section,\n",
    "just like when using ``toctree``.\n",
    "If you want to create a gallery from links to notebooks\n",
    "that are already included somewhere else,\n",
    "you can use [nbsphinx-link-gallery](gallery-with-links.ipynb)."
   ]
  },
  {
   "cell_type": "markdown",
   "metadata": {
    "tags": [
     "nbsphinx-gallery"
    ]
   },
   "source": [
    "This section title will be used as ``caption``:\n",
    "\n",
    "## This is a thumbnail gallery with sub-documents:\n",
    "\n",
    "This paragraph will be ignored.\n",
    "Only links and the first section title are scanned,\n",
    "everything else is ignored.\n",
    "\n",
    "* [Last Image Is Used by Default](default-thumbnail.ipynb)\n",
    "* [Using a Cell Tag to Select a Thumbnail](cell-tag.ipynb)\n",
    "* [Using Cell Metadata to Select a Thumbnail and Provide a Tooltip](cell-metadata.ipynb)\n",
    "* [Choosing from Multiple Outputs](multiple-outputs.ipynb)\n",
    "* [No Thumbnail Available](no-thumbnail.ipynb)\n",
    "* [Specifying a Thumbnail File](thumbnail-from-conf-py.ipynb)\n",
    "\n",
    "## This section title will be ignored\n",
    "\n",
    "... because only the first title in this cell is used."
   ]
  }
 ],
 "metadata": {
  "kernelspec": {
   "display_name": "Python 3 (ipykernel)",
   "language": "python",
   "name": "python3"
  },
  "language_info": {
   "codemirror_mode": {
    "name": "ipython",
    "version": 3
   },
   "file_extension": ".py",
   "mimetype": "text/x-python",
   "name": "python",
   "nbconvert_exporter": "python",
   "pygments_lexer": "ipython3",
   "version": "3.11.2"
  }
 },
 "nbformat": 4,
 "nbformat_minor": 4
}
