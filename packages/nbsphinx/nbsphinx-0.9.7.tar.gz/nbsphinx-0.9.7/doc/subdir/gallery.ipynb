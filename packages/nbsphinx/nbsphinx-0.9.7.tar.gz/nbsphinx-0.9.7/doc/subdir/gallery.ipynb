{
 "cells": [
  {
   "cell_type": "markdown",
   "metadata": {
    "nbsphinx": "hidden"
   },
   "source": [
    "This notebook is part of the `nbsphinx` documentation: https://nbsphinx.readthedocs.io/."
   ]
  },
  {
   "cell_type": "markdown",
   "metadata": {},
   "source": [
    "# Creating Thumbnail Galleries\n",
    "\n",
    "Inspired by [Sphinx-Gallery](https://sphinx-gallery.github.io/),\n",
    "you can create thumbnail galleries from a list of Jupyter notebooks\n",
    "(or other Sphinx source files).\n",
    "\n",
    "`nbsphinx` provides CSS styles for galleries,\n",
    "but like all styles you can tweak them\n",
    "with your own CSS files loaded via\n",
    "[html_css_files](https://www.sphinx-doc.org/en/master/usage/configuration.html#confval-html_css_files).\n",
    "If you want to disable all the original styling,\n",
    "you can create a file named `nbsphinx-gallery.css` somewhere in your\n",
    "[html_static_path](https://www.sphinx-doc.org/en/master/usage/configuration.html#confval-html_static_path),\n",
    "which will replace the original CSS file\n",
    "(adding it to `html_css_files` is not necessary in this case,\n",
    "because it is automatically added by `nbsphinx`).\n",
    "\n",
    "The following sections present\n",
    "two different ways of creating thumbnail galleries\n",
    "in Jupyter notebooks\n",
    "and show how thumbnail images can be selected.\n",
    "Thumbnail galleries can also be created in\n",
    "[reStructuredText files](../a-normal-rst-file.rst#thumbnail-galleries)."
   ]
  },
  {
   "cell_type": "markdown",
   "metadata": {
    "tags": [
     "nbsphinx-toctree"
    ]
   },
   "source": [
    "* [Gallery With Nested Documents](../gallery/gallery-with-nested-documents.ipynb)\n",
    "* [Gallery With Links (HTML only)](../gallery/gallery-with-links.ipynb)"
   ]
  }
 ],
 "metadata": {
  "kernelspec": {
   "display_name": "Python 3 (ipykernel)",
   "language": "python",
   "name": "python3"
  },
  "language_info": {
   "codemirror_mode": {
    "name": "ipython",
    "version": 3
   },
   "file_extension": ".py",
   "mimetype": "text/x-python",
   "name": "python",
   "nbconvert_exporter": "python",
   "pygments_lexer": "ipython3",
   "version": "3.11.1"
  }
 },
 "nbformat": 4,
 "nbformat_minor": 4
}
