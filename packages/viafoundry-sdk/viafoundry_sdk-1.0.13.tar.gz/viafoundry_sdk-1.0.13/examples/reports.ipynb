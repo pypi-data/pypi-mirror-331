{
 "cells": [
  {
   "cell_type": "code",
   "execution_count": 16,
   "metadata": {},
   "outputs": [],
   "source": [
    "from viafoundry.client import ViaFoundryClient\n",
    "import json"
   ]
  },
  {
   "cell_type": "code",
   "execution_count": 17,
   "metadata": {},
   "outputs": [],
   "source": [
    "# Make sure to authenticate it\n",
    "#client = ViaFoundryClient(\"/Users/alper/.viaprod\",  enable_session_history=True)\n",
    "client = ViaFoundryClient(\"/Users/alper/.vialocal\")\n",
    "# client.configure_auth(username=\"YOUR_USER\", password=\"YOUR_PASSWORD\", hostname=\"YOUR_VIA_HOST\")"
   ]
  },
  {
   "cell_type": "code",
   "execution_count": 3,
   "metadata": {},
   "outputs": [
    {
     "name": "stdout",
     "output_type": "stream",
     "text": [
      "Processes: ['Salmon_module', 'Bam_Quantify_Module_STAR', 'Overall_Summary', 'MultiQC', 'DE_module_RSEM', 'RSEM_module', 'Sequential_Mapping_Module']\n",
      "                                     id  processName  \\\n",
      "0  2f5f8cf9-4094-4e06-bde9-400192f01202  RSEM_module   \n",
      "1  cd77bbd4-c486-4857-a5b4-cd7aba9b3dc8  RSEM_module   \n",
      "2  9074b7ff-bd82-44b4-9ecb-fd7bb5e7971b  RSEM_module   \n",
      "3  f5bb1361-c11d-4b1b-83c4-c63714ff27c5  RSEM_module   \n",
      "\n",
      "                                     name extension  \\\n",
      "0     genes_expression_expected_count.tsv       tsv   \n",
      "1                genes_expression_tpm.tsv       tsv   \n",
      "2  isoforms_expression_expected_count.tsv       tsv   \n",
      "3             isoforms_expression_tpm.tsv       tsv   \n",
      "\n",
      "                                           file_path  fileSize  \\\n",
      "0   rsem_summary/genes_expression_expected_count.tsv     65181   \n",
      "1              rsem_summary/genes_expression_tpm.tsv     65639   \n",
      "2  rsem_summary/isoforms_expression_expected_coun...     99601   \n",
      "3           rsem_summary/isoforms_expression_tpm.tsv    100304   \n",
      "\n",
      "                                           routePath  \n",
      "0  /report-resources/91a88daba2c2467695b67f8375fb...  \n",
      "1  /report-resources/91a88daba2c2467695b67f8375fb...  \n",
      "2  /report-resources/91a88daba2c2467695b67f8375fb...  \n",
      "3  /report-resources/91a88daba2c2467695b67f8375fb...  \n"
     ]
    }
   ],
   "source": [
    "report_data = client.reports.fetch_report_data(report_id=\"1\")\n",
    "\n",
    "process_names = client.reports.get_process_names(report_data)\n",
    "print(\"Processes:\", process_names)\n",
    "filenames = client.reports.get_file_names(report_data, \"RSEM_module\")\n",
    "print(filenames)\n",
    "# We will use file_path to load the data\n"
   ]
  },
  {
   "cell_type": "code",
   "execution_count": 4,
   "metadata": {},
   "outputs": [
    {
     "name": "stdout",
     "output_type": "stream",
     "text": [
      "          gene                                   transcript  control_rep1  \\\n",
      "0       Zfp111                                   uc009foz.2          0.00   \n",
      "1        Rps16                                   uc012fgr.1          0.00   \n",
      "2     AB339385                                   uc029wdo.1          0.00   \n",
      "3       Rasip1                                   uc009gwi.1        108.88   \n",
      "4         Eml2                        uc009fkz.2,uc009fla.2          0.00   \n",
      "...        ...                                          ...           ...   \n",
      "1121    Nlrp4a  uc009ful.1,uc009fum.1,uc009fun.1,uc012fgc.1          0.00   \n",
      "1122    Gm6164                        uc012fbs.1,uc012fdu.1          0.00   \n",
      "1123    Zfp324             uc009fer.1,uc009fes.1,uc012ezd.1          0.00   \n",
      "1124     C5ar1                        uc009fhl.2,uc012faf.1          0.00   \n",
      "1125     Kcnc3                        uc009gqg.1,uc009gqh.1          0.00   \n",
      "\n",
      "      control_rep2  control_rep3  exper_rep1  exper_rep2  exper_rep3  \n",
      "0             0.00          0.00        0.00        0.00         0.0  \n",
      "1             0.00          0.00        0.00        0.00         0.0  \n",
      "2             0.00          0.00        0.00        0.00         0.0  \n",
      "3            83.76         98.82      108.41      143.61        57.0  \n",
      "4             0.00          0.00        0.00        0.00         0.0  \n",
      "...            ...           ...         ...         ...         ...  \n",
      "1121          0.00          0.00        0.00        0.00         0.0  \n",
      "1122          0.00          0.00        0.00        0.00         0.0  \n",
      "1123          0.00          0.00        0.00        0.00         0.0  \n",
      "1124          0.00          0.00        0.00        0.00         0.0  \n",
      "1125          0.00          0.00        0.00        0.00         0.0  \n",
      "\n",
      "[1126 rows x 8 columns]\n"
     ]
    }
   ],
   "source": [
    "rsem_data = client.reports.load_file(report_data, \"rsem_summary/genes_expression_expected_count.tsv\")\n",
    "# To download the file you can use the line below.\n",
    "# client.reports.download_file(report_data, \"rsem_summary/genes_expression_expected_count.tsv\")\n",
    "\n",
    "print(rsem_data)"
   ]
  },
  {
   "cell_type": "code",
   "execution_count": 6,
   "metadata": {},
   "outputs": [
    {
     "name": "stdout",
     "output_type": "stream",
     "text": [
      "Directories: {'rsem_summary', 'multiqc', 'summary', 'kallisto_count', 'featureCounts_after_STAR_details', 'featureCounts_after_STAR_summary'}\n"
     ]
    }
   ],
   "source": [
    "directories = client.reports.get_report_dirs(report_id=\"2523\")\n",
    "print(\"Directories:\", directories)"
   ]
  },
  {
   "cell_type": "code",
   "execution_count": 5,
   "metadata": {},
   "outputs": [
    {
     "name": "stdout",
     "output_type": "stream",
     "text": [
      "No LPS or ctrl columns found in the data.\n"
     ]
    }
   ],
   "source": [
    "# prompt: Write a script to Create a scatter plot using rsem_data by getting the average of LPS vs ctrl columns in ligth grey and log Scale. The column prefixes are LPS and ctrl. Make sure to complete full column name yourself to get average for each condition. And save the file as plot.png\n",
    "\n",
    "import pandas as pd\n",
    "import matplotlib.pyplot as plt\n",
    "\n",
    "# Assuming rsem_data is a pandas DataFrame\n",
    "# Calculate the average of LPS and ctrl columns\n",
    "lps_cols = [col for col in rsem_data.columns if col.startswith('LPS')]\n",
    "ctrl_cols = [col for col in rsem_data.columns if col.startswith('ctrl')]\n",
    "\n",
    "if not lps_cols or not ctrl_cols:\n",
    "    print(\"No LPS or ctrl columns found in the data.\")\n",
    "else:\n",
    "    rsem_data['LPS_avg'] = rsem_data[lps_cols].mean(axis=1)\n",
    "    rsem_data['ctrl_avg'] = rsem_data[ctrl_cols].mean(axis=1)\n",
    "\n",
    "    # Create the scatter plot\n",
    "    plt.figure(figsize=(10, 6))\n",
    "    plt.scatter(rsem_data['ctrl_avg'], rsem_data['LPS_avg'], color='lightgrey')\n",
    "    plt.xlabel('Average ctrl Expression', fontsize=12)\n",
    "    plt.ylabel('Average LPS Expression', fontsize=12)\n",
    "    plt.title('LPS vs ctrl Expression', fontsize=14)\n",
    "    plt.xscale('log')\n",
    "    plt.yscale('log')\n",
    "    plt.savefig('plot.png')\n",
    "    plt.show()"
   ]
  },
  {
   "cell_type": "code",
   "execution_count": 7,
   "metadata": {},
   "outputs": [
    {
     "name": "stdout",
     "output_type": "stream",
     "text": [
      "Upload Response: \n"
     ]
    }
   ],
   "source": [
    "response = client.reports.upload_report_file(\n",
    "    report_id=\"1\",\n",
    "    local_file_path=\"plot.png\",\n",
    "    dir=\"summary\"\n",
    ")\n",
    "print(\"Upload Response:\", response)"
   ]
  },
  {
   "cell_type": "code",
   "execution_count": 15,
   "metadata": {},
   "outputs": [
    {
     "name": "stdout",
     "output_type": "stream",
     "text": [
      "Overwriting file.\n"
     ]
    }
   ],
   "source": [
    "client.reports.enable_session_history=True\n",
    "response = client.reports.upload_session_history(\n",
    "    report_id=\"1\",\n",
    "    dir=\"summary\"\n",
    ")"
   ]
  },
  {
   "cell_type": "markdown",
   "metadata": {},
   "source": []
  },
  {
   "cell_type": "code",
   "execution_count": 12,
   "metadata": {},
   "outputs": [
    {
     "name": "stdout",
     "output_type": "stream",
     "text": [
      "from viafoundry.client import ViaFoundryClient\n",
      "import json\n",
      "# Make sure to authenticate it\n",
      "#client = ViaFoundryClient(\"/Users/alper/.viaprod\",  enable_session_history=True)\n",
      "client = ViaFoundryClient(\"/Users/alper/.vialocal\")\n",
      "# client.configure_auth(username=\"YOUR_USER\", password=\"YOUR_PASSWORD\", hostname=\"YOUR_VIA_HOST\")\n",
      "report_data = client.reports.fetch_report_data(report_id=\"1\")\n",
      "\n",
      "process_names = client.reports.get_process_names(report_data)\n",
      "print(\"Processes:\", process_names)\n",
      "filenames = client.reports.get_file_names(report_data, \"RSEM_module\")\n",
      "print(filenames)\n",
      "# We will use file_path to load the data\n",
      "rsem_data = client.reports.load_file(report_data, \"rsem_summary/genes_expression_expected_count.tsv\")\n",
      "# To download the file you can use the line below.\n",
      "# client.reports.download_file(report_data, \"rsem_summary/genes_expression_expected_count.tsv\")\n",
      "\n",
      "print(rsem_data)\n",
      "# prompt: Write a script to Create a scatter plot using rsem_data by getting the average of LPS vs ctrl columns in ligth grey and log Scale. The column prefixes are LPS and ctrl. Make sure to complete full column name yourself to get average for each condition. And save the file as plot.png\n",
      "\n",
      "import pandas as pd\n",
      "import matplotlib.pyplot as plt\n",
      "\n",
      "# Assuming rsem_data is a pandas DataFrame\n",
      "# Calculate the average of LPS and ctrl columns\n",
      "lps_cols = [col for col in rsem_data.columns if col.startswith('LPS')]\n",
      "ctrl_cols = [col for col in rsem_data.columns if col.startswith('ctrl')]\n",
      "\n",
      "if not lps_cols or not ctrl_cols:\n",
      "    print(\"No LPS or ctrl columns found in the data.\")\n",
      "else:\n",
      "    rsem_data['LPS_avg'] = rsem_data[lps_cols].mean(axis=1)\n",
      "    rsem_data['ctrl_avg'] = rsem_data[ctrl_cols].mean(axis=1)\n",
      "\n",
      "    # Create the scatter plot\n",
      "    plt.figure(figsize=(10, 6))\n",
      "    plt.scatter(rsem_data['ctrl_avg'], rsem_data['LPS_avg'], color='lightgrey')\n",
      "    plt.xlabel('Average ctrl Expression', fontsize=12)\n",
      "    plt.ylabel('Average LPS Expression', fontsize=12)\n",
      "    plt.title('LPS vs ctrl Expression', fontsize=14)\n",
      "    plt.xscale('log')\n",
      "    plt.yscale('log')\n",
      "    plt.savefig('plot.png')\n",
      "    plt.show()\n",
      "response = client.reports.upload_report_file(\n",
      "    report_id=\"1\",\n",
      "    local_file_path=\"examples/plot.png\",\n",
      "    dir=\"summary\"\n",
      ")\n",
      "print(\"Upload Response:\", response)\n",
      "response = client.reports.upload_report_file(\n",
      "    report_id=\"1\",\n",
      "    local_file_path=\"plot.png\",\n",
      "    dir=\"summary\"\n",
      ")\n",
      "print(\"Upload Response:\", response)\n",
      "response = client.reports.upload_session_history(\n",
      "    report_id=\"2523\",\n",
      "    dir=\"summary\"\n",
      ")\n",
      "response = client.reports.upload_session_history(\n",
      "    report_id=\"1\",\n",
      "    dir=\"summary\"\n",
      ")\n",
      "response = client.reports.upload_session_history(\n",
      "    report_id=\"1\",\n",
      "    dir=\"summary\"\n",
      ")\n",
      "response = client.reports.upload_session_history(\n",
      "    report_id=\"1\",\n",
      "    dir=\"summary\"\n",
      ")\n",
      "%history\n"
     ]
    }
   ],
   "source": [
    "%history"
   ]
  }
 ],
 "metadata": {
  "kernelspec": {
   "display_name": "Python 3",
   "language": "python",
   "name": "python3"
  },
  "language_info": {
   "codemirror_mode": {
    "name": "ipython",
    "version": 3
   },
   "file_extension": ".py",
   "mimetype": "text/x-python",
   "name": "python",
   "nbconvert_exporter": "python",
   "pygments_lexer": "ipython3",
   "version": "3.11.3"
  }
 },
 "nbformat": 4,
 "nbformat_minor": 2
}
