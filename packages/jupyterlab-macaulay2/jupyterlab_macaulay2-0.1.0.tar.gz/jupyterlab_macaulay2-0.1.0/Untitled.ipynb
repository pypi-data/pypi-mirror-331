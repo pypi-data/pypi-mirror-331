{
 "cells": [
  {
   "cell_type": "code",
   "execution_count": null,
   "id": "3df7332f-f468-4467-ac73-c9ba2dc63b90",
   "metadata": {},
   "outputs": [],
   "source": [
    "R = QQ[x,y,z,w]\n",
    "I = monomialCurveIdeal(R, {1,2,3})"
   ]
  }
 ],
 "metadata": {
  "kernelspec": {
   "display_name": "M2",
   "language": "Macaulay2",
   "name": "m2"
  },
  "language_info": {
   "codemirror_mode": "macaulay2",
   "file_extension": ".m2",
   "mimetype": "text/x-macaulay2",
   "name": "Macaulay2"
  }
 },
 "nbformat": 4,
 "nbformat_minor": 5
}
