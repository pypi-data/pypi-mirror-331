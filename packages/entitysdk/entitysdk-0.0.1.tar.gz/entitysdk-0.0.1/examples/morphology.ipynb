{
 "cells": [
  {
   "cell_type": "code",
   "execution_count": null,
   "id": "47471adc-9c79-4262-9fc4-66f5579f14a8",
   "metadata": {},
   "outputs": [],
   "source": [
    "import io\n",
    "import os\n",
    "import tempfile\n",
    "from pathlib import Path\n",
    "\n",
    "from rich import print as rprint\n",
    "\n",
    "from entitysdk.client import Client\n",
    "from entitysdk.common import ProjectContext\n",
    "from entitysdk.models.morphology import (\n",
    "    BrainLocation,\n",
    "    BrainRegion,\n",
    "    ReconstructionMorphology,\n",
    "    Species,\n",
    "    Strain,\n",
    ")"
   ]
  },
  {
   "cell_type": "markdown",
   "id": "cacdf95f-d545-417b-b1bd-c8a5181c162f",
   "metadata": {},
   "source": [
    "### Initialize the entitycore client"
   ]
  },
  {
   "cell_type": "code",
   "execution_count": null,
   "id": "5e4f4ff2-3d5b-4f3a-90a9-ea43d587ebce",
   "metadata": {},
   "outputs": [],
   "source": [
    "entitycore_api_url = \"http://127.0.0.1:8000\"\n",
    "project_context = ProjectContext(\n",
    "    virtual_lab_id=\"103d7868-147e-4f07-af0d-71d8568f575c\",\n",
    "    project_id=\"103d7868-147e-4f07-af0d-71d8568f575c\",\n",
    ")\n",
    "client = Client(api_url=entitycore_api_url, project_context=project_context)\n",
    "token = os.getenv(\"ACCESS_TOKEN\", \"XXX\")"
   ]
  },
  {
   "cell_type": "markdown",
   "id": "15b1762d-11df-42be-bcff-5f42b03ab2cd",
   "metadata": {},
   "source": [
    "## Search for entities"
   ]
  },
  {
   "cell_type": "code",
   "execution_count": null,
   "id": "93d30bc5-c40c-4a5d-ad9e-9b0c4abc3ef4",
   "metadata": {},
   "outputs": [],
   "source": [
    "species = list(\n",
    "    client.search(entity_type=Species, query={\"name\": \"Mus musculus\"}, token=token, limit=10)\n",
    ")[0]\n",
    "rprint(species)\n",
    "\n",
    "strain = list(client.search(entity_type=Strain, query={\"name\": \"Cux2-CreERT2\"}, token=token))[0]\n",
    "rprint(strain)"
   ]
  },
  {
   "cell_type": "markdown",
   "id": "a0193055-3448-4d1c-99cc-4d953727ef4e",
   "metadata": {},
   "source": [
    "### Create a morphology object"
   ]
  },
  {
   "cell_type": "code",
   "execution_count": null,
   "id": "fdc328df-2cef-4e23-b240-2de061f0e640",
   "metadata": {},
   "outputs": [],
   "source": [
    "# No GET endpoint yet for brain-region\n",
    "\n",
    "brain_location = BrainLocation(\n",
    "    x=4101.52490234375,\n",
    "    y=1173.8499755859375,\n",
    "    z=4744.60009765625,\n",
    ")\n",
    "brain_region = BrainRegion(\n",
    "    id=68,\n",
    "    name=\"Frontal pole, layer 1\",\n",
    "    acronym=\"FRP1\",\n",
    "    children=[],\n",
    ")\n",
    "morphology = ReconstructionMorphology(\n",
    "    name=\"my-morph\",\n",
    "    description=\"A morphology\",\n",
    "    species=species,\n",
    "    strain=strain,\n",
    "    brain_region=brain_region,\n",
    "    location=brain_location,\n",
    "    legacy_id=\"temp\",\n",
    ")\n",
    "rprint(morphology)"
   ]
  },
  {
   "cell_type": "markdown",
   "id": "83fb7e5e-73b5-4227-aa22-90bb789b0907",
   "metadata": {},
   "source": [
    "## Register morphology and upload assets"
   ]
  },
  {
   "cell_type": "code",
   "execution_count": null,
   "id": "51d0c5b4-6251-4ee4-99ef-b6449a4d5da8",
   "metadata": {},
   "outputs": [],
   "source": [
    "registered = client.register(entity=morphology, token=token)\n",
    "rprint(registered)\n",
    "\n",
    "\n",
    "with tempfile.TemporaryDirectory() as tdir:\n",
    "    file1 = Path(tdir, \"morph.h5\")\n",
    "    file1.write_text(\"h5\")\n",
    "    file1.touch()\n",
    "\n",
    "    file2 = Path(tdir, \"morph.swc\")\n",
    "    file2.write_text(\"swc\")\n",
    "    file2.touch()\n",
    "\n",
    "    # use a filepath to register first asset\n",
    "    asset1 = client.upload_file(\n",
    "        entity_id=registered.id,\n",
    "        entity_type=ReconstructionMorphology,\n",
    "        file_path=file1,\n",
    "        file_content_type=\"application/h5\",\n",
    "        token=token,\n",
    "    )\n",
    "    rprint(asset1)\n",
    "\n",
    "    # use an in-memory buffer to upload second asset\n",
    "    buffer = io.BytesIO(b\"morph bytes buffer\")\n",
    "\n",
    "    asset2 = client.upload_content(\n",
    "        entity_id=registered.id,\n",
    "        entity_type=ReconstructionMorphology,\n",
    "        file_content=buffer,\n",
    "        file_name=\"buffer.h5\",\n",
    "        file_content_type=\"application/swc\",\n",
    "        token=token,\n",
    "    )\n",
    "    rprint(asset2)\n",
    "    morphology = morphology.evolve(assets=[asset1, asset2])"
   ]
  },
  {
   "cell_type": "markdown",
   "id": "1b5e396e-bf57-436d-9b06-ce198afc15ca",
   "metadata": {},
   "source": [
    "## Retrieve it"
   ]
  },
  {
   "cell_type": "code",
   "execution_count": null,
   "id": "3a0f9360-a805-4ccf-ad7c-95f7237d0819",
   "metadata": {},
   "outputs": [],
   "source": [
    "fetched = client.get(entity_id=registered.id, entity_type=ReconstructionMorphology, token=token)\n",
    "rprint(fetched)\n",
    "fetched_wout_assets = client.get(\n",
    "    entity_id=registered.id, entity_type=ReconstructionMorphology, token=token, with_assets=False\n",
    ")\n",
    "rprint(fetched_wout_assets)"
   ]
  },
  {
   "cell_type": "markdown",
   "id": "f15c808c-c454-4277-9ec4-587922ac74f3",
   "metadata": {},
   "source": [
    "## Search it"
   ]
  },
  {
   "cell_type": "code",
   "execution_count": null,
   "id": "956cc4d7-9ca8-4bb4-9911-648b4ca18a49",
   "metadata": {},
   "outputs": [],
   "source": [
    "it = client.search(\n",
    "    entity_type=ReconstructionMorphology,\n",
    "    query={\"name\": \"my-morph\", \"page\": 1, \"page_size\": 2},\n",
    "    token=token,\n",
    "    limit=0,\n",
    ")\n",
    "hits = list(it)\n",
    "\n",
    "print(len(hits))\n",
    "rprint(hits[0])"
   ]
  }
 ],
 "metadata": {
  "kernelspec": {
   "display_name": "Python 3 (ipykernel)",
   "language": "python",
   "name": "python3"
  },
  "language_info": {
   "codemirror_mode": {
    "name": "ipython",
    "version": 3
   },
   "file_extension": ".py",
   "mimetype": "text/x-python",
   "name": "python",
   "nbconvert_exporter": "python",
   "pygments_lexer": "ipython3",
   "version": "3.12.8"
  }
 },
 "nbformat": 4,
 "nbformat_minor": 5
}
