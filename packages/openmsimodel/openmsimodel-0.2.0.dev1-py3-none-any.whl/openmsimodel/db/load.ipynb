{
 "cells": [
  {
   "cell_type": "code",
   "execution_count": 1,
   "metadata": {},
   "outputs": [],
   "source": [
    "import glob\n",
    "import json\n",
    "import random\n",
    "import pandas\n",
    "from pprint import pprint\n",
    "import sys\n",
    "import json\n",
    "import numpy as np\n",
    "import pymssql\n",
    "from gemd_database import MSSQLDatabase\n",
    "from queries import *\n",
    "import SciServer.CasJobs as cj"
   ]
  },
  {
   "cell_type": "code",
   "execution_count": null,
   "metadata": {},
   "outputs": [],
   "source": [
    "with open('/home/arachid1/.private/gemd_db.json','r') as f:\n",
    "    AUTH = json.load(f)\n",
    "\n",
    "DATABASE='GEMD'\n",
    "GEMDDB=MSSQLDatabase(AUTH,DATABASE)"
   ]
  },
  {
   "cell_type": "code",
   "execution_count": null,
   "metadata": {},
   "outputs": [],
   "source": [
    "sql=\"\"\"\n",
    "select distinct *\n",
    "from GEMDModel\n",
    "\"\"\"\n",
    "GEMDDB.execute_query(sql)"
   ]
  },
  {
   "cell_type": "code",
   "execution_count": null,
   "metadata": {},
   "outputs": [],
   "source": [
    "sql=\"\"\"\n",
    "select top 4 context\n",
    "  from  gemdobject c where gemd_type='process_run'\n",
    " order by newid()\n",
    "\"\"\"\n",
    "query_results=GEMDDB.execute_query(sql)\n",
    "query_results\n",
    "# query_results.iloc[0]['context']"
   ]
  },
  {
   "attachments": {},
   "cell_type": "markdown",
   "metadata": {},
   "source": [
    "find process runs for a random set of process specs"
   ]
  },
  {
   "cell_type": "code",
   "execution_count": null,
   "metadata": {},
   "outputs": [],
   "source": [
    "sql=\"\"\"\n",
    "with some_specs as (  \n",
    "select top 10 *              -- using SELECT TOP N ... ORDER BY newid() is standard trick for getting a random sample of N entries\n",
    "  from gemdobject\n",
    " where gemd_type='process_spec' \n",
    "order by newid()                       \n",
    ")\n",
    "select s.uid as spec_id\n",
    ",      json_value(s.context,'$.name') as spec\n",
    ",      r.uid as run_id\n",
    ",      r.context as run\n",
    "  from some_specs s\n",
    "  join gemdobject r\n",
    " on r.gemd_type='process_run' \n",
    "   and JSON_VALUE(r.context,'$.spec.id')=s.uid\n",
    "order by spec\n",
    "\"\"\"\n",
    "query_results=GEMDDB.execute_query(sql)\n",
    "query_results"
   ]
  },
  {
   "attachments": {},
   "cell_type": "markdown",
   "metadata": {},
   "source": [
    "for a material spec (non empty properties), get material runs and templates"
   ]
  },
  {
   "cell_type": "code",
   "execution_count": null,
   "metadata": {},
   "outputs": [],
   "source": [
    "%%time\n",
    "sql=\"\"\"\n",
    "with some_specs as (\n",
    "select top 3 *\n",
    "  from gemdobject\n",
    " where gemd_type='material_spec' \n",
    "   and context like '%\"properties\":%'\n",
    "and context not like '%properties\": [[]]%'   -- having some non-trivial properties. NOTE '[' must be escaped to '[[]', ']' needs no escaping\n",
    "                                             -- see https://docs.microsoft.com/en-us/sql/t-sql/language-elements/like-transact-sql?view=sql-server-ver16#using-wildcard-characters-as-literals\n",
    ")\n",
    "select s.uid as spec_id\n",
    ",      JSON_VALUE(t.context,'$.name') as template\n",
    ",      JSON_VALUE(s.context,'$.name') as spec\n",
    ",      JSON_VALUE(m.context,'$.name') as material\n",
    ",      JSON_VALUE(p.context,'$.name') as process\n",
    ",      JSON_VALUE(ps.context,'$.name') as process_spec\n",
    "--,      t.context as t_context\n",
    "--,      s.context as s_context\n",
    "--,      m.context as m_context\n",
    ",      json_query(ps.context,'$.tags') as ps_tags\n",
    "--,      p.context as p_context\n",
    "--,      ps.context as ps_context\n",
    "  from some_specs s\n",
    "  join gemdobject t on t.uid=json_value(s.context,'$.template.id') -- get template for material_spec\n",
    "  join gemdobject m on s.uid=json_value(m.context,'$.spec.id')     -- get material_run for material_spec\n",
    "  join gemdobject p on p.uid=json_value(m.context,'$.process.id')  -- get process_run for material_run\n",
    "  join gemdobject ps on ps.uid=json_value(p.context,'$.spec.id')   -- get process_spec for process_run\n",
    "  \"\"\"\n",
    "query_results=GEMDDB.execute_query(sql)\n",
    "query_results.head(4)"
   ]
  },
  {
   "attachments": {},
   "cell_type": "markdown",
   "metadata": {},
   "source": [
    "get properties for a material spec"
   ]
  },
  {
   "cell_type": "code",
   "execution_count": null,
   "metadata": {},
   "outputs": [],
   "source": [
    "%%time\n",
    "sql=\"\"\"\n",
    "select s.uid as spec_id\n",
    ",      JSON_VALUE(s.context,'$.name') as spec\n",
    ",      JSON_VALUE(sp.property,'$.name') as p\n",
    ",      sp.property\n",
    "  from gemdobject s\n",
    "  cross apply OPENJSON(s.context,'$.properties') with (property nvarchar(max) 'lax$.property' as json) sp\n",
    " where s.gemd_type='material_spec' \n",
    "  \"\"\"\n",
    "query_results=GEMDDB.execute_query(sql)\n",
    "query_results"
   ]
  },
  {
   "attachments": {},
   "cell_type": "markdown",
   "metadata": {},
   "source": [
    "return reachable nodes from uid node\n",
    "\n",
    "081bbfd7-1bbe-40d4-bb44-15d78b3e23bb is an uid of Impact Sample Cutting and Polishing from the laser shock model"
   ]
  },
  {
   "cell_type": "code",
   "execution_count": null,
   "metadata": {},
   "outputs": [],
   "source": [
    "query_results=GEMDDB.execute_query(reachable_nodes_query(uid='081bbfd7-1bbe-40d4-bb44-15d78b3e23bb'))\n",
    "query_results"
   ]
  },
  {
   "cell_type": "code",
   "execution_count": null,
   "metadata": {},
   "outputs": [],
   "source": [
    "query_results=GEMDDB.execute_query(to_node_query(model_id=3))\n",
    "query_results"
   ]
  },
  {
   "cell_type": "code",
   "execution_count": null,
   "metadata": {},
   "outputs": [],
   "source": [
    "# sql=\"\"\"\n",
    "# select distinct *\n",
    "# from GEMDModel\n",
    "# \"\"\"\n",
    "# ee2196b4-b0eb-4c47-b2ff-4ba3fa58f25e\n",
    "# GEMDDB.execute_query(sql)"
   ]
  },
  {
   "cell_type": "code",
   "execution_count": null,
   "metadata": {},
   "outputs": [],
   "source": [
    "query_results=GEMDDB.execute_query(multiple_paths_nodes_query(model_id=3))\n",
    "query_results"
   ]
  },
  {
   "cell_type": "code",
   "execution_count": null,
   "metadata": {},
   "outputs": [],
   "source": [
    "query_results=GEMDDB.execute_query(multiple_paths_nodes_query(model_id=3))\n",
    "query_results"
   ]
  }
 ],
 "metadata": {
  "kernelspec": {
   "display_name": "birdshot",
   "language": "python",
   "name": "python3"
  },
  "language_info": {
   "codemirror_mode": {
    "name": "ipython",
    "version": 3
   },
   "file_extension": ".py",
   "mimetype": "text/x-python",
   "name": "python",
   "nbconvert_exporter": "python",
   "pygments_lexer": "ipython3",
   "version": "3.9.16"
  },
  "orig_nbformat": 4,
  "vscode": {
   "interpreter": {
    "hash": "c93de424c187b5f45150c4b68957697054d2d10439b831359c08b5dbeaa012b5"
   }
  }
 },
 "nbformat": 4,
 "nbformat_minor": 2
}
