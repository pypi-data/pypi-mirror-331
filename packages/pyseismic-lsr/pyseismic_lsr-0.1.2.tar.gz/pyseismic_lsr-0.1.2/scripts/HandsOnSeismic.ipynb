{
 "cells": [
  {
   "cell_type": "code",
   "execution_count": null,
   "id": "16e3d777",
   "metadata": {},
   "outputs": [],
   "source": [
    "from seismic import SeismicIndex\n",
    "import numpy as np\n",
    "import json"
   ]
  },
  {
   "cell_type": "markdown",
   "id": "270c6bfb",
   "metadata": {},
   "source": [
    "Build the index"
   ]
  },
  {
   "cell_type": "code",
   "execution_count": null,
   "id": "97bb4212",
   "metadata": {},
   "outputs": [],
   "source": [
    "\n",
    "json_input_file = \"\"\n",
    "\n",
    "index = SeismicIndex.build(json_input_file)"
   ]
  },
  {
   "cell_type": "code",
   "execution_count": null,
   "id": "dfaada9f",
   "metadata": {},
   "outputs": [],
   "source": [
    "print(\"Number of documents: \", index.len)\n",
    "print(\"Avg number of non-zero components: \", index.nnz / index.len)\n",
    "print(\"Dimensionality of the vectors: \", index.dim)\n",
    "\n",
    "index.print_space_usage_byte()"
   ]
  },
  {
   "cell_type": "markdown",
   "id": "7c927bfe",
   "metadata": {},
   "source": [
    "Load queries"
   ]
  },
  {
   "cell_type": "code",
   "execution_count": null,
   "id": "76c26d7e",
   "metadata": {},
   "outputs": [],
   "source": [
    "queries_path = \"\"\n",
    "\n",
    "queries = []\n",
    "with open(queries_path, 'r') as f:\n",
    "    for line in f:\n",
    "        queries.append(json.loads(line))\n",
    "\n",
    "MAX_TOKEN_LEN = 30\n",
    "string_type  = f'U{MAX_TOKEN_LEN}'\n",
    "\n",
    "queries_ids = np.ascontiguousarray(np.array([q['id'] for q in queries], dtype=string_type))\n",
    "\n",
    "query_components = []\n",
    "query_values = []\n",
    "\n",
    "for query in queries:\n",
    "    vector = query['vector']\n",
    "    try:\n",
    "        query_components.append(np.array(list(vector.keys()), dtype=string_type))\n",
    "        query_values.append(np.array(list(vector.values()), dtype=np.float32))\n",
    "    except:\n",
    "        continue"
   ]
  },
  {
   "cell_type": "code",
   "execution_count": null,
   "id": "6ecc7e36",
   "metadata": {},
   "outputs": [],
   "source": [
    "index.search(\"id\", query_components[0], query_values[0], k=10, query_cut=5, heap_factor=0.5, n_knn=0, sorted=False)"
   ]
  },
  {
   "cell_type": "markdown",
   "id": "18174d47",
   "metadata": {},
   "source": [
    "Perform the search"
   ]
  },
  {
   "cell_type": "code",
   "execution_count": null,
   "id": "832fc9fb",
   "metadata": {},
   "outputs": [],
   "source": [
    "results = index.batch_search(\n",
    "    queries_ids=queries_ids,\n",
    "    query_components=query_components,\n",
    "    query_values=query_values,\n",
    "    k=10,\n",
    "    query_cut=20,\n",
    "    heap_factor=0.7,\n",
    "    sorted=True,\n",
    "    n_knn=0,\n",
    ")"
   ]
  },
  {
   "cell_type": "markdown",
   "id": "1b71db5c",
   "metadata": {},
   "source": [
    "Evaluation"
   ]
  },
  {
   "cell_type": "code",
   "execution_count": null,
   "id": "47ecd92b",
   "metadata": {},
   "outputs": [],
   "source": [
    "!pip install ir_datasets ir_measures\n",
    "import ir_datasets\n",
    "import ir_measures\n",
    "from ir_measures import RR"
   ]
  },
  {
   "cell_type": "code",
   "execution_count": null,
   "id": "cae335f1",
   "metadata": {},
   "outputs": [],
   "source": [
    "ir_results = [ir_measures.ScoredDoc(query_id, doc_id, score) for r in results for (query_id, score, doc_id) in r]\n",
    "qrels = ir_datasets.load('msmarco-passage/dev/small').qrels\n",
    "\n",
    "ir_measures.calc_aggregate([RR@10], qrels, ir_results)"
   ]
  },
  {
   "cell_type": "code",
   "execution_count": null,
   "id": "b8bee24a",
   "metadata": {},
   "outputs": [],
   "source": []
  }
 ],
 "metadata": {
  "kernelspec": {
   "display_name": "clean_envs",
   "language": "python",
   "name": "python3"
  },
  "language_info": {
   "codemirror_mode": {
    "name": "ipython",
    "version": 3
   },
   "file_extension": ".py",
   "mimetype": "text/x-python",
   "name": "python",
   "nbconvert_exporter": "python",
   "pygments_lexer": "ipython3",
   "version": "3.10.16"
  }
 },
 "nbformat": 4,
 "nbformat_minor": 5
}
