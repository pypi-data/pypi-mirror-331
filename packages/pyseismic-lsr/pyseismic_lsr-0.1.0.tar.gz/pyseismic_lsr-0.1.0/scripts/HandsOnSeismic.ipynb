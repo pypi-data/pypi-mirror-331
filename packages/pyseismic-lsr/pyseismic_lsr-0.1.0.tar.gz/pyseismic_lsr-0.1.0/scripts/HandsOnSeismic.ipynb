{
 "cells": [
  {
   "cell_type": "code",
   "execution_count": 2,
   "id": "16e3d777",
   "metadata": {},
   "outputs": [],
   "source": [
    "from seismic import SeismicIndex\n",
    "import numpy as np\n",
    "import json\n",
    "import ir_measures\n",
    "import ir_datasets\n",
    "from ir_measures import *"
   ]
  },
  {
   "cell_type": "markdown",
   "id": "270c6bfb",
   "metadata": {},
   "source": [
    "Build the index"
   ]
  },
  {
   "cell_type": "code",
   "execution_count": 2,
   "id": "97bb4212",
   "metadata": {},
   "outputs": [
    {
     "name": "stdout",
     "output_type": "stream",
     "text": [
      "\n",
      "Building the index...\n",
      "Configuration { pruning: GlobalThreshold { n_postings: 3500, max_fraction: 1.5 }, blocking: RandomKmeans { centroid_fraction: 0.1, min_cluster_size: 2, clustering_algorithm: RandomKmeansInvertedIndexApprox { doc_cut: 15 } }, summarization: EnergyPreserving { summary_energy: 0.4 }, knn: KnnConfiguration { nknn: 0, knn_path: None }, batched_indexing: None }\n",
      "Reading the collection..\n",
      "Number of rows: 8841823\n",
      "Elapsed time to read the number of rows 10 s\n",
      "Elapsed time to read the collection 378\n",
      "\tDistributing and Pruning postings 44 secs\n",
      "\tNumber of posting lists: 28679\n",
      "\tBuilding summaries 23 secs\n"
     ]
    }
   ],
   "source": [
    "\n",
    "json_input_file = \"/data4/lvenuta/splade/data/docs_anserini.jsonl\"\n",
    "\n",
    "index = SeismicIndex.build(json_input_file)"
   ]
  },
  {
   "cell_type": "code",
   "execution_count": 3,
   "id": "dfaada9f",
   "metadata": {},
   "outputs": [
    {
     "name": "stdout",
     "output_type": "stream",
     "text": [
      "Number of documents:  8841823\n",
      "Avg number of non-zero components:  119.96379434422064\n",
      "Dimensionality of the vectors:  28679\n",
      "Space Usage:\n",
      "\tForward Index: 4313529200 Bytes\n",
      "\tPosting Lists: 2245566745 Bytes\n",
      "\tKnn: 0 Bytes\n",
      "\tTotal: 6559095945 Bytes\n"
     ]
    }
   ],
   "source": [
    "print(\"Number of documents: \", index.len)\n",
    "print(\"Avg number of non-zero components: \", index.nnz / index.len)\n",
    "print(\"Dimensionality of the vectors: \", index.dim)\n",
    "\n",
    "index.print_space_usage_byte()"
   ]
  },
  {
   "cell_type": "markdown",
   "id": "7c927bfe",
   "metadata": {},
   "source": [
    "Load queries"
   ]
  },
  {
   "cell_type": "code",
   "execution_count": 4,
   "id": "76c26d7e",
   "metadata": {},
   "outputs": [],
   "source": [
    "queries_path = \"/data4/lvenuta/splade/data/queries_anserini.tsv\"\n",
    "\n",
    "queries = []\n",
    "with open(queries_path, 'r') as f:\n",
    "    for line in f:\n",
    "        queries.append(json.loads(line))\n",
    "\n",
    "MAX_TOKEN_LEN = 30\n",
    "string_type  = f'U{MAX_TOKEN_LEN}'\n",
    "\n",
    "queries_ids = np.array([q['id'] for q in queries], dtype=string_type)\n",
    "\n",
    "query_components = []\n",
    "query_values = []\n",
    "\n",
    "for query in queries:\n",
    "    vector = query['vector']\n",
    "    query_components.append(np.array(list(vector.keys()), dtype=string_type))\n",
    "    query_values.append(np.array(list(vector.values()), dtype=np.float32))"
   ]
  },
  {
   "cell_type": "markdown",
   "id": "18174d47",
   "metadata": {},
   "source": [
    "Perform the search"
   ]
  },
  {
   "cell_type": "code",
   "execution_count": 6,
   "id": "832fc9fb",
   "metadata": {},
   "outputs": [],
   "source": [
    "\n",
    "results = index.batch_search(\n",
    "    queries_ids=queries_ids,\n",
    "    query_components=query_components,\n",
    "    query_values=query_values,\n",
    "    k=10,\n",
    "    query_cut=20,\n",
    "    heap_factor=0.7,\n",
    "    sorted=True,\n",
    "    n_knn=0,\n",
    ")"
   ]
  },
  {
   "cell_type": "markdown",
   "id": "1b71db5c",
   "metadata": {},
   "source": [
    "Evaluation"
   ]
  },
  {
   "cell_type": "code",
   "execution_count": 7,
   "id": "cae335f1",
   "metadata": {},
   "outputs": [
    {
     "data": {
      "text/plain": [
       "{RR@10: 0.37996532041661046}"
      ]
     },
     "execution_count": 7,
     "metadata": {},
     "output_type": "execute_result"
    }
   ],
   "source": [
    "ir_results = [ir_measures.ScoredDoc(query_id, doc_id, score) for r in results for (query_id, score, doc_id) in r]\n",
    "qrels = ir_datasets.load('msmarco-passage/dev/small').qrels\n",
    "\n",
    "ir_measures.calc_aggregate([RR@10], qrels, ir_results)"
   ]
  }
 ],
 "metadata": {
  "kernelspec": {
   "display_name": "Python 3",
   "language": "python",
   "name": "python3"
  },
  "language_info": {
   "codemirror_mode": {
    "name": "ipython",
    "version": 3
   },
   "file_extension": ".py",
   "mimetype": "text/x-python",
   "name": "python",
   "nbconvert_exporter": "python",
   "pygments_lexer": "ipython3",
   "version": "3.10.12"
  }
 },
 "nbformat": 4,
 "nbformat_minor": 5
}
